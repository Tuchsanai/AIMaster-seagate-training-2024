{
 "cells": [
  {
   "cell_type": "code",
   "execution_count": null,
   "metadata": {},
   "outputs": [],
   "source": [
    "!pip install gradio"
   ]
  },
  {
   "cell_type": "markdown",
   "metadata": {},
   "source": [
    "# Start"
   ]
  },
  {
   "cell_type": "code",
   "execution_count": null,
   "metadata": {},
   "outputs": [],
   "source": [
    "import gradio as gr\n",
    "\n",
    "def greet(name):\n",
    "    return \"Hello \" + name + \"!\"\n",
    "\n",
    "demo = gr.Interface(fn=greet, inputs=\"text\", outputs=\"text\")\n",
    "demo.launch()   "
   ]
  },
  {
   "cell_type": "markdown",
   "metadata": {},
   "source": [
    "# More complex"
   ]
  },
  {
   "cell_type": "code",
   "execution_count": null,
   "metadata": {},
   "outputs": [],
   "source": [
    "import gradio as gr\n",
    "\n",
    "def greet(name):\n",
    "    return f\"Hello, {name}!\"\n",
    "\n",
    "# Create a Gradio interface with a textbox that has a placeholder\n",
    "interface = gr.Interface(\n",
    "    fn=greet,                # Function to wrap\n",
    "    inputs=gr.Textbox(placeholder=\"Enter your name here...\", label=\"Your Name\"),  # Input component with placeholder and label\n",
    "    outputs=gr.Textbox(label=\"Greeting\")     # Output component with label\n",
    ")\n",
    "\n",
    "# Launch the interface\n",
    "interface.launch(share=True)\n"
   ]
  },
  {
   "cell_type": "markdown",
   "metadata": {},
   "source": [
    "# Multi tab"
   ]
  },
  {
   "cell_type": "code",
   "execution_count": null,
   "metadata": {},
   "outputs": [],
   "source": [
    "import gradio as gr\n",
    "\n",
    "title = \"Multiple Interfaces\"\n",
    "\n",
    "#app 1\n",
    "def user_greeting(name):\n",
    "    return \"Hi! \" + name + \" Welcome to your first Gradio application!😎\"\n",
    "\n",
    "#app 2\n",
    "def user_help(do):\n",
    "    return \"So today we will do \" + do + \" using Gradio. Great choice!\"\n",
    "\n",
    "#interface 1\n",
    "app1 =  gr.Interface(fn = user_greeting, inputs=\"text\", outputs=\"text\")\n",
    "#interface 2\n",
    "\n",
    "app2 =  gr.Interface(fn = user_help, inputs=\"text\", outputs=\"text\")\n",
    "\n",
    "demo = gr.TabbedInterface([app1, app2], [\"Welcome\", \"What to do\"])\n",
    "\n",
    "demo.launch()"
   ]
  },
  {
   "cell_type": "markdown",
   "metadata": {},
   "source": [
    "# Gradio interface that includes a textbox, a checkbox, and a slider:"
   ]
  },
  {
   "cell_type": "code",
   "execution_count": null,
   "metadata": {},
   "outputs": [],
   "source": [
    "import gradio as gr\n",
    "\n",
    "def process_input(name, happy, age):\n",
    "    mood = \"happy\" if happy else \"not happy\"\n",
    "    return f\"Hello, {name}! You are {age} years old and you are {mood}.\"\n",
    "\n",
    "# Create a Gradio interface with a textbox, checkbox, and slider\n",
    "interface = gr.Interface(\n",
    "    fn=process_input,  # Function to wrap\n",
    "    inputs=[\n",
    "        gr.Textbox(placeholder=\"Enter your name here...\", label=\"Your Name\"),\n",
    "        gr.Checkbox(label=\"Are you happy?\"),\n",
    "        gr.Slider(minimum=0, maximum=100, step=1, label=\"Your Age\")\n",
    "    ],\n",
    "    outputs=gr.Textbox(label=\"Greeting\")  # Output component with label\n",
    ")\n",
    "\n",
    "# Launch the interface\n",
    "interface.launch()\n"
   ]
  },
  {
   "cell_type": "markdown",
   "metadata": {},
   "source": [
    "# Gradio interface that includes a textbox, multi checkbox, and a slider:"
   ]
  },
  {
   "cell_type": "code",
   "execution_count": null,
   "metadata": {},
   "outputs": [],
   "source": [
    "import gradio as gr\n",
    "\n",
    "def process_input(text, checkboxes, slider_value):\n",
    "    initial_slider_value = slider_value  # This will capture the initial value of the slider\n",
    "    response = f\"Text: {text}\\nCheckboxes: {', '.join(checkboxes)}\\nSlider Value: {initial_slider_value}\"\n",
    "    return response\n",
    "\n",
    "# Set the default value of the slider to 50 (or any other value you prefer)\n",
    "slider = gr.Slider(minimum=0, maximum=100, value=50, step=1, label=\"Select a Value\")\n",
    "\n",
    "textbox = gr.Textbox(label=\"Input Text\")\n",
    "checkboxes = gr.CheckboxGroup([\"Option 1\", \"Option 2\", \"Option 3\"], label=\"Select Options\")\n",
    "\n",
    "interface = gr.Interface(\n",
    "    fn=process_input,\n",
    "    inputs=[textbox, checkboxes, slider],\n",
    "    outputs=\"text\",\n",
    "    title=\"Gradio Example\",\n",
    "    description=\"An example Gradio interface with a textbox, checkboxes, and a slider.\"\n",
    ")\n",
    "\n",
    "interface.launch()\n"
   ]
  },
  {
   "cell_type": "code",
   "execution_count": null,
   "metadata": {},
   "outputs": [],
   "source": []
  }
 ],
 "metadata": {
  "kernelspec": {
   "display_name": "torch",
   "language": "python",
   "name": "python3"
  },
  "language_info": {
   "codemirror_mode": {
    "name": "ipython",
    "version": 3
   },
   "file_extension": ".py",
   "mimetype": "text/x-python",
   "name": "python",
   "nbconvert_exporter": "python",
   "pygments_lexer": "ipython3",
   "version": "3.10.13"
  }
 },
 "nbformat": 4,
 "nbformat_minor": 2
}
