{
 "cells": [
  {
   "cell_type": "markdown",
   "metadata": {},
   "source": [
    "https://www.gradio.app/3.50.2/guides/creating-a-chatbot-fast"
   ]
  },
  {
   "cell_type": "code",
   "execution_count": null,
   "metadata": {},
   "outputs": [],
   "source": [
    "!pip install gradio"
   ]
  },
  {
   "cell_type": "markdown",
   "metadata": {},
   "source": [
    "# image filter"
   ]
  },
  {
   "cell_type": "code",
   "execution_count": 6,
   "metadata": {},
   "outputs": [
    {
     "name": "stdout",
     "output_type": "stream",
     "text": [
      "Running on local URL:  http://127.0.0.1:7865\n",
      "\n",
      "To create a public link, set `share=True` in `launch()`.\n"
     ]
    },
    {
     "data": {
      "text/html": [
       "<div><iframe src=\"http://127.0.0.1:7865/\" width=\"100%\" height=\"500\" allow=\"autoplay; camera; microphone; clipboard-read; clipboard-write;\" frameborder=\"0\" allowfullscreen></iframe></div>"
      ],
      "text/plain": [
       "<IPython.core.display.HTML object>"
      ]
     },
     "metadata": {},
     "output_type": "display_data"
    },
    {
     "data": {
      "text/plain": []
     },
     "execution_count": 6,
     "metadata": {},
     "output_type": "execute_result"
    }
   ],
   "source": [
    "import gradio as gr\n",
    "from PIL import Image, ImageFilter\n",
    "\n",
    "def apply_filter(image, filter_type):\n",
    "  \n",
    "    if filter_type == \"Contour\":\n",
    "        filtered_img = image.filter(ImageFilter.CONTOUR)\n",
    "    elif filter_type == \"Emboss\":\n",
    "        filtered_img = image.filter(ImageFilter.EMBOSS)\n",
    "    elif filter_type == \"Find Edges\":\n",
    "        filtered_img = image.filter(ImageFilter.FIND_EDGES)\n",
    "    else:\n",
    "        filtered_img = image  # No filter applied\n",
    "    return filtered_img\n",
    "\n",
    "# Define filter options\n",
    "filter_options = [\"None\", \"Contour\", \"Emboss\", \"Find Edges\"]\n",
    "\n",
    "# Create a Gradio interface\n",
    "iface = gr.Interface(\n",
    "    fn=apply_filter,\n",
    "    inputs=[gr.Image(type=\"pil\"), gr.Radio(filter_options, label=\"Filter Type\")],\n",
    "    outputs=gr.Image(type=\"pil\"),\n",
    "    title=\"Multi-Model Image Filter\",\n",
    "    description=\"Upload an image and apply one of the available filters.\"\n",
    ")\n",
    "\n",
    "# Launch the interface\n",
    "iface.launch()\n"
   ]
  },
  {
   "cell_type": "code",
   "execution_count": null,
   "metadata": {},
   "outputs": [],
   "source": []
  }
 ],
 "metadata": {
  "kernelspec": {
   "display_name": "torch",
   "language": "python",
   "name": "python3"
  },
  "language_info": {
   "codemirror_mode": {
    "name": "ipython",
    "version": 3
   },
   "file_extension": ".py",
   "mimetype": "text/x-python",
   "name": "python",
   "nbconvert_exporter": "python",
   "pygments_lexer": "ipython3",
   "version": "3.10.13"
  }
 },
 "nbformat": 4,
 "nbformat_minor": 2
}
