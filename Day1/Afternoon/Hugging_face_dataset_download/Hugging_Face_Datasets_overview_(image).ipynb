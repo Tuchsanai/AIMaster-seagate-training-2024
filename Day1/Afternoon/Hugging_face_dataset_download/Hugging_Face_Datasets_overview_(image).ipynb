{
 "cells": [
  {
   "cell_type": "markdown",
   "id": "14894873",
   "metadata": {},
   "source": [
    "# Working with CelebA Dataset\n",
    "\n",
    "In this notebook, we'll demonstrate how to load, explore, visualize, preprocess, and create DataLoaders for the CelebA dataset using the `datasets` library."
   ]
  },
  {
   "cell_type": "code",
   "execution_count": null,
   "id": "99a1cea2",
   "metadata": {},
   "outputs": [],
   "source": [
    "# Step 1: Install Required Libraries\n",
    "!pip install datasets matplotlib torch torchvision"
   ]
  },
  {
   "cell_type": "markdown",
   "id": "43cb7a25",
   "metadata": {},
   "source": [
    "### Step 2: Load the Dataset"
   ]
  },
  {
   "cell_type": "markdown",
   "id": "66eb977f",
   "metadata": {},
   "source": [
    "https://huggingface.co/datasets/eurecom-ds/celeba-hq-small"
   ]
  },
  {
   "cell_type": "code",
   "execution_count": null,
   "id": "f68a1090",
   "metadata": {},
   "outputs": [],
   "source": [
    "from datasets import load_dataset\n",
    "\n",
    "# Load the CelebA dataset\n",
    "dataset = load_dataset('eurecom-ds/celeba-hq-small')\n",
    "\n",
    "# Print the dataset structure\n",
    "print(dataset)"
   ]
  },
  {
   "cell_type": "markdown",
   "id": "bed63dd9",
   "metadata": {},
   "source": [
    "### Step 3: Explore the Dataset"
   ]
  },
  {
   "cell_type": "code",
   "execution_count": null,
   "id": "f2374c16",
   "metadata": {},
   "outputs": [],
   "source": [
    "# Access the training split\n",
    "train_dataset = dataset['train']\n",
    "\n",
    "# Print the first example in the training dataset\n",
    "print(train_dataset[0])"
   ]
  },
  {
   "cell_type": "markdown",
   "id": "8061079c",
   "metadata": {},
   "source": [
    "### Step 4: Visualize Some Images"
   ]
  },
  {
   "cell_type": "code",
   "execution_count": null,
   "id": "be75a3c3",
   "metadata": {},
   "outputs": [],
   "source": [
    "import matplotlib.pyplot as plt\n",
    "\n",
    "def show_images(dataset, num_images=5):\n",
    "    plt.figure(figsize=(15, 5))\n",
    "    for i in range(num_images):\n",
    "        image = dataset[i]['image']\n",
    "        plt.subplot(1, num_images, i+1)\n",
    "        plt.imshow(image)\n",
    "        plt.axis('off')\n",
    "    plt.show()\n",
    "\n",
    "# Show some images from the training dataset\n",
    "show_images(train_dataset)"
   ]
  },
  {
   "cell_type": "markdown",
   "id": "ae07baea",
   "metadata": {},
   "source": [
    "### Step 5: Preprocess the Images"
   ]
  },
  {
   "cell_type": "code",
   "execution_count": null,
   "id": "959aa718",
   "metadata": {},
   "outputs": [],
   "source": [
    "from torchvision import transforms\n",
    "import torch\n",
    "\n",
    "# Define a transformation pipeline\n",
    "transform = transforms.Compose([\n",
    "    transforms.Resize((128, 128)),\n",
    "    transforms.ToTensor(),\n",
    "    transforms.Normalize((0.5, 0.5, 0.5), (0.5, 0.5, 0.5))\n",
    "])\n",
    "\n",
    "# Apply the transformation to the dataset\n",
    "def preprocess(batch):\n",
    "    batch['image'] = [transform(image) for image in batch['image']]\n",
    "    return batch\n",
    "\n",
    "train_dataset = train_dataset.with_transform(preprocess)"
   ]
  },
  {
   "cell_type": "markdown",
   "id": "58cf1ff0",
   "metadata": {},
   "source": [
    "### Step 6: Create DataLoaders"
   ]
  },
  {
   "cell_type": "code",
   "execution_count": null,
   "id": "7bfb678e",
   "metadata": {},
   "outputs": [],
   "source": [
    "from torch.utils.data import DataLoader\n",
    "\n",
    "# Create DataLoaders\n",
    "train_loader = DataLoader(train_dataset, batch_size=32, shuffle=True)\n",
    "\n",
    "# Iterate through the DataLoader\n",
    "for batch in train_loader:\n",
    "    images = batch['image']\n",
    "    labels = batch['attributes']\n",
    "    print(images.shape, labels.shape)\n",
    "    break"
   ]
  }
 ],
 "metadata": {
  "language_info": {
   "name": "python"
  }
 },
 "nbformat": 4,
 "nbformat_minor": 5
}
