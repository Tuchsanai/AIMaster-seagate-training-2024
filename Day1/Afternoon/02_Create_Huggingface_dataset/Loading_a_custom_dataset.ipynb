{
  "cells": [
    {
      "cell_type": "markdown",
      "metadata": {
        "id": "mrYkGPq0cLTl"
      },
      "source": [
        "This notebook regroups the code sample of the video below, which is a part of the [Hugging Face course](https://huggingface.co/course)."
      ]
    },
    {
      "cell_type": "markdown",
      "metadata": {
        "id": "F__9oOQ2cLTn"
      },
      "source": [
        "Install the Transformers and Datasets libraries to run this notebook."
      ]
    },
    {
      "cell_type": "code",
      "execution_count": null,
      "metadata": {
        "id": "fu8_mQBkcLTo"
      },
      "outputs": [],
      "source": [
        "! pip install datasets transformers[sentencepiece]"
      ]
    },
    {
      "cell_type": "code",
      "execution_count": null,
      "metadata": {
        "id": "SjePekrEcLTo"
      },
      "outputs": [],
      "source": [
        "!wget https://archive.ics.uci.edu/ml/machine-learning-databases/wine-quality/winequality-white.csv"
      ]
    },
    {
      "cell_type": "code",
      "execution_count": null,
      "metadata": {
        "id": "03ZIsx4tcLTo"
      },
      "outputs": [],
      "source": [
        "from datasets import load_dataset\n",
        "\n",
        "local_csv_dataset = load_dataset(\"csv\", data_files=\"winequality-white.csv\", sep=\";\")\n",
        "local_csv_dataset[\"train\"]"
      ]
    },
    {
      "cell_type": "code",
      "execution_count": null,
      "metadata": {
        "id": "VQ-vSUQ0cLTo"
      },
      "outputs": [],
      "source": [
        "# Load the dataset from the URL directly\n",
        "dataset_url = \"https://archive.ics.uci.edu/ml/machine-learning-databases/wine-quality/winequality-white.csv\"\n",
        "remote_csv_dataset = load_dataset(\"csv\", data_files=dataset_url, sep=\";\")\n",
        "remote_csv_dataset"
      ]
    },
    {
      "cell_type": "code",
      "execution_count": null,
      "metadata": {
        "id": "-WVyFnzPcLTo"
      },
      "outputs": [],
      "source": [
        "dataset_url = \"https://raw.githubusercontent.com/karpathy/char-rnn/master/data/tinyshakespeare/input.txt\"\n",
        "text_dataset = load_dataset(\"text\", data_files=dataset_url)\n",
        "text_dataset[\"train\"][:5]"
      ]
    },
    {
      "cell_type": "code",
      "execution_count": null,
      "metadata": {
        "id": "hotIZI2gcLTo"
      },
      "outputs": [],
      "source": [
        "dataset_url = \"https://raw.githubusercontent.com/hirupert/sede/main/data/sede/train.jsonl\"\n",
        "json_lines_dataset = load_dataset(\"json\", data_files=dataset_url)\n",
        "json_lines_dataset[\"train\"][:2]"
      ]
    },
    {
      "cell_type": "code",
      "execution_count": null,
      "metadata": {
        "id": "EPHM8aeicLTo"
      },
      "outputs": [],
      "source": [
        "dataset_url = \"https://rajpurkar.github.io/SQuAD-explorer/dataset/train-v2.0.json\"\n",
        "json_dataset = load_dataset(\"json\", data_files=dataset_url, field=\"data\")\n",
        "json_dataset"
      ]
    },
    {
      "cell_type": "code",
      "execution_count": null,
      "metadata": {
        "id": "kNp7-8b4cLTo"
      },
      "outputs": [],
      "source": [
        "url = \"https://rajpurkar.github.io/SQuAD-explorer/dataset/\"\n",
        "data_files = {\"train\": f\"{url}train-v2.0.json\", \"validation\": f\"{url}dev-v2.0.json\"}\n",
        "json_dataset = load_dataset(\"json\", data_files=data_files, field=\"data\")\n",
        "json_dataset"
      ]
    },
    {
      "cell_type": "code",
      "execution_count": null,
      "metadata": {
        "id": "0qcizwQtcLTo"
      },
      "outputs": [],
      "source": []
    }
  ],
  "metadata": {
    "colab": {
      "name": "Loading a custom dataset",
      "provenance": []
    },
    "language_info": {
      "name": "python"
    }
  },
  "nbformat": 4,
  "nbformat_minor": 0
}
