{
 "cells": [
  {
   "cell_type": "code",
   "execution_count": null,
   "metadata": {},
   "outputs": [],
   "source": [
    "!pip install opendatasets datasets accelerate rouge_score --quiet\n",
    "import opendatasets as od\n",
    "od.download(\"https://www.kaggle.com/datasets/gondimalladeepesh/nvidia-documentation-question-and-answer-pairs\")"
   ]
  },
  {
   "cell_type": "code",
   "execution_count": null,
   "metadata": {},
   "outputs": [],
   "source": [
    "import os\n",
    "\n",
    "# Ensure the Kaggle API key is set up\n",
    "os.environ['KAGGLE_USERNAME'] = 'your_kaggle_username'  # Replace with your Kaggle username\n",
    "os.environ['KAGGLE_KEY'] = 'your_kaggle_api_key'        # Replace with your Kaggle API key\n",
    "\n",
    "# Use Kaggle API to download the competition data\n",
    "os.system('kaggle competitions download -c home-credit-default-risk')\n",
    "\n",
    "# Optionally, unzip the downloaded files\n",
    "import zipfile\n",
    "for file in os.listdir():\n",
    "    if file.endswith(\".zip\"):\n",
    "        with zipfile.ZipFile(file, 'r') as zip_ref:\n",
    "            zip_ref.extractall()\n"
   ]
  }
 ],
 "metadata": {
  "language_info": {
   "name": "python"
  }
 },
 "nbformat": 4,
 "nbformat_minor": 2
}
