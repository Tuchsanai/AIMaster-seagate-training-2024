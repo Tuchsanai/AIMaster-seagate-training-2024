{
  "cells": [
    {
      "cell_type": "markdown",
      "metadata": {
        "id": "dt_6W9drpatD"
      },
      "source": [
        "# Upload model to Hugging Face\n",
        "ref: https://huggingface.co/docs/hub/models-uploading"
      ]
    },
    {
      "cell_type": "code",
      "execution_count": null,
      "metadata": {},
      "outputs": [],
      "source": [
        "import torch\n",
        "import torch.nn as nn\n",
        "from huggingface_hub import PyTorchModelHubMixin\n"
      ]
    },
    {
      "cell_type": "code",
      "execution_count": null,
      "metadata": {},
      "outputs": [],
      "source": [
        "class MyModel(nn.Module, PyTorchModelHubMixin):\n",
        "    def __init__(self, config: dict):\n",
        "        super().__init__()\n",
        "        self.param = nn.Parameter(torch.rand(config[\"num_channels\"], config[\"hidden_size\"]))\n",
        "        self.linear = nn.Linear(config[\"hidden_size\"], config[\"num_classes\"])\n",
        "\n",
        "    def forward(self, x):\n",
        "        return self.linear(x + self.param)\n",
        "\n",
        "# create model\n",
        "config = {\"num_channels\": 3, \"hidden_size\": 32, \"num_classes\": 10}\n",
        "model = MyModel(config=config)\n",
        "\n",
        "# save locally\n",
        "model.save_pretrained(\"pytorch-model\", config=config)\n",
        "\n",
        "# push to the hub\n",
        "model.push_to_hub(\"pytorch-model\", config=config)"
      ]
    },
    {
      "cell_type": "markdown",
      "metadata": {},
      "source": [
        "# Create a custom model using transfer learning with ResNet18:"
      ]
    },
    {
      "cell_type": "code",
      "execution_count": null,
      "metadata": {
        "id": "Aquw_9dapatK"
      },
      "outputs": [],
      "source": [
        "import torch\n",
        "import torch.nn as nn\n",
        "from torchvision.models import resnet18\n",
        "\n",
        "class CustomModel(nn.Module):\n",
        "    def __init__(self, num_classes):\n",
        "        super(CustomModel, self).__init__()\n",
        "        self.resnet = resnet18(pretrained=True)\n",
        "        num_features = self.resnet.fc.in_features\n",
        "        self.resnet.fc = nn.Linear(num_features, num_classes)\n",
        "\n",
        "    def forward(self, x):\n",
        "        return self.resnet(x)"
      ]
    },
    {
      "cell_type": "markdown",
      "metadata": {},
      "source": [
        "# Push the model to Hugging Face using PyTorchModelHubMixin and config:"
      ]
    },
    {
      "cell_type": "code",
      "execution_count": null,
      "metadata": {},
      "outputs": [],
      "source": [
        "from huggingface_hub import PyTorchModelHubMixin\n",
        "\n",
        "class CustomModelWithHubMixin(CustomModel, PyTorchModelHubMixin):\n",
        "    def __init__(self, num_classes):\n",
        "        super().__init__(num_classes)\n",
        "\n",
        "# Create an instance of the custom model\n",
        "model = CustomModelWithHubMixin(num_classes=10)\n",
        "\n",
        "model"
      ]
    },
    {
      "cell_type": "code",
      "execution_count": null,
      "metadata": {},
      "outputs": [],
      "source": [
        "\n",
        "# Create a configuration object\n",
        "config = {\n",
        "    \"num_classes\": 10,\n",
        "    \"architectures\": [\"CustomModel\"],\n",
        "    \"model_type\": \"image_classification\"\n",
        "}\n",
        "\n",
        "# Push the model to Hugging Face\n",
        "model.push_to_hub(\"custom-resnet18-model\", config=config)"
      ]
    },
    {
      "cell_type": "markdown",
      "metadata": {},
      "source": [
        "# Download the model from Hugging Face : method 1"
      ]
    },
    {
      "cell_type": "markdown",
      "metadata": {},
      "source": [
        "Download the model from Hugging Face"
      ]
    }
  ],
  "metadata": {
    "colab": {
      "provenance": []
    },
    "kernelspec": {
      "display_name": "base",
      "language": "python",
      "name": "python3"
    },
    "language_info": {
      "codemirror_mode": {
        "name": "ipython",
        "version": 3
      },
      "file_extension": ".py",
      "mimetype": "text/x-python",
      "name": "python",
      "nbconvert_exporter": "python",
      "pygments_lexer": "ipython3",
      "version": "3.11.5"
    }
  },
  "nbformat": 4,
  "nbformat_minor": 0
}
