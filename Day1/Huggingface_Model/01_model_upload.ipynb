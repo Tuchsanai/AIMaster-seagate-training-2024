{
  "cells": [
    {
      "cell_type": "markdown",
      "metadata": {
        "id": "dt_6W9drpatD"
      },
      "source": [
        "# Upload model to Hugging Face\n",
        "ref: https://huggingface.co/docs/hub/models-uploading"
      ]
    },
    {
      "cell_type": "markdown",
      "metadata": {
        "id": "za2z_FHFpatF"
      },
      "source": [
        "- Get Hugging Face token https://huggingface.co/settings/tokens\n",
        "- Run `huggingface-cli login `"
      ]
    },
    {
      "cell_type": "markdown",
      "metadata": {
        "id": "f0wevwYSpatG"
      },
      "source": [
        "## Upload from a library with built-in support"
      ]
    },
    {
      "cell_type": "code",
      "execution_count": null,
      "metadata": {
        "id": "mNnRFEcnpatI"
      },
      "outputs": [],
      "source": [
        "import torch\n",
        "import torch.nn as nn\n",
        "from huggingface_hub import PyTorchModelHubMixin"
      ]
    },
    {
      "cell_type": "code",
      "execution_count": null,
      "metadata": {
        "colab": {
          "referenced_widgets": [
            "a2a8193c6bdb499d9aa6c454d415fc92"
          ]
        },
        "id": "SHtSXIjypatJ",
        "outputId": "e6d0c149-d7f5-4ee3-fc85-f722b1669935"
      },
      "outputs": [
        {
          "data": {
            "application/vnd.jupyter.widget-view+json": {
              "model_id": "a2a8193c6bdb499d9aa6c454d415fc92",
              "version_major": 2,
              "version_minor": 0
            },
            "text/plain": [
              "model.safetensors:   0%|          | 0.00/1.92k [00:00<?, ?B/s]"
            ]
          },
          "metadata": {},
          "output_type": "display_data"
        },
        {
          "data": {
            "text/plain": [
              "CommitInfo(commit_url='https://huggingface.co/layel2/pytorch-model/commit/d1dabaaba22c99b9f39e1479b4e2efd20c204086', commit_message='Push model using huggingface_hub.', commit_description='', oid='d1dabaaba22c99b9f39e1479b4e2efd20c204086', pr_url=None, pr_revision=None, pr_num=None)"
            ]
          },
          "execution_count": 25,
          "metadata": {},
          "output_type": "execute_result"
        }
      ],
      "source": [
        "class MyModel(nn.Module, PyTorchModelHubMixin):\n",
        "    def __init__(self, config: dict):\n",
        "        super().__init__()\n",
        "        self.param = nn.Parameter(torch.rand(config[\"num_channels\"], config[\"hidden_size\"]))\n",
        "        self.linear = nn.Linear(config[\"hidden_size\"], config[\"num_classes\"])\n",
        "\n",
        "    def forward(self, x):\n",
        "        return self.linear(x + self.param)\n",
        "\n",
        "# create model\n",
        "config = {\"num_channels\": 3, \"hidden_size\": 32, \"num_classes\": 10}\n",
        "model = MyModel(config=config)\n",
        "\n",
        "# save locally\n",
        "model.save_pretrained(\"pytorch-model\", config=config)\n",
        "\n",
        "# push to the hub\n",
        "model.push_to_hub(\"pytorch-model\", config=config)\n"
      ]
    },
    {
      "cell_type": "code",
      "execution_count": null,
      "metadata": {
        "colab": {
          "referenced_widgets": [
            "081f5d6c471e453da63fd143a40c4f37",
            "b132fc1f77e7429d8b9f427626a52630"
          ]
        },
        "id": "QjzjEUCBpatJ",
        "outputId": "3cc6cdec-b597-41c9-f389-24e473252174"
      },
      "outputs": [
        {
          "data": {
            "application/vnd.jupyter.widget-view+json": {
              "model_id": "081f5d6c471e453da63fd143a40c4f37",
              "version_major": 2,
              "version_minor": 0
            },
            "text/plain": [
              "config.json:   0%|          | 0.00/65.0 [00:00<?, ?B/s]"
            ]
          },
          "metadata": {},
          "output_type": "display_data"
        },
        {
          "data": {
            "application/vnd.jupyter.widget-view+json": {
              "model_id": "b132fc1f77e7429d8b9f427626a52630",
              "version_major": 2,
              "version_minor": 0
            },
            "text/plain": [
              "model.safetensors:   0%|          | 0.00/1.92k [00:00<?, ?B/s]"
            ]
          },
          "metadata": {},
          "output_type": "display_data"
        }
      ],
      "source": [
        "model = MyModel.from_pretrained(\"layel2/pytorch-model\")"
      ]
    },
    {
      "cell_type": "code",
      "execution_count": null,
      "metadata": {
        "id": "Aquw_9dapatK"
      },
      "outputs": [],
      "source": [
        "from transformers import AutoModelForSequenceClassification, AutoConfig\n",
        "\n",
        "model_name = \"your-username/custom-resnet-model\"\n",
        "\n",
        "# Load config and model from the hub\n",
        "config = AutoConfig.from_pretrained(model_name)\n",
        "model = AutoModelForSequenceClassification.from_pretrained(model_name, config=config)\n"
      ]
    }
  ],
  "metadata": {
    "colab": {
      "provenance": []
    },
    "kernelspec": {
      "display_name": "base",
      "language": "python",
      "name": "python3"
    },
    "language_info": {
      "codemirror_mode": {
        "name": "ipython",
        "version": 3
      },
      "file_extension": ".py",
      "mimetype": "text/x-python",
      "name": "python",
      "nbconvert_exporter": "python",
      "pygments_lexer": "ipython3",
      "version": "3.11.5"
    }
  },
  "nbformat": 4,
  "nbformat_minor": 0
}
