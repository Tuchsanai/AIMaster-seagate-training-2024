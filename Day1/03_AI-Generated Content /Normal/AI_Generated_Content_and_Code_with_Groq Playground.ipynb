{
  "cells": [
    {
      "cell_type": "markdown",
      "metadata": {
        "id": "ioCRG7KZwwO-"
      },
      "source": [
        "https://huggingface.co/meta-llama/Meta-Llama-3-8B"
      ]
    },
    {
      "cell_type": "code",
      "execution_count": 1,
      "metadata": {
        "execution": {
          "iopub.execute_input": "2024-04-21T07:29:13.941241Z",
          "iopub.status.busy": "2024-04-21T07:29:13.940355Z",
          "iopub.status.idle": "2024-04-21T07:29:27.73032Z",
          "shell.execute_reply": "2024-04-21T07:29:27.72923Z",
          "shell.execute_reply.started": "2024-04-21T07:29:13.941209Z"
        },
        "id": "4UBGwofQd77p",
        "trusted": true,
        "outputId": "c1f48a7e-3a71-40bb-c024-f5c30182bf5f",
        "colab": {
          "base_uri": "https://localhost:8080/"
        }
      },
      "outputs": [
        {
          "output_type": "stream",
          "name": "stdout",
          "text": [
            "Notebook cleaned.\n"
          ]
        }
      ],
      "source": [
        "\n",
        "import IPython\n",
        "import sys\n",
        "\n",
        "def clean_notebook():\n",
        "    IPython.display.clear_output(wait=True)\n",
        "    print(\"Notebook cleaned.\")\n",
        "\n",
        "!pip install -q groq\n",
        "!pip install gradio\n",
        "\n",
        "# Clean up the notebook\n",
        "clean_notebook()\n",
        "\n"
      ]
    },
    {
      "cell_type": "code",
      "execution_count": 2,
      "metadata": {
        "execution": {
          "iopub.execute_input": "2024-04-21T07:32:29.926994Z",
          "iopub.status.busy": "2024-04-21T07:32:29.926582Z",
          "iopub.status.idle": "2024-04-21T07:32:29.946623Z",
          "shell.execute_reply": "2024-04-21T07:32:29.945778Z",
          "shell.execute_reply.started": "2024-04-21T07:32:29.926961Z"
        },
        "id": "vPSJZF4-d77p",
        "trusted": true
      },
      "outputs": [],
      "source": [
        "import os\n",
        "import time\n",
        "from groq import Groq\n",
        "\n",
        "client = Groq(api_key='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')"
      ]
    },
    {
      "cell_type": "code",
      "execution_count": 3,
      "metadata": {
        "execution": {
          "iopub.execute_input": "2024-04-21T07:42:33.626354Z",
          "iopub.status.busy": "2024-04-21T07:42:33.625463Z",
          "iopub.status.idle": "2024-04-21T07:42:33.632348Z",
          "shell.execute_reply": "2024-04-21T07:42:33.631252Z",
          "shell.execute_reply.started": "2024-04-21T07:42:33.626312Z"
        },
        "id": "RcSO9CH8d77p",
        "trusted": true
      },
      "outputs": [],
      "source": [
        "def generate_answer_groq(question):\n",
        "    prompt = f\"\"\"\n",
        "    You are an AI content writer.\n",
        "    Generate a well-structured 100-word blog for the given topics below:\n",
        "    Topics: {question}\n",
        "    Answer:\n",
        "    \"\"\"\n",
        "\n",
        "    chat_completion = client.chat.completions.create(\n",
        "        messages=[\n",
        "            {\n",
        "                \"role\": \"user\",\n",
        "                \"content\": prompt,\n",
        "            }\n",
        "        ],\n",
        "        model=\"llama3-70b-8192\",\n",
        "    )\n",
        "\n",
        "    return chat_completion.choices[0].message.content"
      ]
    },
    {
      "cell_type": "code",
      "execution_count": 4,
      "metadata": {
        "execution": {
          "iopub.execute_input": "2024-04-21T07:44:53.187233Z",
          "iopub.status.busy": "2024-04-21T07:44:53.186594Z",
          "iopub.status.idle": "2024-04-21T07:44:53.945007Z",
          "shell.execute_reply": "2024-04-21T07:44:53.944084Z",
          "shell.execute_reply.started": "2024-04-21T07:44:53.187199Z"
        },
        "id": "I-kRSq2Dd77p",
        "outputId": "061fdb10-9065-4745-cff0-d59d82092732",
        "trusted": true,
        "colab": {
          "base_uri": "https://localhost:8080/"
        }
      },
      "outputs": [
        {
          "output_type": "stream",
          "name": "stdout",
          "text": [
            "**The Spark That Ignited the Industrial Revolution: Uncovering the Key Causes**\n",
            "\n",
            "The Industrial Revolution, a transformative period in human history, was sparked by a complex array of factors. At its core, the revolution was driven by innovations in technology, particularly the invention of the steam engine by James Watt. This breakthrough enabled mass production, increasing efficiency and reducing costs. Additionally, the accumulation of capital and the emergence of a wage-based labor system facilitated industrialization. Furthermore, improvements in transportation, such as the development of canals and railroads, enhanced the movement of goods and resources. These interconnected factors ultimately propelled the Industrial Revolution, radically altering the course of human progress.\n",
            "Time Taken: 0.8419163227081299 sec\n"
          ]
        }
      ],
      "source": [
        "start_time = time.time()\n",
        "print(generate_answer_groq(\"What were the key causes of the Industrial Revolution?\"))\n",
        "end_time = time.time()\n",
        "print(f\"Time Taken: {end_time-start_time} sec\")"
      ]
    },
    {
      "cell_type": "code",
      "execution_count": 5,
      "metadata": {
        "execution": {
          "iopub.execute_input": "2024-04-21T07:59:42.33771Z",
          "iopub.status.busy": "2024-04-21T07:59:42.337316Z",
          "iopub.status.idle": "2024-04-21T07:59:43.120275Z",
          "shell.execute_reply": "2024-04-21T07:59:43.119301Z",
          "shell.execute_reply.started": "2024-04-21T07:59:42.337679Z"
        },
        "id": "u9p-WnELd77p",
        "outputId": "19b12435-33b1-4eaf-9eb5-dd451a69234b",
        "trusted": true,
        "colab": {
          "base_uri": "https://localhost:8080/"
        }
      },
      "outputs": [
        {
          "output_type": "stream",
          "name": "stdout",
          "text": [
            "**Overcoming Procrastination: How I Developed a Writing Habit**\n",
            "\n",
            "For years, I struggled with procrastination, constantly putting off important tasks until the last minute. But one day, I decided to take control. I started small, committing to write for just 10 minutes each morning. At first, the words flowed slowly, but I persisted. Soon, 10 minutes turned into 30, and my writing habit was born. With daily consistency, my creative juices began to flow freely. I began to enjoy the process, and my writing improved drastically. By overcoming procrastination, I developed a habit that has transformed my writing journey. Now, I write with confidence and ease, producing high-quality content with minimal struggle.\n",
            "Time Taken: 0.801661491394043 sec\n"
          ]
        }
      ],
      "source": [
        "start_time = time.time()\n",
        "print(generate_answer_groq(\"How you overcame an obstacle or started a new habit\"))\n",
        "end_time = time.time()\n",
        "print(f\"Time Taken: {end_time-start_time} sec\")"
      ]
    },
    {
      "cell_type": "code",
      "source": [
        "start_time = time.time()\n",
        "print(generate_answer_groq(\"ขอสูตรทำไก่ย่าง\"))\n",
        "end_time = time.time()\n",
        "print(f\"Time Taken: {end_time-start_time} sec\")"
      ],
      "metadata": {
        "id": "0jNSn739BF94",
        "outputId": "a6b882da-5568-47f9-bba2-a3f08a2f9000",
        "colab": {
          "base_uri": "https://localhost:8080/"
        }
      },
      "execution_count": 6,
      "outputs": [
        {
          "output_type": "stream",
          "name": "stdout",
          "text": [
            "Here is a 100-word blog on the topic \"ขอสูตรทำไก่ย่าง\" which translates to \"Recipe for Grilled Chicken\":\n",
            "\n",
            "**Savory Thai-Style Grilled Chicken Recipe**\n",
            "\n",
            "Looking for a mouth-watering grilled chicken recipe with a Thai twist? Look no further! Our secret ingredient is a special blend of Thai herbs and spices that will elevate your grilled chicken game. Simply mix together 2 tablespoons of fish sauce, 1 tablespoon of lime juice, 1 tablespoon of brown sugar, and 1 teaspoon of grated ginger. Marinate chicken thighs in the mixture for at least 30 minutes. Grill the chicken until cooked through, then serve with steamed vegetables and a side of jasmine rice. Get ready for a flavorful and aromatic dish that will transport you to the streets of Thailand!\n",
            "Time Taken: 0.8333525657653809 sec\n"
          ]
        }
      ]
    },
    {
      "cell_type": "markdown",
      "metadata": {
        "id": "h38oxNw9d77p"
      },
      "source": [
        "<a id = \"Python_Programming_Solutions\"></a>\n",
        "# Using LLAMA-3 LLAMA-3-70b for AI-Generated Python Programming Solutions on Groq Playground\n"
      ]
    },
    {
      "cell_type": "code",
      "execution_count": null,
      "metadata": {
        "execution": {
          "iopub.execute_input": "2024-04-21T08:01:56.936608Z",
          "iopub.status.busy": "2024-04-21T08:01:56.936204Z",
          "iopub.status.idle": "2024-04-21T08:01:56.942453Z",
          "shell.execute_reply": "2024-04-21T08:01:56.941407Z",
          "shell.execute_reply.started": "2024-04-21T08:01:56.93658Z"
        },
        "id": "02QFoy2rd77p",
        "trusted": true
      },
      "outputs": [],
      "source": [
        "def generate_answer_groq_programming_bot(question):\n",
        "    prompt = f\"\"\"\n",
        "    You are an AI programming expert.\n",
        "    Generate a concise answer to the Python programming-related question below:\n",
        "    Question: {question}\n",
        "    Answer:\n",
        "    \"\"\"\n",
        "\n",
        "    chat_completion = client.chat.completions.create(\n",
        "        messages=[\n",
        "            {\n",
        "                \"role\": \"user\",\n",
        "                \"content\": prompt,\n",
        "            }\n",
        "        ],\n",
        "        model=\"llama3-70b-8192\",\n",
        "    )\n",
        "\n",
        "    return chat_completion.choices[0].message.content"
      ]
    },
    {
      "cell_type": "code",
      "execution_count": null,
      "metadata": {
        "execution": {
          "iopub.execute_input": "2024-04-21T08:02:46.214634Z",
          "iopub.status.busy": "2024-04-21T08:02:46.21431Z",
          "iopub.status.idle": "2024-04-21T08:02:46.967577Z",
          "shell.execute_reply": "2024-04-21T08:02:46.966584Z",
          "shell.execute_reply.started": "2024-04-21T08:02:46.214608Z"
        },
        "id": "NtnohQ91d77q",
        "outputId": "997f20e1-64d9-49bd-c8ca-e1ed5bb4e3c4",
        "trusted": true
      },
      "outputs": [
        {
          "name": "stdout",
          "output_type": "stream",
          "text": [
            "A classic Python question!\n",
            "\n",
            "The Pythonic way to check if a key exists in a dictionary is to use the `in` keyword. Here's an example:\n",
            "```\n",
            "my_dict = {'a': 1, 'b': 2}\n",
            "\n",
            "if 'a' in my_dict:\n",
            "    print(\"Key 'a' exists in the dictionary\")\n",
            "else:\n",
            "    print(\"Key 'a' does not exist in the dictionary\")\n",
            "```\n",
            "Alternatively, you can use the `dict.get()` method, which returns `None` if the key is not present:\n",
            "```\n",
            "if my_dict.get('a') is not None:\n",
            "    print(\"Key 'a' exists in the dictionary\")\n",
            "else:\n",
            "    print(\"Key 'a' does not exist in the dictionary\")\n",
            "```\n",
            "However, the `in` keyword is generally preferred, as it is more concise and idiomatic Python.\n",
            "Time Taken: 0.8880980014801025 sec\n"
          ]
        }
      ],
      "source": [
        "start_time = time.time()\n",
        "print(generate_answer_groq_programming_bot(\"What is the Pythonic way to check if a key exists in a dictionary?\"))\n",
        "end_time = time.time()\n",
        "print(f\"Time Taken: {end_time-start_time} sec\")"
      ]
    },
    {
      "cell_type": "code",
      "execution_count": null,
      "metadata": {
        "execution": {
          "iopub.execute_input": "2024-04-21T08:03:36.299515Z",
          "iopub.status.busy": "2024-04-21T08:03:36.298877Z",
          "iopub.status.idle": "2024-04-21T08:03:37.555532Z",
          "shell.execute_reply": "2024-04-21T08:03:37.554672Z",
          "shell.execute_reply.started": "2024-04-21T08:03:36.299478Z"
        },
        "id": "bimIipV4d77q",
        "outputId": "7e394116-a46f-41e1-c97e-0b274fb2472d",
        "trusted": true
      },
      "outputs": [
        {
          "name": "stdout",
          "output_type": "stream",
          "text": [
            "Here is a concise Python program to print the Fibonacci sequence:\n",
            "```\n",
            "def fibonacci(n):\n",
            "    a, b = 0, 1\n",
            "    for i in range(n):\n",
            "        print(a, end=\" \")\n",
            "        a, b = b, a + b\n",
            "    print()\n",
            "\n",
            "n = int(input(\"Enter the number of terms: \"))\n",
            "fibonacci(n)\n",
            "```\n",
            "This program uses a simple iterative approach to generate the Fibonacci sequence up to the nth term, where `n` is input by the user. The `fibonacci` function uses a loop to calculate each term as the sum of the previous two terms, printing each term as it goes.\n",
            "\n",
            "Example output:\n",
            "```\n",
            "Enter the number of terms: 10\n",
            "0 1 1 2 3 5 8 13 21 34\n",
            "```\n",
            "Note: You can also use recursion to implement the Fibonacci sequence, but the iterative approach is generally more efficient for large values of `n`.\n",
            "Time Taken: 2.2346713542938232 sec\n"
          ]
        }
      ],
      "source": [
        "start_time = time.time()\n",
        "print(generate_answer_groq_programming_bot(\"write a Python Program to Print the Fibonacci sequence\"))\n",
        "end_time = time.time()\n",
        "print(f\"Time Taken: {end_time-start_time} sec\")"
      ]
    },
    {
      "cell_type": "markdown",
      "metadata": {
        "id": "B6Ihe3Idd77q"
      },
      "source": [
        "# Will update Soon"
      ]
    }
  ],
  "metadata": {
    "accelerator": "GPU",
    "colab": {
      "gpuType": "T4",
      "name": "AI-Generated Content and Code with LLAMA-3",
      "provenance": []
    },
    "kaggle": {
      "accelerator": "nvidiaTeslaT4",
      "dataSources": [
        {
          "isSourceIdPinned": true,
          "modelInstanceId": 28083,
          "sourceId": 33551,
          "sourceType": "modelInstanceVersion"
        }
      ],
      "dockerImageVersionId": 30699,
      "isGpuEnabled": true,
      "isInternetEnabled": true,
      "language": "python",
      "sourceType": "notebook"
    },
    "kernelspec": {
      "display_name": "Python 3 (ipykernel)",
      "language": "python",
      "name": "python3"
    },
    "language_info": {
      "codemirror_mode": {
        "name": "ipython",
        "version": 3
      },
      "file_extension": ".py",
      "mimetype": "text/x-python",
      "name": "python",
      "nbconvert_exporter": "python",
      "pygments_lexer": "ipython3",
      "version": "3.10.13"
    }
  },
  "nbformat": 4,
  "nbformat_minor": 0
}