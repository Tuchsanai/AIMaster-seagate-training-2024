{
  "cells": [
    {
      "cell_type": "code",
      "execution_count": 8,
      "id": "ebb537e6",
      "metadata": {},
      "outputs": [
        {
          "name": "stdout",
          "output_type": "stream",
          "text": [
            "Notebook cleaned.\n"
          ]
        }
      ],
      "source": [
        "import IPython\n",
        "import sys\n",
        "\n",
        "def clean_notebook():\n",
        "    IPython.display.clear_output(wait=True)\n",
        "    print(\"Notebook cleaned.\")\n",
        "\n",
        "!pip install openai\n",
        "!pip install gradio\n",
        "\n",
        "# Clean up the notebook\n",
        "clean_notebook()"
      ]
    },
    {
      "cell_type": "code",
      "execution_count": 30,
      "id": "af52591f",
      "metadata": {},
      "outputs": [],
      "source": [
        "\n",
        "import openai\n",
        "openai.api_key = \"key-here\""
      ]
    },
    {
      "cell_type": "code",
      "execution_count": 10,
      "id": "24f4af20",
      "metadata": {},
      "outputs": [],
      "source": [
        "import openai\n",
        "\n",
        "def complete(user_prompt):\n",
        "    completion =openai.chat.completions.create(\n",
        "        model='gpt-3.5-turbo',\n",
        "        messages=[\n",
        "            {\"role\": \"user\", \"content\": user_prompt},\n",
        "        ],\n",
        "        temperature=0,\n",
        "        max_tokens=300,\n",
        "    )\n",
        "    return completion"
      ]
    },
    {
      "cell_type": "code",
      "execution_count": 11,
      "id": "8a7d1fc4",
      "metadata": {},
      "outputs": [],
      "source": [
        "stemcells = \"\"\"What are stem cells?\n",
        "\n",
        "Stem cells are the body's raw materials — cells \\\n",
        "from which all other cells with specialized functions \\\n",
        "are generated. Under the right conditions in the body \\\n",
        "or a laboratory, stem cells divide to form more cells \\\n",
        "called daughter cells.\n",
        "\n",
        "These daughter cells become either new stem cells or \\\n",
        "specialized cells (differentiation) with a more specific \\\n",
        "function, such as blood cells, brain cells, heart muscle \\\n",
        "cells or bone cells. No other cell in the body has the \\\n",
        "natural ability to generate new cell types.\n",
        "\n",
        "Why is there such an interest in stem cells?\n",
        "Researchers hope stem cell studies can help to:\n",
        "\n",
        "Increase understanding of how diseases occur. By watching \\\n",
        "stem cells mature into cells in bones, heart muscle, nerves, \\\n",
        "and other organs and tissue, researchers may better \\\n",
        "understand how diseases and conditions develop.\n",
        "Generate healthy cells to replace cells affected by disease \\\n",
        "(regenerative medicine). Stem cells can be guided into \\\n",
        "becoming specific cells that can be used in people to \\\n",
        "regenerate and repair tissues that have been damaged or \\\n",
        "affected by disease.\n",
        "\n",
        "People who might benefit from stem cell therapies include \\\n",
        "those with spinal cord injuries, type 1 diabetes, Parkinson's \\\n",
        "disease, amyotrophic lateral sclerosis, Alzheimer's disease, \\\n",
        "heart disease, stroke, burns, cancer and osteoarthritis.\n",
        "\n",
        "Stem cells may have the potential to be grown to become new \\\n",
        "tissue for use in transplant and regenerative medicine. \\\n",
        "Researchers continue to advance the knowledge on stem cells \\\n",
        "and their applications in transplant and regenerative medicine.\n",
        "\n",
        "Test new drugs for safety and effectiveness. Before using \\\n",
        "investigational drugs in people, researchers can use some \\\n",
        "types of stem cells to test the drugs for safety and quality. \\\n",
        "This type of testing will most likely first have a direct \\\n",
        "impact on drug development for cardiac toxicity testing.\n",
        "\n",
        "New areas of study include the effectiveness of using human \\\n",
        "stem cells that have been programmed into tissue-specific \\\n",
        "cells to test new drugs. For the testing of new drugs to \\\n",
        "be accurate, the cells must be programmed to acquire \\\n",
        "properties of the type of cells targeted by the drug. \\\n",
        "Techniques to program cells into specific cells are under study.\n",
        "\n",
        "For instance, nerve cells could be generated to test a \\\n",
        "new drug for a nerve disease. Tests could show whether \\\n",
        "the new drug had any effect on the cells and whether the \\\n",
        "cells were harmed.\n",
        "\"\"\""
      ]
    },
    {
      "cell_type": "markdown",
      "id": "248ee0a5",
      "metadata": {},
      "source": [
        "# Example 1"
      ]
    },
    {
      "cell_type": "code",
      "execution_count": 26,
      "id": "ad3b8f3f",
      "metadata": {},
      "outputs": [],
      "source": [
        "prompt = f\"\"\"Please summarize the following article:\n",
        "\n",
        "```\n",
        "{stemcells}\n",
        "```\n",
        "\"\"\""
      ]
    },
    {
      "cell_type": "code",
      "execution_count": 27,
      "id": "64afdc93",
      "metadata": {},
      "outputs": [
        {
          "data": {
            "text/plain": [
              "\"Please summarize the following article:\\n\\n```\\nWhat are stem cells?\\n\\nStem cells are the body's raw materials — cells from which all other cells with specialized functions are generated. Under the right conditions in the body or a laboratory, stem cells divide to form more cells called daughter cells.\\n\\nThese daughter cells become either new stem cells or specialized cells (differentiation) with a more specific function, such as blood cells, brain cells, heart muscle cells or bone cells. No other cell in the body has the natural ability to generate new cell types.\\n\\nWhy is there such an interest in stem cells?\\nResearchers hope stem cell studies can help to:\\n\\nIncrease understanding of how diseases occur. By watching stem cells mature into cells in bones, heart muscle, nerves, and other organs and tissue, researchers may better understand how diseases and conditions develop.\\nGenerate healthy cells to replace cells affected by disease (regenerative medicine). Stem cells can be guided into becoming specific cells that can be used in people to regenerate and repair tissues that have been damaged or affected by disease.\\n\\nPeople who might benefit from stem cell therapies include those with spinal cord injuries, type 1 diabetes, Parkinson's disease, amyotrophic lateral sclerosis, Alzheimer's disease, heart disease, stroke, burns, cancer and osteoarthritis.\\n\\nStem cells may have the potential to be grown to become new tissue for use in transplant and regenerative medicine. Researchers continue to advance the knowledge on stem cells and their applications in transplant and regenerative medicine.\\n\\nTest new drugs for safety and effectiveness. Before using investigational drugs in people, researchers can use some types of stem cells to test the drugs for safety and quality. This type of testing will most likely first have a direct impact on drug development for cardiac toxicity testing.\\n\\nNew areas of study include the effectiveness of using human stem cells that have been programmed into tissue-specific cells to test new drugs. For the testing of new drugs to be accurate, the cells must be programmed to acquire properties of the type of cells targeted by the drug. Techniques to program cells into specific cells are under study.\\n\\nFor instance, nerve cells could be generated to test a new drug for a nerve disease. Tests could show whether the new drug had any effect on the cells and whether the cells were harmed.\\n\\n```\\n\""
            ]
          },
          "execution_count": 27,
          "metadata": {},
          "output_type": "execute_result"
        }
      ],
      "source": [
        "prompt "
      ]
    },
    {
      "cell_type": "code",
      "execution_count": 28,
      "id": "8416b8e7",
      "metadata": {},
      "outputs": [
        {
          "data": {
            "text/markdown": [
              "Please summarize the following article:\n",
              "\n",
              "```\n",
              "What are stem cells?\n",
              "\n",
              "Stem cells are the body's raw materials — cells from which all other cells with specialized functions are generated. Under the right conditions in the body or a laboratory, stem cells divide to form more cells called daughter cells.\n",
              "\n",
              "These daughter cells become either new stem cells or specialized cells (differentiation) with a more specific function, such as blood cells, brain cells, heart muscle cells or bone cells. No other cell in the body has the natural ability to generate new cell types.\n",
              "\n",
              "Why is there such an interest in stem cells?\n",
              "Researchers hope stem cell studies can help to:\n",
              "\n",
              "Increase understanding of how diseases occur. By watching stem cells mature into cells in bones, heart muscle, nerves, and other organs and tissue, researchers may better understand how diseases and conditions develop.\n",
              "Generate healthy cells to replace cells affected by disease (regenerative medicine). Stem cells can be guided into becoming specific cells that can be used in people to regenerate and repair tissues that have been damaged or affected by disease.\n",
              "\n",
              "People who might benefit from stem cell therapies include those with spinal cord injuries, type 1 diabetes, Parkinson's disease, amyotrophic lateral sclerosis, Alzheimer's disease, heart disease, stroke, burns, cancer and osteoarthritis.\n",
              "\n",
              "Stem cells may have the potential to be grown to become new tissue for use in transplant and regenerative medicine. Researchers continue to advance the knowledge on stem cells and their applications in transplant and regenerative medicine.\n",
              "\n",
              "Test new drugs for safety and effectiveness. Before using investigational drugs in people, researchers can use some types of stem cells to test the drugs for safety and quality. This type of testing will most likely first have a direct impact on drug development for cardiac toxicity testing.\n",
              "\n",
              "New areas of study include the effectiveness of using human stem cells that have been programmed into tissue-specific cells to test new drugs. For the testing of new drugs to be accurate, the cells must be programmed to acquire properties of the type of cells targeted by the drug. Techniques to program cells into specific cells are under study.\n",
              "\n",
              "For instance, nerve cells could be generated to test a new drug for a nerve disease. Tests could show whether the new drug had any effect on the cells and whether the cells were harmed.\n",
              "\n",
              "```\n"
            ],
            "text/plain": [
              "<IPython.core.display.Markdown object>"
            ]
          },
          "execution_count": 28,
          "metadata": {},
          "output_type": "execute_result"
        }
      ],
      "source": [
        "# pretty format the response\n",
        "IPython.display.Markdown(prompt )"
      ]
    },
    {
      "cell_type": "code",
      "execution_count": 29,
      "id": "f9aba9cb",
      "metadata": {},
      "outputs": [
        {
          "data": {
            "text/markdown": [
              "Stem cells are the body's raw materials that can develop into specialized cells. Researchers are interested in stem cells because they can help increase understanding of diseases, generate healthy cells for regenerative medicine, and test new drugs for safety and effectiveness. Stem cells have the potential to be used in treating a variety of conditions, and ongoing research is focused on advancing their applications in transplant and regenerative medicine."
            ],
            "text/plain": [
              "<IPython.core.display.Markdown object>"
            ]
          },
          "execution_count": 29,
          "metadata": {},
          "output_type": "execute_result"
        }
      ],
      "source": [
        "completion = complete(prompt)\n",
        "IPython.display.Markdown(completion.choices[0].message.content )"
      ]
    },
    {
      "cell_type": "markdown",
      "id": "9952c6df",
      "metadata": {},
      "source": [
        "# Example 2"
      ]
    },
    {
      "cell_type": "code",
      "execution_count": 23,
      "id": "5a95c744",
      "metadata": {},
      "outputs": [],
      "source": [
        "prompt = f\"\"\"Please summarize the following article. \\\n",
        "Use a maximum of 3 sentences:\n",
        "\n",
        "```\n",
        "{stemcells}\n",
        "```\n",
        "\"\"\""
      ]
    },
    {
      "cell_type": "code",
      "execution_count": 25,
      "id": "d32b8ff9",
      "metadata": {},
      "outputs": [
        {
          "data": {
            "text/markdown": [
              "Stem cells are the body's raw materials that can develop into specialized cells, offering potential for regenerative medicine, drug testing, and understanding disease development. Researchers are interested in using stem cells to generate healthy cells for conditions such as spinal cord injuries, diabetes, and Alzheimer's disease, as well as testing new drugs for safety and effectiveness. Techniques to program stem cells into specific cells for drug testing are being studied to improve accuracy and effectiveness."
            ],
            "text/plain": [
              "<IPython.core.display.Markdown object>"
            ]
          },
          "execution_count": 25,
          "metadata": {},
          "output_type": "execute_result"
        }
      ],
      "source": [
        "completion = complete(prompt)\n",
        "IPython.display.Markdown(completion.choices[0].message.content )"
      ]
    },
    {
      "cell_type": "code",
      "execution_count": null,
      "id": "d40973c9",
      "metadata": {},
      "outputs": [],
      "source": []
    },
    {
      "cell_type": "code",
      "execution_count": null,
      "metadata": {
        "id": "S0acXBWCxiJL"
      },
      "outputs": [],
      "source": []
    },
    {
      "cell_type": "code",
      "execution_count": null,
      "metadata": {
        "id": "oaG3igwFxiQU"
      },
      "outputs": [],
      "source": []
    },
    {
      "cell_type": "code",
      "execution_count": null,
      "metadata": {
        "id": "PzQJleyoxiWi"
      },
      "outputs": [],
      "source": []
    },
    {
      "cell_type": "markdown",
      "metadata": {
        "id": "PFJd4PmsxjKb"
      },
      "source": [
        "![](https://deeplearningcourses.com/notebooks_v3_pxl?sc=AVRK7SgM9ASkQf5TAqs_wA&n=Summarize)"
      ]
    }
  ],
  "metadata": {
    "kernelspec": {
      "display_name": "Python 3 (ipykernel)",
      "language": "python",
      "name": "python3"
    },
    "language_info": {
      "codemirror_mode": {
        "name": "ipython",
        "version": 3
      },
      "file_extension": ".py",
      "mimetype": "text/x-python",
      "name": "python",
      "nbconvert_exporter": "python",
      "pygments_lexer": "ipython3",
      "version": "3.10.13"
    },
    "sc": "AVRK7SgM9ASkQf5TAqs_wA"
  },
  "nbformat": 4,
  "nbformat_minor": 5
}
