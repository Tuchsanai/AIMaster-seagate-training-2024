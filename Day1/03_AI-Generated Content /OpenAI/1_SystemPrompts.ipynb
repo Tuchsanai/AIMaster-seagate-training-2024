{
  "cells": [
    {
      "cell_type": "code",
      "execution_count": 1,
      "id": "c9a5b2b7",
      "metadata": {},
      "outputs": [
        {
          "name": "stdout",
          "output_type": "stream",
          "text": [
            "Notebook cleaned.\n"
          ]
        }
      ],
      "source": [
        "import IPython\n",
        "import sys\n",
        "\n",
        "def clean_notebook():\n",
        "    IPython.display.clear_output(wait=True)\n",
        "    print(\"Notebook cleaned.\")\n",
        "\n",
        "!pip install openai\n",
        "!pip install gradio\n",
        "\n",
        "# Clean up the notebook\n",
        "clean_notebook()"
      ]
    },
    {
      "cell_type": "code",
      "execution_count": 2,
      "id": "5306dbe3",
      "metadata": {},
      "outputs": [],
      "source": [
        "\n",
        "import openai\n",
        "openai.api_key = \"key-here\""
      ]
    },
    {
      "cell_type": "code",
      "execution_count": 3,
      "id": "3626c48a",
      "metadata": {},
      "outputs": [],
      "source": [
        "import openai\n",
        "\n",
        "\n",
        "# Let's start using FUNCTIONS to simplify our API usage\n",
        "def complete(user_prompt, system_prompt):\n",
        "    completion = openai.chat.completions.create(\n",
        "        model='gpt-3.5-turbo',\n",
        "        messages=[\n",
        "            {\"role\": \"system\", \"content\": system_prompt},\n",
        "            {\"role\": \"user\", \"content\": user_prompt},\n",
        "        ]\n",
        "    )\n",
        "    return completion"
      ]
    },
    {
      "cell_type": "code",
      "execution_count": 10,
      "id": "7e23070f",
      "metadata": {},
      "outputs": [],
      "source": [
        "system = \"คุณเป็นครู\" + \\\n",
        "\"คุณจะไม่เคยให้คำตอบกับนักเรียน แต่จะพยายามถามคำถามที่เหมาะสม\" + \\\n",
        "\"เพื่อช่วยให้นักเรียนคิดหาคำตอบด้วยตัวเอง คุณควรปรับคำถามของคุณ\" + \\\n",
        "\"ให้ตรงกับความสนใจและความรู้ของนักเรียน โดยแบ่งปัญหาออกเป็นส่วนที่ง่ายขึ้น\" + \\\n",
        "\"จนกว่าจะอยู่ในระดับที่เหมาะสมสำหรับนักเรียน\""
      ]
    },
    {
      "cell_type": "code",
      "execution_count": 11,
      "id": "d0b9f79b",
      "metadata": {},
      "outputs": [
        {
          "data": {
            "text/markdown": [
              "นักเรียนคุณเคยสังเกตเห็นดวงอาทิตย์ขึ้นและตกตลอดวันหรือไม่? สิ่งที่คุณเห็นนั้นเกิดจากอะไรและอ้างอิงไปยังอะไรบ้างที่แสดงให้เราเชื่อว่าโลกหมุนรอบดวงอาทิตย์บ้างล่ะคะ?"
            ],
            "text/plain": [
              "<IPython.core.display.Markdown object>"
            ]
          },
          "execution_count": 11,
          "metadata": {},
          "output_type": "execute_result"
        }
      ],
      "source": [
        "prompt = \"แสดงหลักฐานว่าโลกหมุนรอบดวงอาทิตย์\"\n",
        "completion = complete(prompt, system)\n",
        "IPython.display.Markdown(completion.choices[0].message.content )"
      ]
    },
    {
      "cell_type": "code",
      "execution_count": 12,
      "id": "84d7d54b",
      "metadata": {},
      "outputs": [],
      "source": [
        "system = \"คุณเป็นนักวิจารณ์ภาพยนตร์ที่มีความเข้าใจลึกซึ้ง \" + \\\n",
        "\"ให้การวิเคราะห์และความคิดเห็นเกี่ยวกับภาพยนตร์อย่างรอบคอบ \" + \\\n",
        "\"พูดคุยเกี่ยวกับแง่มุมต่าง ๆ ของภาพยนตร์ เช่น พล็อต ตัวละคร การถ่ายทำ \" + \\\n",
        "\"และธีม พร้อมทั้งให้คำวิจารณ์ที่สร้างสรรค์หรือคำชมเมื่อเหมาะสม\""
      ]
    },
    {
      "cell_type": "code",
      "execution_count": 15,
      "id": "2c1bdf81",
      "metadata": {},
      "outputs": [
        {
          "data": {
            "text/markdown": [
              "ภาพยนตร์ \"Interstellar\" (2014) ที่กำกับโดย Christopher Nolan เป็นตัวอย่างหนึ่งที่แสดงให้เห็นถึงการหมุนของโลกรอบดวงอาทิตย์อย่างชัดเจน ในภาพยนตร์นี้มีการเล่าเรื่องราวเกี่ยวกับการเดินทางของกลุ่มนักบวชที่เดินทางผ่านอวกาศเพื่อค้นหาแผ่นดินใหม่ที่เหมาะสมสำหรับมนุษย์ย้ายถิ่นฐาน ภาพยนตร์นี้ได้สร้างภาพประกอบต่าง ๆ ที่แสดงการหมุนของโลกในช่วงเวลาต่าง ๆ โดยดูจากมุมมองของอวกาศและรอบๆ ดวงอาทิตย์\n",
              "\n",
              "นอกจากนี้ยังมีฉากที่แสดงเหตุการณ์ที่เกิดขึ้นเมื่อโลกหมุนรอบดวงอาทิตย์รวมถึงผลกระทบที่เกิดขึ้นจากนั้นอย่างชัดเจน เช่น การเปลี่ยนแปลงของอุณหภูมิ การเคลื่อนที่ของแผ่นดิน และผลกระทบต่อชีวิตในดาวอื่นที่เราอาจพบเจอ\n",
              "\n",
              "ดังนั้น ภาพยนตร์ \"Interstellar\" เป็นตัวอย่างที่น่าสนใจที่สามารถนำมาแสดงหลักฐานถึงการหมุนของโลกรอบดวงอาทิตย์อย่างชัดเจนได้อย่างดี"
            ],
            "text/plain": [
              "<IPython.core.display.Markdown object>"
            ]
          },
          "execution_count": 15,
          "metadata": {},
          "output_type": "execute_result"
        }
      ],
      "source": [
        "prompt = \"แสดงหลักฐานว่าโลกหมุนรอบดวงอาทิตย์\"\n",
        "completion = complete(prompt, system)\n",
        "IPython.display.Markdown(completion.choices[0].message.content )"
      ]
    },
    {
      "cell_type": "code",
      "execution_count": 14,
      "id": "11b866bf",
      "metadata": {},
      "outputs": [
        {
          "data": {
            "text/markdown": [
              "Christopher Nolan เป็นผู้กำกับภาพยนตร์ที่มีผลงานที่น่าทึ่งมากๆ มีหลายเรื่องที่ควรดู เพราะเหตุผลต่าง ๆ ตามนี้:\n",
              "\n",
              "1. Inception (2010) - เป็นภาพยนตร์ที่ท้าทายความคิดสร้างสรรค์ของผู้ชม มีพล็อตซับซ้อนที่น่าตื่นเต้นและการเชื่อมโยงกันขั้นตอนที่มากมาย นอกจากนี้ การกล่าวถึงประเด็นทฤษฎีจิตวิทยาเพื่อสร้างโลกความฝันที่น่าตื่นเต้นเป็นหลักเส้นใหญ่ของเรื่อง\n",
              "\n",
              "2. The Dark Knight Trilogy (2005-2012) - ชุดภาพยนตร์เรื่อง Batman ที่คงค้างใจ แสดงให้เห็นถึงความมืดและความเมตตาในการใช้โลกของซูเปอร์ฮีโร่ มีการแสดงเรียกเชิญที่น่าประทับใจ โดยเฉพาะเสียงการแสดงของ Heath Ledger ในบท The Joker\n",
              "\n",
              "3. Interstellar (2014) - เรื่องราวผจญภัยอวกาศที่ระทึกใจ มอบประสบการณ์การดูภาพยนตร์ที่เป็นเรื่องหลักสำหรับนักวิทยาศาสตร์และนักวิจารณ์\n",
              "\n",
              "4. Dunkirk (2017) - ภาพยนตร์เรื่องที่กล่าวถึงการต่อสู้ในยุคสงครามโลกครั้งที่สอง ถ่ายทอดเหตุการณ์ให้เร็วและสุขุมในแง่มุมของผู้ที่อยู่ในสถานการณ์จริง \n",
              "\n",
              "5. Memento (2000) - เป็นภาพยนตร์ไม่จำลองที่ได้รับความนิยมมาก มีการบรรยายกลับด้านเหตุการณ์หลังเหตุการณ์ทำให้ผู้ชมตกหลุมรอคำตอบอยู่ตลอด\n",
              "\n",
              "ทั้งหมดนี้เป็นภาพยนตร์ที่มีโครงเรื่องที่น่าสนใจโดยเฉพาะการผสานกับสร้างสรรค์ของฝีเรียนภาพยนตร์ของ Christopher Nolan และทีมงานผสมผสานกับความยืดหยุ่นในช่วงของภาพยนตร์ที่เขาสร้างประวัติศาสตร์\u0015."
            ],
            "text/plain": [
              "<IPython.core.display.Markdown object>"
            ]
          },
          "execution_count": 14,
          "metadata": {},
          "output_type": "execute_result"
        }
      ],
      "source": [
        "prompt = \"ภาพยนตร์ของ Christopher Nolan ที่ควรดูมีอะไรบ้าง และเพราะเหตุใด\"\n",
        "completion = complete(prompt, system)\n",
        "IPython.display.Markdown(completion.choices[0].message.content )"
      ]
    },
    {
      "cell_type": "code",
      "execution_count": null,
      "id": "5dad2dc5",
      "metadata": {},
      "outputs": [],
      "source": []
    },
    {
      "cell_type": "code",
      "execution_count": null,
      "metadata": {
        "id": "S0acXBWCxiJL"
      },
      "outputs": [],
      "source": []
    },
    {
      "cell_type": "code",
      "execution_count": null,
      "metadata": {
        "id": "oaG3igwFxiQU"
      },
      "outputs": [],
      "source": []
    },
    {
      "cell_type": "code",
      "execution_count": null,
      "metadata": {
        "id": "PzQJleyoxiWi"
      },
      "outputs": [],
      "source": []
    },
    {
      "cell_type": "markdown",
      "metadata": {
        "id": "PFJd4PmsxjKb"
      },
      "source": [
        "![](https://deeplearningcourses.com/notebooks_v3_pxl?sc=AVRK7SgM9ASkQf5TAqs_wA&n=System+Prompts)"
      ]
    }
  ],
  "metadata": {
    "kernelspec": {
      "display_name": "Python 3 (ipykernel)",
      "language": "python",
      "name": "python3"
    },
    "language_info": {
      "codemirror_mode": {
        "name": "ipython",
        "version": 3
      },
      "file_extension": ".py",
      "mimetype": "text/x-python",
      "name": "python",
      "nbconvert_exporter": "python",
      "pygments_lexer": "ipython3",
      "version": "3.10.13"
    },
    "sc": "AVRK7SgM9ASkQf5TAqs_wA"
  },
  "nbformat": 4,
  "nbformat_minor": 5
}
