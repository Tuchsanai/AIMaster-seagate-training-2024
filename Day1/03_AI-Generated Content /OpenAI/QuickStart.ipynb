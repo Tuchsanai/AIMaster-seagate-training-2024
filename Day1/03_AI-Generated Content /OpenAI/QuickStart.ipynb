{
  "cells": [
    {
      "cell_type": "code",
      "execution_count": 1,
      "id": "df8c1ef0",
      "metadata": {},
      "outputs": [],
      "source": [
        "from openai import OpenAI"
      ]
    },
    {
      "cell_type": "code",
      "execution_count": null,
      "id": "76e0f5bd",
      "metadata": {},
      "outputs": [],
      "source": [
        "\n",
        "### ALTERNATIVE METHOD ###\n",
        "# Uncomment this code:\n",
        "# import openai\n",
        "# openai.api_key = \"your-api-key-here\" (or retrieve from environment variable)"
      ]
    },
    {
      "cell_type": "code",
      "execution_count": 2,
      "id": "115ead81",
      "metadata": {},
      "outputs": [],
      "source": [
        "client = OpenAI()"
      ]
    },
    {
      "cell_type": "code",
      "execution_count": 3,
      "id": "a95e7186",
      "metadata": {},
      "outputs": [],
      "source": [
        "completion = client.chat.completions.create(\n",
        "  model='gpt-3.5-turbo',\n",
        "  messages=[\n",
        "    {\"role\": \"system\", \"content\": \"You are a poetic assistant, skilled in explaining complex programming concepts with creative flair.\"},\n",
        "    {\"role\": \"user\", \"content\": \"Compose a poem that explains the concept of recursion in programming.\"},\n",
        "  ]\n",
        ")"
      ]
    },
    {
      "cell_type": "code",
      "execution_count": 4,
      "id": "c7564249",
      "metadata": {},
      "outputs": [
        {
          "data": {
            "text/plain": [
              "ChatCompletion(id='chatcmpl-8ym1Fa3NEPvTVp0cPB2tWUembySMG', choices=[Choice(finish_reason='stop', index=0, logprobs=None, message=ChatCompletionMessage(content='In the realm of code, a method profound,\\nRecursion dances, a cycle unbound.\\nA function that calls itself with ease,\\nUnraveling mysteries, code as its keys.\\n\\nLike a mirror reflecting its own reflection,\\nRecursion dives deep, a looping connection.\\nEach call peeling layers, a journey unspoken,\\nTill a base case is found, a spell broken.\\n\\nGazing into the depths of recursive might,\\nA pattern emerges, a recursive flight.\\nAn elegant dance of logic and grace,\\nSolving problems with a recursive embrace.\\n\\nSo embrace the beauty of loops within loops,\\nA programming symphony that endlessly loops.\\nRecursion, a concept both simple and grand,\\nIn the world of code, a masterpiece planned.', role='assistant', function_call=None, tool_calls=None))], created=1709494957, model='gpt-3.5-turbo-0125', object='chat.completion', system_fingerprint='fp_2b778c6b35', usage=CompletionUsage(completion_tokens=148, prompt_tokens=39, total_tokens=187))"
            ]
          },
          "execution_count": 4,
          "metadata": {},
          "output_type": "execute_result"
        }
      ],
      "source": [
        "completion"
      ]
    },
    {
      "cell_type": "code",
      "execution_count": 5,
      "id": "e6d24917",
      "metadata": {},
      "outputs": [
        {
          "data": {
            "text/plain": [
              "'chatcmpl-8ym1Fa3NEPvTVp0cPB2tWUembySMG'"
            ]
          },
          "execution_count": 5,
          "metadata": {},
          "output_type": "execute_result"
        }
      ],
      "source": [
        "completion.id"
      ]
    },
    {
      "cell_type": "code",
      "execution_count": 7,
      "id": "c610f0e8",
      "metadata": {},
      "outputs": [
        {
          "data": {
            "text/plain": [
              "[Choice(finish_reason='stop', index=0, logprobs=None, message=ChatCompletionMessage(content='In the realm of code, a method profound,\\nRecursion dances, a cycle unbound.\\nA function that calls itself with ease,\\nUnraveling mysteries, code as its keys.\\n\\nLike a mirror reflecting its own reflection,\\nRecursion dives deep, a looping connection.\\nEach call peeling layers, a journey unspoken,\\nTill a base case is found, a spell broken.\\n\\nGazing into the depths of recursive might,\\nA pattern emerges, a recursive flight.\\nAn elegant dance of logic and grace,\\nSolving problems with a recursive embrace.\\n\\nSo embrace the beauty of loops within loops,\\nA programming symphony that endlessly loops.\\nRecursion, a concept both simple and grand,\\nIn the world of code, a masterpiece planned.', role='assistant', function_call=None, tool_calls=None))]"
            ]
          },
          "execution_count": 7,
          "metadata": {},
          "output_type": "execute_result"
        }
      ],
      "source": [
        "completion.choices"
      ]
    },
    {
      "cell_type": "code",
      "execution_count": 8,
      "id": "7793ce76",
      "metadata": {},
      "outputs": [
        {
          "data": {
            "text/plain": [
              "1"
            ]
          },
          "execution_count": 8,
          "metadata": {},
          "output_type": "execute_result"
        }
      ],
      "source": [
        "len(completion.choices)"
      ]
    },
    {
      "cell_type": "code",
      "execution_count": 9,
      "id": "c899b15d",
      "metadata": {},
      "outputs": [
        {
          "data": {
            "text/plain": [
              "Choice(finish_reason='stop', index=0, logprobs=None, message=ChatCompletionMessage(content='In the realm of code, a method profound,\\nRecursion dances, a cycle unbound.\\nA function that calls itself with ease,\\nUnraveling mysteries, code as its keys.\\n\\nLike a mirror reflecting its own reflection,\\nRecursion dives deep, a looping connection.\\nEach call peeling layers, a journey unspoken,\\nTill a base case is found, a spell broken.\\n\\nGazing into the depths of recursive might,\\nA pattern emerges, a recursive flight.\\nAn elegant dance of logic and grace,\\nSolving problems with a recursive embrace.\\n\\nSo embrace the beauty of loops within loops,\\nA programming symphony that endlessly loops.\\nRecursion, a concept both simple and grand,\\nIn the world of code, a masterpiece planned.', role='assistant', function_call=None, tool_calls=None))"
            ]
          },
          "execution_count": 9,
          "metadata": {},
          "output_type": "execute_result"
        }
      ],
      "source": [
        "choice = completion.choices[0]\n",
        "choice"
      ]
    },
    {
      "cell_type": "code",
      "execution_count": 10,
      "id": "02a95cff",
      "metadata": {},
      "outputs": [
        {
          "data": {
            "text/plain": [
              "ChatCompletionMessage(content='In the realm of code, a method profound,\\nRecursion dances, a cycle unbound.\\nA function that calls itself with ease,\\nUnraveling mysteries, code as its keys.\\n\\nLike a mirror reflecting its own reflection,\\nRecursion dives deep, a looping connection.\\nEach call peeling layers, a journey unspoken,\\nTill a base case is found, a spell broken.\\n\\nGazing into the depths of recursive might,\\nA pattern emerges, a recursive flight.\\nAn elegant dance of logic and grace,\\nSolving problems with a recursive embrace.\\n\\nSo embrace the beauty of loops within loops,\\nA programming symphony that endlessly loops.\\nRecursion, a concept both simple and grand,\\nIn the world of code, a masterpiece planned.', role='assistant', function_call=None, tool_calls=None)"
            ]
          },
          "execution_count": 10,
          "metadata": {},
          "output_type": "execute_result"
        }
      ],
      "source": [
        "choice.message"
      ]
    },
    {
      "cell_type": "code",
      "execution_count": 11,
      "id": "206a45f2",
      "metadata": {},
      "outputs": [
        {
          "data": {
            "text/plain": [
              "'In the realm of code, a method profound,\\nRecursion dances, a cycle unbound.\\nA function that calls itself with ease,\\nUnraveling mysteries, code as its keys.\\n\\nLike a mirror reflecting its own reflection,\\nRecursion dives deep, a looping connection.\\nEach call peeling layers, a journey unspoken,\\nTill a base case is found, a spell broken.\\n\\nGazing into the depths of recursive might,\\nA pattern emerges, a recursive flight.\\nAn elegant dance of logic and grace,\\nSolving problems with a recursive embrace.\\n\\nSo embrace the beauty of loops within loops,\\nA programming symphony that endlessly loops.\\nRecursion, a concept both simple and grand,\\nIn the world of code, a masterpiece planned.'"
            ]
          },
          "execution_count": 11,
          "metadata": {},
          "output_type": "execute_result"
        }
      ],
      "source": [
        "choice.message.content"
      ]
    },
    {
      "cell_type": "code",
      "execution_count": 12,
      "id": "c5cf8b5d",
      "metadata": {},
      "outputs": [
        {
          "name": "stdout",
          "output_type": "stream",
          "text": [
            "In the realm of code, a method profound,\n",
            "Recursion dances, a cycle unbound.\n",
            "A function that calls itself with ease,\n",
            "Unraveling mysteries, code as its keys.\n",
            "\n",
            "Like a mirror reflecting its own reflection,\n",
            "Recursion dives deep, a looping connection.\n",
            "Each call peeling layers, a journey unspoken,\n",
            "Till a base case is found, a spell broken.\n",
            "\n",
            "Gazing into the depths of recursive might,\n",
            "A pattern emerges, a recursive flight.\n",
            "An elegant dance of logic and grace,\n",
            "Solving problems with a recursive embrace.\n",
            "\n",
            "So embrace the beauty of loops within loops,\n",
            "A programming symphony that endlessly loops.\n",
            "Recursion, a concept both simple and grand,\n",
            "In the world of code, a masterpiece planned.\n"
          ]
        }
      ],
      "source": [
        "print(choice.message.content)"
      ]
    },
    {
      "cell_type": "code",
      "execution_count": null,
      "id": "28fcff98",
      "metadata": {},
      "outputs": [],
      "source": []
    },
    {
      "cell_type": "code",
      "execution_count": null,
      "metadata": {
        "id": "S0acXBWCxiJL"
      },
      "outputs": [],
      "source": []
    },
    {
      "cell_type": "code",
      "execution_count": null,
      "metadata": {
        "id": "oaG3igwFxiQU"
      },
      "outputs": [],
      "source": []
    },
    {
      "cell_type": "code",
      "execution_count": null,
      "metadata": {
        "id": "PzQJleyoxiWi"
      },
      "outputs": [],
      "source": []
    },
    {
      "cell_type": "markdown",
      "metadata": {
        "id": "PFJd4PmsxjKb"
      },
      "source": [
        "![](https://deeplearningcourses.com/notebooks_v3_pxl?sc=AVRK7SgM9ASkQf5TAqs_wA&n=Quick+Start)"
      ]
    }
  ],
  "metadata": {
    "kernelspec": {
      "display_name": "Python 3 (ipykernel)",
      "language": "python",
      "name": "python3"
    },
    "language_info": {
      "codemirror_mode": {
        "name": "ipython",
        "version": 3
      },
      "file_extension": ".py",
      "mimetype": "text/x-python",
      "name": "python",
      "nbconvert_exporter": "python",
      "pygments_lexer": "ipython3",
      "version": "3.10.12"
    },
    "sc": "AVRK7SgM9ASkQf5TAqs_wA"
  },
  "nbformat": 4,
  "nbformat_minor": 5
}
