{
  "cells": [
    {
      "cell_type": "code",
      "source": [
        "import IPython\n",
        "import sys\n",
        "\n",
        "def clean_notebook():\n",
        "    IPython.display.clear_output(wait=True)\n",
        "    print(\"Notebook cleaned.\")\n",
        "\n",
        "!pip install openai\n",
        "!pip install gradio\n",
        "\n",
        "# Clean up the notebook\n",
        "clean_notebook()"
      ],
      "metadata": {
        "id": "9d-tCwZlhUMl",
        "outputId": "46a1cfbd-5f63-42da-8c3e-dd7790b69717",
        "colab": {
          "base_uri": "https://localhost:8080/"
        }
      },
      "id": "9d-tCwZlhUMl",
      "execution_count": 2,
      "outputs": [
        {
          "output_type": "stream",
          "name": "stdout",
          "text": [
            "Notebook cleaned.\n"
          ]
        }
      ]
    },
    {
      "cell_type": "code",
      "execution_count": 4,
      "id": "76e0f5bd",
      "metadata": {
        "id": "76e0f5bd"
      },
      "outputs": [],
      "source": [
        "\n",
        "import openai\n",
        "openai.api_key = \"your-key\""
      ]
    },
    {
      "cell_type": "markdown",
      "source": [
        "# Basic"
      ],
      "metadata": {
        "id": "YJ27phAZjzvA"
      },
      "id": "YJ27phAZjzvA"
    },
    {
      "cell_type": "code",
      "source": [
        "user_prompt = \"ขอวิธีทำข้าวผัดกระเพราไก่หน่อยครับ\"\n",
        "\n",
        "completion = openai.chat.completions.create(\n",
        "    model='gpt-3.5-turbo',\n",
        "    messages=[\n",
        "        {\"role\": \"user\", \"content\": user_prompt},\n",
        "    ],\n",
        "    temperature=0.8,\n",
        "    max_tokens=400,\n",
        ")\n",
        "\n",
        "response = completion.choices[0].message.content\n",
        "print(response)"
      ],
      "metadata": {
        "id": "kGruE_KtiRpo",
        "outputId": "d8d835b2-1d6a-425d-c98b-312851f485e8",
        "colab": {
          "base_uri": "https://localhost:8080/"
        }
      },
      "id": "kGruE_KtiRpo",
      "execution_count": 23,
      "outputs": [
        {
          "output_type": "stream",
          "name": "stdout",
          "text": [
            "สูตรทำข้าวผัดกระเพราไก่ สำหรับ 2-3 ที่\n",
            "\n",
            "ส่วนผสม:\n",
            "- 200 กรัมเส้นข้าวกล้อง\n",
            "- 200 กรัมเนื้อไก่หั่นชิ้น\n",
            "- 4-5 กลีบใบกระเพรา\n",
            "- 2-3 กระเทียมสับ\n",
            "- 2-3 พริกขี้หนูสับ\n",
            "- 1 ช้อนชา ซีอิ๊วขาว\n",
            "- 1 ช้อนชา ซอสถั่วเหลือง\n",
            "- 1 ช้อนชา น้ำตาลทราย\n",
            "- 1/2 ช้อนชา น้ำปลา\n",
            "- 1/2 ช้อนชา ซอสปรุงรส\n",
            "- น้ำมันพืชสำหรับทอด\n",
            "\n",
            "วิธีทำ:\n",
            "1. ต้มเส้นข้าวกล้องในน้ำเดือดจนสุก ตั้งให้สะเด็ดน้ำ พักไว้\n",
            "2. ใส่น้ำมันลงในกระทะ ตั้งไฟกลาง ใส่กระเทียมสับ และพริกขี้หนูสับลงไป ผัดจน\n"
          ]
        }
      ]
    },
    {
      "cell_type": "code",
      "execution_count": 25,
      "id": "a95e7186",
      "metadata": {
        "id": "a95e7186",
        "outputId": "97cfbbb5-9653-4357-aa31-b47e824fe0c7",
        "colab": {
          "base_uri": "https://localhost:8080/"
        }
      },
      "outputs": [
        {
          "output_type": "stream",
          "name": "stdout",
          "text": [
            "วันนี้เรามีเมนูอร่อยๆ ที่ทุกคนๆ ชอบ คือ \"ข้าวผัดกระเพราไก่\" เมนูที่ทำง่าย และอร่อยมากๆ จะมาแชร์วิธีทำให้ทุกคนได้ลองทำกันค่ะ\n",
            "\n",
            "ส่วนผัดกระเพราไก่ ส่วนผสมมีดังนี้:\n",
            "- เนื้อไก่หรืออะไรก็ได้ที่ชอบ\n",
            "- กระเทียมสับ\n",
            "- พริกขี้หนูสับ\n",
            "- ใบกระเพรา\n",
            "- น้ำปลา\n",
            "- ซีอิ๊วขาว\n",
            "- น้ำตาล\n",
            "- น้ำมันพ\n"
          ]
        }
      ],
      "source": [
        "user_prompt = \"ขอวิธีทำข้าวผัดกระเพราไก่หน่อยครับ\"\n",
        "temperature =0.8\n",
        "\n",
        "completion = openai.chat.completions.create(\n",
        "  model='gpt-3.5-turbo',\n",
        "  messages=[\n",
        "    {\"role\": \"system\", \"content\": \"You are an AI content  writer.Generate a well structured 256 words thai language blog for the given topics\"},\n",
        "    {\"role\": \"user\", \"content\": user_prompt},\n",
        "  ],\n",
        "    temperature=temperature ,\n",
        "    max_tokens=256,\n",
        ")\n",
        "\n",
        "\n",
        "response = completion.choices[0].message.content\n",
        "print(response)"
      ]
    },
    {
      "cell_type": "code",
      "source": [],
      "metadata": {
        "id": "hnwtm7iElHkj"
      },
      "id": "hnwtm7iElHkj",
      "execution_count": null,
      "outputs": []
    },
    {
      "cell_type": "code",
      "execution_count": 30,
      "id": "28fcff98",
      "metadata": {
        "id": "28fcff98",
        "outputId": "980889c9-9775-4fed-f0c3-aa5c935b0c33",
        "colab": {
          "base_uri": "https://localhost:8080/",
          "height": 591
        }
      },
      "outputs": [
        {
          "output_type": "stream",
          "name": "stdout",
          "text": [
            "Colab notebook detected. To show errors in colab notebook, set debug=True in launch()\n",
            "Running on public URL: https://ab56bbdc1e21d6c7a6.gradio.live\n",
            "\n",
            "This share link expires in 72 hours. For free permanent hosting and GPU upgrades, run `gradio deploy` from Terminal to deploy to Spaces (https://huggingface.co/spaces)\n"
          ]
        },
        {
          "output_type": "display_data",
          "data": {
            "text/plain": [
              "<IPython.core.display.HTML object>"
            ],
            "text/html": [
              "<div><iframe src=\"https://ab56bbdc1e21d6c7a6.gradio.live\" width=\"100%\" height=\"500\" allow=\"autoplay; camera; microphone; clipboard-read; clipboard-write;\" frameborder=\"0\" allowfullscreen></iframe></div>"
            ]
          },
          "metadata": {}
        },
        {
          "output_type": "execute_result",
          "data": {
            "text/plain": []
          },
          "metadata": {},
          "execution_count": 30
        }
      ],
      "source": [
        "import gradio as gr\n",
        "\n",
        "\n",
        "# Example prompts\n",
        "examples = [\n",
        "    [\"บอกวิธีเลี้ยงแมว 7 ตัว\"],\n",
        "    [\"เล่าประวัติของกรุงเทพมหานคร\"],\n",
        "    [\"วิธีการทำอาหารไทยยอดนิยม\"],\n",
        "    [\"แนะนำสถานที่ท่องเที่ยวในประเทศไทย\"],\n",
        "    [\"เขียนบทความเกี่ยวกับการดูแลสุขภาพจิต\"]\n",
        "]\n",
        "\n",
        "def chat(user_prompt,temperature, max_token=256):\n",
        "    completion = openai.chat.completions.create(\n",
        "        model='gpt-3.5-turbo',\n",
        "        messages=[\n",
        "            {\"role\": \"system\", \"content\": \"You are an AI content  writer.Generate a well structured 256 words thai language blog for the given topics\"},\n",
        "            {\"role\": \"user\", \"content\": user_prompt},\n",
        "        ],\n",
        "        temperature=temperature,\n",
        "        max_tokens=int(max_token),\n",
        "    )\n",
        "    return completion.choices[0].message.content\n",
        "\n",
        "\n",
        "# Create Gradio interface\n",
        "interface = gr.Interface(\n",
        "    fn=chat,\n",
        "    inputs=[\n",
        "        gr.Textbox(lines=2, placeholder=\"Enter your prompt here...\"),\n",
        "        gr.Slider(minimum=0.1, maximum=1.0, step=0.1, value=0.85, label=\"Temperature\"),\n",
        "        gr.Slider(minimum=0.1, maximum=1024, step=1, value=256, label=\"token\")\n",
        "    ],\n",
        "    outputs=gr.Textbox(lines=5),\n",
        "    title=\"Thai Language Blog Generator\",\n",
        "    description=\"Enter a topic to generate a well-structured 256-word Thai language blog.\",\n",
        "    examples=examples\n",
        ")\n",
        "\n",
        "# Launch the interface\n",
        "interface.launch(share=True)"
      ]
    },
    {
      "cell_type": "code",
      "execution_count": null,
      "metadata": {
        "id": "S0acXBWCxiJL"
      },
      "outputs": [],
      "source": [],
      "id": "S0acXBWCxiJL"
    },
    {
      "cell_type": "code",
      "execution_count": null,
      "metadata": {
        "id": "oaG3igwFxiQU"
      },
      "outputs": [],
      "source": [],
      "id": "oaG3igwFxiQU"
    },
    {
      "cell_type": "code",
      "execution_count": null,
      "metadata": {
        "id": "PzQJleyoxiWi"
      },
      "outputs": [],
      "source": [],
      "id": "PzQJleyoxiWi"
    },
    {
      "cell_type": "markdown",
      "metadata": {
        "id": "PFJd4PmsxjKb"
      },
      "source": [
        "![](https://deeplearningcourses.com/notebooks_v3_pxl?sc=AVRK7SgM9ASkQf5TAqs_wA&n=Quick+Start)"
      ],
      "id": "PFJd4PmsxjKb"
    }
  ],
  "metadata": {
    "kernelspec": {
      "display_name": "Python 3 (ipykernel)",
      "language": "python",
      "name": "python3"
    },
    "language_info": {
      "codemirror_mode": {
        "name": "ipython",
        "version": 3
      },
      "file_extension": ".py",
      "mimetype": "text/x-python",
      "name": "python",
      "nbconvert_exporter": "python",
      "pygments_lexer": "ipython3",
      "version": "3.10.12"
    },
    "sc": "AVRK7SgM9ASkQf5TAqs_wA",
    "colab": {
      "provenance": []
    }
  },
  "nbformat": 4,
  "nbformat_minor": 5
}