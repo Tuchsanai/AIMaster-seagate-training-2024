{
  "cells": [
    {
      "cell_type": "code",
      "execution_count": 1,
      "id": "aa5ae13d",
      "metadata": {
        "colab": {
          "base_uri": "https://localhost:8080/"
        },
        "id": "aa5ae13d",
        "outputId": "d8a3780e-d578-4207-b48b-845d2de4725a"
      },
      "outputs": [
        {
          "output_type": "stream",
          "name": "stdout",
          "text": [
            "Notebook cleaned.\n"
          ]
        }
      ],
      "source": [
        "import IPython\n",
        "import sys\n",
        "\n",
        "def clean_notebook():\n",
        "    IPython.display.clear_output(wait=True)\n",
        "    print(\"Notebook cleaned.\")\n",
        "\n",
        "!pip install openai\n",
        "!pip install gradio\n",
        "\n",
        "# Clean up the notebook\n",
        "clean_notebook()"
      ]
    },
    {
      "cell_type": "code",
      "execution_count": 48,
      "id": "bbaf0cc8",
      "metadata": {
        "id": "bbaf0cc8"
      },
      "outputs": [],
      "source": [
        "\n",
        "import openai\n",
        "openai.api_key = \"key-here\""
      ]
    },
    {
      "cell_type": "code",
      "execution_count": 38,
      "id": "d1d88fbc",
      "metadata": {
        "colab": {
          "base_uri": "https://localhost:8080/",
          "height": 279
        },
        "id": "d1d88fbc",
        "outputId": "40dff313-56cc-4028-fa76-252f8636f3be"
      },
      "outputs": [
        {
          "output_type": "execute_result",
          "data": {
            "text/plain": [
              "<IPython.core.display.Markdown object>"
            ],
            "text/markdown": "Dr. Evelyn Hawthorne (1835-1901) was a renowned physicist and pioneer of ether theory during the 19th century. Born into a family of intellectuals in the countryside of England, Hawthorne displayed an insatiable curiosity for the natural world from a young age. Her early fascination with the workings of the universe led her to pursue a career in science, a field typically dominated by men during her time.\n\nAfter receiving a comprehensive education in mathematics and natural philosophy at Oxford University, Hawthorne embarked on a journey of scientific exploration that would redefine the understanding of fundamental physical principles. Her groundbreaking research into the properties of ether, a hypothetical substance believed to permeate all of space and serve as the medium for the propagation of light, propelled her to the forefront of the scientific community.\n\nDespite facing prejudice and skepticism from her male colleagues, Hawthorne remained undeterred in her pursuit of knowledge. Through meticulous experimentation and theoretical analysis, she developed a comprehensive framework for understanding the behavior of ether and its interactions with matter. Her seminal work laid the foundation for subsequent advancements in theoretical physics and paved the way for Albert Einstein's theory of relativity.\n\nIn addition to her contributions to theoretical physics, Hawthorne was also a passionate advocate for women's rights and education. She championed equal opportunities for women in academia and tirelessly campaigned for the inclusion of female scientists in professional societies.\n\nThroughout her illustrious career, Hawthorne received numerous accolades and honors for her groundbreaking contributions to the field of physics. Her legacy continues to inspire future generations of scientists to push the boundaries of human knowledge and challenge conventional wisdom in the pursuit of truth.\n"
          },
          "metadata": {},
          "execution_count": 38
        }
      ],
      "source": [
        "# Please generate a made-up biography of an 1800s physicist.\n",
        "\n",
        "bio = \"\"\"Dr. Evelyn Hawthorne (1835-1901) was a renowned physicist and pioneer of ether theory during the 19th century. Born into a family of intellectuals in the countryside of England, Hawthorne displayed an insatiable curiosity for the natural world from a young age. Her early fascination with the workings of the universe led her to pursue a career in science, a field typically dominated by men during her time.\n",
        "\n",
        "After receiving a comprehensive education in mathematics and natural philosophy at Oxford University, Hawthorne embarked on a journey of scientific exploration that would redefine the understanding of fundamental physical principles. Her groundbreaking research into the properties of ether, a hypothetical substance believed to permeate all of space and serve as the medium for the propagation of light, propelled her to the forefront of the scientific community.\n",
        "\n",
        "Despite facing prejudice and skepticism from her male colleagues, Hawthorne remained undeterred in her pursuit of knowledge. Through meticulous experimentation and theoretical analysis, she developed a comprehensive framework for understanding the behavior of ether and its interactions with matter. Her seminal work laid the foundation for subsequent advancements in theoretical physics and paved the way for Albert Einstein's theory of relativity.\n",
        "\n",
        "In addition to her contributions to theoretical physics, Hawthorne was also a passionate advocate for women's rights and education. She championed equal opportunities for women in academia and tirelessly campaigned for the inclusion of female scientists in professional societies.\n",
        "\n",
        "Throughout her illustrious career, Hawthorne received numerous accolades and honors for her groundbreaking contributions to the field of physics. Her legacy continues to inspire future generations of scientists to push the boundaries of human knowledge and challenge conventional wisdom in the pursuit of truth.\n",
        "\"\"\"\n",
        "\n",
        "# pretty format the response\n",
        "IPython.display.Markdown(bio )"
      ]
    },
    {
      "cell_type": "code",
      "execution_count": 39,
      "id": "41a3f599",
      "metadata": {
        "id": "41a3f599"
      },
      "outputs": [],
      "source": [
        "system_prompt = \"\"\"You are a helpful assistant that answers \\\n",
        "questions truthfully and factually. Your answers should be \\\n",
        "short and concise. If you don't know the answer, say I am sorry boss.\n",
        "\"\"\""
      ]
    },
    {
      "cell_type": "code",
      "execution_count": 40,
      "id": "2095aedd",
      "metadata": {
        "id": "2095aedd"
      },
      "outputs": [],
      "source": [
        "def complete(user_prompt):\n",
        "    completion = openai.chat.completions.create(\n",
        "        model='gpt-3.5-turbo',\n",
        "        messages=[\n",
        "            {\"role\": \"system\", \"content\": system_prompt},\n",
        "            {\"role\": \"user\", \"content\": user_prompt},\n",
        "        ],\n",
        "        temperature=0,\n",
        "        max_tokens=100,\n",
        "    )\n",
        "    return completion"
      ]
    },
    {
      "cell_type": "code",
      "execution_count": 41,
      "id": "1f3570a6",
      "metadata": {
        "id": "1f3570a6"
      },
      "outputs": [],
      "source": [
        "def answer(question, context):\n",
        "    prompt = f\"\"\"Please answer the following question:\n",
        "\n",
        "    Question:\n",
        "\n",
        "    ```{question}```\n",
        "\n",
        "    Use the following context to find the answer:\n",
        "\n",
        "    ```{context}```\n",
        "    \"\"\"\n",
        "\n",
        "    completion = complete(prompt)\n",
        "    content = completion.choices[0].message.content\n",
        "    if content == None :\n",
        "      print(\"Can't answer\")\n",
        "    else :\n",
        "      print(content)"
      ]
    },
    {
      "cell_type": "code",
      "execution_count": 42,
      "id": "d5fd7085",
      "metadata": {
        "colab": {
          "base_uri": "https://localhost:8080/"
        },
        "id": "d5fd7085",
        "outputId": "9cf7a0c6-7d99-463a-f3e1-649235c5b31a"
      },
      "outputs": [
        {
          "output_type": "stream",
          "name": "stdout",
          "text": [
            "Dr. Evelyn Hawthorne was born in 1835.\n"
          ]
        }
      ],
      "source": [
        "q = \"When was Dr. Evelyn Hawthorne born?\"\n",
        "answer(q, bio)"
      ]
    },
    {
      "cell_type": "code",
      "execution_count": 17,
      "id": "1ed6b72a",
      "metadata": {
        "id": "1ed6b72a"
      },
      "outputs": [],
      "source": [
        "q = \"How tall was Dr. Evelyn Hawthorne?\"\n",
        "answer(q, bio)"
      ]
    },
    {
      "cell_type": "code",
      "execution_count": 18,
      "id": "22f3f0e4",
      "metadata": {
        "id": "22f3f0e4"
      },
      "outputs": [],
      "source": [
        "q = \"What was Dr. Evelyn Hawthorne's field of study?\"\n",
        "answer(q, bio)"
      ]
    },
    {
      "cell_type": "code",
      "execution_count": 28,
      "id": "88ee4d16",
      "metadata": {
        "colab": {
          "base_uri": "https://localhost:8080/"
        },
        "id": "88ee4d16",
        "outputId": "a5f7f8b3-e8bc-4e81-c71d-77e5678f02ba"
      },
      "outputs": [
        {
          "output_type": "stream",
          "name": "stdout",
          "text": [
            "I'm sorry, but there is no specific mention of Dr. Evelyn Hawthorne inspiring any later discoveries in the provided context.\n"
          ]
        }
      ],
      "source": [
        "q = \"What later discoveries did Dr. Evelyn Hawthorne inspire?\"\n",
        "answer(q, bio)"
      ]
    },
    {
      "cell_type": "code",
      "source": [
        "q = \"How many courses does the tuchsanai have?\"\n",
        "answer(q, bio)"
      ],
      "metadata": {
        "colab": {
          "base_uri": "https://localhost:8080/"
        },
        "id": "wxIgFs0n34t9",
        "outputId": "f4716574-f1ee-45fb-fcbf-1badd758bcdf"
      },
      "id": "wxIgFs0n34t9",
      "execution_count": 43,
      "outputs": [
        {
          "output_type": "stream",
          "name": "stdout",
          "text": [
            "I am sorry boss.\n"
          ]
        }
      ]
    },
    {
      "cell_type": "code",
      "execution_count": 46,
      "id": "d0b79b43",
      "metadata": {
        "colab": {
          "base_uri": "https://localhost:8080/"
        },
        "id": "d0b79b43",
        "outputId": "2888f009-5b38-4861-eb2f-524249332c40"
      },
      "outputs": [
        {
          "output_type": "stream",
          "name": "stdout",
          "text": [
            "I am sorry boss, I do not have that information.\n"
          ]
        }
      ],
      "source": [
        "q = \"How many courses does the tuchsanai have?\"\n",
        "completion = complete(q)\n",
        "print(completion.choices[0].message.content)"
      ]
    },
    {
      "cell_type": "code",
      "execution_count": 47,
      "id": "e0f0e3be",
      "metadata": {
        "colab": {
          "base_uri": "https://localhost:8080/"
        },
        "id": "e0f0e3be",
        "outputId": "df2d9805-4a2a-4771-d001-f5320e0c0ee4"
      },
      "outputs": [
        {
          "output_type": "stream",
          "name": "stdout",
          "text": [
            "I am sorry boss.\n"
          ]
        }
      ],
      "source": [
        "q = \"What subject does the tuchsanai teach?\"\n",
        "completion = complete(q)\n",
        "print(completion.choices[0].message.content)"
      ]
    },
    {
      "cell_type": "code",
      "execution_count": null,
      "id": "034cc20d",
      "metadata": {
        "id": "034cc20d"
      },
      "outputs": [],
      "source": []
    },
    {
      "cell_type": "code",
      "execution_count": null,
      "metadata": {
        "id": "S0acXBWCxiJL"
      },
      "outputs": [],
      "source": [],
      "id": "S0acXBWCxiJL"
    },
    {
      "cell_type": "code",
      "execution_count": null,
      "metadata": {
        "id": "oaG3igwFxiQU"
      },
      "outputs": [],
      "source": [],
      "id": "oaG3igwFxiQU"
    },
    {
      "cell_type": "code",
      "execution_count": null,
      "metadata": {
        "id": "PzQJleyoxiWi"
      },
      "outputs": [],
      "source": [],
      "id": "PzQJleyoxiWi"
    },
    {
      "cell_type": "markdown",
      "metadata": {
        "id": "PFJd4PmsxjKb"
      },
      "source": [
        "![](https://deeplearningcourses.com/notebooks_v3_pxl?sc=AVRK7SgM9ASkQf5TAqs_wA&n=QA)"
      ],
      "id": "PFJd4PmsxjKb"
    }
  ],
  "metadata": {
    "kernelspec": {
      "display_name": "Python 3 (ipykernel)",
      "language": "python",
      "name": "python3"
    },
    "language_info": {
      "codemirror_mode": {
        "name": "ipython",
        "version": 3
      },
      "file_extension": ".py",
      "mimetype": "text/x-python",
      "name": "python",
      "nbconvert_exporter": "python",
      "pygments_lexer": "ipython3",
      "version": "3.10.12"
    },
    "sc": "AVRK7SgM9ASkQf5TAqs_wA",
    "colab": {
      "provenance": []
    }
  },
  "nbformat": 4,
  "nbformat_minor": 5
}