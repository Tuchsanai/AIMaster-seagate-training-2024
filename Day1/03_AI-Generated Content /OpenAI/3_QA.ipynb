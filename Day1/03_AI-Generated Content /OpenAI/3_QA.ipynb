{
  "cells": [
    {
      "cell_type": "code",
      "execution_count": 1,
      "id": "aa5ae13d",
      "metadata": {
        "id": "aa5ae13d",
        "outputId": "d8a3780e-d578-4207-b48b-845d2de4725a",
        "colab": {
          "base_uri": "https://localhost:8080/"
        }
      },
      "outputs": [
        {
          "output_type": "stream",
          "name": "stdout",
          "text": [
            "Notebook cleaned.\n"
          ]
        }
      ],
      "source": [
        "import IPython\n",
        "import sys\n",
        "\n",
        "def clean_notebook():\n",
        "    IPython.display.clear_output(wait=True)\n",
        "    print(\"Notebook cleaned.\")\n",
        "\n",
        "!pip install openai\n",
        "!pip install gradio\n",
        "\n",
        "# Clean up the notebook\n",
        "clean_notebook()"
      ]
    },
    {
      "cell_type": "code",
      "execution_count": 34,
      "id": "bbaf0cc8",
      "metadata": {
        "id": "bbaf0cc8"
      },
      "outputs": [],
      "source": [
        "\n",
        "import openai\n",
        "openai.api_key = \"key-here\""
      ]
    },
    {
      "cell_type": "code",
      "execution_count": 4,
      "id": "d1d88fbc",
      "metadata": {
        "id": "d1d88fbc",
        "outputId": "0d9052c4-5c5f-416f-b041-499ad37635bd",
        "colab": {
          "base_uri": "https://localhost:8080/",
          "height": 279
        }
      },
      "outputs": [
        {
          "output_type": "execute_result",
          "data": {
            "text/plain": [
              "<IPython.core.display.Markdown object>"
            ],
            "text/markdown": "Dr. Evelyn Hawthorne (1835-1901) was a renowned physicist and pioneer of ether theory during the 19th century. Born into a family of intellectuals in the countryside of England, Hawthorne displayed an insatiable curiosity for the natural world from a young age. Her early fascination with the workings of the universe led her to pursue a career in science, a field typically dominated by men during her time.\n\nAfter receiving a comprehensive education in mathematics and natural philosophy at Oxford University, Hawthorne embarked on a journey of scientific exploration that would redefine the understanding of fundamental physical principles. Her groundbreaking research into the properties of ether, a hypothetical substance believed to permeate all of space and serve as the medium for the propagation of light, propelled her to the forefront of the scientific community.\n\nDespite facing prejudice and skepticism from her male colleagues, Hawthorne remained undeterred in her pursuit of knowledge. Through meticulous experimentation and theoretical analysis, she developed a comprehensive framework for understanding the behavior of ether and its interactions with matter. Her seminal work laid the foundation for subsequent advancements in theoretical physics and paved the way for Albert Einstein's theory of relativity.\n\nIn addition to her contributions to theoretical physics, Hawthorne was also a passionate advocate for women's rights and education. She championed equal opportunities for women in academia and tirelessly campaigned for the inclusion of female scientists in professional societies.\n\nThroughout her illustrious career, Hawthorne received numerous accolades and honors for her groundbreaking contributions to the field of physics. Her legacy continues to inspire future generations of scientists to push the boundaries of human knowledge and challenge conventional wisdom in the pursuit of truth.\n"
          },
          "metadata": {},
          "execution_count": 4
        }
      ],
      "source": [
        "# Please generate a made-up biography of an 1800s physicist.\n",
        "\n",
        "bio = \"\"\"Dr. Evelyn Hawthorne (1835-1901) was a renowned physicist and pioneer of ether theory during the 19th century. Born into a family of intellectuals in the countryside of England, Hawthorne displayed an insatiable curiosity for the natural world from a young age. Her early fascination with the workings of the universe led her to pursue a career in science, a field typically dominated by men during her time.\n",
        "\n",
        "After receiving a comprehensive education in mathematics and natural philosophy at Oxford University, Hawthorne embarked on a journey of scientific exploration that would redefine the understanding of fundamental physical principles. Her groundbreaking research into the properties of ether, a hypothetical substance believed to permeate all of space and serve as the medium for the propagation of light, propelled her to the forefront of the scientific community.\n",
        "\n",
        "Despite facing prejudice and skepticism from her male colleagues, Hawthorne remained undeterred in her pursuit of knowledge. Through meticulous experimentation and theoretical analysis, she developed a comprehensive framework for understanding the behavior of ether and its interactions with matter. Her seminal work laid the foundation for subsequent advancements in theoretical physics and paved the way for Albert Einstein's theory of relativity.\n",
        "\n",
        "In addition to her contributions to theoretical physics, Hawthorne was also a passionate advocate for women's rights and education. She championed equal opportunities for women in academia and tirelessly campaigned for the inclusion of female scientists in professional societies.\n",
        "\n",
        "Throughout her illustrious career, Hawthorne received numerous accolades and honors for her groundbreaking contributions to the field of physics. Her legacy continues to inspire future generations of scientists to push the boundaries of human knowledge and challenge conventional wisdom in the pursuit of truth.\n",
        "\"\"\"\n",
        "\n",
        "# pretty format the response\n",
        "IPython.display.Markdown(bio )"
      ]
    },
    {
      "cell_type": "code",
      "execution_count": 5,
      "id": "41a3f599",
      "metadata": {
        "id": "41a3f599"
      },
      "outputs": [],
      "source": [
        "system_prompt = \"\"\"You are a helpful assistant that answers \\\n",
        "questions truthfully and factually. Your answers should be \\\n",
        "short and concise. If you don't know the answer, say so.\n",
        "\"\"\""
      ]
    },
    {
      "cell_type": "code",
      "execution_count": 6,
      "id": "2095aedd",
      "metadata": {
        "id": "2095aedd"
      },
      "outputs": [],
      "source": [
        "def complete(user_prompt):\n",
        "    completion = openai.chat.completions.create(\n",
        "        model='gpt-3.5-turbo',\n",
        "        messages=[\n",
        "            {\"role\": \"system\", \"content\": system_prompt},\n",
        "            {\"role\": \"user\", \"content\": user_prompt},\n",
        "        ],\n",
        "        temperature=0,\n",
        "        max_tokens=100,\n",
        "    )\n",
        "    return completion"
      ]
    },
    {
      "cell_type": "code",
      "execution_count": 26,
      "id": "1f3570a6",
      "metadata": {
        "id": "1f3570a6"
      },
      "outputs": [],
      "source": [
        "def answer(question, context):\n",
        "    prompt = f\"\"\"Please answer the following question:\n",
        "\n",
        "    Question:\n",
        "\n",
        "    ```{question}```\n",
        "\n",
        "    Use the following context to find the answer:\n",
        "\n",
        "    ```{context}```\n",
        "    \"\"\"\n",
        "\n",
        "    completion = complete(prompt)\n",
        "    content = completion.choices[0].message.content\n",
        "    if content == None :\n",
        "      print(\"Can't answer\")\n",
        "    else :\n",
        "      print(content)"
      ]
    },
    {
      "cell_type": "code",
      "execution_count": 27,
      "id": "d5fd7085",
      "metadata": {
        "id": "d5fd7085",
        "outputId": "3d06dc4f-4b15-450b-905c-92a0db363f69",
        "colab": {
          "base_uri": "https://localhost:8080/"
        }
      },
      "outputs": [
        {
          "output_type": "stream",
          "name": "stdout",
          "text": [
            "Dr. Evelyn Hawthorne was born in 1835.\n"
          ]
        }
      ],
      "source": [
        "q = \"When was Dr. Evelyn Hawthorne born?\"\n",
        "answer(q, bio)"
      ]
    },
    {
      "cell_type": "code",
      "execution_count": 17,
      "id": "1ed6b72a",
      "metadata": {
        "id": "1ed6b72a"
      },
      "outputs": [],
      "source": [
        "q = \"How tall was Dr. Evelyn Hawthorne?\"\n",
        "answer(q, bio)"
      ]
    },
    {
      "cell_type": "code",
      "execution_count": 18,
      "id": "22f3f0e4",
      "metadata": {
        "id": "22f3f0e4"
      },
      "outputs": [],
      "source": [
        "q = \"What was Dr. Evelyn Hawthorne's field of study?\"\n",
        "answer(q, bio)"
      ]
    },
    {
      "cell_type": "code",
      "execution_count": 28,
      "id": "88ee4d16",
      "metadata": {
        "id": "88ee4d16",
        "outputId": "a5f7f8b3-e8bc-4e81-c71d-77e5678f02ba",
        "colab": {
          "base_uri": "https://localhost:8080/"
        }
      },
      "outputs": [
        {
          "output_type": "stream",
          "name": "stdout",
          "text": [
            "I'm sorry, but there is no specific mention of Dr. Evelyn Hawthorne inspiring any later discoveries in the provided context.\n"
          ]
        }
      ],
      "source": [
        "q = \"What later discoveries did Dr. Evelyn Hawthorne inspire?\"\n",
        "answer(q, bio)"
      ]
    },
    {
      "cell_type": "code",
      "source": [
        "q = \"How many courses does the tuchsanai have?\"\n",
        "answer(q, bio)"
      ],
      "metadata": {
        "id": "wxIgFs0n34t9",
        "outputId": "61a65169-b2bf-41d6-bd18-e29d648d3a9f",
        "colab": {
          "base_uri": "https://localhost:8080/"
        }
      },
      "id": "wxIgFs0n34t9",
      "execution_count": 29,
      "outputs": [
        {
          "output_type": "stream",
          "name": "stdout",
          "text": [
            "I'm sorry, but the text provided does not mention anything about the number of courses the tuchsanai has.\n"
          ]
        }
      ]
    },
    {
      "cell_type": "code",
      "execution_count": 30,
      "id": "d0b79b43",
      "metadata": {
        "id": "d0b79b43"
      },
      "outputs": [],
      "source": [
        "q = \"How many courses does the tuchsanai have?\"\n",
        "completion = complete(q)"
      ]
    },
    {
      "cell_type": "code",
      "execution_count": 31,
      "id": "0d01eaae",
      "metadata": {
        "id": "0d01eaae"
      },
      "outputs": [],
      "source": [
        "def print_response(completion):\n",
        "    content = completion.choices[0].message.content\n",
        "    print(content)"
      ]
    },
    {
      "cell_type": "code",
      "execution_count": 32,
      "id": "f0c2041c",
      "metadata": {
        "id": "f0c2041c",
        "outputId": "ca5703b7-fab7-4073-d4f6-6677cc231f1b",
        "colab": {
          "base_uri": "https://localhost:8080/"
        }
      },
      "outputs": [
        {
          "output_type": "stream",
          "name": "stdout",
          "text": [
            "I'm not familiar with \"tuchsanai.\" Could you provide more context or clarify?\n"
          ]
        }
      ],
      "source": [
        "print_response(completion)"
      ]
    },
    {
      "cell_type": "code",
      "execution_count": 33,
      "id": "e0f0e3be",
      "metadata": {
        "id": "e0f0e3be",
        "outputId": "247acc90-944c-4f5e-cf21-3d7dc512635f",
        "colab": {
          "base_uri": "https://localhost:8080/"
        }
      },
      "outputs": [
        {
          "output_type": "stream",
          "name": "stdout",
          "text": [
            "I'm not familiar with the term \"tuchsanai.\" Could you provide more context or clarify the subject you are referring to?\n"
          ]
        }
      ],
      "source": [
        "q = \"What subject does the tuchsanai teach?\"\n",
        "completion = complete(q)\n",
        "print_response(completion)"
      ]
    },
    {
      "cell_type": "code",
      "execution_count": null,
      "id": "034cc20d",
      "metadata": {
        "id": "034cc20d"
      },
      "outputs": [],
      "source": []
    },
    {
      "cell_type": "code",
      "execution_count": null,
      "metadata": {
        "id": "S0acXBWCxiJL"
      },
      "outputs": [],
      "source": [],
      "id": "S0acXBWCxiJL"
    },
    {
      "cell_type": "code",
      "execution_count": null,
      "metadata": {
        "id": "oaG3igwFxiQU"
      },
      "outputs": [],
      "source": [],
      "id": "oaG3igwFxiQU"
    },
    {
      "cell_type": "code",
      "execution_count": null,
      "metadata": {
        "id": "PzQJleyoxiWi"
      },
      "outputs": [],
      "source": [],
      "id": "PzQJleyoxiWi"
    },
    {
      "cell_type": "markdown",
      "metadata": {
        "id": "PFJd4PmsxjKb"
      },
      "source": [
        "![](https://deeplearningcourses.com/notebooks_v3_pxl?sc=AVRK7SgM9ASkQf5TAqs_wA&n=QA)"
      ],
      "id": "PFJd4PmsxjKb"
    }
  ],
  "metadata": {
    "kernelspec": {
      "display_name": "Python 3 (ipykernel)",
      "language": "python",
      "name": "python3"
    },
    "language_info": {
      "codemirror_mode": {
        "name": "ipython",
        "version": 3
      },
      "file_extension": ".py",
      "mimetype": "text/x-python",
      "name": "python",
      "nbconvert_exporter": "python",
      "pygments_lexer": "ipython3",
      "version": "3.10.12"
    },
    "sc": "AVRK7SgM9ASkQf5TAqs_wA",
    "colab": {
      "provenance": []
    }
  },
  "nbformat": 4,
  "nbformat_minor": 5
}