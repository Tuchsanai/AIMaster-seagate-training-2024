{
  "cells": [
    {
      "cell_type": "code",
      "execution_count": null,
      "id": "aa5ae13d",
      "metadata": {},
      "outputs": [],
      "source": [
        "import IPython\n",
        "import sys\n",
        "\n",
        "def clean_notebook():\n",
        "    IPython.display.clear_output(wait=True)\n",
        "    print(\"Notebook cleaned.\")\n",
        "\n",
        "!pip install openai\n",
        "!pip install gradio\n",
        "\n",
        "# Clean up the notebook\n",
        "clean_notebook()"
      ]
    },
    {
      "cell_type": "code",
      "execution_count": null,
      "id": "bbaf0cc8",
      "metadata": {},
      "outputs": [],
      "source": [
        "\n",
        "import openai\n",
        "openai.api_key = \"key-here\""
      ]
    },
    {
      "cell_type": "code",
      "execution_count": 6,
      "id": "d1d88fbc",
      "metadata": {},
      "outputs": [
        {
          "name": "stdout",
          "output_type": "stream",
          "text": [
            "Dr. Evelyn Hawthorne (1835-1901) was a renowned physicist and pioneer of ether theory during the 19th century. Born into a family of intellectuals in the countryside of England, Hawthorne displayed an insatiable curiosity for the natural world from a young age. Her early fascination with the workings of the universe led her to pursue a career in science, a field typically dominated by men during her time.\n",
            "\n",
            "After receiving a comprehensive education in mathematics and natural philosophy at Oxford University, Hawthorne embarked on a journey of scientific exploration that would redefine the understanding of fundamental physical principles. Her groundbreaking research into the properties of ether, a hypothetical substance believed to permeate all of space and serve as the medium for the propagation of light, propelled her to the forefront of the scientific community.\n",
            "\n",
            "Despite facing prejudice and skepticism from her male colleagues, Hawthorne remained undeterred in her pursuit of knowledge. Through meticulous experimentation and theoretical analysis, she developed a comprehensive framework for understanding the behavior of ether and its interactions with matter. Her seminal work laid the foundation for subsequent advancements in theoretical physics and paved the way for Albert Einstein's theory of relativity.\n",
            "\n",
            "In addition to her contributions to theoretical physics, Hawthorne was also a passionate advocate for women's rights and education. She championed equal opportunities for women in academia and tirelessly campaigned for the inclusion of female scientists in professional societies.\n",
            "\n",
            "Throughout her illustrious career, Hawthorne received numerous accolades and honors for her groundbreaking contributions to the field of physics. Her legacy continues to inspire future generations of scientists to push the boundaries of human knowledge and challenge conventional wisdom in the pursuit of truth.\n",
            "\n"
          ]
        }
      ],
      "source": [
        "# Please generate a made-up biography of an 1800s physicist.\n",
        "\n",
        "bio = \"\"\"Dr. Evelyn Hawthorne (1835-1901) was a renowned physicist and pioneer of ether theory during the 19th century. Born into a family of intellectuals in the countryside of England, Hawthorne displayed an insatiable curiosity for the natural world from a young age. Her early fascination with the workings of the universe led her to pursue a career in science, a field typically dominated by men during her time.\n",
        "\n",
        "After receiving a comprehensive education in mathematics and natural philosophy at Oxford University, Hawthorne embarked on a journey of scientific exploration that would redefine the understanding of fundamental physical principles. Her groundbreaking research into the properties of ether, a hypothetical substance believed to permeate all of space and serve as the medium for the propagation of light, propelled her to the forefront of the scientific community.\n",
        "\n",
        "Despite facing prejudice and skepticism from her male colleagues, Hawthorne remained undeterred in her pursuit of knowledge. Through meticulous experimentation and theoretical analysis, she developed a comprehensive framework for understanding the behavior of ether and its interactions with matter. Her seminal work laid the foundation for subsequent advancements in theoretical physics and paved the way for Albert Einstein's theory of relativity.\n",
        "\n",
        "In addition to her contributions to theoretical physics, Hawthorne was also a passionate advocate for women's rights and education. She championed equal opportunities for women in academia and tirelessly campaigned for the inclusion of female scientists in professional societies.\n",
        "\n",
        "Throughout her illustrious career, Hawthorne received numerous accolades and honors for her groundbreaking contributions to the field of physics. Her legacy continues to inspire future generations of scientists to push the boundaries of human knowledge and challenge conventional wisdom in the pursuit of truth.\n",
        "\"\"\"\n",
        "print(bio)"
      ]
    },
    {
      "cell_type": "code",
      "execution_count": 3,
      "id": "41a3f599",
      "metadata": {},
      "outputs": [],
      "source": [
        "system_prompt = \"\"\"You are a helpful assistant that answers \\\n",
        "questions truthfully and factually. Your answers should be \\\n",
        "short and concise. If you don't know the answer, say so.\n",
        "\"\"\""
      ]
    },
    {
      "cell_type": "code",
      "execution_count": 4,
      "id": "2095aedd",
      "metadata": {},
      "outputs": [],
      "source": [
        "def complete(user_prompt):\n",
        "    completion = openai.chat.completions.create(\n",
        "        model='gpt-3.5-turbo',\n",
        "        messages=[\n",
        "            {\"role\": \"system\", \"content\": system_prompt},\n",
        "            {\"role\": \"user\", \"content\": user_prompt},\n",
        "        ],\n",
        "        temperature=0,\n",
        "        max_tokens=100,\n",
        "    )\n",
        "    return completion"
      ]
    },
    {
      "cell_type": "code",
      "execution_count": 5,
      "id": "1f3570a6",
      "metadata": {},
      "outputs": [],
      "source": [
        "def answer(question, context):\n",
        "    prompt = f\"\"\"Please answer the following question:\n",
        "    \n",
        "    Question:\n",
        "    \n",
        "    ```{question}```\n",
        "    \n",
        "    Use the following context to find the answer:\n",
        "    \n",
        "    ```{context}```\n",
        "    \"\"\"\n",
        "    \n",
        "    completion = complete(prompt)\n",
        "    content = completion.choices[0].message.content\n",
        "    print(content)"
      ]
    },
    {
      "cell_type": "code",
      "execution_count": 7,
      "id": "d5fd7085",
      "metadata": {},
      "outputs": [
        {
          "name": "stdout",
          "output_type": "stream",
          "text": [
            "Dr. Evelyn Hawthorne was born in 1835.\n"
          ]
        }
      ],
      "source": [
        "q = \"When was Dr. Evelyn Hawthorne born?\"\n",
        "answer(q, bio)"
      ]
    },
    {
      "cell_type": "code",
      "execution_count": 8,
      "id": "1ed6b72a",
      "metadata": {},
      "outputs": [
        {
          "name": "stdout",
          "output_type": "stream",
          "text": [
            "I'm sorry, but the provided context does not mention Dr. Evelyn Hawthorne's height.\n"
          ]
        }
      ],
      "source": [
        "q = \"How tall was Dr. Evelyn Hawthorne?\"\n",
        "answer(q, bio)"
      ]
    },
    {
      "cell_type": "code",
      "execution_count": 9,
      "id": "22f3f0e4",
      "metadata": {},
      "outputs": [
        {
          "name": "stdout",
          "output_type": "stream",
          "text": [
            "Dr. Evelyn Hawthorne's field of study was physics.\n"
          ]
        }
      ],
      "source": [
        "q = \"What was Dr. Evelyn Hawthorne's field of study?\"\n",
        "answer(q, bio)"
      ]
    },
    {
      "cell_type": "code",
      "execution_count": 10,
      "id": "88ee4d16",
      "metadata": {},
      "outputs": [
        {
          "name": "stdout",
          "output_type": "stream",
          "text": [
            "Dr. Evelyn Hawthorne's work on ether theory inspired advancements in theoretical physics and paved the way for Albert Einstein's theory of relativity.\n"
          ]
        }
      ],
      "source": [
        "q = \"What later discoveries did Dr. Evelyn Hawthorne inspire?\"\n",
        "answer(q, bio)"
      ]
    },
    {
      "cell_type": "code",
      "execution_count": 11,
      "id": "d0b79b43",
      "metadata": {},
      "outputs": [],
      "source": [
        "q = \"How many courses does the Lazy Programmer have?\"\n",
        "completion = complete(q)"
      ]
    },
    {
      "cell_type": "code",
      "execution_count": 12,
      "id": "0d01eaae",
      "metadata": {},
      "outputs": [],
      "source": [
        "def print_response(completion):\n",
        "    content = completion.choices[0].message.content\n",
        "    print(content)"
      ]
    },
    {
      "cell_type": "code",
      "execution_count": 13,
      "id": "f0c2041c",
      "metadata": {},
      "outputs": [
        {
          "name": "stdout",
          "output_type": "stream",
          "text": [
            "The Lazy Programmer has over 20 courses.\n"
          ]
        }
      ],
      "source": [
        "print_response(completion)"
      ]
    },
    {
      "cell_type": "code",
      "execution_count": 14,
      "id": "e0f0e3be",
      "metadata": {},
      "outputs": [
        {
          "name": "stdout",
          "output_type": "stream",
          "text": [
            "The Lazy Programmer teaches courses on data science and machine learning.\n"
          ]
        }
      ],
      "source": [
        "q = \"What subject does the Lazy Programmer teach?\"\n",
        "completion = complete(q)\n",
        "print_response(completion)"
      ]
    },
    {
      "cell_type": "code",
      "execution_count": null,
      "id": "034cc20d",
      "metadata": {},
      "outputs": [],
      "source": []
    },
    {
      "cell_type": "code",
      "execution_count": null,
      "metadata": {
        "id": "S0acXBWCxiJL"
      },
      "outputs": [],
      "source": []
    },
    {
      "cell_type": "code",
      "execution_count": null,
      "metadata": {
        "id": "oaG3igwFxiQU"
      },
      "outputs": [],
      "source": []
    },
    {
      "cell_type": "code",
      "execution_count": null,
      "metadata": {
        "id": "PzQJleyoxiWi"
      },
      "outputs": [],
      "source": []
    },
    {
      "cell_type": "markdown",
      "metadata": {
        "id": "PFJd4PmsxjKb"
      },
      "source": [
        "![](https://deeplearningcourses.com/notebooks_v3_pxl?sc=AVRK7SgM9ASkQf5TAqs_wA&n=QA)"
      ]
    }
  ],
  "metadata": {
    "kernelspec": {
      "display_name": "Python 3 (ipykernel)",
      "language": "python",
      "name": "python3"
    },
    "language_info": {
      "codemirror_mode": {
        "name": "ipython",
        "version": 3
      },
      "file_extension": ".py",
      "mimetype": "text/x-python",
      "name": "python",
      "nbconvert_exporter": "python",
      "pygments_lexer": "ipython3",
      "version": "3.10.12"
    },
    "sc": "AVRK7SgM9ASkQf5TAqs_wA"
  },
  "nbformat": 4,
  "nbformat_minor": 5
}
