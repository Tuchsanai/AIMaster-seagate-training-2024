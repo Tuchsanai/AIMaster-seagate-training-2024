{
  "cells": [
    {
      "cell_type": "markdown",
      "metadata": {
        "id": "7RYizu8yd77n"
      },
      "source": [
        "\n",
        "<div style=\"width: 100%; text-align: center; padding: 20px;\">\n",
        "  <img align=\"middle\" src=\"https://eu-images.contentstack.com/v3/assets/blt6b0f74e5591baa03/blt298706ad7dc6401a/6622200b5b7e30e5ebbea827/News_Image_(19).jpg?width=850&auto=webp&quality=95&format=jpg&disable=upscale\" alt=\"Llama 3 demonstration\" width=\"700px\">\n",
        "</div>\n"
      ]
    },
    {
      "cell_type": "markdown",
      "metadata": {
        "id": "kaObGnXkd77o"
      },
      "source": [
        "<a id = \"testing\"></a>\n",
        "# Using LLAMA-3 8b-chat-hf for  Generation: Examples and Implementation"
      ]
    },
    {
      "cell_type": "markdown",
      "source": [
        "https://huggingface.co/meta-llama/Meta-Llama-3-8B"
      ],
      "metadata": {
        "id": "ioCRG7KZwwO-"
      }
    },
    {
      "cell_type": "markdown",
      "source": [
        "```\n",
        "import transformers\n",
        "import torch\n",
        "\n",
        "model_id = \"meta-llama/Meta-Llama-3-8B\"\n",
        "\n",
        "pipeline = transformers.pipeline(\"text-generation\", model=model_id, model_kwargs={\"torch_dtype\": torch.bfloat16}, device_map=\"auto\")\n",
        "\n",
        "pipeline(\"Hey how are you doing today?\")\n",
        "\n",
        "\n",
        "```"
      ],
      "metadata": {
        "id": "eM_yITMss2sv"
      }
    },
    {
      "cell_type": "code",
      "source": [
        "import os\n",
        "os.environ['HF_TOKEN'] =\"your_hugging_face_token_here\""
      ],
      "metadata": {
        "id": "NR_ZQAZ3v5C4"
      },
      "execution_count": 1,
      "outputs": []
    },
    {
      "cell_type": "code",
      "execution_count": 2,
      "metadata": {
        "colab": {
          "base_uri": "https://localhost:8080/"
        },
        "id": "rFnZn6r4eMon",
        "outputId": "1e4f4807-2a13-42ba-faae-c8cda17908bc"
      },
      "outputs": [
        {
          "output_type": "stream",
          "name": "stdout",
          "text": [
            "Notebook cleaned.\n"
          ]
        }
      ],
      "source": [
        "import IPython\n",
        "import sys\n",
        "\n",
        "def clean_notebook():\n",
        "    IPython.display.clear_output(wait=True)\n",
        "    print(\"Notebook cleaned.\")\n",
        "\n",
        "# Run the installation commands\n",
        "if 'google.colab' in sys.modules:\n",
        "    print(\"Running in Google Colab\")\n",
        "    !pip install bitsandbytes accelerate\n",
        "    !pip install gradio\n",
        "else:\n",
        "    print(\"Not running in Google Colab\")\n",
        "    !pip install transformers accelerate datasets bitsandbytes\n",
        "    !pip install gradio\n",
        "\n",
        "# Clean up the notebook\n",
        "clean_notebook()\n",
        "\n"
      ]
    },
    {
      "cell_type": "markdown",
      "metadata": {
        "id": "WNOcmtK3evzM"
      },
      "source": [
        "**Quantisation Configuration**"
      ]
    },
    {
      "cell_type": "code",
      "execution_count": 4,
      "metadata": {
        "id": "aOwjbQcHek-S",
        "colab": {
          "base_uri": "https://localhost:8080/",
          "height": 535,
          "referenced_widgets": [
            "d7bf34f5f3a3449aaa3bbd5855b5e20e",
            "1e3a5f6ef0c344e199719902af6af5f3",
            "9a940037d19d48d5bcaa9864ac8757b6",
            "c70f153dddfc4fdf93f30a71b8b19844",
            "c7ca2a1abdaf4d4ab8c7766efcc73443",
            "7afbf200480643309b5fc139ab0e4884",
            "f2b213b45f6541dcae39da74aba5f5aa",
            "ea3b027cd17d42c3aebf1b636b0a78da",
            "d154c90b5f3f45419727ec1fc64812fc",
            "14c08aad810b49ea87121e6bbf71bcdf",
            "be7e2e865c4b430098427ce6d53ade59"
          ]
        },
        "outputId": "b21f83dd-2d19-43aa-a6c6-14eaeeb4286d"
      },
      "outputs": [
        {
          "output_type": "stream",
          "name": "stderr",
          "text": [
            "Unused kwargs: ['bnb_8bit_use_double_quant', 'bnb_8bit_quant_type', 'bnb_8bit_compute_dtype']. These kwargs are not used in <class 'transformers.utils.quantization_config.BitsAndBytesConfig'>.\n",
            "Special tokens have been added in the vocabulary, make sure the associated word embeddings are fine-tuned or trained.\n"
          ]
        },
        {
          "output_type": "display_data",
          "data": {
            "text/plain": [
              "Loading checkpoint shards:   0%|          | 0/4 [00:00<?, ?it/s]"
            ],
            "application/vnd.jupyter.widget-view+json": {
              "version_major": 2,
              "version_minor": 0,
              "model_id": "d7bf34f5f3a3449aaa3bbd5855b5e20e"
            }
          },
          "metadata": {}
        },
        {
          "output_type": "execute_result",
          "data": {
            "text/plain": [
              "LlamaForCausalLM(\n",
              "  (model): LlamaModel(\n",
              "    (embed_tokens): Embedding(128256, 4096)\n",
              "    (layers): ModuleList(\n",
              "      (0-31): 32 x LlamaDecoderLayer(\n",
              "        (self_attn): LlamaSdpaAttention(\n",
              "          (q_proj): Linear8bitLt(in_features=4096, out_features=4096, bias=False)\n",
              "          (k_proj): Linear8bitLt(in_features=4096, out_features=1024, bias=False)\n",
              "          (v_proj): Linear8bitLt(in_features=4096, out_features=1024, bias=False)\n",
              "          (o_proj): Linear8bitLt(in_features=4096, out_features=4096, bias=False)\n",
              "          (rotary_emb): LlamaRotaryEmbedding()\n",
              "        )\n",
              "        (mlp): LlamaMLP(\n",
              "          (gate_proj): Linear8bitLt(in_features=4096, out_features=14336, bias=False)\n",
              "          (up_proj): Linear8bitLt(in_features=4096, out_features=14336, bias=False)\n",
              "          (down_proj): Linear8bitLt(in_features=14336, out_features=4096, bias=False)\n",
              "          (act_fn): SiLU()\n",
              "        )\n",
              "        (input_layernorm): LlamaRMSNorm()\n",
              "        (post_attention_layernorm): LlamaRMSNorm()\n",
              "      )\n",
              "    )\n",
              "    (norm): LlamaRMSNorm()\n",
              "  )\n",
              "  (lm_head): Linear(in_features=4096, out_features=128256, bias=False)\n",
              ")"
            ]
          },
          "metadata": {},
          "execution_count": 4
        }
      ],
      "source": [
        "\n",
        "import torch\n",
        "import transformers\n",
        "from transformers import AutoTokenizer, AutoModelForCausalLM, BitsAndBytesConfig,pipeline\n",
        "\n",
        "bnb_config = BitsAndBytesConfig(\n",
        "    load_in_4bit=True,\n",
        "    bnb_4bit_use_double_quant=True,\n",
        "    bnb_4bit_quant_type=\"nf4\",\n",
        "    bnb_4bit_compute_dtype=torch.bfloat16\n",
        ")\n",
        "\n",
        "\n",
        "model_name = \"meta-llama/Meta-Llama-3-8B\"\n",
        "tokenizer = AutoTokenizer.from_pretrained(model_name)\n",
        "tokenizer.pad_token = tokenizer.eos_token\n",
        "\n",
        "model = AutoModelForCausalLM.from_pretrained(model_name,device_map=\"auto\",quantization_config=bnb_config)\n",
        "\n",
        "model"
      ]
    },
    {
      "cell_type": "code",
      "execution_count": 5,
      "metadata": {
        "execution": {
          "iopub.execute_input": "2024-04-21T08:09:27.941986Z",
          "iopub.status.busy": "2024-04-21T08:09:27.940947Z",
          "iopub.status.idle": "2024-04-21T08:11:18.746654Z",
          "shell.execute_reply": "2024-04-21T08:11:18.745863Z",
          "shell.execute_reply.started": "2024-04-21T08:09:27.941944Z"
        },
        "id": "Uv3yGdNDd77p",
        "trusted": true
      },
      "outputs": [],
      "source": [
        "\n",
        "\n",
        "pipeline =transformers.pipeline(\n",
        "    \"text-generation\",\n",
        "    model=model,\n",
        "    torch_dtype=torch.float16,\n",
        "    device_map=\"auto\",\n",
        "    tokenizer=tokenizer,\n",
        "    max_length=256,\n",
        ")\n",
        "\n",
        "\n",
        "def generate_answer(question, temperature):\n",
        "    try:\n",
        "        prompt = f'''\n",
        "        You are an AI content writer.\n",
        "        Generate a well structured 256 words blog for the given topics below:\n",
        "        Topics: {question}\n",
        "        Answer:\n",
        "        '''\n",
        "\n",
        "        sequences = pipeline(\n",
        "            prompt,\n",
        "            do_sample=True,\n",
        "            top_k=10,\n",
        "            temperature=temperature,\n",
        "            num_return_sequences=1,\n",
        "            eos_token_id=pipeline.tokenizer.eos_token_id,\n",
        "\n",
        "        )\n",
        "        answer = sequences[0]['generated_text'][len(prompt):].strip()\n",
        "\n",
        "        return answer\n",
        "\n",
        "    except Exception as e:\n",
        "        print(\"Error generating answer:\", e)\n",
        "        return None"
      ]
    },
    {
      "cell_type": "code",
      "execution_count": 6,
      "metadata": {
        "colab": {
          "base_uri": "https://localhost:8080/"
        },
        "id": "WCqIG5xnvU4N",
        "outputId": "72f4f3c9-b1e8-43db-f682-1e676f03af15"
      },
      "outputs": [
        {
          "output_type": "stream",
          "name": "stderr",
          "text": [
            "Truncation was not explicitly activated but `max_length` is provided a specific value, please use `truncation=True` to explicitly truncate examples to max length. Defaulting to 'longest_first' truncation strategy. If you encode pairs of sequences (GLUE-style) with the tokenizer you can select this strategy more precisely by providing a specific strategy to `truncation`.\n"
          ]
        },
        {
          "output_type": "stream",
          "name": "stdout",
          "text": [
            "Generated answer: - Step 1: Prepare the ingredients: Chicken, Rice, Eggs, Fish Sauce, and Oyster Sauce\n",
            "         - Step 2: Cook the chicken: Preheat the oven to 400°F (204°C) and place the chicken on a baking sheet. Cook for 30 minutes.\n",
            "         - Step 3: Make the rice: In a pot, bring 1 cup of water to a boil and add the rice. Cook for 10 minutes.\n",
            "         - Step 4: Make the egg: Crack an egg into a bowl and beat it until it is foamy. Pour it into a pan and cook it over medium heat.\n",
            "         - Step 5: Make the fish sauce: In a bowl, mix together 1 tablespoon of fish sauce, 1 tablespoon of sugar, and 1 tablespoon of water. Set aside.\n",
            "         - Step 6: Assemble the dish: Place the chicken, rice, and egg on a plate. Drizzle the fish sauce over the chicken and serve.\n",
            "    \"\"\"\n",
            "\n",
            "    def __init__(self\n"
          ]
        }
      ],
      "source": [
        "%%time\n",
        "\n",
        "question = \"วิธีทำข้าวมันไก่\"\n",
        "\n",
        "answer = generate_answer(question, temperature= 0.9)\n",
        "if answer:\n",
        "    print(\"Generated answer:\", answer)\n",
        "else:\n",
        "    print(\"Failed to generate an answer.\")"
      ]
    },
    {
      "cell_type": "code",
      "execution_count": null,
      "metadata": {
        "execution": {
          "iopub.execute_input": "2024-04-21T08:11:18.748436Z",
          "iopub.status.busy": "2024-04-21T08:11:18.747868Z",
          "iopub.status.idle": "2024-04-21T08:11:36.033867Z",
          "shell.execute_reply": "2024-04-21T08:11:36.032785Z",
          "shell.execute_reply.started": "2024-04-21T08:11:18.748408Z"
        },
        "id": "JdASGArKd77p",
        "trusted": true
      },
      "outputs": [],
      "source": [
        "question = \"plastic pollution in our oceans\"\n",
        "\n",
        "answer = generate_answer( question, temperature= 0.85)\n",
        "if answer:\n",
        "    print(\"Generated answer:\", answer)\n",
        "else:\n",
        "    print(\"Failed to generate an answer.\")"
      ]
    },
    {
      "cell_type": "code",
      "execution_count": null,
      "metadata": {
        "execution": {
          "iopub.execute_input": "2024-04-21T08:11:36.036306Z",
          "iopub.status.busy": "2024-04-21T08:11:36.036Z",
          "iopub.status.idle": "2024-04-21T08:11:51.025864Z",
          "shell.execute_reply": "2024-04-21T08:11:51.02486Z",
          "shell.execute_reply.started": "2024-04-21T08:11:36.036279Z"
        },
        "id": "M4tpnrpBd77p",
        "trusted": true
      },
      "outputs": [],
      "source": [
        "question = \"importance of technology in education.\"\n",
        "answer = generate_answer(question, temperature= 0.7)\n",
        "if answer:\n",
        "    print(\"Generated answer:\", answer)\n",
        "else:\n",
        "    print(\"Failed to generate an answer.\")"
      ]
    },
    {
      "cell_type": "markdown",
      "metadata": {
        "id": "jlzvl5N_vU4O"
      },
      "source": [
        "# Run Gradio"
      ]
    },
    {
      "cell_type": "code",
      "execution_count": 7,
      "metadata": {
        "colab": {
          "base_uri": "https://localhost:8080/",
          "height": 591
        },
        "id": "q_mvHtJhvU4O",
        "outputId": "b60259e6-16de-46e6-849a-e5eac332e4e4"
      },
      "outputs": [
        {
          "output_type": "stream",
          "name": "stdout",
          "text": [
            "Colab notebook detected. To show errors in colab notebook, set debug=True in launch()\n",
            "Running on public URL: https://22c639122f1d144cc6.gradio.live\n",
            "\n",
            "This share link expires in 72 hours. For free permanent hosting and GPU upgrades, run `gradio deploy` from Terminal to deploy to Spaces (https://huggingface.co/spaces)\n"
          ]
        },
        {
          "output_type": "display_data",
          "data": {
            "text/plain": [
              "<IPython.core.display.HTML object>"
            ],
            "text/html": [
              "<div><iframe src=\"https://22c639122f1d144cc6.gradio.live\" width=\"100%\" height=\"500\" allow=\"autoplay; camera; microphone; clipboard-read; clipboard-write;\" frameborder=\"0\" allowfullscreen></iframe></div>"
            ]
          },
          "metadata": {}
        },
        {
          "output_type": "execute_result",
          "data": {
            "text/plain": []
          },
          "metadata": {},
          "execution_count": 7
        }
      ],
      "source": [
        "import gradio as gr\n",
        "\n",
        "iface = gr.Interface(\n",
        "    fn=generate_answer,\n",
        "    inputs=[\n",
        "        gr.Textbox(label=\"Question\", placeholder=\"Enter your question here\"),\n",
        "        gr.Slider(minimum=0.25, maximum=1.0, step=0.05, value=0.85, label=\"Temperature\"),\n",
        "    ],\n",
        "    outputs=\"text\",\n",
        "    title=\"AI Content Writer\",\n",
        "    description=\"Generate a well-structured 200-word blog post for the given topic.\",\n",
        "    examples=[\n",
        "        [\"How to change the world\"],\n",
        "        [\"วิธีทำข้าวมันไก่ให้อร่อย\"],['How to Make Delicious Hainanese Chicken Rice'],\n",
        "        [\"The future of artificial intelligence\"],\n",
        "    ],\n",
        ")\n",
        "\n",
        "iface.launch(share=True)"
      ]
    },
    {
      "cell_type": "code",
      "source": [],
      "metadata": {
        "id": "KhmMMl44pCEl"
      },
      "execution_count": null,
      "outputs": []
    }
  ],
  "metadata": {
    "accelerator": "GPU",
    "colab": {
      "gpuType": "A100",
      "name": "AI-Generated Content and Code with LLAMA-3",
      "provenance": []
    },
    "kaggle": {
      "accelerator": "nvidiaTeslaT4",
      "dataSources": [
        {
          "isSourceIdPinned": true,
          "modelInstanceId": 28083,
          "sourceId": 33551,
          "sourceType": "modelInstanceVersion"
        }
      ],
      "dockerImageVersionId": 30699,
      "isGpuEnabled": true,
      "isInternetEnabled": true,
      "language": "python",
      "sourceType": "notebook"
    },
    "kernelspec": {
      "display_name": "Python 3",
      "name": "python3"
    },
    "language_info": {
      "codemirror_mode": {
        "name": "ipython",
        "version": 3
      },
      "file_extension": ".py",
      "mimetype": "text/x-python",
      "name": "python",
      "nbconvert_exporter": "python",
      "pygments_lexer": "ipython3",
      "version": "3.10.13"
    },
    "widgets": {
      "application/vnd.jupyter.widget-state+json": {
        "d7bf34f5f3a3449aaa3bbd5855b5e20e": {
          "model_module": "@jupyter-widgets/controls",
          "model_name": "HBoxModel",
          "model_module_version": "1.5.0",
          "state": {
            "_dom_classes": [],
            "_model_module": "@jupyter-widgets/controls",
            "_model_module_version": "1.5.0",
            "_model_name": "HBoxModel",
            "_view_count": null,
            "_view_module": "@jupyter-widgets/controls",
            "_view_module_version": "1.5.0",
            "_view_name": "HBoxView",
            "box_style": "",
            "children": [
              "IPY_MODEL_1e3a5f6ef0c344e199719902af6af5f3",
              "IPY_MODEL_9a940037d19d48d5bcaa9864ac8757b6",
              "IPY_MODEL_c70f153dddfc4fdf93f30a71b8b19844"
            ],
            "layout": "IPY_MODEL_c7ca2a1abdaf4d4ab8c7766efcc73443"
          }
        },
        "1e3a5f6ef0c344e199719902af6af5f3": {
          "model_module": "@jupyter-widgets/controls",
          "model_name": "HTMLModel",
          "model_module_version": "1.5.0",
          "state": {
            "_dom_classes": [],
            "_model_module": "@jupyter-widgets/controls",
            "_model_module_version": "1.5.0",
            "_model_name": "HTMLModel",
            "_view_count": null,
            "_view_module": "@jupyter-widgets/controls",
            "_view_module_version": "1.5.0",
            "_view_name": "HTMLView",
            "description": "",
            "description_tooltip": null,
            "layout": "IPY_MODEL_7afbf200480643309b5fc139ab0e4884",
            "placeholder": "​",
            "style": "IPY_MODEL_f2b213b45f6541dcae39da74aba5f5aa",
            "value": "Loading checkpoint shards: 100%"
          }
        },
        "9a940037d19d48d5bcaa9864ac8757b6": {
          "model_module": "@jupyter-widgets/controls",
          "model_name": "FloatProgressModel",
          "model_module_version": "1.5.0",
          "state": {
            "_dom_classes": [],
            "_model_module": "@jupyter-widgets/controls",
            "_model_module_version": "1.5.0",
            "_model_name": "FloatProgressModel",
            "_view_count": null,
            "_view_module": "@jupyter-widgets/controls",
            "_view_module_version": "1.5.0",
            "_view_name": "ProgressView",
            "bar_style": "success",
            "description": "",
            "description_tooltip": null,
            "layout": "IPY_MODEL_ea3b027cd17d42c3aebf1b636b0a78da",
            "max": 4,
            "min": 0,
            "orientation": "horizontal",
            "style": "IPY_MODEL_d154c90b5f3f45419727ec1fc64812fc",
            "value": 4
          }
        },
        "c70f153dddfc4fdf93f30a71b8b19844": {
          "model_module": "@jupyter-widgets/controls",
          "model_name": "HTMLModel",
          "model_module_version": "1.5.0",
          "state": {
            "_dom_classes": [],
            "_model_module": "@jupyter-widgets/controls",
            "_model_module_version": "1.5.0",
            "_model_name": "HTMLModel",
            "_view_count": null,
            "_view_module": "@jupyter-widgets/controls",
            "_view_module_version": "1.5.0",
            "_view_name": "HTMLView",
            "description": "",
            "description_tooltip": null,
            "layout": "IPY_MODEL_14c08aad810b49ea87121e6bbf71bcdf",
            "placeholder": "​",
            "style": "IPY_MODEL_be7e2e865c4b430098427ce6d53ade59",
            "value": " 4/4 [00:09&lt;00:00,  2.06s/it]"
          }
        },
        "c7ca2a1abdaf4d4ab8c7766efcc73443": {
          "model_module": "@jupyter-widgets/base",
          "model_name": "LayoutModel",
          "model_module_version": "1.2.0",
          "state": {
            "_model_module": "@jupyter-widgets/base",
            "_model_module_version": "1.2.0",
            "_model_name": "LayoutModel",
            "_view_count": null,
            "_view_module": "@jupyter-widgets/base",
            "_view_module_version": "1.2.0",
            "_view_name": "LayoutView",
            "align_content": null,
            "align_items": null,
            "align_self": null,
            "border": null,
            "bottom": null,
            "display": null,
            "flex": null,
            "flex_flow": null,
            "grid_area": null,
            "grid_auto_columns": null,
            "grid_auto_flow": null,
            "grid_auto_rows": null,
            "grid_column": null,
            "grid_gap": null,
            "grid_row": null,
            "grid_template_areas": null,
            "grid_template_columns": null,
            "grid_template_rows": null,
            "height": null,
            "justify_content": null,
            "justify_items": null,
            "left": null,
            "margin": null,
            "max_height": null,
            "max_width": null,
            "min_height": null,
            "min_width": null,
            "object_fit": null,
            "object_position": null,
            "order": null,
            "overflow": null,
            "overflow_x": null,
            "overflow_y": null,
            "padding": null,
            "right": null,
            "top": null,
            "visibility": null,
            "width": null
          }
        },
        "7afbf200480643309b5fc139ab0e4884": {
          "model_module": "@jupyter-widgets/base",
          "model_name": "LayoutModel",
          "model_module_version": "1.2.0",
          "state": {
            "_model_module": "@jupyter-widgets/base",
            "_model_module_version": "1.2.0",
            "_model_name": "LayoutModel",
            "_view_count": null,
            "_view_module": "@jupyter-widgets/base",
            "_view_module_version": "1.2.0",
            "_view_name": "LayoutView",
            "align_content": null,
            "align_items": null,
            "align_self": null,
            "border": null,
            "bottom": null,
            "display": null,
            "flex": null,
            "flex_flow": null,
            "grid_area": null,
            "grid_auto_columns": null,
            "grid_auto_flow": null,
            "grid_auto_rows": null,
            "grid_column": null,
            "grid_gap": null,
            "grid_row": null,
            "grid_template_areas": null,
            "grid_template_columns": null,
            "grid_template_rows": null,
            "height": null,
            "justify_content": null,
            "justify_items": null,
            "left": null,
            "margin": null,
            "max_height": null,
            "max_width": null,
            "min_height": null,
            "min_width": null,
            "object_fit": null,
            "object_position": null,
            "order": null,
            "overflow": null,
            "overflow_x": null,
            "overflow_y": null,
            "padding": null,
            "right": null,
            "top": null,
            "visibility": null,
            "width": null
          }
        },
        "f2b213b45f6541dcae39da74aba5f5aa": {
          "model_module": "@jupyter-widgets/controls",
          "model_name": "DescriptionStyleModel",
          "model_module_version": "1.5.0",
          "state": {
            "_model_module": "@jupyter-widgets/controls",
            "_model_module_version": "1.5.0",
            "_model_name": "DescriptionStyleModel",
            "_view_count": null,
            "_view_module": "@jupyter-widgets/base",
            "_view_module_version": "1.2.0",
            "_view_name": "StyleView",
            "description_width": ""
          }
        },
        "ea3b027cd17d42c3aebf1b636b0a78da": {
          "model_module": "@jupyter-widgets/base",
          "model_name": "LayoutModel",
          "model_module_version": "1.2.0",
          "state": {
            "_model_module": "@jupyter-widgets/base",
            "_model_module_version": "1.2.0",
            "_model_name": "LayoutModel",
            "_view_count": null,
            "_view_module": "@jupyter-widgets/base",
            "_view_module_version": "1.2.0",
            "_view_name": "LayoutView",
            "align_content": null,
            "align_items": null,
            "align_self": null,
            "border": null,
            "bottom": null,
            "display": null,
            "flex": null,
            "flex_flow": null,
            "grid_area": null,
            "grid_auto_columns": null,
            "grid_auto_flow": null,
            "grid_auto_rows": null,
            "grid_column": null,
            "grid_gap": null,
            "grid_row": null,
            "grid_template_areas": null,
            "grid_template_columns": null,
            "grid_template_rows": null,
            "height": null,
            "justify_content": null,
            "justify_items": null,
            "left": null,
            "margin": null,
            "max_height": null,
            "max_width": null,
            "min_height": null,
            "min_width": null,
            "object_fit": null,
            "object_position": null,
            "order": null,
            "overflow": null,
            "overflow_x": null,
            "overflow_y": null,
            "padding": null,
            "right": null,
            "top": null,
            "visibility": null,
            "width": null
          }
        },
        "d154c90b5f3f45419727ec1fc64812fc": {
          "model_module": "@jupyter-widgets/controls",
          "model_name": "ProgressStyleModel",
          "model_module_version": "1.5.0",
          "state": {
            "_model_module": "@jupyter-widgets/controls",
            "_model_module_version": "1.5.0",
            "_model_name": "ProgressStyleModel",
            "_view_count": null,
            "_view_module": "@jupyter-widgets/base",
            "_view_module_version": "1.2.0",
            "_view_name": "StyleView",
            "bar_color": null,
            "description_width": ""
          }
        },
        "14c08aad810b49ea87121e6bbf71bcdf": {
          "model_module": "@jupyter-widgets/base",
          "model_name": "LayoutModel",
          "model_module_version": "1.2.0",
          "state": {
            "_model_module": "@jupyter-widgets/base",
            "_model_module_version": "1.2.0",
            "_model_name": "LayoutModel",
            "_view_count": null,
            "_view_module": "@jupyter-widgets/base",
            "_view_module_version": "1.2.0",
            "_view_name": "LayoutView",
            "align_content": null,
            "align_items": null,
            "align_self": null,
            "border": null,
            "bottom": null,
            "display": null,
            "flex": null,
            "flex_flow": null,
            "grid_area": null,
            "grid_auto_columns": null,
            "grid_auto_flow": null,
            "grid_auto_rows": null,
            "grid_column": null,
            "grid_gap": null,
            "grid_row": null,
            "grid_template_areas": null,
            "grid_template_columns": null,
            "grid_template_rows": null,
            "height": null,
            "justify_content": null,
            "justify_items": null,
            "left": null,
            "margin": null,
            "max_height": null,
            "max_width": null,
            "min_height": null,
            "min_width": null,
            "object_fit": null,
            "object_position": null,
            "order": null,
            "overflow": null,
            "overflow_x": null,
            "overflow_y": null,
            "padding": null,
            "right": null,
            "top": null,
            "visibility": null,
            "width": null
          }
        },
        "be7e2e865c4b430098427ce6d53ade59": {
          "model_module": "@jupyter-widgets/controls",
          "model_name": "DescriptionStyleModel",
          "model_module_version": "1.5.0",
          "state": {
            "_model_module": "@jupyter-widgets/controls",
            "_model_module_version": "1.5.0",
            "_model_name": "DescriptionStyleModel",
            "_view_count": null,
            "_view_module": "@jupyter-widgets/base",
            "_view_module_version": "1.2.0",
            "_view_name": "StyleView",
            "description_width": ""
          }
        }
      }
    }
  },
  "nbformat": 4,
  "nbformat_minor": 0
}