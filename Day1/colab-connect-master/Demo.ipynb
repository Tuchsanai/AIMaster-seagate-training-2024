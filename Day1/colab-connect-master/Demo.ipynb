{
  "nbformat": 4,
  "nbformat_minor": 0,
  "metadata": {
    "colab": {
      "provenance": [],
      "gpuType": "T4",
      "authorship_tag": "ABX9TyNLcF9RWY0WU9AJ8CdMTwMT",
      "include_colab_link": true
    },
    "kernelspec": {
      "name": "python3",
      "display_name": "Python 3"
    },
    "language_info": {
      "name": "python"
    },
    "accelerator": "GPU"
  },
  "cells": [
    {
      "cell_type": "markdown",
      "metadata": {
        "id": "view-in-github",
        "colab_type": "text"
      },
      "source": [
        "<a href=\"https://colab.research.google.com/github/Tuchsanai/colab-connect/blob/master/Demo.ipynb\" target=\"_parent\"><img src=\"https://colab.research.google.com/assets/colab-badge.svg\" alt=\"Open In Colab\"/></a>"
      ]
    },
    {
      "cell_type": "code",
      "execution_count": 1,
      "metadata": {
        "colab": {
          "base_uri": "https://localhost:8080/"
        },
        "id": "_drNQho_IBzk",
        "outputId": "837d96a3-663b-415b-c098-b366e7981dd1"
      },
      "outputs": [
        {
          "output_type": "stream",
          "name": "stdout",
          "text": [
            "Collecting git+https://github.com/Tuchsanai/colab-connect.git\n",
            "  Cloning https://github.com/Tuchsanai/colab-connect.git to /tmp/pip-req-build-v6r0qfyw\n",
            "  Running command git clone --filter=blob:none --quiet https://github.com/Tuchsanai/colab-connect.git /tmp/pip-req-build-v6r0qfyw\n",
            "  Resolved https://github.com/Tuchsanai/colab-connect.git to commit f396acff45cefe29a32f879a0d825258a81bf905\n",
            "  Preparing metadata (setup.py) ... \u001b[?25l\u001b[?25hdone\n",
            "Building wheels for collected packages: colabconnect\n",
            "  Building wheel for colabconnect (setup.py) ... \u001b[?25l\u001b[?25hdone\n",
            "  Created wheel for colabconnect: filename=colabconnect-0.0.0-py3-none-any.whl size=3260 sha256=5497dbc26cd156e3834366bc7ff10b9a06097b98fa4b382bfa64d5cc8513cd4f\n",
            "  Stored in directory: /tmp/pip-ephem-wheel-cache-3cqnduzr/wheels/93/40/e0/b91e6af0fb855d06dd594ce161e20708d467ad2cb0758a713a\n",
            "Successfully built colabconnect\n",
            "Installing collected packages: colabconnect\n",
            "Successfully installed colabconnect-0.0.0\n"
          ]
        }
      ],
      "source": [
        "!pip install -U git+https://github.com/Tuchsanai/colab-connect.git"
      ]
    },
    {
      "cell_type": "code",
      "source": [
        "from colabconnect import colabconnect\n",
        "\n",
        "colabconnect()"
      ],
      "metadata": {
        "colab": {
          "base_uri": "https://localhost:8080/"
        },
        "id": "BkxwA4cHICua",
        "outputId": "7ccd8f40-2aad-43b3-85d8-abf06b924831"
      },
      "execution_count": null,
      "outputs": [
        {
          "output_type": "stream",
          "name": "stdout",
          "text": [
            "Mounting Google Drive...\n",
            "Mounted at /content/drive\n",
            "Ran: ln -s /content/drive/MyDrive/colab/ /\n",
            "Installing python libraries...\n",
            "Ran: pip3 install --user flake8 black ipywidgets twine\n",
            "Ran: pip3 install -U ipykernel\n",
            "Ran: apt install htop -y\n",
            "Installing vscode-cli...\n",
            "Ran: curl -Lk https://code.visualstudio.com/sha/download?build=stable&os=cli-alpine-x64 --output vscode_cli.tar.gz\n",
            "Ran: tar -xf vscode_cli.tar.gz\n",
            "Installing vscode extensions...\n",
            "Starting the tunnel\n",
            "To grant access to the server, please log into https://github.com/login/device and use code 3495-8C07\n",
            "Starting the tunnel\n",
            "- Ready!\n",
            "- Open VSCode on your laptop and open the command prompt\n",
            "- Select: 'Remote-Tunnels: Connect to Tunnel' to connect to colab\n",
            "Logs:\n",
            "\n",
            "[2023-12-28 02:17:56] info [tunnels::connections::relay_tunnel_host] Opened new client on channel 2\n",
            "[2023-12-28 02:17:56] info [russh::server] wrote id\n",
            "[2023-12-28 02:17:57] info [russh::server] read other id\n",
            "[2023-12-28 02:17:57] info [russh::server] session is running\n",
            "[2023-12-28 02:17:58] info [rpc.0] Checking /root/.vscode/cli/servers/Stable-0ee08df0cf4527e40edc9aa28f4b5bd38bbff2b2/log.txt and /root/.vscode/cli/servers/Stable-0ee08df0cf4527e40edc9aa28f4b5bd38bbff2b2/pid.txt for a running server...\n",
            "[2023-12-28 02:17:59] info [rpc.0] Downloading Visual Studio Code server -> /tmp/.tmplPOJer/vscode-server-linux-x64.tar.gz\n",
            "[2023-12-28 02:18:02] info [rpc.0] Starting server...\n",
            "[2023-12-28 02:18:02] info [rpc.0] Server started\n",
            "[2023-12-28 02:18:10] info [tunnels::connections::relay_tunnel_host] Opened new client on channel 3\n",
            "[2023-12-28 02:18:10] info [russh::server] wrote id\n",
            "[2023-12-28 02:18:10] info [russh::server] read other id\n",
            "[2023-12-28 02:18:10] info [russh::server] session is running\n",
            "[2023-12-28 02:18:10] info [tunnels::connections::relay_tunnel_host] Opened new client on channel 4\n",
            "[2023-12-28 02:18:10] info [russh::server] wrote id\n",
            "[2023-12-28 02:18:11] info [russh::server] read other id\n",
            "[2023-12-28 02:18:11] info [russh::server] session is running\n",
            "[2023-12-28 02:20:08] info [rpc.2] Disposed of connection to running server.\n",
            "[2023-12-28 02:20:08] info [rpc.3] Disposed of connection to running server.\n",
            "[2023-12-28 02:20:12] warn [rpc.0] error handling call: NoAttachedServerError(NoAttachedServerError)\n",
            "[2023-12-28 02:20:21] info [tunnels::connections::relay_tunnel_host] Opened new client on channel 5\n",
            "[2023-12-28 02:20:21] info [russh::server] wrote id\n",
            "[2023-12-28 02:20:21] info [tunnels::connections::relay_tunnel_host] Opened new client on channel 6\n",
            "[2023-12-28 02:20:21] info [russh::server] wrote id\n",
            "[2023-12-28 02:20:21] info [russh::server] read other id\n",
            "[2023-12-28 02:20:21] info [russh::server] session is running\n",
            "[2023-12-28 02:20:22] info [russh::server] read other id\n",
            "[2023-12-28 02:20:22] info [russh::server] session is running\n",
            "[2023-12-28 02:21:04] info [rpc.0] Forwarding port 45401\n",
            "[2023-12-28 02:21:47] info [rpc.0] Forwarding port 35837\n"
          ]
        }
      ]
    },
    {
      "cell_type": "code",
      "source": [],
      "metadata": {
        "id": "VcTjm371IRua"
      },
      "execution_count": null,
      "outputs": []
    }
  ]
}