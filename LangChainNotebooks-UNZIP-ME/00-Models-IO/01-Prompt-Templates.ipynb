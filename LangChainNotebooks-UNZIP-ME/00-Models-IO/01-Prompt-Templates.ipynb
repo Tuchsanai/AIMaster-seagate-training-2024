{
 "cells": [
  {
   "cell_type": "markdown",
   "id": "bcded1a6-2430-4707-a78c-c82f4c5ee6fc",
   "metadata": {},
   "source": [
    "<a href = \"https://www.pieriantraining.com\"><img src=\"../PT Centered Purple.png\"> </a>\n",
    "\n",
    "<em style=\"text-align:center\">Copyrighted by Pierian Training</em>"
   ]
  },
  {
   "cell_type": "markdown",
   "id": "b5b99d72-d919-4362-a3e9-14e361f231b4",
   "metadata": {
    "tags": []
   },
   "source": [
    "# Understanding Prompt Templates"
   ]
  },
  {
   "cell_type": "code",
   "execution_count": 18,
   "id": "bdb72664-ce8d-4d88-b003-8a930ff2c2ab",
   "metadata": {},
   "outputs": [
    {
     "name": "stdout",
     "output_type": "stream",
     "text": [
      "\n",
      "\n",
      "Pluto is the largest known dwarf planet in our Solar System and is actually smaller than seven of the moons in our Solar System.\n"
     ]
    }
   ],
   "source": [
    "from langchain.llms import OpenAI\n",
    "llm = OpenAI(openai_api_key=api_key)\n",
    "print(llm('Here is a fun fact about Pluto:'))"
   ]
  },
  {
   "cell_type": "markdown",
   "id": "f579bfe0-103e-430e-bac6-fa9fa50055b5",
   "metadata": {},
   "source": [
    "You can also use generate to get full output with more info:"
   ]
  },
  {
   "cell_type": "code",
   "execution_count": 20,
   "id": "24db968b-ef5a-4a31-bbb9-a08e48cb0a34",
   "metadata": {},
   "outputs": [],
   "source": [
    "# NEEDS TO BE A LIST, EVEN FOR JUST ONE STRING\n",
    "result = llm.generate(['Here is a fun fact about Pluto:',\n",
    "                     'Here is a fun fact about Mars:']\n",
    "                     )"
   ]
  },
  {
   "cell_type": "code",
   "execution_count": 24,
   "id": "b23e6c06-1543-42a5-94e7-dbb6bf8f4c8e",
   "metadata": {},
   "outputs": [
    {
     "data": {
      "text/plain": [
       "{'title': 'LLMResult',\n",
       " 'description': 'Class that contains all results for a batched LLM call.',\n",
       " 'type': 'object',\n",
       " 'properties': {'generations': {'title': 'Generations',\n",
       "   'type': 'array',\n",
       "   'items': {'type': 'array', 'items': {'$ref': '#/definitions/Generation'}}},\n",
       "  'llm_output': {'title': 'Llm Output', 'type': 'object'},\n",
       "  'run': {'title': 'Run',\n",
       "   'type': 'array',\n",
       "   'items': {'$ref': '#/definitions/RunInfo'}}},\n",
       " 'required': ['generations'],\n",
       " 'definitions': {'Generation': {'title': 'Generation',\n",
       "   'description': 'A single text generation output.',\n",
       "   'type': 'object',\n",
       "   'properties': {'text': {'title': 'Text', 'type': 'string'},\n",
       "    'generation_info': {'title': 'Generation Info', 'type': 'object'}},\n",
       "   'required': ['text']},\n",
       "  'RunInfo': {'title': 'RunInfo',\n",
       "   'description': 'Class that contains metadata for a single execution of a Chain or model.',\n",
       "   'type': 'object',\n",
       "   'properties': {'run_id': {'title': 'Run Id',\n",
       "     'type': 'string',\n",
       "     'format': 'uuid'}},\n",
       "   'required': ['run_id']}}}"
      ]
     },
     "execution_count": 24,
     "metadata": {},
     "output_type": "execute_result"
    }
   ],
   "source": [
    "result.schema()"
   ]
  },
  {
   "cell_type": "code",
   "execution_count": null,
   "id": "9f6575b5-3331-4ec6-9281-8f793ab541dc",
   "metadata": {},
   "outputs": [],
   "source": [
    "result"
   ]
  },
  {
   "cell_type": "markdown",
   "id": "38d37ccf-99d2-4aa6-ab73-0bd22e55b7b6",
   "metadata": {
    "tags": []
   },
   "source": [
    "## Language Model Templates\n",
    "\n",
    "### No Input Variables"
   ]
  },
  {
   "cell_type": "code",
   "execution_count": 25,
   "id": "1e34d990-cc7c-47f6-a191-854a575aabca",
   "metadata": {},
   "outputs": [
    {
     "data": {
      "text/plain": [
       "'Tell me a fact'"
      ]
     },
     "execution_count": 25,
     "metadata": {},
     "output_type": "execute_result"
    }
   ],
   "source": [
    "from langchain import PromptTemplate\n",
    "\n",
    "# An example prompt with no input variables\n",
    "no_input_prompt = PromptTemplate(input_variables=[], template=\"Tell me a fact\")\n",
    "no_input_prompt.format()\n",
    "# -> \"Tell me a fact.\""
   ]
  },
  {
   "cell_type": "markdown",
   "id": "be521325-8963-4505-8bf3-83b05e8a796a",
   "metadata": {},
   "source": [
    "### Single Input Variable"
   ]
  },
  {
   "cell_type": "code",
   "execution_count": 26,
   "id": "361467f3-81d3-4553-9a22-1198f44598c0",
   "metadata": {},
   "outputs": [
    {
     "data": {
      "text/plain": [
       "'Tell me a fact about Mars.'"
      ]
     },
     "execution_count": 26,
     "metadata": {},
     "output_type": "execute_result"
    }
   ],
   "source": [
    "# An example prompt with one input variable\n",
    "one_input_prompt = PromptTemplate(input_variables=[\"topic\"], template=\"Tell me a fact about {topic}.\")\n",
    "# Notice how the stirng \"topic\" gets automatically converted to a parameter name, very convienent! \n",
    "one_input_prompt.format(topic=\"Mars\")\n",
    "# -> \"Tell me a fact about Mars\""
   ]
  },
  {
   "cell_type": "markdown",
   "id": "e3e8c513-b8d0-4616-9015-e0133cfc45d4",
   "metadata": {},
   "source": [
    "### Multiple Input Variables"
   ]
  },
  {
   "cell_type": "code",
   "execution_count": 27,
   "id": "aba25263-4b12-40d8-8c56-e21b9bc37891",
   "metadata": {},
   "outputs": [
    {
     "data": {
      "text/plain": [
       "'Tell me a fact about Mars for a student 8th Grade level.'"
      ]
     },
     "execution_count": 27,
     "metadata": {},
     "output_type": "execute_result"
    }
   ],
   "source": [
    "# An example prompt with multiple input variables\n",
    "multiple_input_prompt = PromptTemplate(\n",
    "    input_variables=[\"topic\", \"level\"], \n",
    "    template=\"Tell me a fact about {topic} for a student {level} level.\"\n",
    ")\n",
    "multiple_input_prompt.format(topic='Mars',level='8th Grade')"
   ]
  },
  {
   "cell_type": "markdown",
   "id": "61d47473-7d74-4bbf-875e-898bc9cdb1ec",
   "metadata": {},
   "source": [
    "# Chat Model Templates\n",
    "\n",
    "Chat models require a list of chat messages called a prompt, which is different from a raw string that you would input into a language model. Each message in the prompt is associated with a role, such as AI, human, or system.\n",
    "\n",
    "For instance, when using the OpenAI Chat Completion API, a chat message can be assigned the role of AI, human, or system. The model is designed to pay closer attention to instructions provided in system chat messages.\n",
    "\n",
    "To simplify the process of constructing and working with prompts, LangChain offers various prompt templates. It is highly recommended to utilize these chat-related prompt templates instead of PromptTemplate when interacting with chat models. This will allow you to fully harness the potential of the underlying chat model and enhance your experience.\n",
    "\n",
    "We will favor these models in the course due to upcoming changes in the OpenAI ecosystem where chat agents will be favored over text completion models."
   ]
  },
  {
   "cell_type": "code",
   "execution_count": 28,
   "id": "923b8070-19ab-4972-89f0-57b6e56053fb",
   "metadata": {},
   "outputs": [],
   "source": [
    "from langchain.prompts import (\n",
    "    ChatPromptTemplate,\n",
    "    PromptTemplate,\n",
    "    SystemMessagePromptTemplate,\n",
    "    AIMessagePromptTemplate,\n",
    "    HumanMessagePromptTemplate,\n",
    ")\n",
    "from langchain.schema import (\n",
    "    AIMessage,\n",
    "    HumanMessage,\n",
    "    SystemMessage\n",
    ")"
   ]
  },
  {
   "cell_type": "code",
   "execution_count": 37,
   "id": "cbc8eeab-11ff-4c46-b69b-e963066980d0",
   "metadata": {},
   "outputs": [],
   "source": [
    "system_template=\"You are an AI recipe assistant that specializes in {dietary_preference} dishes that can be prepared in {cooking_time}.\"\n",
    "system_message_prompt = SystemMessagePromptTemplate.from_template(system_template)"
   ]
  },
  {
   "cell_type": "code",
   "execution_count": 38,
   "id": "d93298f9-18d3-43af-bc23-633f5f3ab269",
   "metadata": {},
   "outputs": [
    {
     "data": {
      "text/plain": [
       "['cooking_time', 'dietary_preference']"
      ]
     },
     "execution_count": 38,
     "metadata": {},
     "output_type": "execute_result"
    }
   ],
   "source": [
    "system_message_prompt.input_variables"
   ]
  },
  {
   "cell_type": "code",
   "execution_count": 39,
   "id": "2348e5e3-e878-403a-94e9-be61359fbb44",
   "metadata": {},
   "outputs": [],
   "source": [
    "human_template=\"{recipe_request}\"\n",
    "human_message_prompt = HumanMessagePromptTemplate.from_template(human_template)"
   ]
  },
  {
   "cell_type": "code",
   "execution_count": 40,
   "id": "d01b14b6-f422-4a08-bd0e-bba0f494563d",
   "metadata": {},
   "outputs": [
    {
     "data": {
      "text/plain": [
       "['recipe_request']"
      ]
     },
     "execution_count": 40,
     "metadata": {},
     "output_type": "execute_result"
    }
   ],
   "source": [
    "human_message_prompt.input_variables"
   ]
  },
  {
   "cell_type": "code",
   "execution_count": 33,
   "id": "706756df-1264-4121-8043-b733e60188c0",
   "metadata": {},
   "outputs": [],
   "source": [
    "chat_prompt = ChatPromptTemplate.from_messages([system_message_prompt, human_message_prompt])"
   ]
  },
  {
   "cell_type": "code",
   "execution_count": 36,
   "id": "52fdf3cf-f3d9-4108-ae72-b630487d9e9b",
   "metadata": {},
   "outputs": [
    {
     "data": {
      "text/plain": [
       "['dietary_preference', 'cooking_time', 'recipe_request']"
      ]
     },
     "execution_count": 36,
     "metadata": {},
     "output_type": "execute_result"
    }
   ],
   "source": [
    "chat_prompt.input_variables"
   ]
  },
  {
   "cell_type": "code",
   "execution_count": 42,
   "id": "3b19ae01-3be8-41c9-a470-3fd6fc69e801",
   "metadata": {},
   "outputs": [
    {
     "data": {
      "text/plain": [
       "[SystemMessage(content='You are an AI recipe assistant that specializes in Vegan dishes that can be prepared in 15 min.', additional_kwargs={}),\n",
       " HumanMessage(content='Quick Snack', additional_kwargs={}, example=False)]"
      ]
     },
     "execution_count": 42,
     "metadata": {},
     "output_type": "execute_result"
    }
   ],
   "source": [
    "# get a chat completion from the formatted messages\n",
    "chat_prompt.format_prompt(cooking_time=\"15 min\", dietary_preference=\"Vegan\", recipe_request=\"Quick Snack\").to_messages()"
   ]
  },
  {
   "cell_type": "code",
   "execution_count": 43,
   "id": "73121537-8cee-42fc-ba0e-fc1c18154957",
   "metadata": {},
   "outputs": [],
   "source": [
    "request = chat_prompt.format_prompt(cooking_time=\"15 min\", dietary_preference=\"Vegan\", recipe_request=\"Quick Snack\").to_messages()"
   ]
  },
  {
   "cell_type": "markdown",
   "id": "c276622f-d81c-40ed-864b-63d4c4311d84",
   "metadata": {},
   "source": [
    "## Prompt Templates with an LLM Call"
   ]
  },
  {
   "cell_type": "code",
   "execution_count": 45,
   "id": "0d21e33e-6ce1-4391-b406-279af06510f2",
   "metadata": {},
   "outputs": [],
   "source": [
    "f = open('C:\\\\Users\\\\Marcial\\\\Desktop\\\\desktop_openai.txt')\n",
    "api_key = f.read()"
   ]
  },
  {
   "cell_type": "code",
   "execution_count": 46,
   "id": "c1496d66-efec-4cd5-a62e-d33f9669941c",
   "metadata": {},
   "outputs": [],
   "source": [
    "from langchain.chat_models import ChatOpenAI\n",
    "chat = ChatOpenAI(openai_api_key=api_key)"
   ]
  },
  {
   "cell_type": "code",
   "execution_count": 47,
   "id": "8978391d-9c09-4b99-8520-27491ece4e9d",
   "metadata": {},
   "outputs": [],
   "source": [
    "result = chat(request)"
   ]
  },
  {
   "cell_type": "code",
   "execution_count": 48,
   "id": "88f47c1b-123c-4f47-8ee1-b72c88cbd048",
   "metadata": {},
   "outputs": [
    {
     "data": {
      "text/plain": [
       "AIMessage(content=\"Here's a simple and quick vegan snack that you can prepare in just 15 minutes:\\n\\nRecipe: Spicy Roasted Chickpeas\\n\\nIngredients:\\n- 1 can (15 oz) chickpeas, drained and rinsed\\n- 1 tablespoon olive oil\\n- 1 teaspoon paprika\\n- 1/2 teaspoon garlic powder\\n- 1/2 teaspoon cayenne pepper (adjust to your desired level of spiciness)\\n- Salt to taste\\n\\nInstructions:\\n1. Preheat your oven to 400°F (200°C).\\n2. Rinse and drain the chickpeas, then pat them dry using a clean kitchen towel or paper towel.\\n3. In a bowl, combine the olive oil, paprika, garlic powder, cayenne pepper, and salt. Mix well.\\n4. Add the chickpeas to the bowl and toss them until they are well coated with the spice mixture.\\n5. Spread the chickpeas in a single layer on a baking sheet lined with parchment paper.\\n6. Bake in the preheated oven for about 15 minutes, or until they become crispy and golden brown.\\n7. Remove from the oven and let them cool for a few minutes before serving.\\n8. Enjoy the spicy roasted chickpeas as a delicious and protein-packed snack!\\n\\nFeel free to adjust the spices according to your taste preferences. You can also experiment with adding other seasonings such as smoked paprika, cumin, or nutritional yeast to enhance the flavor.\", additional_kwargs={}, example=False)"
      ]
     },
     "execution_count": 48,
     "metadata": {},
     "output_type": "execute_result"
    }
   ],
   "source": [
    "result"
   ]
  },
  {
   "cell_type": "code",
   "execution_count": 50,
   "id": "6ae9e58d-00b9-4ba4-af37-9ff35a4bef9f",
   "metadata": {},
   "outputs": [
    {
     "name": "stdout",
     "output_type": "stream",
     "text": [
      "Here's a simple and quick vegan snack that you can prepare in just 15 minutes:\n",
      "\n",
      "Recipe: Spicy Roasted Chickpeas\n",
      "\n",
      "Ingredients:\n",
      "- 1 can (15 oz) chickpeas, drained and rinsed\n",
      "- 1 tablespoon olive oil\n",
      "- 1 teaspoon paprika\n",
      "- 1/2 teaspoon garlic powder\n",
      "- 1/2 teaspoon cayenne pepper (adjust to your desired level of spiciness)\n",
      "- Salt to taste\n",
      "\n",
      "Instructions:\n",
      "1. Preheat your oven to 400°F (200°C).\n",
      "2. Rinse and drain the chickpeas, then pat them dry using a clean kitchen towel or paper towel.\n",
      "3. In a bowl, combine the olive oil, paprika, garlic powder, cayenne pepper, and salt. Mix well.\n",
      "4. Add the chickpeas to the bowl and toss them until they are well coated with the spice mixture.\n",
      "5. Spread the chickpeas in a single layer on a baking sheet lined with parchment paper.\n",
      "6. Bake in the preheated oven for about 15 minutes, or until they become crispy and golden brown.\n",
      "7. Remove from the oven and let them cool for a few minutes before serving.\n",
      "8. Enjoy the spicy roasted chickpeas as a delicious and protein-packed snack!\n",
      "\n",
      "Feel free to adjust the spices according to your taste preferences. You can also experiment with adding other seasonings such as smoked paprika, cumin, or nutritional yeast to enhance the flavor.\n"
     ]
    }
   ],
   "source": [
    "print(result.content)"
   ]
  },
  {
   "cell_type": "code",
   "execution_count": null,
   "id": "a72ee656-ec4b-4c5b-b839-1b3c2f269f07",
   "metadata": {},
   "outputs": [],
   "source": []
  }
 ],
 "metadata": {
  "kernelspec": {
   "display_name": "Python 3 (ipykernel)",
   "language": "python",
   "name": "python3"
  },
  "language_info": {
   "codemirror_mode": {
    "name": "ipython",
    "version": 3
   },
   "file_extension": ".py",
   "mimetype": "text/x-python",
   "name": "python",
   "nbconvert_exporter": "python",
   "pygments_lexer": "ipython3",
   "version": "3.9.12"
  }
 },
 "nbformat": 4,
 "nbformat_minor": 5
}
