{
 "cells": [
  {
   "cell_type": "markdown",
   "id": "378f3df7-19b9-49a1-b695-5d578138b4ae",
   "metadata": {},
   "source": [
    "<a href = \"https://www.pieriantraining.com\"><img src=\"../PT Centered Purple.png\"> </a>\n",
    "\n",
    "<em style=\"text-align:center\">Copyrighted by Pierian Training</em>"
   ]
  },
  {
   "cell_type": "markdown",
   "id": "e2128d1c-62d1-4681-abe1-754a1410e632",
   "metadata": {},
   "source": [
    "# Parsing Output\n",
    "\n",
    "Let's set up a Chat Model:"
   ]
  },
  {
   "cell_type": "code",
   "execution_count": 197,
   "id": "e2d81e4f-8739-4a19-abf9-7515304fc0a9",
   "metadata": {},
   "outputs": [],
   "source": [
    "from langchain.prompts import PromptTemplate, SystemMessagePromptTemplate,ChatPromptTemplate, HumanMessagePromptTemplate\n",
    "from langchain.llms import OpenAI\n",
    "from langchain.chat_models import ChatOpenAI\n",
    "api_key = open(\"C://Users//Marcial//Desktop//desktop_openai.txt\").read()\n",
    "model = ChatOpenAI(openai_api_key=api_key)"
   ]
  },
  {
   "cell_type": "markdown",
   "id": "7a7b37ab-4548-4a6f-a3da-77af6068ea3a",
   "metadata": {
    "tags": []
   },
   "source": [
    "## List Parsing "
   ]
  },
  {
   "cell_type": "code",
   "execution_count": 198,
   "id": "7ec14645-3d85-4cde-abf4-b3afc5248278",
   "metadata": {},
   "outputs": [],
   "source": [
    "from langchain.output_parsers import CommaSeparatedListOutputParser"
   ]
  },
  {
   "cell_type": "code",
   "execution_count": 199,
   "id": "4cca39c5-72a4-400e-b687-88dbe7a6a1eb",
   "metadata": {},
   "outputs": [],
   "source": [
    "output_parser = CommaSeparatedListOutputParser()"
   ]
  },
  {
   "cell_type": "code",
   "execution_count": 200,
   "id": "1ad58ba7-8369-4a8e-92b1-557a931515a2",
   "metadata": {},
   "outputs": [],
   "source": [
    "format_instructions = output_parser.get_format_instructions()"
   ]
  },
  {
   "cell_type": "code",
   "execution_count": 201,
   "id": "f841038a-9a42-4d2d-93d6-ba1831f9eaf3",
   "metadata": {},
   "outputs": [
    {
     "name": "stdout",
     "output_type": "stream",
     "text": [
      "Your response should be a list of comma separated values, eg: `foo, bar, baz`\n"
     ]
    }
   ],
   "source": [
    "print(format_instructions)"
   ]
  },
  {
   "cell_type": "code",
   "execution_count": 203,
   "id": "545527d3-5556-4558-8835-8efdb76e8010",
   "metadata": {},
   "outputs": [
    {
     "data": {
      "text/plain": [
       "['one', 'two', 'three']"
      ]
     },
     "execution_count": 203,
     "metadata": {},
     "output_type": "execute_result"
    }
   ],
   "source": [
    "reply = \"one, two, three\"\n",
    "output_parser.parse(\"one, two, three\")"
   ]
  },
  {
   "cell_type": "code",
   "execution_count": 204,
   "id": "19ad7894-8a81-46ce-ba3d-3aceb7d4f7b9",
   "metadata": {},
   "outputs": [],
   "source": [
    "human_template = '{request} {format_instructions}'\n",
    "human_prompt = HumanMessagePromptTemplate.from_template(human_template)"
   ]
  },
  {
   "cell_type": "code",
   "execution_count": 205,
   "id": "a8b091bf-3931-42da-be46-f1bb9ba186ce",
   "metadata": {},
   "outputs": [
    {
     "data": {
      "text/plain": [
       "ChatPromptValue(messages=[HumanMessage(content='give me 5 characteristics of dogs Your response should be a list of comma separated values, eg: `foo, bar, baz`', additional_kwargs={}, example=False)])"
      ]
     },
     "execution_count": 205,
     "metadata": {},
     "output_type": "execute_result"
    }
   ],
   "source": [
    "chat_prompt = ChatPromptTemplate.from_messages([human_prompt])\n",
    "\n",
    "chat_prompt.format_prompt(request=\"give me 5 characteristics of dogs\",\n",
    "                   format_instructions = output_parser.get_format_instructions())"
   ]
  },
  {
   "cell_type": "code",
   "execution_count": 206,
   "id": "535031e5-61c2-4b6b-9d0e-36cf2f3d469d",
   "metadata": {},
   "outputs": [],
   "source": [
    "request = chat_prompt.format_prompt(request=\"give me 5 characteristics of dogs\",\n",
    "                   format_instructions = output_parser.get_format_instructions()).to_messages()"
   ]
  },
  {
   "cell_type": "code",
   "execution_count": 207,
   "id": "71b52ed0-5178-4ca4-8317-e1ca590bf460",
   "metadata": {},
   "outputs": [],
   "source": [
    "result = model(request)"
   ]
  },
  {
   "cell_type": "code",
   "execution_count": 208,
   "id": "ae2b14fd-941e-4412-a916-04e3d1e886e0",
   "metadata": {},
   "outputs": [
    {
     "data": {
      "text/plain": [
       "'loyal, friendly, playful, protective, trainable'"
      ]
     },
     "execution_count": 208,
     "metadata": {},
     "output_type": "execute_result"
    }
   ],
   "source": [
    "result.content"
   ]
  },
  {
   "cell_type": "code",
   "execution_count": 209,
   "id": "a35378ea-891a-4c47-b3eb-06aa9854f1d5",
   "metadata": {},
   "outputs": [
    {
     "data": {
      "text/plain": [
       "['loyal', 'friendly', 'playful', 'protective', 'trainable']"
      ]
     },
     "execution_count": 209,
     "metadata": {},
     "output_type": "execute_result"
    }
   ],
   "source": [
    "# Convert to desired output:\n",
    "output_parser.parse(result.content)"
   ]
  },
  {
   "cell_type": "markdown",
   "id": "f7dc1d92-0e0d-4703-82f4-47b1b816e967",
   "metadata": {},
   "source": [
    "## Datetime Parser "
   ]
  },
  {
   "cell_type": "code",
   "execution_count": 144,
   "id": "7181df9f-691f-4bd2-af8f-ebe4b2c6d78b",
   "metadata": {},
   "outputs": [],
   "source": [
    "from langchain.output_parsers import DatetimeOutputParser"
   ]
  },
  {
   "cell_type": "code",
   "execution_count": 145,
   "id": "2a7bf62c-c78d-4417-a56e-adf545649f8e",
   "metadata": {},
   "outputs": [],
   "source": [
    "output_parser = DatetimeOutputParser()"
   ]
  },
  {
   "cell_type": "code",
   "execution_count": 146,
   "id": "02b918ea-62f0-457a-bdb1-e923b8d30ae3",
   "metadata": {},
   "outputs": [
    {
     "name": "stdout",
     "output_type": "stream",
     "text": [
      "Write a datetime string that matches the \n",
      "            following pattern: \"%Y-%m-%dT%H:%M:%S.%fZ\". Examples: 0976-07-27T05:21:47.523819Z, 1255-06-12T16:16:30.837257Z, 1427-12-23T03:26:22.664795Z\n"
     ]
    }
   ],
   "source": [
    "print(output_parser.get_format_instructions())"
   ]
  },
  {
   "cell_type": "code",
   "execution_count": 147,
   "id": "1d25e7ac-4d85-4cae-9401-a05c444be675",
   "metadata": {},
   "outputs": [],
   "source": [
    "template_text = \"{request}\\n{format_instructions}\"\n",
    "human_prompt=HumanMessagePromptTemplate.from_template(template_text)"
   ]
  },
  {
   "cell_type": "code",
   "execution_count": 148,
   "id": "6f17e9dd-d5bf-4f60-8d66-845d27794cb2",
   "metadata": {},
   "outputs": [],
   "source": [
    "chat_prompt = ChatPromptTemplate.from_messages([human_prompt])"
   ]
  },
  {
   "cell_type": "code",
   "execution_count": 149,
   "id": "d6d5d104-1ccf-484a-9d65-81b89f066ca2",
   "metadata": {},
   "outputs": [
    {
     "name": "stdout",
     "output_type": "stream",
     "text": [
      "Human: When was the 13th Amendment ratified in the US?\n",
      "Write a datetime string that matches the \n",
      "            following pattern: \"%Y-%m-%dT%H:%M:%S.%fZ\". Examples: 1519-03-01T21:49:11.978127Z, 0697-08-16T06:05:29.900940Z, 0245-06-28T02:48:29.782887Z\n"
     ]
    }
   ],
   "source": [
    "print(chat_prompt.format(request=\"When was the 13th Amendment ratified in the US?\",\n",
    "                   format_instructions=output_parser.get_format_instructions()\n",
    "                   ))"
   ]
  },
  {
   "cell_type": "code",
   "execution_count": 150,
   "id": "2fb47b36-22f9-4255-8f7d-1fe5f3e4fd69",
   "metadata": {},
   "outputs": [],
   "source": [
    "request = chat_prompt.format_prompt(request=\"What date was the 13th Amendment ratified in the US?\",\n",
    "                   format_instructions=output_parser.get_format_instructions()\n",
    "                   ).to_messages()"
   ]
  },
  {
   "cell_type": "code",
   "execution_count": 151,
   "id": "81091194-52ea-4c85-b899-48146d434c53",
   "metadata": {},
   "outputs": [],
   "source": [
    "result = model(request,temperature=0)"
   ]
  },
  {
   "cell_type": "code",
   "execution_count": 152,
   "id": "9a5227a5-cd36-4f8f-b93b-8281ddbfe7ac",
   "metadata": {},
   "outputs": [
    {
     "data": {
      "text/plain": [
       "'The 13th Amendment was ratified in the US on December 6, 1865.\\n\\nThe datetime string that matches the given pattern is: \"1865-12-06T00:00:00.000000Z\"'"
      ]
     },
     "execution_count": 152,
     "metadata": {},
     "output_type": "execute_result"
    }
   ],
   "source": [
    "# Careful with this, it sometimes will include extra information!\n",
    "result.content"
   ]
  },
  {
   "cell_type": "code",
   "execution_count": 153,
   "id": "d48d3df3-325c-43b3-9b58-8c5396b9121e",
   "metadata": {},
   "outputs": [
    {
     "data": {
      "text/plain": [
       "'The 13th Amendment was ratified in the US on December 6, 1865.\\n\\nThe datetime string that matches the given pattern is: \"1865-12-06T00:00:00.000000Z\"'"
      ]
     },
     "execution_count": 153,
     "metadata": {},
     "output_type": "execute_result"
    }
   ],
   "source": [
    "result.content"
   ]
  },
  {
   "cell_type": "code",
   "execution_count": 154,
   "id": "8d27d13a-0ee7-4cd7-adb7-67f29e519b10",
   "metadata": {},
   "outputs": [
    {
     "ename": "OutputParserException",
     "evalue": "Could not parse datetime string: The 13th Amendment was ratified in the US on December 6, 1865.\n\nThe datetime string that matches the given pattern is: \"1865-12-06T00:00:00.000000Z\"",
     "output_type": "error",
     "traceback": [
      "\u001b[1;31m---------------------------------------------------------------------------\u001b[0m",
      "\u001b[1;31mValueError\u001b[0m                                Traceback (most recent call last)",
      "File \u001b[1;32m~\\AppData\\Roaming\\Python\\Python39\\site-packages\\langchain\\output_parsers\\datetime.py:42\u001b[0m, in \u001b[0;36mDatetimeOutputParser.parse\u001b[1;34m(self, response)\u001b[0m\n\u001b[0;32m     41\u001b[0m \u001b[38;5;28;01mtry\u001b[39;00m:\n\u001b[1;32m---> 42\u001b[0m     \u001b[38;5;28;01mreturn\u001b[39;00m \u001b[43mdatetime\u001b[49m\u001b[38;5;241;43m.\u001b[39;49m\u001b[43mstrptime\u001b[49m\u001b[43m(\u001b[49m\u001b[43mresponse\u001b[49m\u001b[38;5;241;43m.\u001b[39;49m\u001b[43mstrip\u001b[49m\u001b[43m(\u001b[49m\u001b[43m)\u001b[49m\u001b[43m,\u001b[49m\u001b[43m \u001b[49m\u001b[38;5;28;43mself\u001b[39;49m\u001b[38;5;241;43m.\u001b[39;49m\u001b[43mformat\u001b[49m\u001b[43m)\u001b[49m\n\u001b[0;32m     43\u001b[0m \u001b[38;5;28;01mexcept\u001b[39;00m \u001b[38;5;167;01mValueError\u001b[39;00m \u001b[38;5;28;01mas\u001b[39;00m e:\n",
      "File \u001b[1;32mC:\\ProgramData\\Anaconda3\\envs\\tf_gpu\\lib\\_strptime.py:568\u001b[0m, in \u001b[0;36m_strptime_datetime\u001b[1;34m(cls, data_string, format)\u001b[0m\n\u001b[0;32m    566\u001b[0m \u001b[38;5;250m\u001b[39m\u001b[38;5;124;03m\"\"\"Return a class cls instance based on the input string and the\u001b[39;00m\n\u001b[0;32m    567\u001b[0m \u001b[38;5;124;03mformat string.\"\"\"\u001b[39;00m\n\u001b[1;32m--> 568\u001b[0m tt, fraction, gmtoff_fraction \u001b[38;5;241m=\u001b[39m \u001b[43m_strptime\u001b[49m\u001b[43m(\u001b[49m\u001b[43mdata_string\u001b[49m\u001b[43m,\u001b[49m\u001b[43m \u001b[49m\u001b[38;5;28;43mformat\u001b[39;49m\u001b[43m)\u001b[49m\n\u001b[0;32m    569\u001b[0m tzname, gmtoff \u001b[38;5;241m=\u001b[39m tt[\u001b[38;5;241m-\u001b[39m\u001b[38;5;241m2\u001b[39m:]\n",
      "File \u001b[1;32mC:\\ProgramData\\Anaconda3\\envs\\tf_gpu\\lib\\_strptime.py:349\u001b[0m, in \u001b[0;36m_strptime\u001b[1;34m(data_string, format)\u001b[0m\n\u001b[0;32m    348\u001b[0m \u001b[38;5;28;01mif\u001b[39;00m \u001b[38;5;129;01mnot\u001b[39;00m found:\n\u001b[1;32m--> 349\u001b[0m     \u001b[38;5;28;01mraise\u001b[39;00m \u001b[38;5;167;01mValueError\u001b[39;00m(\u001b[38;5;124m\"\u001b[39m\u001b[38;5;124mtime data \u001b[39m\u001b[38;5;132;01m%r\u001b[39;00m\u001b[38;5;124m does not match format \u001b[39m\u001b[38;5;132;01m%r\u001b[39;00m\u001b[38;5;124m\"\u001b[39m \u001b[38;5;241m%\u001b[39m\n\u001b[0;32m    350\u001b[0m                      (data_string, \u001b[38;5;28mformat\u001b[39m))\n\u001b[0;32m    351\u001b[0m \u001b[38;5;28;01mif\u001b[39;00m \u001b[38;5;28mlen\u001b[39m(data_string) \u001b[38;5;241m!=\u001b[39m found\u001b[38;5;241m.\u001b[39mend():\n",
      "\u001b[1;31mValueError\u001b[0m: time data 'The 13th Amendment was ratified in the US on December 6, 1865.\\n\\nThe datetime string that matches the given pattern is: \"1865-12-06T00:00:00.000000Z\"' does not match format '%Y-%m-%dT%H:%M:%S.%fZ'",
      "\nThe above exception was the direct cause of the following exception:\n",
      "\u001b[1;31mOutputParserException\u001b[0m                     Traceback (most recent call last)",
      "Input \u001b[1;32mIn [154]\u001b[0m, in \u001b[0;36m<cell line: 1>\u001b[1;34m()\u001b[0m\n\u001b[1;32m----> 1\u001b[0m \u001b[43moutput_parser\u001b[49m\u001b[38;5;241;43m.\u001b[39;49m\u001b[43mparse\u001b[49m\u001b[43m(\u001b[49m\u001b[43mresult\u001b[49m\u001b[38;5;241;43m.\u001b[39;49m\u001b[43mcontent\u001b[49m\u001b[43m)\u001b[49m\n",
      "File \u001b[1;32m~\\AppData\\Roaming\\Python\\Python39\\site-packages\\langchain\\output_parsers\\datetime.py:44\u001b[0m, in \u001b[0;36mDatetimeOutputParser.parse\u001b[1;34m(self, response)\u001b[0m\n\u001b[0;32m     42\u001b[0m     \u001b[38;5;28;01mreturn\u001b[39;00m datetime\u001b[38;5;241m.\u001b[39mstrptime(response\u001b[38;5;241m.\u001b[39mstrip(), \u001b[38;5;28mself\u001b[39m\u001b[38;5;241m.\u001b[39mformat)\n\u001b[0;32m     43\u001b[0m \u001b[38;5;28;01mexcept\u001b[39;00m \u001b[38;5;167;01mValueError\u001b[39;00m \u001b[38;5;28;01mas\u001b[39;00m e:\n\u001b[1;32m---> 44\u001b[0m     \u001b[38;5;28;01mraise\u001b[39;00m OutputParserException(\n\u001b[0;32m     45\u001b[0m         \u001b[38;5;124mf\u001b[39m\u001b[38;5;124m\"\u001b[39m\u001b[38;5;124mCould not parse datetime string: \u001b[39m\u001b[38;5;132;01m{\u001b[39;00mresponse\u001b[38;5;132;01m}\u001b[39;00m\u001b[38;5;124m\"\u001b[39m\n\u001b[0;32m     46\u001b[0m     ) \u001b[38;5;28;01mfrom\u001b[39;00m \u001b[38;5;21;01me\u001b[39;00m\n",
      "\u001b[1;31mOutputParserException\u001b[0m: Could not parse datetime string: The 13th Amendment was ratified in the US on December 6, 1865.\n\nThe datetime string that matches the given pattern is: \"1865-12-06T00:00:00.000000Z\""
     ]
    }
   ],
   "source": [
    "output_parser.parse(result.content)"
   ]
  },
  {
   "cell_type": "markdown",
   "id": "f8ee5cd6-931d-4b06-963a-19d5e69a1f2b",
   "metadata": {},
   "source": [
    "---\n",
    "\n",
    "# Methods to Fix Parsing Issues\n",
    "\n",
    "## Auto-Fix Parser"
   ]
  },
  {
   "cell_type": "code",
   "execution_count": 193,
   "id": "43dcc805-e48f-488f-81fb-1ae25c0482be",
   "metadata": {},
   "outputs": [],
   "source": [
    "from langchain.output_parsers import OutputFixingParser\n",
    "\n",
    "output_parser = DatetimeOutputParser()\n",
    "\n",
    "misformatted = result.content"
   ]
  },
  {
   "cell_type": "code",
   "execution_count": 194,
   "id": "d4f9ce62-33a0-4aac-a810-cb286051857e",
   "metadata": {},
   "outputs": [
    {
     "data": {
      "text/plain": [
       "'The 13th Amendment was ratified in the US on December 6, 1865.\\n\\nThe datetime string that matches the given pattern is: \"1865-12-06T00:00:00.000000Z\"'"
      ]
     },
     "execution_count": 194,
     "metadata": {},
     "output_type": "execute_result"
    }
   ],
   "source": [
    "misformatted"
   ]
  },
  {
   "cell_type": "code",
   "execution_count": 195,
   "id": "d6e43db4-2e75-4902-95e9-07a82688ce8d",
   "metadata": {},
   "outputs": [],
   "source": [
    "new_parser = OutputFixingParser.from_llm(parser=output_parser, llm=model)"
   ]
  },
  {
   "cell_type": "code",
   "execution_count": 196,
   "id": "9b91f188-cca3-4659-8e09-9defac58afd9",
   "metadata": {},
   "outputs": [
    {
     "data": {
      "text/plain": [
       "datetime.datetime(1865, 12, 6, 0, 0)"
      ]
     },
     "execution_count": 196,
     "metadata": {},
     "output_type": "execute_result"
    }
   ],
   "source": [
    "new_parser.parse(misformatted)"
   ]
  },
  {
   "cell_type": "markdown",
   "id": "b1e590db-90dc-47db-8341-44491916fc90",
   "metadata": {},
   "source": [
    "____\n",
    "### Fixing via System Prompt:"
   ]
  },
  {
   "cell_type": "code",
   "execution_count": 136,
   "id": "d7714f2d-1063-44bc-9ad0-ab1f578a4143",
   "metadata": {},
   "outputs": [],
   "source": [
    "system_prompt = SystemMessagePromptTemplate.from_template(\"You always reply to questions only in datetime patterns.\")\n",
    "template_text = \"{request}\\n{format_instructions}\"\n",
    "human_prompt=HumanMessagePromptTemplate.from_template(template_text)"
   ]
  },
  {
   "cell_type": "code",
   "execution_count": 137,
   "id": "9a2ec129-ab30-41c1-94e5-988c4e179ef3",
   "metadata": {},
   "outputs": [],
   "source": [
    "chat_prompt = ChatPromptTemplate.from_messages([system_prompt,human_prompt])"
   ]
  },
  {
   "cell_type": "code",
   "execution_count": 138,
   "id": "7e9f115d-78aa-4e48-9b5d-9ac4914b84bd",
   "metadata": {},
   "outputs": [
    {
     "name": "stdout",
     "output_type": "stream",
     "text": [
      "System: You always reply to questions only in datetime patterns.\n",
      "Human: When was the 13th Amendment ratified in the US?\n",
      "Write a datetime string that matches the \n",
      "            following pattern: \"%Y-%m-%dT%H:%M:%S.%fZ\". Examples: 1796-02-26T04:04:10.673088Z, 0754-04-24T13:43:26.442719Z, 0382-07-21T05:34:03.561213Z\n"
     ]
    }
   ],
   "source": [
    "print(chat_prompt.format(request=\"When was the 13th Amendment ratified in the US?\",\n",
    "                   format_instructions=output_parser.get_format_instructions()\n",
    "                   ))"
   ]
  },
  {
   "cell_type": "code",
   "execution_count": 139,
   "id": "cddc6803-dbe4-4064-8002-bdd46ff8d418",
   "metadata": {},
   "outputs": [],
   "source": [
    "request = chat_prompt.format_prompt(request=\"What date was the 13th Amendment ratified in the US?\",\n",
    "                   format_instructions=output_parser.get_format_instructions()\n",
    "                   ).to_messages()"
   ]
  },
  {
   "cell_type": "code",
   "execution_count": 140,
   "id": "20db5dd9-eb1b-4a6c-967e-81bed43a868d",
   "metadata": {},
   "outputs": [],
   "source": [
    "result = model(request,temperature=0)"
   ]
  },
  {
   "cell_type": "code",
   "execution_count": 141,
   "id": "b56baddd-e8ac-45a7-ab25-bc4cd4cbc967",
   "metadata": {},
   "outputs": [
    {
     "data": {
      "text/plain": [
       "'1865-12-06T00:00:00.000000Z'"
      ]
     },
     "execution_count": 141,
     "metadata": {},
     "output_type": "execute_result"
    }
   ],
   "source": [
    "result.content"
   ]
  },
  {
   "cell_type": "code",
   "execution_count": 143,
   "id": "5849a726-e8dd-432f-93d0-078c804ba407",
   "metadata": {},
   "outputs": [
    {
     "data": {
      "text/plain": [
       "datetime.datetime(1865, 12, 6, 0, 0)"
      ]
     },
     "execution_count": 143,
     "metadata": {},
     "output_type": "execute_result"
    }
   ],
   "source": [
    "output_parser.parse(result.content)"
   ]
  },
  {
   "cell_type": "markdown",
   "id": "62292e0b-277a-4fbc-9ac3-2bffaf9a4614",
   "metadata": {},
   "source": [
    "Be careful! This could technically be construed as wrong? The full details from Wikipedia:\n",
    "\n",
    "    27th state to ratify was Georgia: December 6, 1865\n",
    "\n",
    "    Having been ratified by the legislatures of three-fourths of the states (27 of the 36 states, including those that had been in rebellion), Secretary of State Seward, on December 18, 1865, certified that the Thirteenth Amendment had become valid, to all intents and purposes, as a part of the Constitution.\n",
    "\n",
    "You also have the issue of states leaving the union, which complicates what a full ratification means at that time. It kind of depends what is meant by the word \"ratified\"!"
   ]
  },
  {
   "cell_type": "markdown",
   "id": "e874ded7-a158-425e-b946-474845a12b72",
   "metadata": {},
   "source": [
    "## Pydantic JSON Parser\n",
    "You should also be aware of OpenAI's own JSON offerings (which are still quite new at this time!): https://platform.openai.com/docs/guides/gpt/function-calling\n"
   ]
  },
  {
   "cell_type": "code",
   "execution_count": 53,
   "id": "b0646d6f-7370-4e82-8983-ef87585e423d",
   "metadata": {},
   "outputs": [],
   "source": [
    "#pip install pydantic"
   ]
  },
  {
   "cell_type": "code",
   "execution_count": 55,
   "id": "279dff90-27f2-424a-8683-fe030f2827df",
   "metadata": {},
   "outputs": [],
   "source": [
    "from langchain.output_parsers import PydanticOutputParser"
   ]
  },
  {
   "cell_type": "code",
   "execution_count": 64,
   "id": "fc5f5225-633a-4c71-a6b4-c46b376c9207",
   "metadata": {},
   "outputs": [],
   "source": [
    "from pydantic import BaseModel, Field"
   ]
  },
  {
   "cell_type": "code",
   "execution_count": 69,
   "id": "2685a18e-cf09-4a92-8380-81feda164740",
   "metadata": {},
   "outputs": [],
   "source": [
    "class Scientist(BaseModel):\n",
    "    \n",
    "    name: str = Field(description=\"Name of a Scientist\")\n",
    "    discoveries: list = Field(description=\"Python list of discoveries\")"
   ]
  },
  {
   "cell_type": "code",
   "execution_count": 70,
   "id": "6036b3b0-38fe-40b7-b51d-91b3238a8ed5",
   "metadata": {},
   "outputs": [],
   "source": [
    "query = 'Name a famous scientist and a list of their discoveries' "
   ]
  },
  {
   "cell_type": "code",
   "execution_count": 71,
   "id": "f11cfdad-1234-41b1-9f54-3620d7bd1b96",
   "metadata": {},
   "outputs": [],
   "source": [
    "parser = PydanticOutputParser(pydantic_object=Scientist)"
   ]
  },
  {
   "cell_type": "code",
   "execution_count": 73,
   "id": "8cf18594-2ca1-4f3c-bbfc-a8e072f6a78c",
   "metadata": {},
   "outputs": [
    {
     "name": "stdout",
     "output_type": "stream",
     "text": [
      "The output should be formatted as a JSON instance that conforms to the JSON schema below.\n",
      "\n",
      "As an example, for the schema {\"properties\": {\"foo\": {\"title\": \"Foo\", \"description\": \"a list of strings\", \"type\": \"array\", \"items\": {\"type\": \"string\"}}}, \"required\": [\"foo\"]}}\n",
      "the object {\"foo\": [\"bar\", \"baz\"]} is a well-formatted instance of the schema. The object {\"properties\": {\"foo\": [\"bar\", \"baz\"]}} is not well-formatted.\n",
      "\n",
      "Here is the output schema:\n",
      "```\n",
      "{\"properties\": {\"name\": {\"title\": \"Name\", \"description\": \"Name of a Scientist\", \"type\": \"string\"}, \"discoveries\": {\"title\": \"Discoveries\", \"description\": \"Python list of discoveries\", \"type\": \"array\", \"items\": {}}}, \"required\": [\"name\", \"discoveries\"]}\n",
      "```\n"
     ]
    }
   ],
   "source": [
    "print(parser.get_format_instructions())"
   ]
  },
  {
   "cell_type": "code",
   "execution_count": 75,
   "id": "07770971-eafe-479f-b632-9dc33759e0da",
   "metadata": {},
   "outputs": [
    {
     "data": {
      "text/plain": [
       "Scientist(name='Albert Einstein', discoveries=['Theory of Relativity', 'Photoelectric Effect', 'Brownian Motion'])"
      ]
     },
     "execution_count": 75,
     "metadata": {},
     "output_type": "execute_result"
    }
   ],
   "source": [
    "prompt = PromptTemplate(\n",
    "    template=\"Answer the user query.\\n{format_instructions}\\n{query}\\n\",\n",
    "    input_variables=[\"query\"],\n",
    "    partial_variables={\"format_instructions\": parser.get_format_instructions()},\n",
    ")\n",
    "\n",
    "_input = prompt.format_prompt(query=\"Tell me about a famous scientist\")\n",
    "\n",
    "output = model(_input.to_string())\n",
    "\n",
    "parser.parse(output)"
   ]
  },
  {
   "cell_type": "markdown",
   "id": "2663c7ac-1321-44ac-aa87-ffdad6f7ea72",
   "metadata": {},
   "source": []
  }
 ],
 "metadata": {
  "kernelspec": {
   "display_name": "Python 3 (ipykernel)",
   "language": "python",
   "name": "python3"
  },
  "language_info": {
   "codemirror_mode": {
    "name": "ipython",
    "version": 3
   },
   "file_extension": ".py",
   "mimetype": "text/x-python",
   "name": "python",
   "nbconvert_exporter": "python",
   "pygments_lexer": "ipython3",
   "version": "3.9.12"
  }
 },
 "nbformat": 4,
 "nbformat_minor": 5
}
