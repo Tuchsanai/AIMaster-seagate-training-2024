{
 "cells": [
  {
   "cell_type": "code",
   "execution_count": 1,
   "id": "1442bab0-34ff-45e7-86b3-f52ae877c942",
   "metadata": {},
   "outputs": [],
   "source": [
    "from langchain.prompts import PromptTemplate, SystemMessagePromptTemplate,ChatPromptTemplate, HumanMessagePromptTemplate\n",
    "from langchain.llms import OpenAI\n",
    "from langchain.chat_models import ChatOpenAI\n",
    "api_key = open(\"C://Users//Marcial//Desktop//desktop_openai.txt\").read()\n",
    "model = ChatOpenAI(openai_api_key=api_key)"
   ]
  },
  {
   "cell_type": "code",
   "execution_count": 9,
   "id": "5dc0cc61-906c-430f-b83a-ae3cc71a20bc",
   "metadata": {},
   "outputs": [],
   "source": [
    "# STEP ONE - Import Parser, \n",
    "from langchain.output_parsers import CommaSeparatedListOutputParser\n",
    "output_parser = CommaSeparatedListOutputParser()"
   ]
  },
  {
   "cell_type": "code",
   "execution_count": 10,
   "id": "b104de46-6044-41ba-bde8-464a5d430c99",
   "metadata": {},
   "outputs": [],
   "source": [
    "# Step two - format instructions"
   ]
  },
  {
   "cell_type": "code",
   "execution_count": 11,
   "id": "07cc33cd-d916-4f49-b80a-348da1de2b12",
   "metadata": {},
   "outputs": [
    {
     "data": {
      "text/plain": [
       "'Your response should be a list of comma separated values, eg: `foo, bar, baz`'"
      ]
     },
     "execution_count": 11,
     "metadata": {},
     "output_type": "execute_result"
    }
   ],
   "source": [
    "output_parser.get_format_instructions()"
   ]
  },
  {
   "cell_type": "code",
   "execution_count": 12,
   "id": "354e47e1-47db-44fa-85fc-98d3bf46a580",
   "metadata": {},
   "outputs": [],
   "source": [
    "reply = \"red, blue, green\""
   ]
  },
  {
   "cell_type": "code",
   "execution_count": 15,
   "id": "0f6a971d-3557-41fe-be79-239f5d8c7323",
   "metadata": {},
   "outputs": [
    {
     "data": {
      "text/plain": [
       "['red', 'blue', 'green']"
      ]
     },
     "execution_count": 15,
     "metadata": {},
     "output_type": "execute_result"
    }
   ],
   "source": [
    "output_parser.parse(reply)"
   ]
  },
  {
   "cell_type": "code",
   "execution_count": 42,
   "id": "70187b72-6643-495a-879d-5523010b7b93",
   "metadata": {},
   "outputs": [],
   "source": [
    "human_template = \"{request}\\n{format_instructions}\"\n",
    "human_prompt = HumanMessagePromptTemplate.from_template(human_template)"
   ]
  },
  {
   "cell_type": "code",
   "execution_count": 43,
   "id": "eda831ef-eab7-4e59-967b-ce7e69328eef",
   "metadata": {},
   "outputs": [],
   "source": [
    "chat_prompt = ChatPromptTemplate.from_messages([human_prompt])"
   ]
  },
  {
   "cell_type": "code",
   "execution_count": 59,
   "id": "194e7924-84a3-4159-a30a-2c08aa5d7799",
   "metadata": {},
   "outputs": [],
   "source": [
    "model_request = chat_prompt.format_prompt(request='write a poem about animals',\n",
    "                          format_instructions=output_parser.get_format_instructions()).to_messages()"
   ]
  },
  {
   "cell_type": "code",
   "execution_count": 60,
   "id": "2be3da46-37d0-431b-bf8c-2ad27894b2d9",
   "metadata": {},
   "outputs": [],
   "source": [
    "result = model(model_request)"
   ]
  },
  {
   "cell_type": "code",
   "execution_count": 63,
   "id": "dbc126d4-265e-4236-977e-6611a1c19512",
   "metadata": {},
   "outputs": [],
   "source": [
    "# print(result.content)"
   ]
  },
  {
   "cell_type": "code",
   "execution_count": 65,
   "id": "815ac8a5-d5d3-4204-a262-8ced68713946",
   "metadata": {},
   "outputs": [],
   "source": [
    "# output_parser.parse(result.content)"
   ]
  },
  {
   "cell_type": "code",
   "execution_count": 66,
   "id": "4569e13e-489d-4376-b174-f52c1c092515",
   "metadata": {},
   "outputs": [],
   "source": [
    "from langchain.output_parsers import DatetimeOutputParser"
   ]
  },
  {
   "cell_type": "code",
   "execution_count": 67,
   "id": "fc1170e5-92c6-41e4-b9a0-683155663685",
   "metadata": {},
   "outputs": [],
   "source": [
    "output_parser = DatetimeOutputParser()"
   ]
  },
  {
   "cell_type": "code",
   "execution_count": 69,
   "id": "299c9a78-08a7-4173-9085-32df0a4f8690",
   "metadata": {},
   "outputs": [],
   "source": [
    "# output_parser.get_format_instructions()"
   ]
  },
  {
   "cell_type": "code",
   "execution_count": 76,
   "id": "3f7f0119-56a1-4edf-8953-16ebd49eff45",
   "metadata": {},
   "outputs": [],
   "source": [
    "template_text = \"{request}\\n{format_instructions}\"\n",
    "human_prompt = HumanMessagePromptTemplate.from_template(template_text)\n",
    "\n",
    "\n",
    "system_prompt = SystemMessagePromptTemplate.from_template(\"You always reply to questions only in datetime patterns.\")"
   ]
  },
  {
   "cell_type": "code",
   "execution_count": 82,
   "id": "ec9403c6-bacd-4803-bf4a-275f04c80fca",
   "metadata": {},
   "outputs": [],
   "source": [
    "chat_prompt = ChatPromptTemplate.from_messages([human_prompt])"
   ]
  },
  {
   "cell_type": "code",
   "execution_count": 83,
   "id": "756f0ca6-c70b-41dd-b9f8-c81d6efd4e6c",
   "metadata": {},
   "outputs": [],
   "source": [
    "model_request = chat_prompt.format_prompt(request=\"What date was the 13th Amendment ratified in the US?\",\n",
    "                          format_instructions=output_parser.get_format_instructions()).to_messages()"
   ]
  },
  {
   "cell_type": "code",
   "execution_count": 84,
   "id": "3504c03d-950d-4acb-9c39-c4531cb746ba",
   "metadata": {},
   "outputs": [],
   "source": [
    "result = model(model_request,temperature=0)"
   ]
  },
  {
   "cell_type": "code",
   "execution_count": 85,
   "id": "ebf6b88f-926e-4a80-bc56-4913ad6e11c0",
   "metadata": {},
   "outputs": [
    {
     "data": {
      "text/plain": [
       "'The 13th Amendment was ratified in the US on December 6, 1865.\\n\\nThe datetime string that matches the given pattern is: \"1865-12-06T00:00:00.000000Z\"'"
      ]
     },
     "execution_count": 85,
     "metadata": {},
     "output_type": "execute_result"
    }
   ],
   "source": [
    "result.content"
   ]
  },
  {
   "cell_type": "code",
   "execution_count": 97,
   "id": "cf1a99fc-f034-471e-a8dd-cb1fe2f06b9f",
   "metadata": {},
   "outputs": [],
   "source": [
    "from langchain.output_parsers import OutputFixingParser"
   ]
  },
  {
   "cell_type": "code",
   "execution_count": 98,
   "id": "e6e33803-0af2-4418-941c-2f1d22c07dfe",
   "metadata": {},
   "outputs": [],
   "source": [
    "misformatted = result.content"
   ]
  },
  {
   "cell_type": "code",
   "execution_count": 99,
   "id": "e6625eec-9ae6-4999-821d-d23d56fda193",
   "metadata": {},
   "outputs": [
    {
     "data": {
      "text/plain": [
       "'The 13th Amendment was ratified in the US on December 6, 1865.\\n\\nThe datetime string that matches the given pattern is: \"1865-12-06T00:00:00.000000Z\"'"
      ]
     },
     "execution_count": 99,
     "metadata": {},
     "output_type": "execute_result"
    }
   ],
   "source": [
    "misformatted"
   ]
  },
  {
   "cell_type": "code",
   "execution_count": 100,
   "id": "8b63a1b6-0acd-4707-bd2f-8b4a120efe60",
   "metadata": {},
   "outputs": [],
   "source": [
    "output_parser "
   ]
  },
  {
   "cell_type": "code",
   "execution_count": 114,
   "id": "746eacc3-2e3c-42f4-bb7d-46dab3c369b3",
   "metadata": {},
   "outputs": [
    {
     "data": {
      "text/plain": [
       "datetime.datetime(1865, 12, 6, 0, 0)"
      ]
     },
     "execution_count": 114,
     "metadata": {},
     "output_type": "execute_result"
    }
   ],
   "source": [
    "new_parser = OutputFixingParser.from_llm(parser=output_parser,llm=model)\n",
    "new_parser.parse(misformatted)"
   ]
  },
  {
   "cell_type": "code",
   "execution_count": 115,
   "id": "f30fa653-a741-463c-803f-25f864f5ccf6",
   "metadata": {},
   "outputs": [],
   "source": [
    "from langchain.output_parsers import PydanticOutputParser"
   ]
  },
  {
   "cell_type": "code",
   "execution_count": 116,
   "id": "b9cc9a65-235d-4a91-9da2-94faa78e4a5b",
   "metadata": {},
   "outputs": [],
   "source": [
    "from pydantic import BaseModel, Field"
   ]
  },
  {
   "cell_type": "code",
   "execution_count": 117,
   "id": "2e671724-7581-4600-ab9e-780fa68f0d7c",
   "metadata": {},
   "outputs": [],
   "source": [
    "class Scientist(BaseModel):\n",
    "    \n",
    "    name: str = Field(description='Name of a Scientist')\n",
    "    discoveries: list = Field(description=\"Python list of discoveries\")"
   ]
  },
  {
   "cell_type": "code",
   "execution_count": 118,
   "id": "1bafcce4-8560-47b6-991c-a0af5458645b",
   "metadata": {},
   "outputs": [],
   "source": [
    "parser = PydanticOutputParser(pydantic_object=Scientist)"
   ]
  },
  {
   "cell_type": "code",
   "execution_count": 119,
   "id": "79be8e38-c86a-494c-a7ec-ef7a1bbfe409",
   "metadata": {},
   "outputs": [
    {
     "name": "stdout",
     "output_type": "stream",
     "text": [
      "The output should be formatted as a JSON instance that conforms to the JSON schema below.\n",
      "\n",
      "As an example, for the schema {\"properties\": {\"foo\": {\"title\": \"Foo\", \"description\": \"a list of strings\", \"type\": \"array\", \"items\": {\"type\": \"string\"}}}, \"required\": [\"foo\"]}}\n",
      "the object {\"foo\": [\"bar\", \"baz\"]} is a well-formatted instance of the schema. The object {\"properties\": {\"foo\": [\"bar\", \"baz\"]}} is not well-formatted.\n",
      "\n",
      "Here is the output schema:\n",
      "```\n",
      "{\"properties\": {\"name\": {\"title\": \"Name\", \"description\": \"Name of a Scientist\", \"type\": \"string\"}, \"discoveries\": {\"title\": \"Discoveries\", \"description\": \"Python list of discoveries\", \"type\": \"array\", \"items\": {}}}, \"required\": [\"name\", \"discoveries\"]}\n",
      "```\n"
     ]
    }
   ],
   "source": [
    "print(parser.get_format_instructions())"
   ]
  },
  {
   "cell_type": "code",
   "execution_count": 120,
   "id": "748094f4-65d5-491c-9c75-1ba833f9ac70",
   "metadata": {},
   "outputs": [],
   "source": [
    "human_prompt = HumanMessagePromptTemplate.from_template(\"{request}\\n{format_instructions}\")"
   ]
  },
  {
   "cell_type": "code",
   "execution_count": 121,
   "id": "af044f51-dcaf-4247-94af-c1c7879fa299",
   "metadata": {},
   "outputs": [],
   "source": [
    "chat_prompt = ChatPromptTemplate.from_messages([human_prompt])"
   ]
  },
  {
   "cell_type": "code",
   "execution_count": 122,
   "id": "ab330c9e-4661-456a-9854-489ee3f4892c",
   "metadata": {},
   "outputs": [],
   "source": [
    "request = chat_prompt.format_prompt(request=\"Tell me about a famous scientist\",\n",
    "                                    format_instructions=parser.get_format_instructions()).to_messages()"
   ]
  },
  {
   "cell_type": "code",
   "execution_count": 123,
   "id": "cdc4f126-ffed-4484-8415-bf3e825ec6f8",
   "metadata": {},
   "outputs": [],
   "source": [
    "result = model(request,temperature=0)"
   ]
  },
  {
   "cell_type": "code",
   "execution_count": 126,
   "id": "edadebb9-4ba3-43dd-bf43-03bb173131b7",
   "metadata": {},
   "outputs": [
    {
     "data": {
      "text/plain": [
       "__main__.Scientist"
      ]
     },
     "execution_count": 126,
     "metadata": {},
     "output_type": "execute_result"
    }
   ],
   "source": [
    "type(parser.parse(result.content))"
   ]
  },
  {
   "cell_type": "code",
   "execution_count": null,
   "id": "2559e210-1645-48e3-910e-586dbe08cb20",
   "metadata": {},
   "outputs": [],
   "source": []
  }
 ],
 "metadata": {
  "kernelspec": {
   "display_name": "Python 3 (ipykernel)",
   "language": "python",
   "name": "python3"
  },
  "language_info": {
   "codemirror_mode": {
    "name": "ipython",
    "version": 3
   },
   "file_extension": ".py",
   "mimetype": "text/x-python",
   "name": "python",
   "nbconvert_exporter": "python",
   "pygments_lexer": "ipython3",
   "version": "3.9.12"
  }
 },
 "nbformat": 4,
 "nbformat_minor": 5
}
