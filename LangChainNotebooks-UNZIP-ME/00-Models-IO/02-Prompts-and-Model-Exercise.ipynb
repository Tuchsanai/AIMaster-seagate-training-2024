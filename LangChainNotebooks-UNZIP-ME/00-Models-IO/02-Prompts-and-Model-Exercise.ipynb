{
 "cells": [
  {
   "cell_type": "markdown",
   "id": "ede50d4d-6b9b-46b4-946c-edc6bde899c7",
   "metadata": {},
   "source": [
    "<a href = \"https://www.pieriantraining.com\"><img src=\"../PT Centered Purple.png\"> </a>\n",
    "\n",
    "<em style=\"text-align:center\">Copyrighted by Pierian Training</em>"
   ]
  },
  {
   "cell_type": "markdown",
   "id": "6c706772-7bbb-41a9-ab96-6480bc3ef2a3",
   "metadata": {
    "tags": []
   },
   "source": [
    "# Prompts and Models Exercise\n",
    "\n",
    "### NOTE: FEEL FREE TO JUST TREAT THIS AS A CODE ALONG EXAMPLE IF YOU DONT WANT AN EXERCISE BUT RATHER WATCH AN EXAMPLE.\n",
    "\n",
    "**TASK: Create a Python function that uses Prompts and Chat internally to give travel ideas related to two variables:**\n",
    "\n",
    "    * An Interest or Hobby\n",
    "    * A Budget\n",
    "    \n",
    "Remember that you should also decide on a system prompt. The end function will just be a nice wrapper on top of all the previous LangChain components we've discussed earlier."
   ]
  },
  {
   "cell_type": "code",
   "execution_count": 1,
   "id": "b4e6adae-ddfa-403f-afbc-eac1ff964c54",
   "metadata": {},
   "outputs": [],
   "source": [
    "def travel_idea(interest,budget):\n",
    "    '''\n",
    "    INPUTS:\n",
    "        interest: A str interest or hobby (e.g. fishing)\n",
    "        budget: A str budget (e.g. $10,000)\n",
    "    '''\n",
    "    pass"
   ]
  },
  {
   "cell_type": "markdown",
   "id": "34d0ecc5-a526-4a9b-933f-e7785f9401df",
   "metadata": {},
   "source": [
    "**Example Solution**\n",
    "\n",
    "Keep in mind your solution may differ slightly, but as long as it works, that's ok!"
   ]
  },
  {
   "cell_type": "code",
   "execution_count": 2,
   "id": "320be1cb-a639-460d-8472-fb6def536b19",
   "metadata": {},
   "outputs": [],
   "source": [
    "# DONT FORGET TO SETUP YOUR API KEY!"
   ]
  },
  {
   "cell_type": "code",
   "execution_count": 7,
   "id": "df2fd2ad-66f9-4462-9436-5cc5e7ea2d7f",
   "metadata": {},
   "outputs": [],
   "source": [
    "# DON\"T FORGET YOUR IMPORTS!\n",
    "\n",
    "def travel_idea(interest,budget):\n",
    "    '''\n",
    "    INPUTS:\n",
    "        interest: A str interest or hobby (e.g. fishing)\n",
    "        budget: A str budget (e.g. $10,000)\n",
    "    '''\n",
    "    pass"
   ]
  },
  {
   "cell_type": "code",
   "execution_count": 8,
   "id": "f7e240b6-96cf-4163-ad19-90a44cf7ef24",
   "metadata": {},
   "outputs": [
    {
     "name": "stdout",
     "output_type": "stream",
     "text": [
      "Certainly! Here's an example travel itinerary for a fishing trip on a budget of $10,000:\n",
      "\n",
      "Day 1: Arrival in Anchorage, Alaska\n",
      "- Fly into Anchorage and check into a budget-friendly hotel.\n",
      "- Spend the day exploring the city and enjoying local attractions.\n",
      "\n",
      "Day 2-3: Fishing in Kenai Peninsula\n",
      "- Rent a car and drive to the beautiful Kenai Peninsula.\n",
      "- Book a guided fishing trip on the Kenai River, known for its salmon and trout species.\n",
      "- Stay at a budget-friendly cabin or campground in the area.\n",
      "\n",
      "Day 4-6: Fishing in Yellowstone National Park, Wyoming\n",
      "- Fly from Anchorage to Jackson Hole, Wyoming.\n",
      "- Rent a car and drive to Yellowstone National Park.\n",
      "- Purchase a fishing permit and spend a few days fishing in the park's pristine rivers and lakes.\n",
      "- Stay at a budget-friendly lodge or campground within or near the park.\n",
      "\n",
      "Day 7-9: Fishing in Gunnison, Colorado\n",
      "- Fly from Jackson Hole to Gunnison, Colorado.\n",
      "- Rent a car and drive to Gunnison, known for its excellent trout fishing.\n",
      "- Hire a local guide and spend a few days fishing in the Gunnison River or nearby Blue Mesa Reservoir.\n",
      "- Stay at a budget-friendly hotel or campground in the area.\n",
      "\n",
      "Day 10-12: Fishing in Baja California, Mexico\n",
      "- Fly from Gunnison to Cabo San Lucas, Mexico.\n",
      "- Book a fishing charter and enjoy deep-sea fishing in the waters off the coast of Baja California.\n",
      "- Spend a couple of days exploring the vibrant local culture and relaxing on the beautiful beaches.\n",
      "- Stay at a budget-friendly hotel or hostel in Cabo San Lucas.\n",
      "\n",
      "Day 13: Return to Anchorage\n",
      "- Fly back to Anchorage from Cabo San Lucas.\n",
      "- Enjoy a final evening in the city, trying out local seafood and reflecting on your fishing adventures.\n",
      "\n",
      "Day 14: Departure\n",
      "- Check out of your hotel and fly back home, carrying wonderful memories of your fishing trip.\n",
      "\n",
      "Please note that the prices for flights, accommodations, and fishing charters may vary depending on the time of year and availability. It's always recommended to do thorough research and compare prices to stay within your budget.\n"
     ]
    }
   ],
   "source": [
    "print(travel_idea('fishing','$10,000'))"
   ]
  }
 ],
 "metadata": {
  "kernelspec": {
   "display_name": "Python 3 (ipykernel)",
   "language": "python",
   "name": "python3"
  },
  "language_info": {
   "codemirror_mode": {
    "name": "ipython",
    "version": 3
   },
   "file_extension": ".py",
   "mimetype": "text/x-python",
   "name": "python",
   "nbconvert_exporter": "python",
   "pygments_lexer": "ipython3",
   "version": "3.9.12"
  }
 },
 "nbformat": 4,
 "nbformat_minor": 5
}
