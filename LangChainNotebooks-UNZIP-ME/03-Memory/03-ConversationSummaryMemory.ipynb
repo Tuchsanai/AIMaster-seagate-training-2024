{
 "cells": [
  {
   "cell_type": "markdown",
   "id": "bcded1a6-2430-4707-a78c-c82f4c5ee6fc",
   "metadata": {},
   "source": [
    "<a href = \"https://www.pieriantraining.com\"><img src=\"../PT Centered Purple.png\"> </a>\n",
    "\n",
    "<em style=\"text-align:center\">Copyrighted by Pierian Training</em>"
   ]
  },
  {
   "cell_type": "markdown",
   "id": "728f1747-b8fc-4d31-96c2-047fc83c079d",
   "metadata": {},
   "source": [
    "#  ConversationSummaryMemory"
   ]
  },
  {
   "cell_type": "code",
   "execution_count": 26,
   "id": "261e60bc-9653-4acf-91fe-d088f49d494a",
   "metadata": {},
   "outputs": [],
   "source": [
    "from langchain.chat_models import ChatOpenAI\n",
    "from langchain.chains import ConversationChain\n",
    "from langchain.memory import ConversationSummaryBufferMemory"
   ]
  },
  {
   "cell_type": "code",
   "execution_count": 27,
   "id": "4c741139-a54e-46c9-af29-2ba64f914f15",
   "metadata": {},
   "outputs": [],
   "source": [
    "llm = ChatOpenAI(temperature=0.0)\n",
    "memory = ConversationSummaryBufferMemory(llm=llm)"
   ]
  },
  {
   "cell_type": "code",
   "execution_count": 28,
   "id": "efb997dd-caac-4483-9d70-cb53fedb7183",
   "metadata": {},
   "outputs": [],
   "source": [
    "# Create a Long string that will break a token limit, causing the need for a summary\n",
    "trip_plans = '''Oh, this weekend I'm actually planning a trip to Yellowstone National\n",
    "Park! I'm super excited about it! I'll be starting off by driving through\n",
    "the grand entrance and soaking in the stunning scenery. My first stop will\n",
    "be the famous Old Faithful Geyser to catch its incredible eruptions.\n",
    "Then, I'll wander around the Upper Geyser Basin on the boardwalks to \n",
    "check out all those cool geothermal features. And guess what? I'll \n",
    "be wrapping up the day with a relaxing dip in the Boiling River, \n",
    "a natural hot spring. Can't wait to unwind and enjoy the beauty of \n",
    "nature! So yeah, that's my weekend plan. How about you?'''"
   ]
  },
  {
   "cell_type": "markdown",
   "id": "425c1afc-b9f8-45af-906d-08128569aa6e",
   "metadata": {},
   "source": [
    "## Create new Conversation Chain with a built in Summarizer Buffer Memory"
   ]
  },
  {
   "cell_type": "code",
   "execution_count": 29,
   "id": "2cf7d584-61b2-4d5a-8158-4e7870e399bf",
   "metadata": {},
   "outputs": [],
   "source": [
    "memory = ConversationSummaryBufferMemory(llm=llm, max_token_limit=100)"
   ]
  },
  {
   "cell_type": "code",
   "execution_count": 30,
   "id": "aea93b0f-6caf-423e-9308-af0231ac6872",
   "metadata": {},
   "outputs": [],
   "source": [
    "memory.save_context({\"input\": \"Hello\"}, {\"output\": \"Hi!\"})\n",
    "memory.save_context({\"input\": \"What plans do you have this weekend?\"}, \n",
    "                    {\"output\": f\"{trip_plans}\"})"
   ]
  },
  {
   "cell_type": "code",
   "execution_count": 31,
   "id": "9a3f219b-7d5e-49c9-b4bf-79ab0a95cc25",
   "metadata": {},
   "outputs": [
    {
     "data": {
      "text/plain": [
       "{'history': 'System: The human greets the AI and asks about its plans for the weekend. The AI excitedly shares that it is planning a trip to Yellowstone National Park. It mentions driving through the grand entrance, visiting the Old Faithful Geyser, exploring the Upper Geyser Basin, and ending the day with a dip in the Boiling River. The AI then asks the human about their weekend plans.'}"
      ]
     },
     "execution_count": 31,
     "metadata": {},
     "output_type": "execute_result"
    }
   ],
   "source": [
    "memory.load_memory_variables({})"
   ]
  },
  {
   "cell_type": "markdown",
   "id": "c830185f-9b6d-4083-a875-e9a03a305cb1",
   "metadata": {},
   "source": [
    "K is the limitation to number of exchanges!"
   ]
  }
 ],
 "metadata": {
  "kernelspec": {
   "display_name": "Python 3 (ipykernel)",
   "language": "python",
   "name": "python3"
  },
  "language_info": {
   "codemirror_mode": {
    "name": "ipython",
    "version": 3
   },
   "file_extension": ".py",
   "mimetype": "text/x-python",
   "name": "python",
   "nbconvert_exporter": "python",
   "pygments_lexer": "ipython3",
   "version": "3.9.12"
  }
 },
 "nbformat": 4,
 "nbformat_minor": 5
}
