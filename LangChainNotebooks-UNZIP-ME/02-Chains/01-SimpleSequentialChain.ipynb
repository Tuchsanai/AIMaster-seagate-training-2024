{
 "cells": [
  {
   "cell_type": "markdown",
   "id": "bcded1a6-2430-4707-a78c-c82f4c5ee6fc",
   "metadata": {},
   "source": [
    "<a href = \"https://www.pieriantraining.com\"><img src=\"../PT Centered Purple.png\"> </a>\n",
    "\n",
    "<em style=\"text-align:center\">Copyrighted by Pierian Training</em>"
   ]
  },
  {
   "cell_type": "markdown",
   "id": "728f1747-b8fc-4d31-96c2-047fc83c079d",
   "metadata": {},
   "source": [
    "#  Simple Sequential Chain"
   ]
  },
  {
   "cell_type": "code",
   "execution_count": 10,
   "id": "5f4cb796-3ea3-4a63-96a3-58d9be1991a8",
   "metadata": {},
   "outputs": [],
   "source": [
    "from langchain.chat_models import ChatOpenAI\n",
    "from langchain.prompts import ChatPromptTemplate\n",
    "from langchain.chains import SimpleSequentialChain, LLMChain"
   ]
  },
  {
   "cell_type": "code",
   "execution_count": 11,
   "id": "ee4cf672-8071-42c1-917a-f04c2f88c8d6",
   "metadata": {},
   "outputs": [],
   "source": [
    "llm = ChatOpenAI()"
   ]
  },
  {
   "cell_type": "code",
   "execution_count": 18,
   "id": "75505659-35af-4eec-a890-42ab4486ea9a",
   "metadata": {},
   "outputs": [],
   "source": [
    "template = \"Give me a simple bullet point outline for a blog post on {topic}\"\n",
    "first_prompt = ChatPromptTemplate.from_template(template)\n",
    "chain_one = LLMChain(llm=llm,prompt=first_prompt)"
   ]
  },
  {
   "cell_type": "code",
   "execution_count": 19,
   "id": "24b974d6-446f-4328-b2af-eda7041f6587",
   "metadata": {},
   "outputs": [],
   "source": [
    "template = \"Write a blog post using this outline: {outline}\"\n",
    "second_prompt = ChatPromptTemplate.from_template(template)\n",
    "chain_two = LLMChain(llm=llm,prompt=second_prompt)"
   ]
  },
  {
   "cell_type": "code",
   "execution_count": 20,
   "id": "9f3919a0-fee1-48bb-aeab-4be80f4799fc",
   "metadata": {},
   "outputs": [],
   "source": [
    "full_chain = SimpleSequentialChain(chains=[chain_one,chain_two],\n",
    "                                  verbose=True)"
   ]
  },
  {
   "cell_type": "code",
   "execution_count": 21,
   "id": "23708ed6-3511-4adb-83ad-ca24cd936fd8",
   "metadata": {},
   "outputs": [
    {
     "name": "stdout",
     "output_type": "stream",
     "text": [
      "\n",
      "\n",
      "\u001b[1m> Entering new  chain...\u001b[0m\n",
      "\u001b[36;1m\u001b[1;3mI. Introduction\n",
      "   A. Definition of data science\n",
      "   B. Importance of data science in today's world\n",
      "\n",
      "II. What is Data Science?\n",
      "   A. Explanation of data science\n",
      "   B. Key components of data science\n",
      "\n",
      "III. Applications of Data Science\n",
      "   A. Data-driven decision making\n",
      "   B. Predictive modeling and forecasting\n",
      "   C. Customer segmentation and targeting\n",
      "   D. Fraud detection and prevention\n",
      "   E. Healthcare and medical research\n",
      "   F. Recommender systems\n",
      "   G. Social media analytics\n",
      "\n",
      "IV. Skills Required for Data Science\n",
      "   A. Statistics and mathematics\n",
      "   B. Programming languages (Python, R, etc.)\n",
      "   C. Data visualization\n",
      "   D. Machine learning and artificial intelligence\n",
      "   E. Problem-solving and critical thinking\n",
      "\n",
      "V. Tools and Technologies Used in Data Science\n",
      "   A. Data collection and storage (SQL, NoSQL, Hadoop, etc.)\n",
      "   B. Data cleaning and preprocessing\n",
      "   C. Data analysis and visualization (Tableau, Power BI, etc.)\n",
      "   D. Machine learning frameworks (TensorFlow, scikit-learn, etc.)\n",
      "   E. Cloud computing platforms (AWS, Google Cloud, etc.)\n",
      "\n",
      "VI. Challenges in Data Science\n",
      "   A. Data quality and reliability\n",
      "   B. Privacy and ethical concerns\n",
      "   C. Lack of domain expertise\n",
      "   D. Scalability and computational limitations\n",
      "\n",
      "VII. Future of Data Science\n",
      "   A. Emerging trends and technologies\n",
      "   B. Increasing demand for data scientists\n",
      "   C. Integration of data science in various industries\n",
      "\n",
      "VIII. Conclusion\n",
      "   Recap of key points discussed\n",
      "   Encouragement for readers to explore data science further\u001b[0m\n",
      "\u001b[33;1m\u001b[1;3mTitle: The Power of Data Science: Unleashing the Potential of Data\n",
      "\n",
      "Introduction:\n",
      "In today's world, data science has become a game-changer, revolutionizing the way businesses, organizations, and even individuals make decisions. Defined as the interdisciplinary field that uses scientific methods, processes, algorithms, and systems to extract knowledge and insights from structured and unstructured data, data science has become an essential tool for success in various industries. This blog post will explore the importance of data science, its key components, applications, required skills, tools and technologies used, challenges faced, and the promising future it holds.\n",
      "\n",
      "What is Data Science?\n",
      "Data science involves the extraction of valuable insights and knowledge from vast amounts of data through a combination of statistics, mathematics, and computer science. It encompasses various processes, including data collection, cleaning, analysis, and visualization. The key components of data science include data exploration, data modeling, and data communication.\n",
      "\n",
      "Applications of Data Science:\n",
      "Data science plays a pivotal role in multiple industries and sectors. It enables data-driven decision making, allowing businesses to make informed choices based on analysis and insights. Predictive modeling and forecasting help organizations anticipate future trends and make accurate predictions. Customer segmentation and targeting allow businesses to tailor their marketing strategies to specific customer groups. Fraud detection and prevention systems use data science techniques to identify and prevent fraudulent activities. In healthcare and medical research, data science aids in disease detection, drug discovery, and personalized medicine. Recommender systems analyze user preferences to provide personalized recommendations, while social media analytics help businesses understand customer behavior and sentiment.\n",
      "\n",
      "Skills Required for Data Science:\n",
      "Becoming a proficient data scientist requires a combination of essential skills. A strong foundation in statistics and mathematics is crucial for analyzing and interpreting data accurately. Proficiency in programming languages like Python and R enables data scientists to manipulate, clean, and analyze data efficiently. Data visualization skills are essential for effectively communicating insights to stakeholders. Knowledge of machine learning and artificial intelligence algorithms helps in building predictive models. Problem-solving and critical thinking abilities enable data scientists to tackle complex challenges and find innovative solutions.\n",
      "\n",
      "Tools and Technologies Used in Data Science:\n",
      "Data science relies on a range of tools and technologies to handle data. Data collection and storage are facilitated by technologies such as SQL, NoSQL, and Hadoop. Data cleaning and preprocessing tools ensure data quality and usability. Data analysis and visualization tools like Tableau and Power BI aid in transforming raw data into meaningful insights. Machine learning frameworks such as TensorFlow and scikit-learn provide the necessary algorithms for modeling and prediction. Cloud computing platforms like AWS and Google Cloud enable scalable and efficient data processing.\n",
      "\n",
      "Challenges in Data Science:\n",
      "While data science offers immense opportunities, it also faces several challenges. Data quality and reliability can be a significant hurdle, as incomplete or inaccurate data can lead to incorrect conclusions. Privacy and ethical concerns arise when dealing with sensitive and personal data. The lack of domain expertise can limit the effectiveness of data analysis in certain industries. Scalability and computational limitations can pose challenges when dealing with large datasets and complex models.\n",
      "\n",
      "Future of Data Science:\n",
      "The future of data science looks promising, with emerging trends and technologies. Advancements in artificial intelligence, deep learning, and natural language processing are revolutionizing the field. The demand for data scientists is rapidly increasing across industries, as organizations realize the value of data-driven decision making. Data science is becoming an integral part of various industries, including finance, healthcare, retail, and manufacturing.\n",
      "\n",
      "Conclusion:\n",
      "Data science has the power to transform businesses, industries, and even societies. By harnessing the potential of data, organizations can make more informed decisions, improve efficiency, and gain a competitive edge. As the field continues to evolve, exploring data science further can open up a world of opportunities for individuals and organizations alike. Embracing data science is the key to unlocking the full potential of data and driving innovation in the digital age.\u001b[0m\n",
      "\n",
      "\u001b[1m> Finished chain.\u001b[0m\n",
      "Title: The Power of Data Science: Unleashing the Potential of Data\n",
      "\n",
      "Introduction:\n",
      "In today's world, data science has become a game-changer, revolutionizing the way businesses, organizations, and even individuals make decisions. Defined as the interdisciplinary field that uses scientific methods, processes, algorithms, and systems to extract knowledge and insights from structured and unstructured data, data science has become an essential tool for success in various industries. This blog post will explore the importance of data science, its key components, applications, required skills, tools and technologies used, challenges faced, and the promising future it holds.\n",
      "\n",
      "What is Data Science?\n",
      "Data science involves the extraction of valuable insights and knowledge from vast amounts of data through a combination of statistics, mathematics, and computer science. It encompasses various processes, including data collection, cleaning, analysis, and visualization. The key components of data science include data exploration, data modeling, and data communication.\n",
      "\n",
      "Applications of Data Science:\n",
      "Data science plays a pivotal role in multiple industries and sectors. It enables data-driven decision making, allowing businesses to make informed choices based on analysis and insights. Predictive modeling and forecasting help organizations anticipate future trends and make accurate predictions. Customer segmentation and targeting allow businesses to tailor their marketing strategies to specific customer groups. Fraud detection and prevention systems use data science techniques to identify and prevent fraudulent activities. In healthcare and medical research, data science aids in disease detection, drug discovery, and personalized medicine. Recommender systems analyze user preferences to provide personalized recommendations, while social media analytics help businesses understand customer behavior and sentiment.\n",
      "\n",
      "Skills Required for Data Science:\n",
      "Becoming a proficient data scientist requires a combination of essential skills. A strong foundation in statistics and mathematics is crucial for analyzing and interpreting data accurately. Proficiency in programming languages like Python and R enables data scientists to manipulate, clean, and analyze data efficiently. Data visualization skills are essential for effectively communicating insights to stakeholders. Knowledge of machine learning and artificial intelligence algorithms helps in building predictive models. Problem-solving and critical thinking abilities enable data scientists to tackle complex challenges and find innovative solutions.\n",
      "\n",
      "Tools and Technologies Used in Data Science:\n",
      "Data science relies on a range of tools and technologies to handle data. Data collection and storage are facilitated by technologies such as SQL, NoSQL, and Hadoop. Data cleaning and preprocessing tools ensure data quality and usability. Data analysis and visualization tools like Tableau and Power BI aid in transforming raw data into meaningful insights. Machine learning frameworks such as TensorFlow and scikit-learn provide the necessary algorithms for modeling and prediction. Cloud computing platforms like AWS and Google Cloud enable scalable and efficient data processing.\n",
      "\n",
      "Challenges in Data Science:\n",
      "While data science offers immense opportunities, it also faces several challenges. Data quality and reliability can be a significant hurdle, as incomplete or inaccurate data can lead to incorrect conclusions. Privacy and ethical concerns arise when dealing with sensitive and personal data. The lack of domain expertise can limit the effectiveness of data analysis in certain industries. Scalability and computational limitations can pose challenges when dealing with large datasets and complex models.\n",
      "\n",
      "Future of Data Science:\n",
      "The future of data science looks promising, with emerging trends and technologies. Advancements in artificial intelligence, deep learning, and natural language processing are revolutionizing the field. The demand for data scientists is rapidly increasing across industries, as organizations realize the value of data-driven decision making. Data science is becoming an integral part of various industries, including finance, healthcare, retail, and manufacturing.\n",
      "\n",
      "Conclusion:\n",
      "Data science has the power to transform businesses, industries, and even societies. By harnessing the potential of data, organizations can make more informed decisions, improve efficiency, and gain a competitive edge. As the field continues to evolve, exploring data science further can open up a world of opportunities for individuals and organizations alike. Embracing data science is the key to unlocking the full potential of data and driving innovation in the digital age.\n"
     ]
    }
   ],
   "source": [
    "result = full_chain.run(\"Data Science\")\n",
    "print(result)"
   ]
  },
  {
   "cell_type": "code",
   "execution_count": null,
   "id": "c41b4952-b601-446c-83cf-49b7cdd9bab2",
   "metadata": {},
   "outputs": [],
   "source": []
  }
 ],
 "metadata": {
  "kernelspec": {
   "display_name": "Python 3 (ipykernel)",
   "language": "python",
   "name": "python3"
  },
  "language_info": {
   "codemirror_mode": {
    "name": "ipython",
    "version": 3
   },
   "file_extension": ".py",
   "mimetype": "text/x-python",
   "name": "python",
   "nbconvert_exporter": "python",
   "pygments_lexer": "ipython3",
   "version": "3.9.12"
  }
 },
 "nbformat": 4,
 "nbformat_minor": 5
}
