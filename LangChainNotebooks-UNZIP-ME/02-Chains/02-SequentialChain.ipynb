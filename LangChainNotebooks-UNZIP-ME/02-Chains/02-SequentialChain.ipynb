{
 "cells": [
  {
   "cell_type": "markdown",
   "id": "bcded1a6-2430-4707-a78c-c82f4c5ee6fc",
   "metadata": {},
   "source": [
    "<a href = \"https://www.pieriantraining.com\"><img src=\"../PT Centered Purple.png\"> </a>\n",
    "\n",
    "<em style=\"text-align:center\">Copyrighted by Pierian Training</em>"
   ]
  },
  {
   "cell_type": "markdown",
   "id": "728f1747-b8fc-4d31-96c2-047fc83c079d",
   "metadata": {},
   "source": [
    "#  Sequential Chains"
   ]
  },
  {
   "cell_type": "code",
   "execution_count": 24,
   "id": "8a482e73-7d0c-407f-bd88-9f3c1c7eb559",
   "metadata": {},
   "outputs": [],
   "source": [
    "from langchain.chat_models import ChatOpenAI\n",
    "from langchain.prompts import ChatPromptTemplate\n",
    "from langchain.chains import SequentialChain, LLMChain"
   ]
  },
  {
   "cell_type": "code",
   "execution_count": 25,
   "id": "dda2db90-b54b-422e-baff-2bd96faeaaeb",
   "metadata": {},
   "outputs": [],
   "source": [
    "llm = ChatOpenAI()"
   ]
  },
  {
   "cell_type": "code",
   "execution_count": 26,
   "id": "c2db5816-b29d-4567-b6aa-12e0c74e9331",
   "metadata": {},
   "outputs": [],
   "source": [
    "template1 = \"Give a summary of this employee's performance review:\\n{review}\"\n",
    "prompt1 = ChatPromptTemplate.from_template(template1)\n",
    "chain_1 = LLMChain(llm=llm,\n",
    "                     prompt=prompt1,\n",
    "                     output_key=\"review_summary\")"
   ]
  },
  {
   "cell_type": "code",
   "execution_count": 27,
   "id": "2a6c1d04-1fe0-4386-8b3a-4535cbfaff43",
   "metadata": {},
   "outputs": [],
   "source": [
    "template2 = \"Identify key employee weaknesses in this review summary:\\n{review_summary}\"\n",
    "prompt2 = ChatPromptTemplate.from_template(template2)\n",
    "chain_2 = LLMChain(llm=llm,\n",
    "                     prompt=prompt2,\n",
    "                     output_key=\"weaknesses\")"
   ]
  },
  {
   "cell_type": "code",
   "execution_count": 28,
   "id": "8031844b-586e-44b5-ac74-23b3767a9413",
   "metadata": {},
   "outputs": [],
   "source": [
    "template3 = \"Create a personalized plan to help address and fix these weaknesses:\\n{weaknesses}\"\n",
    "prompt3 = ChatPromptTemplate.from_template(template3)\n",
    "chain_3 = LLMChain(llm=llm,\n",
    "                     prompt=prompt3,\n",
    "                     output_key=\"final_plan\")"
   ]
  },
  {
   "cell_type": "code",
   "execution_count": 29,
   "id": "9e93a32e-3199-447c-ab17-22585d80422d",
   "metadata": {},
   "outputs": [],
   "source": [
    "seq_chain = SequentialChain(chains=[chain_1,chain_2,chain_3],\n",
    "                            input_variables=['review'],\n",
    "                            output_variables=['review_summary','weaknesses','final_plan'],\n",
    "                            verbose=True)"
   ]
  },
  {
   "cell_type": "code",
   "execution_count": 30,
   "id": "0e6013f5-40c9-401b-9d45-98b52de1bb3f",
   "metadata": {},
   "outputs": [],
   "source": [
    "employee_review = '''\n",
    "Employee Information:\n",
    "Name: Joe Schmo\n",
    "Position: Software Engineer\n",
    "Date of Review: July 14, 2023\n",
    "\n",
    "Strengths:\n",
    "Joe is a highly skilled software engineer with a deep understanding of programming languages, algorithms, and software development best practices. His technical expertise shines through in his ability to efficiently solve complex problems and deliver high-quality code.\n",
    "\n",
    "One of Joe's greatest strengths is his collaborative nature. He actively engages with cross-functional teams, contributing valuable insights and seeking input from others. His open-mindedness and willingness to learn from colleagues make him a true team player.\n",
    "\n",
    "Joe consistently demonstrates initiative and self-motivation. He takes the lead in seeking out new projects and challenges, and his proactive attitude has led to significant improvements in existing processes and systems. His dedication to self-improvement and growth is commendable.\n",
    "\n",
    "Another notable strength is Joe's adaptability. He has shown great flexibility in handling changing project requirements and learning new technologies. This adaptability allows him to seamlessly transition between different projects and tasks, making him a valuable asset to the team.\n",
    "\n",
    "Joe's problem-solving skills are exceptional. He approaches issues with a logical mindset and consistently finds effective solutions, often thinking outside the box. His ability to break down complex problems into manageable parts is key to his success in resolving issues efficiently.\n",
    "\n",
    "Weaknesses:\n",
    "While Joe possesses numerous strengths, there are a few areas where he could benefit from improvement. One such area is time management. Occasionally, Joe struggles with effectively managing his time, resulting in missed deadlines or the need for additional support to complete tasks on time. Developing better prioritization and time management techniques would greatly enhance his efficiency.\n",
    "\n",
    "Another area for improvement is Joe's written communication skills. While he communicates well verbally, there have been instances where his written documentation lacked clarity, leading to confusion among team members. Focusing on enhancing his written communication abilities will help him effectively convey ideas and instructions.\n",
    "\n",
    "Additionally, Joe tends to take on too many responsibilities and hesitates to delegate tasks to others. This can result in an excessive workload and potential burnout. Encouraging him to delegate tasks appropriately will not only alleviate his own workload but also foster a more balanced and productive team environment.\n",
    "'''"
   ]
  },
  {
   "cell_type": "code",
   "execution_count": 32,
   "id": "406813b0-b79d-4056-8dbc-923e1986df41",
   "metadata": {},
   "outputs": [
    {
     "name": "stdout",
     "output_type": "stream",
     "text": [
      "\n",
      "\n",
      "\u001b[1m> Entering new  chain...\u001b[0m\n",
      "\n",
      "\u001b[1m> Finished chain.\u001b[0m\n"
     ]
    }
   ],
   "source": [
    "results = seq_chain(employee_review)"
   ]
  },
  {
   "cell_type": "code",
   "execution_count": 33,
   "id": "be395801-2e84-4686-9203-3857f8b5934b",
   "metadata": {},
   "outputs": [
    {
     "data": {
      "text/plain": [
       "{'review': \"\\nEmployee Information:\\nName: Joe Schmo\\nPosition: Software Engineer\\nDate of Review: July 14, 2023\\n\\nStrengths:\\nJoe is a highly skilled software engineer with a deep understanding of programming languages, algorithms, and software development best practices. His technical expertise shines through in his ability to efficiently solve complex problems and deliver high-quality code.\\n\\nOne of Joe's greatest strengths is his collaborative nature. He actively engages with cross-functional teams, contributing valuable insights and seeking input from others. His open-mindedness and willingness to learn from colleagues make him a true team player.\\n\\nJoe consistently demonstrates initiative and self-motivation. He takes the lead in seeking out new projects and challenges, and his proactive attitude has led to significant improvements in existing processes and systems. His dedication to self-improvement and growth is commendable.\\n\\nAnother notable strength is Joe's adaptability. He has shown great flexibility in handling changing project requirements and learning new technologies. This adaptability allows him to seamlessly transition between different projects and tasks, making him a valuable asset to the team.\\n\\nJoe's problem-solving skills are exceptional. He approaches issues with a logical mindset and consistently finds effective solutions, often thinking outside the box. His ability to break down complex problems into manageable parts is key to his success in resolving issues efficiently.\\n\\nWeaknesses:\\nWhile Joe possesses numerous strengths, there are a few areas where he could benefit from improvement. One such area is time management. Occasionally, Joe struggles with effectively managing his time, resulting in missed deadlines or the need for additional support to complete tasks on time. Developing better prioritization and time management techniques would greatly enhance his efficiency.\\n\\nAnother area for improvement is Joe's written communication skills. While he communicates well verbally, there have been instances where his written documentation lacked clarity, leading to confusion among team members. Focusing on enhancing his written communication abilities will help him effectively convey ideas and instructions.\\n\\nAdditionally, Joe tends to take on too many responsibilities and hesitates to delegate tasks to others. This can result in an excessive workload and potential burnout. Encouraging him to delegate tasks appropriately will not only alleviate his own workload but also foster a more balanced and productive team environment.\\n\",\n",
       " 'review_summary': \"Overall, Joe's performance as a software engineer is highly commendable. He possesses strong technical skills, collaborative nature, initiative, adaptability, and exceptional problem-solving abilities. However, there are areas where he could improve, such as time management, written communication skills, and delegation of tasks. Addressing these weaknesses will further enhance his efficiency and contribute to a more balanced and productive team environment.\",\n",
       " 'weaknesses': 'The key employee weaknesses identified in this review summary are:\\n\\n1. Time management: Joe needs to improve his ability to manage his time effectively, suggesting potential challenges in meeting deadlines or prioritizing tasks.\\n\\n2. Written communication skills: Joe could enhance his written communication abilities, indicating potential difficulties in effectively conveying information or ideas through written documentation, emails, or reports.\\n\\n3. Delegation of tasks: Joe should work on his ability to delegate tasks to others, suggesting potential challenges in effectively distributing workload or trusting others to complete tasks.\\n\\nOverall, addressing these weaknesses will help Joe become a more well-rounded and efficient software engineer, contributing to a more balanced and productive team environment.',\n",
       " 'final_plan': \"To address and fix these weaknesses, the following personalized plan can be implemented for Joe:\\n\\n1. Time management:\\n\\n- Set clear goals and priorities: Joe should start each day by identifying the most important tasks that need to be accomplished and prioritize them accordingly. This will help him stay focused and ensure that he completes critical tasks on time.\\n- Break tasks into smaller, manageable chunks: Large projects can be overwhelming and lead to procrastination. Joe should break them down into smaller, more manageable tasks, setting specific deadlines for each subtask. This will help him track progress and stay on schedule.\\n- Use time management tools: Joe can utilize various time management tools, such as calendars, task management apps, or project management software, to help him stay organized and prioritize tasks effectively.\\n\\n2. Written communication skills:\\n\\n- Seek feedback and guidance: Joe should actively seek feedback from his colleagues or supervisors on his written communication skills. This feedback can help identify specific areas for improvement and provide guidance on how to enhance his written communication abilities.\\n- Take writing courses or workshops: Joe can enroll in writing courses or workshops to improve his written communication skills. These courses can provide him with practical tips and techniques for conveying information effectively and ensure that his written documentation, emails, and reports are clear and concise.\\n- Practice writing regularly: Joe should make an effort to practice his writing skills regularly. This can include writing memos, reports, or even maintaining a personal blog. Regular practice will help him become more comfortable and proficient in conveying his ideas through written communication.\\n\\n3. Delegation of tasks:\\n\\n- Identify tasks suitable for delegation: Joe should assess his workload and identify tasks that can be delegated to others without compromising quality or efficiency. This will help him free up time for more critical tasks and develop trust in his colleagues' abilities.\\n- Communicate expectations clearly: When delegating tasks, Joe should clearly communicate his expectations, including deadlines, desired outcomes, and any necessary guidelines or resources. This will ensure that delegated tasks are completed efficiently and effectively.\\n- Provide support and feedback: Joe should offer support to colleagues to whom he delegates tasks. This can include providing resources, answering questions, or offering guidance when needed. Additionally, he should provide constructive feedback on completed tasks to help improve the overall delegation process.\\n\\nRegular self-assessments and discussions with supervisors or mentors can help track progress and identify any further areas of improvement. Implementing this personalized plan will enable Joe to address his weaknesses and enhance his overall performance as a software engineer.\"}"
      ]
     },
     "execution_count": 33,
     "metadata": {},
     "output_type": "execute_result"
    }
   ],
   "source": [
    "results"
   ]
  },
  {
   "cell_type": "code",
   "execution_count": 34,
   "id": "2edc6866-769b-47ee-921d-ae40eb9891eb",
   "metadata": {},
   "outputs": [
    {
     "name": "stdout",
     "output_type": "stream",
     "text": [
      "To address and fix these weaknesses, the following personalized plan can be implemented for Joe:\n",
      "\n",
      "1. Time management:\n",
      "\n",
      "- Set clear goals and priorities: Joe should start each day by identifying the most important tasks that need to be accomplished and prioritize them accordingly. This will help him stay focused and ensure that he completes critical tasks on time.\n",
      "- Break tasks into smaller, manageable chunks: Large projects can be overwhelming and lead to procrastination. Joe should break them down into smaller, more manageable tasks, setting specific deadlines for each subtask. This will help him track progress and stay on schedule.\n",
      "- Use time management tools: Joe can utilize various time management tools, such as calendars, task management apps, or project management software, to help him stay organized and prioritize tasks effectively.\n",
      "\n",
      "2. Written communication skills:\n",
      "\n",
      "- Seek feedback and guidance: Joe should actively seek feedback from his colleagues or supervisors on his written communication skills. This feedback can help identify specific areas for improvement and provide guidance on how to enhance his written communication abilities.\n",
      "- Take writing courses or workshops: Joe can enroll in writing courses or workshops to improve his written communication skills. These courses can provide him with practical tips and techniques for conveying information effectively and ensure that his written documentation, emails, and reports are clear and concise.\n",
      "- Practice writing regularly: Joe should make an effort to practice his writing skills regularly. This can include writing memos, reports, or even maintaining a personal blog. Regular practice will help him become more comfortable and proficient in conveying his ideas through written communication.\n",
      "\n",
      "3. Delegation of tasks:\n",
      "\n",
      "- Identify tasks suitable for delegation: Joe should assess his workload and identify tasks that can be delegated to others without compromising quality or efficiency. This will help him free up time for more critical tasks and develop trust in his colleagues' abilities.\n",
      "- Communicate expectations clearly: When delegating tasks, Joe should clearly communicate his expectations, including deadlines, desired outcomes, and any necessary guidelines or resources. This will ensure that delegated tasks are completed efficiently and effectively.\n",
      "- Provide support and feedback: Joe should offer support to colleagues to whom he delegates tasks. This can include providing resources, answering questions, or offering guidance when needed. Additionally, he should provide constructive feedback on completed tasks to help improve the overall delegation process.\n",
      "\n",
      "Regular self-assessments and discussions with supervisors or mentors can help track progress and identify any further areas of improvement. Implementing this personalized plan will enable Joe to address his weaknesses and enhance his overall performance as a software engineer.\n"
     ]
    }
   ],
   "source": [
    "print(results['final_plan'])"
   ]
  },
  {
   "cell_type": "code",
   "execution_count": null,
   "id": "15760213-e3a3-443a-9fe7-17d14c438ac5",
   "metadata": {},
   "outputs": [],
   "source": []
  }
 ],
 "metadata": {
  "kernelspec": {
   "display_name": "Python 3 (ipykernel)",
   "language": "python",
   "name": "python3"
  },
  "language_info": {
   "codemirror_mode": {
    "name": "ipython",
    "version": 3
   },
   "file_extension": ".py",
   "mimetype": "text/x-python",
   "name": "python",
   "nbconvert_exporter": "python",
   "pygments_lexer": "ipython3",
   "version": "3.9.12"
  }
 },
 "nbformat": 4,
 "nbformat_minor": 5
}
