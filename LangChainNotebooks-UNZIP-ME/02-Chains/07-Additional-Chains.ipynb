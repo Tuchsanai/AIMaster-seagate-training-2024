{
 "cells": [
  {
   "cell_type": "markdown",
   "id": "bcded1a6-2430-4707-a78c-c82f4c5ee6fc",
   "metadata": {},
   "source": [
    "<a href = \"https://www.pieriantraining.com\"><img src=\"../PT Centered Purple.png\"> </a>\n",
    "\n",
    "<em style=\"text-align:center\">Copyrighted by Pierian Training</em>"
   ]
  },
  {
   "cell_type": "markdown",
   "id": "728f1747-b8fc-4d31-96c2-047fc83c079d",
   "metadata": {},
   "source": [
    "# Additional Chains\n",
    "There are many specialized additional chains you can exlore in the documentation! Let's look at a more commonly used on, whic allows us to directly perform Document QA with just a few simple calls."
   ]
  },
  {
   "cell_type": "markdown",
   "id": "dea207e9-8342-4e29-b2c6-225af73b4459",
   "metadata": {},
   "source": [
    "### Connect to Document Vector Store"
   ]
  },
  {
   "cell_type": "code",
   "execution_count": 1,
   "id": "33745370-8834-4ef5-ae38-177f19cb903e",
   "metadata": {},
   "outputs": [],
   "source": [
    "from langchain.embeddings.openai import OpenAIEmbeddings\n",
    "from langchain.vectorstores import Chroma"
   ]
  },
  {
   "cell_type": "code",
   "execution_count": 2,
   "id": "f708fa15-94a1-4afb-a3b1-2d9b8320572f",
   "metadata": {},
   "outputs": [],
   "source": [
    "embedding_function = OpenAIEmbeddings()"
   ]
  },
  {
   "cell_type": "code",
   "execution_count": 3,
   "id": "966cb686-e8c2-45bc-9717-b768a508c978",
   "metadata": {},
   "outputs": [],
   "source": [
    "db_connection = Chroma(persist_directory='../01-Data-Connections./US_Constitution/',embedding_function=embedding_function)"
   ]
  },
  {
   "cell_type": "markdown",
   "id": "207e080a-3517-4310-8792-6f9cdc2e854d",
   "metadata": {},
   "source": [
    "### Load QA Models"
   ]
  },
  {
   "cell_type": "code",
   "execution_count": 4,
   "id": "299fc8e0-adb9-4499-b3d6-ed9aec61971d",
   "metadata": {},
   "outputs": [],
   "source": [
    "from langchain.chains.qa_with_sources import load_qa_with_sources_chain\n",
    "from langchain.chains.question_answering import load_qa_chain"
   ]
  },
  {
   "cell_type": "code",
   "execution_count": 5,
   "id": "f9fb525b-25fc-460e-82fd-9f779422b1d9",
   "metadata": {},
   "outputs": [],
   "source": [
    "from langchain.chat_models import ChatOpenAI"
   ]
  },
  {
   "cell_type": "code",
   "execution_count": 6,
   "id": "7d6d137e-bb92-4479-b5d6-44ea69daad5f",
   "metadata": {},
   "outputs": [],
   "source": [
    "llm = ChatOpenAI(temperature=0)"
   ]
  },
  {
   "cell_type": "code",
   "execution_count": 7,
   "id": "fb332aec-2924-40df-86c2-473a1cb53b96",
   "metadata": {},
   "outputs": [],
   "source": [
    "chain = load_qa_chain(llm,chain_type='stuff')"
   ]
  },
  {
   "cell_type": "code",
   "execution_count": 8,
   "id": "aee28e63-236b-4aa9-8f59-1198fdae83de",
   "metadata": {},
   "outputs": [],
   "source": [
    "question = \"What is the 15th amendment?\""
   ]
  },
  {
   "cell_type": "code",
   "execution_count": 9,
   "id": "2015fe12-1fa8-4e94-8410-edf5818bda82",
   "metadata": {},
   "outputs": [],
   "source": [
    "docs = db_connection.similarity_search(question)"
   ]
  },
  {
   "cell_type": "code",
   "execution_count": 32,
   "id": "4ed349b5-6a27-41ed-a361-c47d75450a50",
   "metadata": {},
   "outputs": [
    {
     "data": {
      "text/plain": [
       "'The 15th Amendment states that the right to vote cannot be denied or abridged by the United States or any state on account of race, color, or previous condition of servitude. Congress has the power to enforce this amendment through appropriate legislation.'"
      ]
     },
     "execution_count": 32,
     "metadata": {},
     "output_type": "execute_result"
    }
   ],
   "source": [
    "chain.run(input_documents=docs,question=question)"
   ]
  },
  {
   "cell_type": "markdown",
   "id": "1d0393ad-8916-4ad4-a589-7f60a7f07ec9",
   "metadata": {},
   "source": [
    "### Get Original Source Context Information"
   ]
  },
  {
   "cell_type": "code",
   "execution_count": 33,
   "id": "358abd96-588c-440c-b10c-f8f52cee6190",
   "metadata": {},
   "outputs": [],
   "source": [
    "chain = load_qa_with_sources_chain(llm,chain_type='stuff')"
   ]
  },
  {
   "cell_type": "code",
   "execution_count": 34,
   "id": "c8da0a9c-a3b3-4026-9f8d-c7dac08bed1d",
   "metadata": {},
   "outputs": [],
   "source": [
    "query = \"What is the 14th amendment?\""
   ]
  },
  {
   "cell_type": "code",
   "execution_count": 35,
   "id": "34814f93-472f-43f8-a828-2f9003aaee43",
   "metadata": {},
   "outputs": [],
   "source": [
    "docs = db_connection.similarity_search(query)"
   ]
  },
  {
   "cell_type": "code",
   "execution_count": 36,
   "id": "2d89e0ac-4ef5-4ed6-a386-452f04f6ec74",
   "metadata": {},
   "outputs": [
    {
     "data": {
      "text/plain": [
       "'The 14th Amendment to the United States Constitution states that all persons born or naturalized in the United States, and subject to the jurisdiction thereof, are citizens of the United States and of the State wherein they reside. It also prohibits states from making or enforcing any law that abridges the privileges or immunities of citizens, depriving any person of life, liberty, or property without due process of law, or denying any person within its jurisdiction the equal protection of the laws. Additionally, it addresses the apportionment of representatives, disqualifies certain individuals from holding office, and provides for the removal of disabilities by Congress. \\nSOURCES: some_data/US_Constitution.txt'"
      ]
     },
     "execution_count": 36,
     "metadata": {},
     "output_type": "execute_result"
    }
   ],
   "source": [
    "chain.run(input_documents=docs,question=query)"
   ]
  },
  {
   "cell_type": "code",
   "execution_count": null,
   "id": "5714908a-9a6e-4bde-8fc8-bf2e78e8c592",
   "metadata": {},
   "outputs": [],
   "source": []
  }
 ],
 "metadata": {
  "kernelspec": {
   "display_name": "Python 3 (ipykernel)",
   "language": "python",
   "name": "python3"
  },
  "language_info": {
   "codemirror_mode": {
    "name": "ipython",
    "version": 3
   },
   "file_extension": ".py",
   "mimetype": "text/x-python",
   "name": "python",
   "nbconvert_exporter": "python",
   "pygments_lexer": "ipython3",
   "version": "3.9.12"
  }
 },
 "nbformat": 4,
 "nbformat_minor": 5
}
