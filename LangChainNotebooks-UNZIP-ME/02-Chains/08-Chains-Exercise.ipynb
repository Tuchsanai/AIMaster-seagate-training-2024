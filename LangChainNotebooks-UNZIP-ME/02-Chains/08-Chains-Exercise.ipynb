{
 "cells": [
  {
   "cell_type": "markdown",
   "id": "bcded1a6-2430-4707-a78c-c82f4c5ee6fc",
   "metadata": {},
   "source": [
    "<a href = \"https://www.pieriantraining.com\"><img src=\"../PT Centered Purple.png\"> </a>\n",
    "\n",
    "<em style=\"text-align:center\">Copyrighted by Pierian Training</em>"
   ]
  },
  {
   "cell_type": "markdown",
   "id": "728f1747-b8fc-4d31-96c2-047fc83c079d",
   "metadata": {},
   "source": [
    "#  Chains Exercise \n",
    "\n",
    "## TASK:\n",
    "Fill out the function below that takes in a string input Customer Support email that could be written in any language. The function will then detect the language, translate the email, and provide a summary.\n",
    "\n",
    "Fill out the function below using a Sequential Chain, the function should do the following:\n",
    "\n",
    "1. Detect the language the email is written in\n",
    "2. Translate the email from detected language to English\n",
    "3. Return a summary of the translated email\n",
    "\n",
    "Note: The Function should return a dictionary that contains all three of these outputs!"
   ]
  },
  {
   "cell_type": "markdown",
   "id": "1e10f522-2a0f-44c0-9e37-934639609bdf",
   "metadata": {},
   "source": [
    "## Reading in our example Email Text File:"
   ]
  },
  {
   "cell_type": "code",
   "execution_count": 18,
   "id": "f5cec8e4-c2cf-4adc-b589-322cd45d8dfa",
   "metadata": {},
   "outputs": [],
   "source": [
    "spanish_email = open('spanish_customer_email.txt').read()"
   ]
  },
  {
   "cell_type": "code",
   "execution_count": 19,
   "id": "d93c70a5-951e-4c40-a08d-6ad7a978e35b",
   "metadata": {},
   "outputs": [
    {
     "name": "stdout",
     "output_type": "stream",
     "text": [
      "Asunto: Reporte de Problemas Técnicos - Funcionalidad del Panel SAAS\n",
      "\n",
      "Estimado Equipo de Soporte al Cliente,\n",
      "\n",
      "Espero que este mensaje les encuentre bien. Les escribo para informarles sobre un problema técnico que he encontrado mientras utilizo su producto de panel SAAS. Como cliente leal, aprecio el valor que su producto aporta a mi negocio, pero actualmente me enfrento a un desafío que requiere su experiencia.\n",
      "\n",
      "Me gustaría describir detalladamente el problema que estoy experimentando:\n",
      "\n",
      "1. Problema Gráfico: Al iniciar sesión en el panel SAAS, he notado que los gráficos y las tablas en la página principal del panel no se renderizan correctamente. Los puntos de datos aparecen distorsionados y algunos elementos se superponen, lo que dificulta la interpretación precisa de la información.\n",
      "\n",
      "2. Fallo en la Función de Exportación: Además, no he podido exportar informes y datos desde el panel. Cada vez que intento exportar un informe en formato CSV o PDF, recibo un mensaje de error que indica que la exportación ha fallado. Esta funcionalidad es crucial para compartir información con mi equipo y partes interesadas externas, por lo que es imperativo que se resuelva rápidamente.\n",
      "\n",
      "3. Lentitud en la Carga: Durante la última semana, he notado una disminución significativa en la velocidad de carga del panel SAAS. Las páginas tardan un tiempo inusualmente largo en cargarse, lo que afecta mi productividad y genera frustración. Tengo una conexión a internet confiable, por lo que creo que el problema radica en el panel mismo.\n",
      "\n",
      "Ya he realizado los siguientes pasos para solucionar el problema:\n",
      "\n",
      "1. Limpieza de Cache: Limpié la memoria caché y las cookies de mi navegador para asegurarme de que los datos desactualizados no estén causando conflictos. Sin embargo, los problemas persisten incluso después de realizar esta acción.\n",
      "\n",
      "2. Varios Navegadores: Probé el panel SAAS en diferentes navegadores web (Chrome, Firefox y Safari) para determinar si el problema era específico del navegador. Desafortunadamente, los problemas gráficos, los fallos en la exportación y la lentitud en la carga persistieron en todos los navegadores.\n",
      "\n",
      "Les solicito amablemente su ayuda para resolver estos problemas, ya que están obstaculizando mi capacidad de aprovechar todo el potencial de su panel SAAS. Aquí están las acciones específicas que agradecería:\n",
      "\n",
      "1. Solución para Problemas Gráficos: Por favor, investiguen y corrijan los problemas gráficos presentes en la página principal del panel para garantizar una visualización precisa de los datos.\n",
      "\n",
      "2. Solución para la Función de Exportación: Identifiquen y solucionen el problema con la exportación de informes en formatos CSV y PDF, permitiéndome compartir datos con mi equipo y partes interesadas de manera fluida.\n",
      "\n",
      "3. Optimización del Rendimiento: Por favor, aborden la lentitud en la carga del panel SAAS para mejorar la experiencia general del usuario y aumentar la productividad.\n",
      "\n",
      "Entiendo que los problemas técnicos pueden surgir de vez en cuando y aprecio su pronta atención a este asunto. Si requieren información adicional o ayuda de mi parte, no duden en contactarme. Espero su pronta respuesta y una pronta resolución a estos desafíos.\n",
      "\n",
      "Gracias por su comprensión y apoyo.\n",
      "\n",
      "Atentamente,\n",
      "\n",
      "María Rodríguez\n",
      "ID de Cliente: 123456789\n",
      "Información de la Cuenta: Empresa Ejemplo S.A.\n"
     ]
    }
   ],
   "source": [
    "print(spanish_email)"
   ]
  },
  {
   "cell_type": "markdown",
   "id": "d4270b75-ce4e-4a76-b069-6cb94eb74318",
   "metadata": {},
   "source": [
    "## Function to fill out:"
   ]
  },
  {
   "cell_type": "code",
   "execution_count": 11,
   "id": "67513a28-5643-4387-9462-02adda8ca3bc",
   "metadata": {},
   "outputs": [],
   "source": [
    "def translate_and_summarize(email):\n",
    "    \"\"\"\n",
    "    Translates an email written in a detected language to English and generates a summary.\n",
    "\n",
    "    Args:\n",
    "        email (str): The email to be processed and translated.\n",
    "\n",
    "    Returns:\n",
    "        dict: A dictionary containing the following keys:\n",
    "            - 'language': The language the email was written in.\n",
    "            - 'translated_email': The translated version of the email in English.\n",
    "            - 'summary': A short summary of the translated email.\n",
    "\n",
    "    Raises:\n",
    "        Exception: If any error occurs during the LLM chain execution.\n",
    "\n",
    "    Example:\n",
    "        email = \"Hola, ¿cómo estás? Espero que todo vaya bien.\"\n",
    "        result = translate_and_summarize(email)\n",
    "        print(result)\n",
    "        # Output:\n",
    "        # {\n",
    "        #     'language': 'Spanish',\n",
    "        #     'translated_email': 'Hello, how are you? I hope everything is going well.',\n",
    "        #     'summary': 'A friendly greeting and a wish for well-being.'\n",
    "        # }\n",
    "    \"\"\"\n",
    "    \n",
    "    pass"
   ]
  },
  {
   "cell_type": "markdown",
   "id": "36df92ca-a03e-49a0-b0bf-c15ce5644fec",
   "metadata": {},
   "source": [
    "## Example Usage and Outputs"
   ]
  },
  {
   "cell_type": "code",
   "execution_count": 12,
   "id": "8f7dc228-285f-49d3-a4ef-f870ac44c061",
   "metadata": {},
   "outputs": [
    {
     "name": "stdout",
     "output_type": "stream",
     "text": [
      "\n",
      "\n",
      "\u001b[1m> Entering new  chain...\u001b[0m\n",
      "\n",
      "\u001b[1m> Finished chain.\u001b[0m\n"
     ]
    }
   ],
   "source": [
    "result = translate_and_summarize(spanish_email)"
   ]
  },
  {
   "cell_type": "code",
   "execution_count": 13,
   "id": "90b09c5f-6e32-4718-be7d-51e83d81ce9d",
   "metadata": {},
   "outputs": [
    {
     "data": {
      "text/plain": [
       "dict_keys(['email', 'language', 'translated_email', 'summary'])"
      ]
     },
     "execution_count": 13,
     "metadata": {},
     "output_type": "execute_result"
    }
   ],
   "source": [
    "result.keys()"
   ]
  },
  {
   "cell_type": "code",
   "execution_count": 14,
   "id": "530a286f-05f7-4740-bc23-2a0506a2741d",
   "metadata": {},
   "outputs": [
    {
     "data": {
      "text/plain": [
       "'Spanish'"
      ]
     },
     "execution_count": 14,
     "metadata": {},
     "output_type": "execute_result"
    }
   ],
   "source": [
    "result['language']"
   ]
  },
  {
   "cell_type": "code",
   "execution_count": 15,
   "id": "7f9982b0-0628-41a8-9ede-894d3d512717",
   "metadata": {},
   "outputs": [
    {
     "data": {
      "text/plain": [
       "\"Subject: Technical Issues Report - SAAS Panel Functionality\\n\\nDear Customer Support Team,\\n\\nI hope this message finds you well. I am writing to inform you about a technical issue I have encountered while using your SAAS panel product. As a loyal customer, I appreciate the value your product brings to my business, but I am currently facing a challenge that requires your expertise.\\n\\nI would like to provide a detailed description of the problem I am experiencing:\\n\\n1. Graphical Issue: Upon logging into the SAAS panel, I have noticed that the graphs and tables on the main panel page are not rendering correctly. Data points appear distorted and some elements overlap, making it difficult to accurately interpret the information.\\n\\n2. Export Function Failure: Additionally, I have been unable to export reports and data from the panel. Every time I attempt to export a report in CSV or PDF format, I receive an error message indicating that the export has failed. This functionality is crucial for sharing information with my team and external stakeholders, so it is imperative that it be resolved quickly.\\n\\n3. Slow Loading: Over the past week, I have noticed a significant decrease in the loading speed of the SAAS panel. Pages take an unusually long time to load, affecting my productivity and causing frustration. I have a reliable internet connection, so I believe the issue lies within the panel itself.\\n\\nI have already taken the following steps to troubleshoot the problem:\\n\\n1. Cache Clearing: I cleared my browser's cache and cookies to ensure that outdated data is not causing conflicts. However, the issues persist even after taking this action.\\n\\n2. Multiple Browsers: I tested the SAAS panel on different web browsers (Chrome, Firefox, and Safari) to determine if the problem was specific to one browser. Unfortunately, the graphical issues, export failures, and slow loading persisted across all browsers.\\n\\nI kindly request your assistance in resolving these issues as they are hindering my ability to fully leverage the potential of your SAAS panel. Here are the specific actions I would appreciate:\\n\\n1. Graphical Issues Resolution: Please investigate and fix the graphical issues present on the main panel page to ensure accurate data visualization.\\n\\n2. Export Function Resolution: Identify and resolve the problem with exporting reports in CSV and PDF formats, allowing me to smoothly share data with my team and stakeholders.\\n\\n3. Performance Optimization: Please address the slow loading of the SAAS panel to improve the overall user experience and increase productivity.\\n\\nI understand that technical issues can arise from time to time and appreciate your prompt attention to this matter. If you require any additional information or assistance from me, please do not hesitate to contact me. I look forward to your prompt response and a swift resolution to these challenges.\\n\\nThank you for your understanding and support.\\n\\nSincerely,\\n\\nMaría Rodríguez\\nClient ID: 123456789\\nAccount Information: Example Company Inc.\""
      ]
     },
     "execution_count": 15,
     "metadata": {},
     "output_type": "execute_result"
    }
   ],
   "source": [
    "result['translated_email']"
   ]
  },
  {
   "cell_type": "code",
   "execution_count": 16,
   "id": "670b9635-a245-40f2-a67d-32c8c707d736",
   "metadata": {},
   "outputs": [
    {
     "data": {
      "text/plain": [
       "'The email is from a customer who is experiencing technical issues with a SAAS panel product. The customer describes three specific problems: graphical issues, export function failure, and slow loading. The customer has already attempted to troubleshoot the issues with no success. They request assistance from the customer support team to resolve the issues and provide specific actions they would appreciate, including fixing the graphical issues, resolving the export function problem, and optimizing performance. The customer expresses understanding for technical issues and hopes for a prompt response and resolution. They provide their client ID and account information for reference.'"
      ]
     },
     "execution_count": 16,
     "metadata": {},
     "output_type": "execute_result"
    }
   ],
   "source": [
    "result['summary']"
   ]
  },
  {
   "cell_type": "code",
   "execution_count": null,
   "id": "3f4db057-0681-45c5-9d4b-74fbb532f0af",
   "metadata": {},
   "outputs": [],
   "source": []
  }
 ],
 "metadata": {
  "kernelspec": {
   "display_name": "Python 3 (ipykernel)",
   "language": "python",
   "name": "python3"
  },
  "language_info": {
   "codemirror_mode": {
    "name": "ipython",
    "version": 3
   },
   "file_extension": ".py",
   "mimetype": "text/x-python",
   "name": "python",
   "nbconvert_exporter": "python",
   "pygments_lexer": "ipython3",
   "version": "3.9.12"
  }
 },
 "nbformat": 4,
 "nbformat_minor": 5
}
