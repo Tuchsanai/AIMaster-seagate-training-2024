{
 "cells": [
  {
   "cell_type": "markdown",
   "id": "bcded1a6-2430-4707-a78c-c82f4c5ee6fc",
   "metadata": {},
   "source": [
    "<a href = \"https://www.pieriantraining.com\"><img src=\"../PT Centered Purple.png\"> </a>\n",
    "\n",
    "<em style=\"text-align:center\">Copyrighted by Pierian Training</em>"
   ]
  },
  {
   "cell_type": "markdown",
   "id": "728f1747-b8fc-4d31-96c2-047fc83c079d",
   "metadata": {},
   "source": [
    "#  Multi-Query-Retriever\n",
    "\n",
    "This method can automatically use a ChatModel to make slight variations of your initial query to help attempt overcome any issues with cosine similarity distances, this allows you to phrase things more like a general query question rather than a pure document similarity look-up."
   ]
  },
  {
   "cell_type": "code",
   "execution_count": 8,
   "id": "72faaf23-1241-425b-94a1-1d41a6bde243",
   "metadata": {},
   "outputs": [],
   "source": [
    "# Build a sample vectorDB\n",
    "from langchain.vectorstores import Chroma\n",
    "from langchain.document_loaders import WikipediaLoader\n",
    "from langchain.embeddings.openai import OpenAIEmbeddings\n",
    "from langchain.text_splitter import CharacterTextSplitter"
   ]
  },
  {
   "cell_type": "markdown",
   "id": "c78a043d-0f62-41a6-8ba7-9f1dba769b34",
   "metadata": {},
   "source": [
    "### Loader"
   ]
  },
  {
   "cell_type": "code",
   "execution_count": 17,
   "id": "48211e08-59dd-407c-9ec8-f9480fd2ff51",
   "metadata": {},
   "outputs": [],
   "source": [
    "loader = WikipediaLoader(query='MKUltra')\n",
    "documents = loader.load()"
   ]
  },
  {
   "cell_type": "code",
   "execution_count": 19,
   "id": "c7fba6d9-9ab8-470c-ade2-9672d4e29732",
   "metadata": {},
   "outputs": [
    {
     "data": {
      "text/plain": [
       "9"
      ]
     },
     "execution_count": 19,
     "metadata": {},
     "output_type": "execute_result"
    }
   ],
   "source": [
    "len(documents)"
   ]
  },
  {
   "cell_type": "markdown",
   "id": "3aa332f5-7c07-4b51-a6a8-7b1d4a4dd50f",
   "metadata": {},
   "source": [
    "### Split Documents"
   ]
  },
  {
   "cell_type": "code",
   "execution_count": 20,
   "id": "a5e355e0-669e-4711-bdac-0a68f7db27dc",
   "metadata": {},
   "outputs": [],
   "source": [
    "# split it into chunks\n",
    "text_splitter = CharacterTextSplitter.from_tiktoken_encoder(chunk_size=500)\n",
    "docs = text_splitter.split_documents(documents)"
   ]
  },
  {
   "cell_type": "markdown",
   "id": "c2d9c612-4531-450c-9ca9-d1f1cef1f99d",
   "metadata": {},
   "source": [
    "### OpenAI Connection for Embeddings"
   ]
  },
  {
   "cell_type": "code",
   "execution_count": 21,
   "id": "5ea14345-1731-4951-9419-97373f96b4e5",
   "metadata": {},
   "outputs": [],
   "source": [
    "import os\n",
    "f = open('C:\\\\Users\\\\Marcial\\\\Desktop\\\\desktop_openai.txt')\n",
    "os.environ['OPENAI_API_KEY'] = f.read()\n",
    "embedding_function = OpenAIEmbeddings()"
   ]
  },
  {
   "cell_type": "code",
   "execution_count": 23,
   "id": "d70b6d30-9865-4f94-8054-b043745076cf",
   "metadata": {},
   "outputs": [],
   "source": [
    "# docs"
   ]
  },
  {
   "cell_type": "markdown",
   "id": "2a96dc68-a322-49d6-8603-e768d4bdbd6b",
   "metadata": {},
   "source": [
    "### Embed Documents for ChromaDB"
   ]
  },
  {
   "cell_type": "code",
   "execution_count": 45,
   "id": "7df90c10-7260-4f00-a270-625ce8304476",
   "metadata": {},
   "outputs": [],
   "source": [
    "# load it into Chroma\n",
    "db = Chroma.from_documents(docs, embedding_function,persist_directory='./mk_ultra')\n",
    "db.persist()"
   ]
  },
  {
   "cell_type": "markdown",
   "id": "c0133777-debe-454f-93d4-617e11821f96",
   "metadata": {},
   "source": [
    "### Use Chat Model to Multi Query"
   ]
  },
  {
   "cell_type": "code",
   "execution_count": 39,
   "id": "d50492c0-1404-451c-add1-bd230828f684",
   "metadata": {},
   "outputs": [],
   "source": [
    "from langchain.chat_models import ChatOpenAI\n",
    "from langchain.retrievers.multi_query import MultiQueryRetriever\n",
    "question=\"When was this declassified?\"\n",
    "llm = ChatOpenAI(temperature=0)\n",
    "retriever_from_llm = MultiQueryRetriever.from_llm(retriever=db.as_retriever(),llm=llm)"
   ]
  },
  {
   "cell_type": "code",
   "execution_count": 40,
   "id": "f1457858-3ed1-4650-8d14-98b36995c86e",
   "metadata": {},
   "outputs": [],
   "source": [
    "# Set logging for the queries\n",
    "import logging\n",
    "logging.basicConfig()\n",
    "logging.getLogger('langchain.retrievers.multi_query').setLevel(logging.INFO)"
   ]
  },
  {
   "cell_type": "code",
   "execution_count": 41,
   "id": "a2c89fc4-0ccd-4e6a-9a8c-5d4ede15cb13",
   "metadata": {},
   "outputs": [
    {
     "name": "stderr",
     "output_type": "stream",
     "text": [
      "INFO:langchain.retrievers.multi_query:Generated queries: ['1. What is the date of declassification for this information?', '2. Can you provide the declassification date for this?', '3. At what time was this information officially declassified?']\n"
     ]
    }
   ],
   "source": [
    "unique_docs = retriever_from_llm.get_relevant_documents(query=question)"
   ]
  },
  {
   "cell_type": "code",
   "execution_count": 42,
   "id": "95c850b0-02db-4e2f-a669-b1675c7e1d8a",
   "metadata": {},
   "outputs": [
    {
     "data": {
      "text/plain": [
       "5"
      ]
     },
     "execution_count": 42,
     "metadata": {},
     "output_type": "execute_result"
    }
   ],
   "source": [
    "len(unique_docs)"
   ]
  },
  {
   "cell_type": "code",
   "execution_count": 43,
   "id": "26d112c9-0888-4c8f-b8df-7af67947ba98",
   "metadata": {},
   "outputs": [
    {
     "name": "stdout",
     "output_type": "stream",
     "text": [
      "The United States President's Commission on CIA Activities within the United States was ordained by President Gerald Ford in 1975 to investigate the activities of the Central Intelligence Agency and other intelligence agencies within the United States. The Presidential Commission was led by Vice President Nelson Rockefeller, from whom it gained the nickname the Rockefeller Commission.\n",
      "The commission was created in response to a December 1974 report in The New York Times that the CIA had conducted illegal domestic activities, including experiments on US citizens, during the 1960s. The commission issued a single report in 1975, touching upon certain CIA abuses including mail opening and surveillance of domestic dissident groups. It also publicized Project MKUltra, a CIA mind control research program.\n",
      "Several weeks later, committees were established in the House and Senate for a similar purpose. White House Personnel, including future Vice President Dick Cheney, edited the results, excluding many of the commission's findings from the final report. Some of these findings were included in later reports by the Congressional Committees.\n",
      "Before it was even released, the report faced scrutiny from the media, and was deemed a \"whitewash.\" The investigation was intended to be independent of Presidential interference, but the findings and recommendations included in the final report were highly altered from what was chosen by the commission itself. It was ultimately superseded in notability by the more substantial Church Committee in what became known as the \"Year of Intelligence.\"   \n",
      "\n",
      "\n",
      "== Background ==\n",
      "In 1974, a New York Times article was published that accused the CIA of illegal operations committed against US citizens. Authored by Seymour M. Hersh, it documented an intelligence operation against the anti-war movement, as well as \"break-ins, wiretapping and the surreptitious inspection of mail\" conducted since the 1950s. According to former CIA Official Cord Meyer, these disclosures \"Convinced large sections of the American public that the CIA had become a domestic Gestapo and stimulated an overwhelming demand for the wide-ranging congressional investigations that were to follow.\"Hersh had been tipped off to the possibility of an \"in house operation\" by an unidentified member of the CIA in spring of 1974. He embarked on an investigation, speaking to sources that included CIA Chief of Counterintelligence James Angleton. Although he was not aware of its existence, Hersh uncovered much information that had been documented in the \"Family Jewels\", a report ordered by Director of Central Intelligence William Colby that chronicled CIA abuses over the past 25 years. The report would not be formally revealed to the public until 2007.\n",
      "\n",
      "\n",
      "=== Monitoring of anti-war movement and Project MINARET ===\n",
      "\n",
      "The article alleged that CIA agents had followed and photographed participants in the antiwar movement, as well as other demonstrations. It also reported that the CIA \"set up a network of informants who were ordered to penetrate antiwar groups\", and even placed an avowedly anti-war congressperson under surveillance while putting other lawmakers in a dossier on dissident Americans.\n",
      "Instituted in 1967 by the NSA, Project MINARET's purpose was to document \"Soviet, Chinese, and North Vietnamese influence over the militant civil rights and anti–Vietnam War movements\" for the CIA and FBI, according to historian Donald Critchlow. The NSA provided CIA and FBI officials  with reports of intercepted international communications by certain individuals in these movements. NSA officials stipulated that FBI and CIA agents must destroy or return these reports within two weeks of receiving them. The NSA also required that \"the reports not be 'identified with the National Security Agency' and that all records relating to this program were 'not serialize[d]' or filed with other NSA records, were classified 'Top Secret,' and were stamped 'Background Use Only'... because t\n"
     ]
    }
   ],
   "source": [
    "print(unique_docs[0].page_content)"
   ]
  },
  {
   "cell_type": "code",
   "execution_count": null,
   "id": "585e1437-0098-47dc-8804-17ffa6102ca1",
   "metadata": {},
   "outputs": [],
   "source": []
  }
 ],
 "metadata": {
  "kernelspec": {
   "display_name": "Python 3 (ipykernel)",
   "language": "python",
   "name": "python3"
  },
  "language_info": {
   "codemirror_mode": {
    "name": "ipython",
    "version": 3
   },
   "file_extension": ".py",
   "mimetype": "text/x-python",
   "name": "python",
   "nbconvert_exporter": "python",
   "pygments_lexer": "ipython3",
   "version": "3.9.12"
  }
 },
 "nbformat": 4,
 "nbformat_minor": 5
}
