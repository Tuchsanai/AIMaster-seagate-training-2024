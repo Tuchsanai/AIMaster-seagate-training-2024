{
 "cells": [
  {
   "cell_type": "markdown",
   "id": "bcded1a6-2430-4707-a78c-c82f4c5ee6fc",
   "metadata": {},
   "source": [
    "<a href = \"https://www.pieriantraining.com\"><img src=\"../PT Centered Purple.png\"> </a>\n",
    "\n",
    "<em style=\"text-align:center\">Copyrighted by Pierian Training</em>"
   ]
  },
  {
   "cell_type": "markdown",
   "id": "728f1747-b8fc-4d31-96c2-047fc83c079d",
   "metadata": {},
   "source": [
    "#  Document Transformers"
   ]
  },
  {
   "cell_type": "code",
   "execution_count": 7,
   "id": "fbc42d0e-f2c4-4a31-ab3f-dc38ef6b8fe4",
   "metadata": {},
   "outputs": [],
   "source": [
    "with open('some_data/FDR_State_of_Union_1944.txt') as file:\n",
    "    speech_text = file.read()"
   ]
  },
  {
   "cell_type": "code",
   "execution_count": 8,
   "id": "ec14194a-c4ca-43c0-bb97-f8e0b514b30c",
   "metadata": {},
   "outputs": [
    {
     "data": {
      "text/plain": [
       "21995"
      ]
     },
     "execution_count": 8,
     "metadata": {},
     "output_type": "execute_result"
    }
   ],
   "source": [
    "# Characters\n",
    "len(speech_text)"
   ]
  },
  {
   "cell_type": "code",
   "execution_count": 9,
   "id": "9c45c0e1-41b6-459a-83bb-1a81f851b07f",
   "metadata": {},
   "outputs": [
    {
     "data": {
      "text/plain": [
       "3750"
      ]
     },
     "execution_count": 9,
     "metadata": {},
     "output_type": "execute_result"
    }
   ],
   "source": [
    "# Words\n",
    "len(speech_text.split())"
   ]
  },
  {
   "cell_type": "markdown",
   "id": "a039fd59-92f9-41f0-808e-04edf5d207e0",
   "metadata": {},
   "source": [
    "## Split by Character"
   ]
  },
  {
   "cell_type": "code",
   "execution_count": 10,
   "id": "1fe8da09-e689-4dcc-9a7d-83a1c9bd37b1",
   "metadata": {},
   "outputs": [],
   "source": [
    "from langchain.text_splitter import CharacterTextSplitter"
   ]
  },
  {
   "cell_type": "code",
   "execution_count": 62,
   "id": "2115b341-b681-4aca-963e-e4fbd0ea1966",
   "metadata": {},
   "outputs": [],
   "source": [
    "text_splitter = CharacterTextSplitter(separator=\"\\n\\n\",chunk_size=1000) #1000 is default value"
   ]
  },
  {
   "cell_type": "code",
   "execution_count": 63,
   "id": "be91bcce-f209-452c-988c-574d80d3ee97",
   "metadata": {},
   "outputs": [
    {
     "name": "stdout",
     "output_type": "stream",
     "text": [
      "<class 'list'>\n",
      "\n",
      "\n",
      "page_content=\"This Nation in the past two years has become an active partner in the world's greatest war against human slavery.\\n\\nWe have joined with like-minded people in order to defend ourselves in a world that has been gravely threatened with gangster rule.\\n\\nBut I do not think that any of us Americans can be content with mere survival. Sacrifices that we and our allies are making impose upon us all a sacred obligation to see to it that out of this war we and our children will gain something better than mere survival.\\n\\nWe are united in determination that this war shall not be followed by another interim which leads to new disaster- that we shall not repeat the tragic errors of ostrich isolationismâ€”that we shall not repeat the excesses of the wild twenties when this Nation went for a joy ride on a roller coaster which ended in a tragic crash.\" metadata={}\n"
     ]
    }
   ],
   "source": [
    "texts = text_splitter.create_documents([speech_text])\n",
    "print(type(texts))\n",
    "print('\\n')\n",
    "print(texts[0])"
   ]
  },
  {
   "cell_type": "code",
   "execution_count": 64,
   "id": "e369cef2-a050-4711-8085-5c13fd544162",
   "metadata": {},
   "outputs": [
    {
     "data": {
      "text/plain": [
       "843"
      ]
     },
     "execution_count": 64,
     "metadata": {},
     "output_type": "execute_result"
    }
   ],
   "source": [
    "len(texts[0].page_content)"
   ]
  },
  {
   "cell_type": "code",
   "execution_count": 65,
   "id": "d05c791e-8d39-402a-9cbb-db43b4c3b293",
   "metadata": {},
   "outputs": [
    {
     "data": {
      "text/plain": [
       "Document(page_content='When Mr. Hull went to Moscow in October, and when I went to Cairo and Teheran in November, we knew that we were in agreement with our allies in our common determination to fight and win this war. But there were many vital questions concerning the future peace, and they were discussed in an atmosphere of complete candor and harmony.\\n\\nIn the last war such discussions, such meetings, did not even begin until the shooting had stopped and the delegates began to assemble at the peace table. There had been no previous opportunities for man-to-man discussions which lead to meetings of minds. The result was a peace which was not a peace. That was a mistake which we are not repeating in this war.\\n\\nAnd right here I want to address a word or two to some suspicious souls who are fearful that Mr. Hull or I have made \"commitments\" for the future which might pledge this Nation to secret treaties, or to enacting the role of Santa Claus.', metadata={})"
      ]
     },
     "execution_count": 65,
     "metadata": {},
     "output_type": "execute_result"
    }
   ],
   "source": [
    "texts[1]"
   ]
  },
  {
   "cell_type": "code",
   "execution_count": 66,
   "id": "7f63abfa-02d9-4290-81b7-45318df9ec9d",
   "metadata": {},
   "outputs": [
    {
     "data": {
      "text/plain": [
       "933"
      ]
     },
     "execution_count": 66,
     "metadata": {},
     "output_type": "execute_result"
    }
   ],
   "source": [
    "len(texts[1].page_content)"
   ]
  },
  {
   "cell_type": "code",
   "execution_count": 67,
   "id": "956c375b-96bf-4f59-9d14-b4658327fe7b",
   "metadata": {},
   "outputs": [
    {
     "data": {
      "text/plain": [
       "langchain.schema.document.Document"
      ]
     },
     "execution_count": 67,
     "metadata": {},
     "output_type": "execute_result"
    }
   ],
   "source": [
    "type(texts[0])"
   ]
  },
  {
   "cell_type": "code",
   "execution_count": 68,
   "id": "0ca7ab2b-8de0-4c3b-af75-4732d7a197f3",
   "metadata": {},
   "outputs": [],
   "source": [
    "text_splitter = CharacterTextSplitter(separator=\"\\n\\n\") #chunk_size is minimum length, notice at 2000 still contains a \\n\\n"
   ]
  },
  {
   "cell_type": "markdown",
   "id": "8d73af2c-8fd9-4c07-b72a-048bd426b957",
   "metadata": {},
   "source": [
    "# Split by Token\n",
    "\n",
    "Most LLMs operate on a token limit (although some price based on characters!). Let's explore how to split based on tokens."
   ]
  },
  {
   "cell_type": "code",
   "execution_count": 69,
   "id": "23bba088-6755-4d80-a7e9-c553a8a710c4",
   "metadata": {},
   "outputs": [],
   "source": [
    "# !pip install tiktoken"
   ]
  },
  {
   "cell_type": "code",
   "execution_count": 73,
   "id": "65db4b64-b675-48b7-bd67-f208386fa642",
   "metadata": {},
   "outputs": [],
   "source": [
    "text_splitter = CharacterTextSplitter.from_tiktoken_encoder(chunk_size = 500) #now chunk size is a hard length based on tokens"
   ]
  },
  {
   "cell_type": "code",
   "execution_count": 74,
   "id": "4281d0ab-8015-4af8-8f7f-dee082e1dc18",
   "metadata": {},
   "outputs": [],
   "source": [
    "texts = text_splitter.split_text(speech_text)"
   ]
  },
  {
   "cell_type": "code",
   "execution_count": 75,
   "id": "641eb360-3d92-4b97-975b-efcf647cd23e",
   "metadata": {},
   "outputs": [
    {
     "data": {
      "text/plain": [
       "'This Nation in the past two years has become an active partner in the world\\'s greatest war against human slavery.\\n\\nWe have joined with like-minded people in order to defend ourselves in a world that has been gravely threatened with gangster rule.\\n\\nBut I do not think that any of us Americans can be content with mere survival. Sacrifices that we and our allies are making impose upon us all a sacred obligation to see to it that out of this war we and our children will gain something better than mere survival.\\n\\nWe are united in determination that this war shall not be followed by another interim which leads to new disaster- that we shall not repeat the tragic errors of ostrich isolationismâ€”that we shall not repeat the excesses of the wild twenties when this Nation went for a joy ride on a roller coaster which ended in a tragic crash.\\n\\nWhen Mr. Hull went to Moscow in October, and when I went to Cairo and Teheran in November, we knew that we were in agreement with our allies in our common determination to fight and win this war. But there were many vital questions concerning the future peace, and they were discussed in an atmosphere of complete candor and harmony.\\n\\nIn the last war such discussions, such meetings, did not even begin until the shooting had stopped and the delegates began to assemble at the peace table. There had been no previous opportunities for man-to-man discussions which lead to meetings of minds. The result was a peace which was not a peace. That was a mistake which we are not repeating in this war.\\n\\nAnd right here I want to address a word or two to some suspicious souls who are fearful that Mr. Hull or I have made \"commitments\" for the future which might pledge this Nation to secret treaties, or to enacting the role of Santa Claus.\\n\\nTo such suspicious soulsâ€”using a polite terminologyâ€”I wish to say that Mr. Churchill, and Marshal Stalin, and Generalissimo Chiang Kai-shek are all thoroughly conversant with the provisions of our Constitution. And so is Mr. Hull. And so am I.\\n\\nOf course we made some commitments. We most certainly committed ourselves to very large and very specific military plans which require the use of all Allied forces to bring about the defeat of our enemies at the earliest possible time.\\n\\nBut there were no secret treaties or political or financial commitments.'"
      ]
     },
     "execution_count": 75,
     "metadata": {},
     "output_type": "execute_result"
    }
   ],
   "source": [
    "texts[0]"
   ]
  },
  {
   "cell_type": "code",
   "execution_count": null,
   "id": "f6acde4a-2522-4c2c-8ea6-08f8c29fb257",
   "metadata": {},
   "outputs": [],
   "source": []
  },
  {
   "cell_type": "code",
   "execution_count": null,
   "id": "dadd9775-f290-4122-8377-b1544536a22e",
   "metadata": {},
   "outputs": [],
   "source": []
  }
 ],
 "metadata": {
  "kernelspec": {
   "display_name": "Python 3 (ipykernel)",
   "language": "python",
   "name": "python3"
  },
  "language_info": {
   "codemirror_mode": {
    "name": "ipython",
    "version": 3
   },
   "file_extension": ".py",
   "mimetype": "text/x-python",
   "name": "python",
   "nbconvert_exporter": "python",
   "pygments_lexer": "ipython3",
   "version": "3.9.12"
  }
 },
 "nbformat": 4,
 "nbformat_minor": 5
}
