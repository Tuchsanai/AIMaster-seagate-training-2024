{
 "cells": [
  {
   "cell_type": "markdown",
   "id": "bcded1a6-2430-4707-a78c-c82f4c5ee6fc",
   "metadata": {},
   "source": [
    "<a href = \"https://www.pieriantraining.com\"><img src=\"../PT Centered Purple.png\"> </a>\n",
    "\n",
    "<em style=\"text-align:center\">Copyrighted by Pierian Training</em>"
   ]
  },
  {
   "cell_type": "markdown",
   "id": "728f1747-b8fc-4d31-96c2-047fc83c079d",
   "metadata": {},
   "source": [
    "#  Integrations\n",
    "\n",
    "You can explore all the integrations here: https://python.langchain.com/docs/modules/data_connection/document_loaders/\n",
    "\n",
    "Let's just go through a quick example!"
   ]
  },
  {
   "cell_type": "code",
   "execution_count": 1,
   "id": "244f42d8-2349-446e-a1c2-ae4b8d3ee38f",
   "metadata": {},
   "outputs": [],
   "source": [
    "from langchain.document_loaders import HNLoader"
   ]
  },
  {
   "cell_type": "code",
   "execution_count": 2,
   "id": "f9f664be-dcd8-4b29-afb8-0fb72451509f",
   "metadata": {},
   "outputs": [],
   "source": [
    "loader = HNLoader('https://news.ycombinator.com/item?id=30084169')"
   ]
  },
  {
   "cell_type": "code",
   "execution_count": 3,
   "id": "364d3c74-a88c-49b9-b102-1a206203c118",
   "metadata": {},
   "outputs": [],
   "source": [
    "data = loader.load()"
   ]
  },
  {
   "cell_type": "code",
   "execution_count": 7,
   "id": "cdb1aa8f-97d7-48be-8ca3-ddb9df553ca3",
   "metadata": {},
   "outputs": [
    {
     "name": "stdout",
     "output_type": "stream",
     "text": [
      "nicholast on Jan 26, 2022  \n",
      "             | next [–] \n",
      "\n",
      "He was also a jazz musician (the clarinet), a somewhat accomplished juggler, a devoted unicycle enthusiast, and left behind a basement full of contraptions he was building in various states of finish - like the electronic mouse navigating a maze, a chess playing machine, and all other kinds of curiosities. His papers are coherent and still relevant to this day and follow the birth of each of these fields like information theory and artificial intelligence. Who knows what else he might have been working on at Bell labs that we may not be privy too.\n"
     ]
    }
   ],
   "source": [
    "print(data[0].page_content)"
   ]
  },
  {
   "cell_type": "code",
   "execution_count": 8,
   "id": "049a4a99-5124-4f69-a4fc-185a6741a88c",
   "metadata": {},
   "outputs": [
    {
     "data": {
      "text/plain": [
       "{'source': 'https://news.ycombinator.com/item?id=30084169',\n",
       " 'title': 'How Claude Shannon helped kick-start machine learning'}"
      ]
     },
     "execution_count": 8,
     "metadata": {},
     "output_type": "execute_result"
    }
   ],
   "source": [
    "data[0].metadata"
   ]
  },
  {
   "cell_type": "markdown",
   "id": "570fdcc8-5052-4860-9b96-f962a17ffee1",
   "metadata": {},
   "source": [
    "## Create Summary of First Comment\n",
    "\n",
    "Let's show a simple example of combining a normal text document with an LLM Chat Model"
   ]
  },
  {
   "cell_type": "code",
   "execution_count": 11,
   "id": "b4cca327-1a29-49a9-b6bb-bb8caa18ef99",
   "metadata": {},
   "outputs": [],
   "source": [
    "from langchain.prompts import (\n",
    "    ChatPromptTemplate,\n",
    "    SystemMessagePromptTemplate,\n",
    "    HumanMessagePromptTemplate,\n",
    ")\n",
    "from langchain.chat_models import ChatOpenAI\n",
    "\n",
    "f = open('C:\\\\Users\\\\Marcial\\\\Desktop\\\\desktop_openai.txt')\n",
    "api_key = f.read()"
   ]
  },
  {
   "cell_type": "code",
   "execution_count": 12,
   "id": "d6b4db08-9808-4f50-8401-35d3968935b4",
   "metadata": {},
   "outputs": [],
   "source": [
    "model = ChatOpenAI(openai_api_key=api_key)"
   ]
  },
  {
   "cell_type": "code",
   "execution_count": 14,
   "id": "e3dbf3a0-1ec2-4142-977b-829891171bad",
   "metadata": {},
   "outputs": [],
   "source": [
    "human_prompt = HumanMessagePromptTemplate.from_template('Please give me a single sentence summary of the following:\\n{document}')"
   ]
  },
  {
   "cell_type": "code",
   "execution_count": 15,
   "id": "a6ed4f58-bc83-451f-9ab1-367f52dd3033",
   "metadata": {},
   "outputs": [],
   "source": [
    "chat_prompt = ChatPromptTemplate.from_messages([human_prompt])"
   ]
  },
  {
   "cell_type": "code",
   "execution_count": 16,
   "id": "83bdcccc-8ab3-4714-a619-c5c38b43ee5e",
   "metadata": {},
   "outputs": [],
   "source": [
    "result = model(chat_prompt.format_prompt(document=data[0].page_content).to_messages())"
   ]
  },
  {
   "cell_type": "code",
   "execution_count": 17,
   "id": "2caf3ce9-4ce4-4a24-a55f-5ba955e8425c",
   "metadata": {},
   "outputs": [
    {
     "data": {
      "text/plain": [
       "'Nicholast was a multi-talented individual who was passionate about jazz music, juggling, unicycling, and building various contraptions, and his coherent papers are still relevant today, particularly in the fields of information theory and artificial intelligence, with potential undisclosed projects from his time at Bell Labs.'"
      ]
     },
     "execution_count": 17,
     "metadata": {},
     "output_type": "execute_result"
    }
   ],
   "source": [
    "result.content"
   ]
  },
  {
   "cell_type": "markdown",
   "id": "a9acf0ba-988a-4f97-b743-0059db600a41",
   "metadata": {},
   "source": [
    "Uh oh! Notice how the result was heavily effected by lack of context! Keep this in mind when we begin to chain document loading later on."
   ]
  },
  {
   "cell_type": "code",
   "execution_count": null,
   "id": "3796bc79-d1af-46fc-ac99-169828443e08",
   "metadata": {},
   "outputs": [],
   "source": []
  }
 ],
 "metadata": {
  "kernelspec": {
   "display_name": "Python 3 (ipykernel)",
   "language": "python",
   "name": "python3"
  },
  "language_info": {
   "codemirror_mode": {
    "name": "ipython",
    "version": 3
   },
   "file_extension": ".py",
   "mimetype": "text/x-python",
   "name": "python",
   "nbconvert_exporter": "python",
   "pygments_lexer": "ipython3",
   "version": "3.9.12"
  }
 },
 "nbformat": 4,
 "nbformat_minor": 5
}
