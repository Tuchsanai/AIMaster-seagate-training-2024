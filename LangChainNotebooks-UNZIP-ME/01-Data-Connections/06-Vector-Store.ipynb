{
 "cells": [
  {
   "cell_type": "markdown",
   "id": "bcded1a6-2430-4707-a78c-c82f4c5ee6fc",
   "metadata": {},
   "source": [
    "<a href = \"https://www.pieriantraining.com\"><img src=\"../PT Centered Purple.png\"> </a>\n",
    "\n",
    "<em style=\"text-align:center\">Copyrighted by Pierian Training</em>"
   ]
  },
  {
   "cell_type": "markdown",
   "id": "728f1747-b8fc-4d31-96c2-047fc83c079d",
   "metadata": {},
   "source": [
    "#  Vector Store\n",
    "\n",
    "Let's save our embeddings using Chroma and also discover new tools available for us."
   ]
  },
  {
   "cell_type": "markdown",
   "id": "284dded2-d12a-450a-945d-b1ee3df494ef",
   "metadata": {},
   "source": [
    "----\n",
    "\n",
    "#### Quick Note to users, check the GitHub if you have installation issues, since pydantic, langchain, and chroma sometimes are out of sync and need specific version numbers to play nicely together. There was an error occuring in June of 2023, installing this specific version of pydantic solved it, but make sure to double check GitHub issues first.\n",
    "\n",
    "For example: \n",
    "* https://github.com/hwchase17/langchain/issues/5113\n",
    "* https://github.com/hwchase17/langchain/issues/7548\n",
    "#### Also don't forget to restart your kernel!\n",
    "---"
   ]
  },
  {
   "cell_type": "code",
   "execution_count": 10,
   "id": "c1031890-3ee4-4e4d-9a3f-3568ffbcea9e",
   "metadata": {},
   "outputs": [
    {
     "name": "stdout",
     "output_type": "stream",
     "text": [
      "0.3.26\n",
      "0.0.230\n",
      "1.10.8\n"
     ]
    }
   ],
   "source": [
    "# HERE ARE THE VERSION NUMBERS THAT WORKED FOR ME:\n",
    "# CAREFUL WITH PYDANTIC, DO IT LAST SINCE CHROMA AND LANGCHAIN AUTO INSTALL IT AS A DEPENDENCY\n",
    "# Use this to install specific versions numbers:\n",
    "# !pip install package_name==0.3.26\n",
    "import chromadb\n",
    "print(chromadb.__version__)\n",
    "import langchain\n",
    "print(langchain.__version__)\n",
    "import pydantic\n",
    "print(pydantic.__version__)"
   ]
  },
  {
   "cell_type": "code",
   "execution_count": 11,
   "id": "b872e353-68ba-4b2b-b80e-9730417d12d7",
   "metadata": {},
   "outputs": [],
   "source": [
    "import chromadb"
   ]
  },
  {
   "cell_type": "code",
   "execution_count": 33,
   "id": "a70b55e1-6114-4aa1-a1fc-2ab64786f16e",
   "metadata": {},
   "outputs": [],
   "source": [
    "from langchain.embeddings import OpenAIEmbeddings\n",
    "from langchain.text_splitter import CharacterTextSplitter\n",
    "from langchain.vectorstores import Chroma\n",
    "from langchain.document_loaders import TextLoader"
   ]
  },
  {
   "cell_type": "markdown",
   "id": "1dc95052-e09a-471e-b1d0-e02e7d50d424",
   "metadata": {},
   "source": [
    "### Load Document and Split (even if under context window, still recommended)"
   ]
  },
  {
   "cell_type": "code",
   "execution_count": 34,
   "id": "fbe6aef4-ba05-4fb0-9a91-cd90620668f2",
   "metadata": {},
   "outputs": [],
   "source": [
    "# load the document and split it into chunks\n",
    "loader = TextLoader(\"some_data/FDR_State_of_Union_1944.txt\")\n",
    "documents = loader.load()"
   ]
  },
  {
   "cell_type": "code",
   "execution_count": 35,
   "id": "c4e3ba7e-1a7b-4815-adf5-d1f76e551079",
   "metadata": {},
   "outputs": [],
   "source": [
    "# split it into chunks\n",
    "text_splitter = CharacterTextSplitter.from_tiktoken_encoder(chunk_size=500)\n",
    "docs = text_splitter.split_documents(documents)"
   ]
  },
  {
   "cell_type": "markdown",
   "id": "76bc3ca2-2b7a-4997-b419-a8c43435c47b",
   "metadata": {},
   "source": [
    "### Connect to OpenAI for Embeddings"
   ]
  },
  {
   "cell_type": "code",
   "execution_count": 36,
   "id": "2a0c2ab4-a7d0-4494-a391-1277e68ab87f",
   "metadata": {},
   "outputs": [],
   "source": [
    "import os\n",
    "f = open('C:\\\\Users\\\\Marcial\\\\Desktop\\\\desktop_openai.txt')\n",
    "os.environ['OPENAI_API_KEY'] = f.read()"
   ]
  },
  {
   "cell_type": "code",
   "execution_count": 37,
   "id": "4b65454a-caf0-45b0-a7de-ff6b7157b935",
   "metadata": {},
   "outputs": [],
   "source": [
    "embedding_function = OpenAIEmbeddings()"
   ]
  },
  {
   "cell_type": "markdown",
   "id": "a8c3d018-dbcc-49d5-9370-f8604cb45d47",
   "metadata": {},
   "source": [
    "### Pass Embeddings and Docs into Chroma"
   ]
  },
  {
   "cell_type": "code",
   "execution_count": 38,
   "id": "e736fb25-b130-42f9-823f-31869a61ce80",
   "metadata": {},
   "outputs": [],
   "source": [
    "# load it into Chroma\n",
    "db = Chroma.from_documents(docs, embedding_function,persist_directory='./speech_embedding_db')"
   ]
  },
  {
   "cell_type": "markdown",
   "id": "a990b039-2a93-473a-a5f1-75d197aa006f",
   "metadata": {},
   "source": [
    "### Save the new embeddings to disk"
   ]
  },
  {
   "cell_type": "code",
   "execution_count": 39,
   "id": "68444e8c-655b-4575-abe2-249836023dcf",
   "metadata": {},
   "outputs": [],
   "source": [
    "# Helpful to force a save\n",
    "db.persist()"
   ]
  },
  {
   "cell_type": "markdown",
   "id": "40421824-0ec2-44cb-811c-e0bc2454ab89",
   "metadata": {},
   "source": [
    "### Load Embeddings from Disk"
   ]
  },
  {
   "cell_type": "code",
   "execution_count": 54,
   "id": "5e597743-c036-4c35-8dbf-4b09e76a29cc",
   "metadata": {},
   "outputs": [],
   "source": [
    "db_connection = Chroma(persist_directory='./speech_embedding_db/',embedding_function=embedding_function)"
   ]
  },
  {
   "cell_type": "code",
   "execution_count": 55,
   "id": "e11f628e-8803-433f-a5c1-f2493b6e5751",
   "metadata": {},
   "outputs": [],
   "source": [
    "# WATCH THE VIDEO TO TRULY UNDERSTAND WHY YOU MAY NOT WANT TO DO DIRECT QUESTIONS!\n",
    "new_doc = \"What did FDR say about the cost of food law?\""
   ]
  },
  {
   "cell_type": "code",
   "execution_count": 56,
   "id": "4552c712-306b-4676-ad32-a878c39822aa",
   "metadata": {},
   "outputs": [],
   "source": [
    "docs = db_connection.similarity_search(new_doc)"
   ]
  },
  {
   "cell_type": "code",
   "execution_count": 57,
   "id": "4ab97ee2-48a1-4c74-bf2e-ad124295f57a",
   "metadata": {},
   "outputs": [
    {
     "name": "stdout",
     "output_type": "stream",
     "text": [
      "(2) A continuation of the law for the renegotiation of war contractsâ€”which will prevent exorbitant profits and assure fair prices to the Government. For two long years I have pleaded with the Congress to take undue profits out of war.\n",
      "\n",
      "(3) A cost of food lawâ€”which will enable the Government (a) to place a reasonable floor under the prices the farmer may expect for his production; and (b) to place a ceiling on the prices a consumer will have to pay for the food he buys. This should apply to necessities only; and will require public funds to carry out. It will cost in appropriations about one percent of the present annual cost of the war.\n",
      "\n",
      "(4) Early reenactment of. the stabilization statute of October, 1942. This expires June 30, 1944, and if it is not extended well in advance, the country might just as well expect price chaos by summer.\n",
      "\n",
      "(5) A national service law- which, for the duration of the war, will prevent strikes, and, with certain appropriate exceptions, will make available for war production or for any other essential services every able-bodied adult in this Nation.\n",
      "\n",
      "These five measures together form a just and equitable whole. I would not recommend a national service law unless the other laws were passed to keep down the cost of living, to share equitably the burdens of taxation, to hold the stabilization line, and to prevent undue profits.\n",
      "\n",
      "The Federal Government already has the basic power to draft capital and property of all kinds for war purposes on a basis of just compensation.\n",
      "\n",
      "As you know, I have for three years hesitated to recommend a national service act. Today, however, I am convinced of its necessity. Although I believe that we and our allies can win the war without such a measure, I am certain that nothing less than total mobilization of all our resources of manpower and capital will guarantee an earlier victory, and reduce the toll of suffering and sorrow and blood.\n",
      "\n",
      "I have received a joint recommendation for this law from the heads of the War Department, the Navy Department, and the Maritime Commission. These are the men who bear responsibility for the procurement of the necessary arms and equipment, and for the successful prosecution of the war in the field. They say:\n"
     ]
    }
   ],
   "source": [
    "print(docs[0].page_content)"
   ]
  },
  {
   "cell_type": "markdown",
   "id": "24991e4f-c182-477d-9358-71a3eb071f6c",
   "metadata": {},
   "source": [
    "## Add New Document"
   ]
  },
  {
   "cell_type": "code",
   "execution_count": null,
   "id": "1ab63717-0c69-4129-a17f-bafa8a6a9ebd",
   "metadata": {},
   "outputs": [],
   "source": []
  },
  {
   "cell_type": "code",
   "execution_count": 44,
   "id": "3e943536-619c-4296-83ff-2ed0f7fe42a8",
   "metadata": {},
   "outputs": [],
   "source": [
    "# load the document and split it into chunks\n",
    "loader = TextLoader(\"some_data/Lincoln_State_of_Union_1862.txt\")\n",
    "documents = loader.load()"
   ]
  },
  {
   "cell_type": "code",
   "execution_count": 45,
   "id": "f7dd469f-e25e-475a-8726-6e4b40f83b05",
   "metadata": {},
   "outputs": [
    {
     "name": "stderr",
     "output_type": "stream",
     "text": [
      "Created a chunk of size 611, which is longer than the specified 500\n",
      "Created a chunk of size 539, which is longer than the specified 500\n",
      "Created a chunk of size 686, which is longer than the specified 500\n"
     ]
    }
   ],
   "source": [
    "# split it into chunks\n",
    "text_splitter = CharacterTextSplitter.from_tiktoken_encoder(chunk_size=500)\n",
    "docs = text_splitter.split_documents(documents)"
   ]
  },
  {
   "cell_type": "code",
   "execution_count": 47,
   "id": "2a68b70a-c6b5-4eb9-a460-6ea244a9cb66",
   "metadata": {},
   "outputs": [],
   "source": [
    "# load it into Chroma\n",
    "db = Chroma.from_documents(docs, embedding_function,persist_directory='./speech_embedding_db')"
   ]
  },
  {
   "cell_type": "code",
   "execution_count": 48,
   "id": "35b9a34c-30b5-4ac7-928b-88b93406ca46",
   "metadata": {},
   "outputs": [],
   "source": [
    "docs = db.similarity_search('slavery')"
   ]
  },
  {
   "cell_type": "code",
   "execution_count": 49,
   "id": "30799f4b-1502-4fe7-953e-c0dcfd5dc2c1",
   "metadata": {},
   "outputs": [
    {
     "data": {
      "text/plain": [
       "'As to the second article, I think it would be impracticable to return to bondage the class of persons therein contemplated. Some of them, doubtless, in the property sense belong to loyal owners, and hence provision is made in this article for compensating such. The third article relates to the future of the freed people. It does not oblige, but merely authorizes Congress to aid in colonizing such as may consent. This ought not to be regarded as objectionable on the one hand or on the other, insomuch as it comes to nothing unless by the mutual consent of the people to be deported and the American voters, through their representatives in Congress.\\n\\nI can not make it better known than it already is that I strongly favor colonization; and yet I wish to say there is an objection urged against free colored persons remaining in the country which is largely imaginary, if not sometimes malicious.\\n\\nIt is insisted that their presence would injure and displace white labor and white laborers. If there ever could be a proper time for mere catch arguments, that time surely is not now. In times like the present men should utter nothing for which they would not willingly be responsible through time and in eternity. Is it true, then, that colored people can displace any more white labor by being free than by remaining slaves? If they stay in their old places, they jostle no white laborers; if they leave their old places, they leave them open to white laborers. Logically, there is neither more nor less of it. Emancipation, even without deportation, would probably enhance the wages of white labor, and very surely would not reduce them. Thus the customary amount of labor would still have to be performedâ€”the freed people would surely not do more than their old proportion of it, and very probably for a time would do less, leaving an increased part to white laborers, bringing their labor into greater demand, and consequently enhancing the wages of it. With deportation, even to a limited extent, enhanced wages to white labor is mathematically certain. Labor is like any other commodity in the marketâ€”increase the demand for it and you increase the price of it. Reduce the supply of black labor by colonizing the black laborer out of the country, and by precisely so much you increase the demand for and wages of white labor.'"
      ]
     },
     "execution_count": 49,
     "metadata": {},
     "output_type": "execute_result"
    }
   ],
   "source": [
    "docs[0].page_content"
   ]
  },
  {
   "cell_type": "markdown",
   "id": "3505b94a-93bd-4b61-84c8-5584bb04b9df",
   "metadata": {},
   "source": [
    "### Collection class calls: https://docs.trychroma.com/reference/Collection"
   ]
  },
  {
   "cell_type": "code",
   "execution_count": 52,
   "id": "52d60b4d-e11a-4dfd-b620-4710a2be990e",
   "metadata": {},
   "outputs": [],
   "source": [
    "# help(db._collection)"
   ]
  },
  {
   "cell_type": "code",
   "execution_count": null,
   "id": "f9cad4dc-d8ac-41f3-a48c-ad4274909fb0",
   "metadata": {},
   "outputs": [],
   "source": []
  }
 ],
 "metadata": {
  "kernelspec": {
   "display_name": "Python 3 (ipykernel)",
   "language": "python",
   "name": "python3"
  },
  "language_info": {
   "codemirror_mode": {
    "name": "ipython",
    "version": 3
   },
   "file_extension": ".py",
   "mimetype": "text/x-python",
   "name": "python",
   "nbconvert_exporter": "python",
   "pygments_lexer": "ipython3",
   "version": "3.9.12"
  }
 },
 "nbformat": 4,
 "nbformat_minor": 5
}
