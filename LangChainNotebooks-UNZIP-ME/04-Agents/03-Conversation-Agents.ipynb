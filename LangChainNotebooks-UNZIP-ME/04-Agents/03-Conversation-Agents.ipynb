{
 "cells": [
  {
   "cell_type": "markdown",
   "id": "bcded1a6-2430-4707-a78c-c82f4c5ee6fc",
   "metadata": {},
   "source": [
    "<a href = \"https://www.pieriantraining.com\"><img src=\"../PT Centered Purple.png\"> </a>\n",
    "\n",
    "<em style=\"text-align:center\">Copyrighted by Pierian Training</em>"
   ]
  },
  {
   "cell_type": "markdown",
   "id": "728f1747-b8fc-4d31-96c2-047fc83c079d",
   "metadata": {},
   "source": [
    "# Conversation Agents"
   ]
  },
  {
   "cell_type": "code",
   "execution_count": 7,
   "id": "244f42d8-2349-446e-a1c2-ae4b8d3ee38f",
   "metadata": {},
   "outputs": [],
   "source": [
    "from langchain.agents import Tool\n",
    "from langchain.agents import AgentType\n",
    "from langchain.memory import ConversationBufferMemory\n",
    "from langchain.chat_models import ChatOpenAI\n",
    "from langchain.agents import initialize_agent\n",
    "from langchain.agents import load_tools"
   ]
  },
  {
   "cell_type": "code",
   "execution_count": 8,
   "id": "24a323c2-ee1f-417e-8844-1b8146b9327f",
   "metadata": {},
   "outputs": [],
   "source": [
    "memory = ConversationBufferMemory(memory_key=\"chat_history\")"
   ]
  },
  {
   "cell_type": "code",
   "execution_count": 13,
   "id": "a23e4ec1-ba5f-43ee-b466-3e625b3de0a8",
   "metadata": {},
   "outputs": [],
   "source": [
    "llm=ChatOpenAI(temperature=0)\n",
    "tools = load_tools([\"llm-math\"], llm=llm) \n",
    "agent_chain = initialize_agent(tools, \n",
    "                               llm,\n",
    "                               agent=AgentType.CONVERSATIONAL_REACT_DESCRIPTION, \n",
    "                               verbose=True, \n",
    "                               memory=memory)"
   ]
  },
  {
   "cell_type": "code",
   "execution_count": 14,
   "id": "5e4c36f5-4b4a-47e9-8bbd-3de61806720c",
   "metadata": {},
   "outputs": [
    {
     "name": "stdout",
     "output_type": "stream",
     "text": [
      "\n",
      "\n",
      "\u001b[1m> Entering new  chain...\u001b[0m\n",
      "\u001b[32;1m\u001b[1;3mThought: Do I need to use a tool? No\n",
      "AI: Thai cuisine is known for its bold flavors and aromatic ingredients. Here are a few popular Thai food recipes you might enjoy:\n",
      "\n",
      "1. Pad Thai: This stir-fried noodle dish is a classic Thai favorite. It typically includes rice noodles, shrimp or chicken, eggs, tofu, bean sprouts, and a tangy sauce made from tamarind paste, fish sauce, and lime juice.\n",
      "\n",
      "2. Green Curry: This spicy curry is made with a paste of green chilies, garlic, lemongrass, and other herbs and spices. It is typically cooked with coconut milk, vegetables, and your choice of meat or tofu.\n",
      "\n",
      "3. Tom Yum Soup: This hot and sour soup is a popular Thai appetizer. It is made with a flavorful broth, shrimp or chicken, mushrooms, lemongrass, lime juice, and chili peppers.\n",
      "\n",
      "4. Massaman Curry: This rich and flavorful curry is made with a paste of roasted spices, including cinnamon, cardamom, and cloves. It is typically cooked with coconut milk, potatoes, onions, and your choice of meat or tofu.\n",
      "\n",
      "5. Mango Sticky Rice: This popular Thai dessert is made with sweet sticky rice, fresh mango slices, and a drizzle of coconut milk. It's a delicious and refreshing way to end a Thai meal.\n",
      "\n",
      "These are just a few examples, but there are many more delicious Thai dishes to explore. Enjoy cooking and experimenting with Thai cuisine!\u001b[0m\n",
      "\n",
      "\u001b[1m> Finished chain.\u001b[0m\n"
     ]
    },
    {
     "data": {
      "text/plain": [
       "\"Thai cuisine is known for its bold flavors and aromatic ingredients. Here are a few popular Thai food recipes you might enjoy:\\n\\n1. Pad Thai: This stir-fried noodle dish is a classic Thai favorite. It typically includes rice noodles, shrimp or chicken, eggs, tofu, bean sprouts, and a tangy sauce made from tamarind paste, fish sauce, and lime juice.\\n\\n2. Green Curry: This spicy curry is made with a paste of green chilies, garlic, lemongrass, and other herbs and spices. It is typically cooked with coconut milk, vegetables, and your choice of meat or tofu.\\n\\n3. Tom Yum Soup: This hot and sour soup is a popular Thai appetizer. It is made with a flavorful broth, shrimp or chicken, mushrooms, lemongrass, lime juice, and chili peppers.\\n\\n4. Massaman Curry: This rich and flavorful curry is made with a paste of roasted spices, including cinnamon, cardamom, and cloves. It is typically cooked with coconut milk, potatoes, onions, and your choice of meat or tofu.\\n\\n5. Mango Sticky Rice: This popular Thai dessert is made with sweet sticky rice, fresh mango slices, and a drizzle of coconut milk. It's a delicious and refreshing way to end a Thai meal.\\n\\nThese are just a few examples, but there are many more delicious Thai dishes to explore. Enjoy cooking and experimenting with Thai cuisine!\""
      ]
     },
     "execution_count": 14,
     "metadata": {},
     "output_type": "execute_result"
    }
   ],
   "source": [
    "agent_chain.run(input=\"What are some good thai food recipes?\")"
   ]
  },
  {
   "cell_type": "code",
   "execution_count": 17,
   "id": "13d8424a-e9c7-412e-b685-6dce2923f8e8",
   "metadata": {},
   "outputs": [
    {
     "name": "stdout",
     "output_type": "stream",
     "text": [
      "\n",
      "\n",
      "\u001b[1m> Entering new  chain...\u001b[0m\n",
      "\u001b[32;1m\u001b[1;3mThought: Do I need to use a tool? No\n",
      "AI: Among the dishes mentioned, the spiciest one is typically the Green Curry. Green curry paste is made with green chilies, which gives it its signature heat. However, the level of spiciness can vary depending on personal preference and the amount of chili used in the recipe. If you prefer milder flavors, you can adjust the amount of chili or use a milder curry paste.\u001b[0m\n",
      "\n",
      "\u001b[1m> Finished chain.\u001b[0m\n"
     ]
    },
    {
     "data": {
      "text/plain": [
       "'Among the dishes mentioned, the spiciest one is typically the Green Curry. Green curry paste is made with green chilies, which gives it its signature heat. However, the level of spiciness can vary depending on personal preference and the amount of chili used in the recipe. If you prefer milder flavors, you can adjust the amount of chili or use a milder curry paste.'"
      ]
     },
     "execution_count": 17,
     "metadata": {},
     "output_type": "execute_result"
    }
   ],
   "source": [
    "agent_chain.run(\"Which one of those dishes is the spiciest?\")"
   ]
  },
  {
   "cell_type": "code",
   "execution_count": 18,
   "id": "7851e3aa-6844-414d-b952-d44b18652296",
   "metadata": {},
   "outputs": [
    {
     "name": "stdout",
     "output_type": "stream",
     "text": [
      "\n",
      "\n",
      "\u001b[1m> Entering new  chain...\u001b[0m\n",
      "\u001b[32;1m\u001b[1;3mThought: Do I need to use a tool? No\n",
      "AI: Sure! Here's a grocery shopping list for making Green Curry:\n",
      "\n",
      "- Green curry paste\n",
      "- Coconut milk\n",
      "- Chicken or your choice of meat/tofu\n",
      "- Vegetables (such as bell peppers, bamboo shoots, and Thai eggplant)\n",
      "- Fish sauce\n",
      "- Palm sugar or brown sugar\n",
      "- Kaffir lime leaves\n",
      "- Thai basil leaves\n",
      "- Thai chilies (optional, for extra spiciness)\n",
      "- Jasmine rice\n",
      "\n",
      "These ingredients should be readily available at most grocery stores or Asian markets. Enjoy cooking your Green Curry!\u001b[0m\n",
      "\n",
      "\u001b[1m> Finished chain.\u001b[0m\n"
     ]
    },
    {
     "data": {
      "text/plain": [
       "\"Sure! Here's a grocery shopping list for making Green Curry:\\n\\n- Green curry paste\\n- Coconut milk\\n- Chicken or your choice of meat/tofu\\n- Vegetables (such as bell peppers, bamboo shoots, and Thai eggplant)\\n- Fish sauce\\n- Palm sugar or brown sugar\\n- Kaffir lime leaves\\n- Thai basil leaves\\n- Thai chilies (optional, for extra spiciness)\\n- Jasmine rice\\n\\nThese ingredients should be readily available at most grocery stores or Asian markets. Enjoy cooking your Green Curry!\""
      ]
     },
     "execution_count": 18,
     "metadata": {},
     "output_type": "execute_result"
    }
   ],
   "source": [
    "agent_chain.run(\"Give me a grocery shopping list to make that dish\")"
   ]
  },
  {
   "cell_type": "code",
   "execution_count": null,
   "id": "bf0e35bb-87b3-4ad1-883f-749c9c511d29",
   "metadata": {},
   "outputs": [],
   "source": []
  }
 ],
 "metadata": {
  "kernelspec": {
   "display_name": "Python 3 (ipykernel)",
   "language": "python",
   "name": "python3"
  },
  "language_info": {
   "codemirror_mode": {
    "name": "ipython",
    "version": 3
   },
   "file_extension": ".py",
   "mimetype": "text/x-python",
   "name": "python",
   "nbconvert_exporter": "python",
   "pygments_lexer": "ipython3",
   "version": "3.9.12"
  }
 },
 "nbformat": 4,
 "nbformat_minor": 5
}
