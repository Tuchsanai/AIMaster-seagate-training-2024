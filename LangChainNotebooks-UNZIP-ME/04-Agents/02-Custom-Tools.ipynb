{
 "cells": [
  {
   "cell_type": "markdown",
   "id": "bcded1a6-2430-4707-a78c-c82f4c5ee6fc",
   "metadata": {},
   "source": [
    "<a href = \"https://www.pieriantraining.com\"><img src=\"../PT Centered Purple.png\"> </a>\n",
    "\n",
    "<em style=\"text-align:center\">Copyrighted by Pierian Training</em>"
   ]
  },
  {
   "cell_type": "markdown",
   "id": "728f1747-b8fc-4d31-96c2-047fc83c079d",
   "metadata": {},
   "source": [
    "# Custom Tools\n",
    "\n",
    "You can see a full list of integrations here: https://python.langchain.com/docs/modules/agents/tools/"
   ]
  },
  {
   "cell_type": "code",
   "execution_count": 2,
   "id": "244f42d8-2349-446e-a1c2-ae4b8d3ee38f",
   "metadata": {},
   "outputs": [],
   "source": [
    "from langchain.agents import load_tools\n",
    "from langchain.agents import initialize_agent\n",
    "from langchain.agents import AgentType\n",
    "from langchain.llms import OpenAI"
   ]
  },
  {
   "cell_type": "markdown",
   "id": "3e26de5b-82e2-47c2-b1d4-5174f142e3bd",
   "metadata": {},
   "source": [
    "### Wrap your own function with the tool decorator"
   ]
  },
  {
   "cell_type": "code",
   "execution_count": 5,
   "id": "abb11b29-8b95-424f-9470-20adb810dd8f",
   "metadata": {},
   "outputs": [],
   "source": [
    "from langchain.agents import tool"
   ]
  },
  {
   "cell_type": "code",
   "execution_count": 6,
   "id": "1a798765-e8ca-4741-a916-b52ca38d95a7",
   "metadata": {},
   "outputs": [],
   "source": [
    "@tool\n",
    "def coolest_guy(text: str) -> str:\n",
    "    '''Returns the name of the coolest guy in the universe'''\n",
    "    return \"Jose Portilla\""
   ]
  },
  {
   "cell_type": "code",
   "execution_count": 7,
   "id": "de49a069-fcf1-465b-8e20-9410680645e1",
   "metadata": {},
   "outputs": [],
   "source": [
    "llm = OpenAI(temperature=0)"
   ]
  },
  {
   "cell_type": "code",
   "execution_count": 9,
   "id": "85189426-f4bb-4018-adcc-14fbdb444d36",
   "metadata": {},
   "outputs": [],
   "source": [
    "tools = load_tools([\"wikipedia\",\"llm-math\"], llm=llm) \n",
    "tools = tools +[coolest_guy]"
   ]
  },
  {
   "cell_type": "code",
   "execution_count": 10,
   "id": "ffdfe861-3352-4e1c-8cbd-2c25e4d2f94d",
   "metadata": {},
   "outputs": [
    {
     "data": {
      "text/plain": [
       "['CHAT_CONVERSATIONAL_REACT_DESCRIPTION',\n",
       " 'CHAT_ZERO_SHOT_REACT_DESCRIPTION',\n",
       " 'CONVERSATIONAL_REACT_DESCRIPTION',\n",
       " 'OPENAI_FUNCTIONS',\n",
       " 'OPENAI_MULTI_FUNCTIONS',\n",
       " 'REACT_DOCSTORE',\n",
       " 'SELF_ASK_WITH_SEARCH',\n",
       " 'STRUCTURED_CHAT_ZERO_SHOT_REACT_DESCRIPTION',\n",
       " 'ZERO_SHOT_REACT_DESCRIPTION',\n",
       " '__class__',\n",
       " '__doc__',\n",
       " '__members__',\n",
       " '__module__']"
      ]
     },
     "execution_count": 10,
     "metadata": {},
     "output_type": "execute_result"
    }
   ],
   "source": [
    "dir(AgentType)"
   ]
  },
  {
   "cell_type": "code",
   "execution_count": 11,
   "id": "488d1642-e736-4fa5-9b08-3331c462b8b1",
   "metadata": {},
   "outputs": [],
   "source": [
    "agent = initialize_agent(tools, \n",
    "                         llm, \n",
    "                         agent=AgentType.ZERO_SHOT_REACT_DESCRIPTION, \n",
    "                         verbose=True)"
   ]
  },
  {
   "cell_type": "code",
   "execution_count": 12,
   "id": "5eced15f-3852-4be0-909f-a7d6e8bc9c4b",
   "metadata": {},
   "outputs": [
    {
     "name": "stdout",
     "output_type": "stream",
     "text": [
      "\n",
      "\n",
      "\u001b[1m> Entering new  chain...\u001b[0m\n",
      "\u001b[32;1m\u001b[1;3m I need to find out who the coolest guy is.\n",
      "Action: coolest_guy\n",
      "Action Input: N/A\u001b[0m\n",
      "Observation: \u001b[38;5;200m\u001b[1;3mJose Portilla\u001b[0m\n",
      "Thought:\u001b[32;1m\u001b[1;3m I now know the final answer\n",
      "Final Answer: The coolest guy in the universe is Jose Portilla.\u001b[0m\n",
      "\n",
      "\u001b[1m> Finished chain.\u001b[0m\n"
     ]
    },
    {
     "data": {
      "text/plain": [
       "'The coolest guy in the universe is Jose Portilla.'"
      ]
     },
     "execution_count": 12,
     "metadata": {},
     "output_type": "execute_result"
    }
   ],
   "source": [
    "agent.run(\"Whos is the coolest guy in the universe?\")"
   ]
  },
  {
   "cell_type": "code",
   "execution_count": 13,
   "id": "31612caf-de9f-4c61-be1e-bbe521660992",
   "metadata": {},
   "outputs": [],
   "source": [
    "@tool\n",
    "def some_api_call(text: str) -> str:\n",
    "    '''Can now connect your Agents to any tool via an API call, get creative here!'''\n",
    "    return api_result"
   ]
  },
  {
   "cell_type": "code",
   "execution_count": 14,
   "id": "93a09235-b6df-47b9-bce6-f9e400e95ce5",
   "metadata": {},
   "outputs": [],
   "source": [
    "from datetime import datetime\n",
    "# DOC STRINGS SHOULD BE VERY DESCRIPTIVE\n",
    "# IT IS WHAT THE LLM READS TO DECIDE TO USE THE TOOL!\n",
    "@tool\n",
    "def get_time(text: str) -> str:\n",
    "    '''Returns the current time. Use this for any questions\n",
    "    regarding the current time. Input is an empty string and\n",
    "    the current time is returned in a string format. Only use this function\n",
    "    for the current time. Other time related questions should use another tool'''\n",
    "    return str(datetime.now())"
   ]
  },
  {
   "cell_type": "code",
   "execution_count": 15,
   "id": "f9f26db0-aaca-4f2d-a60b-9b93cd1a366e",
   "metadata": {},
   "outputs": [],
   "source": [
    "agent = initialize_agent(tools+[get_time], \n",
    "                         llm, \n",
    "                         agent=AgentType.ZERO_SHOT_REACT_DESCRIPTION, \n",
    "                         verbose=True)"
   ]
  },
  {
   "cell_type": "code",
   "execution_count": 16,
   "id": "c83aeb64-6514-43c7-ad4a-74ce0f403392",
   "metadata": {},
   "outputs": [
    {
     "name": "stdout",
     "output_type": "stream",
     "text": [
      "\n",
      "\n",
      "\u001b[1m> Entering new  chain...\u001b[0m\n",
      "\u001b[32;1m\u001b[1;3m I need to find out what time Pearl Harbor happened\n",
      "Action: Wikipedia\n",
      "Action Input: Pearl Harbor\u001b[0m\n",
      "Observation: \u001b[36;1m\u001b[1;3mPage: Pearl Harbor\n",
      "Summary: Pearl Harbor is an American lagoon harbor on the island of Oahu, Hawaii, west of Honolulu. It was often visited by the Naval fleet of the United States, before it was acquired from the Hawaiian Kingdom by the U.S. with the signing of the Reciprocity Treaty of 1875. Much of the harbor and surrounding lands are now a United States Navy deep-water naval base. It is also the headquarters of the United States Pacific Fleet. The U.S. government first obtained exclusive use of the inlet and the right to maintain a repair and coaling station for ships here in 1887. The surprise attack by the Imperial Japanese Navy on December 7, 1941, led the United States to declare war on the Empire of Japan, making the attack on Pearl Harbor the immediate cause of the United States' entry into World War II.\n",
      "\n",
      "\n",
      "\n",
      "Page: Attack on Pearl Harbor\n",
      "Summary: The attack on Pearl Harbor was a surprise military strike by the Imperial Japanese Navy Air Service upon the United States against the U.S. naval base at Pearl Harbor in Honolulu, Hawaii, just before 8:00 a.m. (local time) on Sunday, December 7, 1941. The United States was a neutral country at the time; the attack led to its formal entry into World War II on the side of the Allies the next day. The Japanese military leadership referred to the attack as the Hawaii Operation and Operation AI, and as Operation Z during its planning.The attack was preceded by months of negotiations between the U.S. and Japan over the future of the Pacific. Japanese demands included that the U.S. end its sanctions against Japan, cease aiding China in the Second Sino-Japanese war, and allow Japan to access the resources of the Dutch East Indies. Anticipating a negative response from the US, Japan sent out its naval attack groups in November 1941 just prior to receiving the Hull note—the U.S. demand that Japan withdraw from China and French Indochina. Japan intended the attack as a preventive action. Its aim was to prevent the United States Pacific Fleet from interfering with its planned military actions in Southeast Asia against overseas territories of the United Kingdom, the Netherlands, and those of the United States. Over the course of seven hours there were coordinated Japanese attacks on the U.S.-held Philippines, Guam, and Wake Island and on the British Empire in Malaya, Singapore, and Hong Kong.The attack commenced at 7:48 a.m. Hawaiian Time (6:18 p.m. GMT). The base was attacked by 353 Imperial Japanese aircraft (including fighters, level and dive bombers, and torpedo bombers) in two waves, launched from six aircraft carriers. Of the eight U.S. Navy battleships present, all were damaged, with four sunk. All but USS Arizona were later raised, and six were returned to service and went on to fight in the war. The Japanese also sank or damaged three cruisers, three destroyers, an anti-aircraft training ship, and one minelayer. More than 180 US aircraft were destroyed. A total of 2,403 Americans were killed and 1,178 others were wounded, making it the deadliest event ever recorded in Hawaii. Important base installations such as the power station, dry dock, shipyard, maintenance, and fuel and torpedo storage facilities, as well as the submarine piers and headquarters building (also home of the intelligence section) were not attacked. Japanese losses were light: 29 aircraft and five midget submarines lost, and 64 servicemen killed. Kazuo Sakamaki, the commanding officer of one of the submarines, was captured.Japan announced declarations of war on the United States and the British Empire later that day (December 8 in Tokyo), but the declarations were not delivered until the following day. The British government declared war on Japan immediately after learning that their territory had also been attacked, while the following day (December 8) the United States Congress declared war on Japan. On December 11, though they had no formal obligation to do so under the Tripartite Pact with Japan, Germany and I\u001b[0m\n",
      "Thought:\u001b[32;1m\u001b[1;3m I need to find out what time the attack started\n",
      "Action: get_time\n",
      "Action Input: \"\"\u001b[0m\n",
      "Observation: \u001b[36;1m\u001b[1;3m2023-07-19 15:48:33.140554\u001b[0m\n",
      "Thought:\u001b[32;1m\u001b[1;3m I now know the final answer\n",
      "Final Answer: The attack on Pearl Harbor started at 6:18 PM GMT on December 7, 1941.\u001b[0m\n",
      "\n",
      "\u001b[1m> Finished chain.\u001b[0m\n"
     ]
    },
    {
     "data": {
      "text/plain": [
       "{'input': 'What time did Pearl Harbor happen at?',\n",
       " 'output': 'The attack on Pearl Harbor started at 6:18 PM GMT on December 7, 1941.'}"
      ]
     },
     "execution_count": 16,
     "metadata": {},
     "output_type": "execute_result"
    }
   ],
   "source": [
    "agent(\"What time did Pearl Harbor happen at?\")"
   ]
  },
  {
   "cell_type": "code",
   "execution_count": 17,
   "id": "334b708a-cf5f-4ec9-9659-35b2bd55b622",
   "metadata": {},
   "outputs": [
    {
     "name": "stdout",
     "output_type": "stream",
     "text": [
      "\n",
      "\n",
      "\u001b[1m> Entering new  chain...\u001b[0m\n",
      "\u001b[32;1m\u001b[1;3m I need to find out the current time\n",
      "Action: get_time\n",
      "Action Input: \"\"\u001b[0m\n",
      "Observation: \u001b[36;1m\u001b[1;3m2023-07-19 15:48:45.919918\u001b[0m\n",
      "Thought:\u001b[32;1m\u001b[1;3m I now know the final answer\n",
      "Final Answer: The current time is 2023-07-19 15:48:45.919918.\u001b[0m\n",
      "\n",
      "\u001b[1m> Finished chain.\u001b[0m\n"
     ]
    },
    {
     "data": {
      "text/plain": [
       "{'input': 'What time is it?',\n",
       " 'output': 'The current time is 2023-07-19 15:48:45.919918.'}"
      ]
     },
     "execution_count": 17,
     "metadata": {},
     "output_type": "execute_result"
    }
   ],
   "source": [
    "agent(\"What time is it?\")"
   ]
  },
  {
   "cell_type": "code",
   "execution_count": null,
   "id": "3247717f-a68b-4d4b-9da9-abdc9fa37be1",
   "metadata": {},
   "outputs": [],
   "source": []
  }
 ],
 "metadata": {
  "kernelspec": {
   "display_name": "Python 3 (ipykernel)",
   "language": "python",
   "name": "python3"
  },
  "language_info": {
   "codemirror_mode": {
    "name": "ipython",
    "version": 3
   },
   "file_extension": ".py",
   "mimetype": "text/x-python",
   "name": "python",
   "nbconvert_exporter": "python",
   "pygments_lexer": "ipython3",
   "version": "3.9.12"
  }
 },
 "nbformat": 4,
 "nbformat_minor": 5
}
