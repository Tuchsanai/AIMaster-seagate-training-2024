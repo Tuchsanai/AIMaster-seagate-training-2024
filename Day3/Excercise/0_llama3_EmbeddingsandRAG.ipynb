{
  "cells": [
    {
      "cell_type": "markdown",
      "id": "92b4c5ac",
      "metadata": {
        "id": "92b4c5ac"
      },
      "source": [
        "# Importing Necessary Libraries\n",
        "This section imports all the necessary libraries required for the rest of the notebook."
      ]
    },
    {
      "cell_type": "code",
      "execution_count": 17,
      "id": "d408c568",
      "metadata": {
        "colab": {
          "base_uri": "https://localhost:8080/"
        },
        "id": "d408c568",
        "outputId": "08bb8847-577d-4a89-9757-747f91d53d04"
      },
      "outputs": [
        {
          "name": "stdout",
          "output_type": "stream",
          "text": [
            "Notebook cleaned.\n"
          ]
        }
      ],
      "source": [
        "import IPython\n",
        "import sys\n",
        "\n",
        "def clean_notebook():\n",
        "    IPython.display.clear_output(wait=True)\n",
        "    print(\"Notebook cleaned.\")\n",
        "\n",
        "# Run the installation commands\n",
        "\n",
        "!pip install openai\n",
        "!pip install gradio\n",
        "!pip install tiktoken\n",
        "!pip install faiss-gpu\n",
        "!pip install  datasets\n",
        "# Clean up the notebook\n",
        "clean_notebook()"
      ]
    },
    {
      "cell_type": "code",
      "execution_count": null,
      "id": "8YCTMQQpgwo_",
      "metadata": {
        "id": "8YCTMQQpgwo_"
      },
      "outputs": [],
      "source": [
        "\n",
        "import openai\n",
        "openai.api_key = \"code\""
      ]
    },
    {
      "cell_type": "markdown",
      "id": "2ee76d05",
      "metadata": {
        "id": "2ee76d05"
      },
      "source": [
        "# Downloading Dataset\n",
        "This section downloads the dataset using the wget command."
      ]
    },
    {
      "cell_type": "code",
      "execution_count": 2,
      "id": "Sd6N1kdZJt4u",
      "metadata": {
        "colab": {
          "base_uri": "https://localhost:8080/"
        },
        "id": "Sd6N1kdZJt4u",
        "outputId": "04d43711-2263-4dca-94f7-f154d0883b98"
      },
      "outputs": [
        {
          "name": "stdout",
          "output_type": "stream",
          "text": [
            "--2024-06-03 08:25:34--  https://raw.githubusercontent.com/Tuchsanai/AIMaster-seagate-training-2024/6a91fb201929394a4c640ed32a29b69136c1a6f7/Dataset/bbc_text_cls.csv\n",
            "Resolving raw.githubusercontent.com (raw.githubusercontent.com)... 2606:50c0:8001::154, 2606:50c0:8000::154, 2606:50c0:8002::154, ...\n",
            "Connecting to raw.githubusercontent.com (raw.githubusercontent.com)|2606:50c0:8001::154|:443... connected.\n",
            "HTTP request sent, awaiting response... 200 OK\n",
            "Length: 5085081 (4.8M) [text/plain]\n",
            "Saving to: ‘bbc_text_cls.csv’\n",
            "\n",
            "bbc_text_cls.csv    100%[===================>]   4.85M  25.0MB/s    in 0.2s    \n",
            "\n",
            "2024-06-03 08:25:35 (25.0 MB/s) - ‘bbc_text_cls.csv’ saved [5085081/5085081]\n",
            "\n"
          ]
        }
      ],
      "source": [
        " !wget -nc https://raw.githubusercontent.com/Tuchsanai/AIMaster-seagate-training-2024/6a91fb201929394a4c640ed32a29b69136c1a6f7/Dataset/bbc_text_cls.csv\n"
      ]
    },
    {
      "cell_type": "markdown",
      "id": "fffcc569",
      "metadata": {
        "id": "fffcc569"
      },
      "source": [
        "# Importing Necessary Libraries\n"
      ]
    },
    {
      "cell_type": "code",
      "execution_count": 3,
      "id": "7eb2b84f",
      "metadata": {
        "id": "7eb2b84f"
      },
      "outputs": [],
      "source": [
        "# text-embedding-3-small\t$0.02 / 1M tokens\n",
        "# text-embedding-3-large\t$0.13 / 1M tokens\n",
        "\n",
        "import tiktoken\n",
        "import pandas as pd\n",
        "import numpy as np\n",
        "\n",
        "encoding = tiktoken.encoding_for_model(\"gpt-3.5-turbo\")\n"
      ]
    },
    {
      "cell_type": "markdown",
      "id": "3Pv21b6Qd9NA",
      "metadata": {
        "id": "3Pv21b6Qd9NA"
      },
      "source": [
        "# Read Data and Calcuate Tokens"
      ]
    },
    {
      "cell_type": "code",
      "execution_count": 5,
      "id": "088819ab",
      "metadata": {
        "colab": {
          "base_uri": "https://localhost:8080/",
          "height": 854
        },
        "id": "088819ab",
        "outputId": "3e956c08-84db-4ad7-8b6e-49741decfd79"
      },
      "outputs": [
        {
          "name": "stdout",
          "output_type": "stream",
          "text": [
            "there are token =  1068453\n"
          ]
        },
        {
          "data": {
            "text/html": [
              "<div>\n",
              "<style scoped>\n",
              "    .dataframe tbody tr th:only-of-type {\n",
              "        vertical-align: middle;\n",
              "    }\n",
              "\n",
              "    .dataframe tbody tr th {\n",
              "        vertical-align: top;\n",
              "    }\n",
              "\n",
              "    .dataframe thead th {\n",
              "        text-align: right;\n",
              "    }\n",
              "</style>\n",
              "<table border=\"1\" class=\"dataframe\">\n",
              "  <thead>\n",
              "    <tr style=\"text-align: right;\">\n",
              "      <th></th>\n",
              "      <th>text</th>\n",
              "      <th>labels</th>\n",
              "      <th>num_token</th>\n",
              "    </tr>\n",
              "  </thead>\n",
              "  <tbody>\n",
              "    <tr>\n",
              "      <th>0</th>\n",
              "      <td>Ad sales boost Time Warner profit\\n\\nQuarterly...</td>\n",
              "      <td>business</td>\n",
              "      <td>564</td>\n",
              "    </tr>\n",
              "    <tr>\n",
              "      <th>1</th>\n",
              "      <td>Dollar gains on Greenspan speech\\n\\nThe dollar...</td>\n",
              "      <td>business</td>\n",
              "      <td>461</td>\n",
              "    </tr>\n",
              "    <tr>\n",
              "      <th>2</th>\n",
              "      <td>Yukos unit buyer faces loan claim\\n\\nThe owner...</td>\n",
              "      <td>business</td>\n",
              "      <td>344</td>\n",
              "    </tr>\n",
              "    <tr>\n",
              "      <th>3</th>\n",
              "      <td>High fuel prices hit BA's profits\\n\\nBritish A...</td>\n",
              "      <td>business</td>\n",
              "      <td>557</td>\n",
              "    </tr>\n",
              "    <tr>\n",
              "      <th>4</th>\n",
              "      <td>Pernod takeover talk lifts Domecq\\n\\nShares in...</td>\n",
              "      <td>business</td>\n",
              "      <td>391</td>\n",
              "    </tr>\n",
              "    <tr>\n",
              "      <th>...</th>\n",
              "      <td>...</td>\n",
              "      <td>...</td>\n",
              "      <td>...</td>\n",
              "    </tr>\n",
              "    <tr>\n",
              "      <th>2220</th>\n",
              "      <td>BT program to beat dialler scams\\n\\nBT is intr...</td>\n",
              "      <td>tech</td>\n",
              "      <td>503</td>\n",
              "    </tr>\n",
              "    <tr>\n",
              "      <th>2221</th>\n",
              "      <td>Spam e-mails tempt net shoppers\\n\\nComputer us...</td>\n",
              "      <td>tech</td>\n",
              "      <td>435</td>\n",
              "    </tr>\n",
              "    <tr>\n",
              "      <th>2222</th>\n",
              "      <td>Be careful how you code\\n\\nA new European dire...</td>\n",
              "      <td>tech</td>\n",
              "      <td>1205</td>\n",
              "    </tr>\n",
              "    <tr>\n",
              "      <th>2223</th>\n",
              "      <td>US cyber security chief resigns\\n\\nThe man mak...</td>\n",
              "      <td>tech</td>\n",
              "      <td>439</td>\n",
              "    </tr>\n",
              "    <tr>\n",
              "      <th>2224</th>\n",
              "      <td>Losing yourself in online gaming\\n\\nOnline rol...</td>\n",
              "      <td>tech</td>\n",
              "      <td>3540</td>\n",
              "    </tr>\n",
              "  </tbody>\n",
              "</table>\n",
              "<p>2225 rows × 3 columns</p>\n",
              "</div>"
            ],
            "text/plain": [
              "                                                   text    labels  num_token\n",
              "0     Ad sales boost Time Warner profit\\n\\nQuarterly...  business        564\n",
              "1     Dollar gains on Greenspan speech\\n\\nThe dollar...  business        461\n",
              "2     Yukos unit buyer faces loan claim\\n\\nThe owner...  business        344\n",
              "3     High fuel prices hit BA's profits\\n\\nBritish A...  business        557\n",
              "4     Pernod takeover talk lifts Domecq\\n\\nShares in...  business        391\n",
              "...                                                 ...       ...        ...\n",
              "2220  BT program to beat dialler scams\\n\\nBT is intr...      tech        503\n",
              "2221  Spam e-mails tempt net shoppers\\n\\nComputer us...      tech        435\n",
              "2222  Be careful how you code\\n\\nA new European dire...      tech       1205\n",
              "2223  US cyber security chief resigns\\n\\nThe man mak...      tech        439\n",
              "2224  Losing yourself in online gaming\\n\\nOnline rol...      tech       3540\n",
              "\n",
              "[2225 rows x 3 columns]"
            ]
          },
          "execution_count": 5,
          "metadata": {},
          "output_type": "execute_result"
        },
        {
          "data": {
            "image/png": "[encoded data removed]",
            "text/plain": [
              "<Figure size 640x480 with 1 Axes>"
            ]
          },
          "metadata": {},
          "output_type": "display_data"
        }
      ],
      "source": [
        "def update_total(text):\n",
        "    ints = encoding.encode(text)\n",
        "    num_token = len(ints)\n",
        "    return num_token\n",
        "\n",
        "\n",
        "\n",
        "df = pd.read_csv('./bbc_text_cls.csv')\n",
        "df['num_token']= df['text'].apply(update_total)\n",
        "\n",
        "print(\"there are token = \", df['num_token'].sum())\n",
        "\n",
        "df['labels'].hist()\n",
        "\n",
        "df"
      ]
    },
    {
      "cell_type": "code",
      "execution_count": 6,
      "id": "K8eRpPg-fGrC",
      "metadata": {
        "colab": {
          "base_uri": "https://localhost:8080/",
          "height": 466
        },
        "id": "K8eRpPg-fGrC",
        "outputId": "e3fd8da5-bc99-4f73-c128-bda3163578bc"
      },
      "outputs": [
        {
          "data": {
            "text/markdown": [
              "business"
            ],
            "text/plain": [
              "<IPython.core.display.Markdown object>"
            ]
          },
          "metadata": {},
          "output_type": "display_data"
        },
        {
          "data": {
            "text/markdown": [
              "===================================="
            ],
            "text/plain": [
              "<IPython.core.display.Markdown object>"
            ]
          },
          "metadata": {},
          "output_type": "display_data"
        },
        {
          "data": {
            "text/markdown": [
              "Ad sales boost Time Warner profit\n",
              "\n",
              "Quarterly profits at US media giant TimeWarner jumped 76% to $1.13bn (£600m) for the three months to December, from $639m year-earlier.\n",
              "\n",
              "The firm, which is now one of the biggest investors in Google, benefited from sales of high-speed internet connections and higher advert sales. TimeWarner said fourth quarter sales rose 2% to $11.1bn from $10.9bn. Its profits were buoyed by one-off gains which offset a profit dip at Warner Bros, and less users for AOL.\n",
              "\n",
              "Time Warner said on Friday that it now owns 8% of search-engine Google. But its own internet business, AOL, had has mixed fortunes. It lost 464,000 subscribers in the fourth quarter profits were lower than in the preceding three quarters. However, the company said AOL's underlying profit before exceptional items rose 8% on the back of stronger internet advertising revenues. It hopes to increase subscribers by offering the online service free to TimeWarner internet customers and will try to sign up AOL's existing customers for high-speed broadband. TimeWarner also has to restate 2000 and 2003 results following a probe by the US Securities Exchange Commission (SEC), which is close to concluding.\n",
              "\n",
              "Time Warner's fourth quarter profits were slightly better than analysts' expectations. But its film division saw profits slump 27% to $284m, helped by box-office flops Alexander and Catwoman, a sharp contrast to year-earlier, when the third and final film in the Lord of the Rings trilogy boosted results. For the full-year, TimeWarner posted a profit of $3.36bn, up 27% from its 2003 performance, while revenues grew 6.4% to $42.09bn. \"Our financial performance was strong, meeting or exceeding all of our full-year objectives and greatly enhancing our flexibility,\" chairman and chief executive Richard Parsons said. For 2005, TimeWarner is projecting operating earnings growth of around 5%, and also expects higher revenue and wider profit margins.\n",
              "\n",
              "TimeWarner is to restate its accounts as part of efforts to resolve an inquiry into AOL by US market regulators. It has already offered to pay $300m to settle charges, in a deal that is under review by the SEC. The company said it was unable to estimate the amount it needed to set aside for legal reserves, which it previously set at $500m. It intends to adjust the way it accounts for a deal with German music publisher Bertelsmann's purchase of a stake in AOL Europe, which it had reported as advertising revenue. It will now book the sale of its stake in AOL Europe as a loss on the value of that stake."
            ],
            "text/plain": [
              "<IPython.core.display.Markdown object>"
            ]
          },
          "metadata": {},
          "output_type": "display_data"
        }
      ],
      "source": [
        "from IPython.display import Markdown, display\n",
        "\n",
        "idx = 0\n",
        "\n",
        "display(Markdown(df.loc[idx, \"labels\"]))\n",
        "display(Markdown(\"====================================\"))\n",
        "display(Markdown(df.loc[idx, \"text\"]))"
      ]
    },
    {
      "cell_type": "markdown",
      "id": "2eRP_uK3exW7",
      "metadata": {
        "id": "2eRP_uK3exW7"
      },
      "source": [
        "# Reduce Size"
      ]
    },
    {
      "cell_type": "code",
      "execution_count": 107,
      "id": "d6fbf17e",
      "metadata": {
        "colab": {
          "base_uri": "https://localhost:8080/",
          "height": 465
        },
        "id": "d6fbf17e",
        "outputId": "5c952988-d867-4703-90c1-4504c11ead2b"
      },
      "outputs": [
        {
          "name": "stdout",
          "output_type": "stream",
          "text": [
            "there are token =  55408\n"
          ]
        },
        {
          "data": {
            "text/plain": [
              "<Axes: >"
            ]
          },
          "execution_count": 107,
          "metadata": {},
          "output_type": "execute_result"
        },
        {
          "data": {
            "image/png": "[encoded data removed]",
            "text/plain": [
              "<Figure size 640x480 with 1 Axes>"
            ]
          },
          "metadata": {},
          "output_type": "display_data"
        }
      ],
      "source": [
        "df_small = df.sample(120).reset_index(drop=True)\n",
        "print(\"there are token = \", df_small['num_token'].sum())\n",
        "df_small['labels'].hist()"
      ]
    },
    {
      "cell_type": "markdown",
      "id": "449ca808",
      "metadata": {
        "id": "449ca808"
      },
      "source": [
        "# Generate Embeddings\n"
      ]
    },
    {
      "cell_type": "code",
      "execution_count": 109,
      "id": "zXJZFt4KhGN2",
      "metadata": {
        "id": "zXJZFt4KhGN2"
      },
      "outputs": [],
      "source": [
        "def get_embedding(text):\n",
        "    text = text.replace(\"\\n\", \"\")\n",
        "    emb = openai.embeddings.create(\n",
        "        input=[text],\n",
        "        model='text-embedding-3-small',\n",
        "    )\n",
        "    emb = np.array(emb.data[0].embedding).reshape(1, -1)\n",
        "    # normalize\n",
        "    emb = emb / np.linalg.norm(emb)\n",
        "\n",
        "    return emb \n",
        "\n",
        "\n"
      ]
    },
    {
      "cell_type": "code",
      "execution_count": 110,
      "id": "SLxq95M2hGK2",
      "metadata": {
        "id": "SLxq95M2hGK2"
      },
      "outputs": [
        {
          "data": {
            "text/html": [
              "<div>\n",
              "<style scoped>\n",
              "    .dataframe tbody tr th:only-of-type {\n",
              "        vertical-align: middle;\n",
              "    }\n",
              "\n",
              "    .dataframe tbody tr th {\n",
              "        vertical-align: top;\n",
              "    }\n",
              "\n",
              "    .dataframe thead th {\n",
              "        text-align: right;\n",
              "    }\n",
              "</style>\n",
              "<table border=\"1\" class=\"dataframe\">\n",
              "  <thead>\n",
              "    <tr style=\"text-align: right;\">\n",
              "      <th></th>\n",
              "      <th>text</th>\n",
              "      <th>labels</th>\n",
              "      <th>num_token</th>\n",
              "      <th>embeddings</th>\n",
              "    </tr>\n",
              "  </thead>\n",
              "  <tbody>\n",
              "    <tr>\n",
              "      <th>0</th>\n",
              "      <td>Barbarians 19-47 New Zealand\\n\\nNew Zealand pr...</td>\n",
              "      <td>sport</td>\n",
              "      <td>540</td>\n",
              "      <td>[[-0.01411534714073678, 0.06414090666503236, -...</td>\n",
              "    </tr>\n",
              "    <tr>\n",
              "      <th>1</th>\n",
              "      <td>Beckham relief as Real go through\\n\\nDavid Bec...</td>\n",
              "      <td>sport</td>\n",
              "      <td>175</td>\n",
              "      <td>[[0.08413309910295531, 0.01880394196809293, -0...</td>\n",
              "    </tr>\n",
              "    <tr>\n",
              "      <th>2</th>\n",
              "      <td>BMW to recall faulty diesel cars\\n\\nBMW is to ...</td>\n",
              "      <td>business</td>\n",
              "      <td>313</td>\n",
              "      <td>[[1.9071109249777045e-05, 0.022216841975500595...</td>\n",
              "    </tr>\n",
              "    <tr>\n",
              "      <th>3</th>\n",
              "      <td>Loyalty cards idea for TV addicts\\n\\nViewers c...</td>\n",
              "      <td>tech</td>\n",
              "      <td>441</td>\n",
              "      <td>[[-0.009601162381469098, 0.014805654432165567,...</td>\n",
              "    </tr>\n",
              "    <tr>\n",
              "      <th>4</th>\n",
              "      <td>Goldsmith: 'I was not leant on'\\n\\nThe attorne...</td>\n",
              "      <td>politics</td>\n",
              "      <td>773</td>\n",
              "      <td>[[0.035632480069856885, 0.014386069083658937, ...</td>\n",
              "    </tr>\n",
              "    <tr>\n",
              "      <th>...</th>\n",
              "      <td>...</td>\n",
              "      <td>...</td>\n",
              "      <td>...</td>\n",
              "      <td>...</td>\n",
              "    </tr>\n",
              "    <tr>\n",
              "      <th>115</th>\n",
              "      <td>EU ministers to mull jet fuel tax\\n\\nEuropean ...</td>\n",
              "      <td>business</td>\n",
              "      <td>244</td>\n",
              "      <td>[[-0.057634999524666726, 0.006625352627074793,...</td>\n",
              "    </tr>\n",
              "    <tr>\n",
              "      <th>116</th>\n",
              "      <td>Bafta to hand out movie honours\\n\\nMovie stars...</td>\n",
              "      <td>entertainment</td>\n",
              "      <td>663</td>\n",
              "      <td>[[-0.003947905308783625, 0.04076204866885752, ...</td>\n",
              "    </tr>\n",
              "    <tr>\n",
              "      <th>117</th>\n",
              "      <td>Clarke to unveil immigration plan\\n\\nNew contr...</td>\n",
              "      <td>politics</td>\n",
              "      <td>492</td>\n",
              "      <td>[[0.006578458952260231, 0.06190062699515752, 0...</td>\n",
              "    </tr>\n",
              "    <tr>\n",
              "      <th>118</th>\n",
              "      <td>Mourinho receives Robson warning\\n\\nSir Bobby ...</td>\n",
              "      <td>sport</td>\n",
              "      <td>404</td>\n",
              "      <td>[[-0.01952438485920158, -0.014238515856852754,...</td>\n",
              "    </tr>\n",
              "    <tr>\n",
              "      <th>119</th>\n",
              "      <td>Eastwood's Baby scoops top Oscars\\n\\nClint Eas...</td>\n",
              "      <td>entertainment</td>\n",
              "      <td>828</td>\n",
              "      <td>[[-0.032295313008253855, 0.01810852639940288, ...</td>\n",
              "    </tr>\n",
              "  </tbody>\n",
              "</table>\n",
              "<p>120 rows × 4 columns</p>\n",
              "</div>"
            ],
            "text/plain": [
              "                                                  text         labels  \\\n",
              "0    Barbarians 19-47 New Zealand\\n\\nNew Zealand pr...          sport   \n",
              "1    Beckham relief as Real go through\\n\\nDavid Bec...          sport   \n",
              "2    BMW to recall faulty diesel cars\\n\\nBMW is to ...       business   \n",
              "3    Loyalty cards idea for TV addicts\\n\\nViewers c...           tech   \n",
              "4    Goldsmith: 'I was not leant on'\\n\\nThe attorne...       politics   \n",
              "..                                                 ...            ...   \n",
              "115  EU ministers to mull jet fuel tax\\n\\nEuropean ...       business   \n",
              "116  Bafta to hand out movie honours\\n\\nMovie stars...  entertainment   \n",
              "117  Clarke to unveil immigration plan\\n\\nNew contr...       politics   \n",
              "118  Mourinho receives Robson warning\\n\\nSir Bobby ...          sport   \n",
              "119  Eastwood's Baby scoops top Oscars\\n\\nClint Eas...  entertainment   \n",
              "\n",
              "     num_token                                         embeddings  \n",
              "0          540  [[-0.01411534714073678, 0.06414090666503236, -...  \n",
              "1          175  [[0.08413309910295531, 0.01880394196809293, -0...  \n",
              "2          313  [[1.9071109249777045e-05, 0.022216841975500595...  \n",
              "3          441  [[-0.009601162381469098, 0.014805654432165567,...  \n",
              "4          773  [[0.035632480069856885, 0.014386069083658937, ...  \n",
              "..         ...                                                ...  \n",
              "115        244  [[-0.057634999524666726, 0.006625352627074793,...  \n",
              "116        663  [[-0.003947905308783625, 0.04076204866885752, ...  \n",
              "117        492  [[0.006578458952260231, 0.06190062699515752, 0...  \n",
              "118        404  [[-0.01952438485920158, -0.014238515856852754,...  \n",
              "119        828  [[-0.032295313008253855, 0.01810852639940288, ...  \n",
              "\n",
              "[120 rows x 4 columns]"
            ]
          },
          "execution_count": 110,
          "metadata": {},
          "output_type": "execute_result"
        }
      ],
      "source": [
        "df_small['embeddings'] = df_small['text'].apply(get_embedding)\n",
        "\n",
        "df_small"
      ]
    },
    {
      "cell_type": "code",
      "execution_count": 111,
      "id": "YcQSJIMvlPer",
      "metadata": {
        "id": "YcQSJIMvlPer"
      },
      "outputs": [
        {
          "data": {
            "text/plain": [
              "(120, 1536)"
            ]
          },
          "execution_count": 111,
          "metadata": {},
          "output_type": "execute_result"
        }
      ],
      "source": [
        "embedding_vector = np.concatenate(df_small['embeddings'].tolist())\n",
        "embedding_vector.shape"
      ]
    },
    {
      "cell_type": "markdown",
      "id": "6d2818a0",
      "metadata": {
        "id": "6d2818a0"
      },
      "source": [
        "# Create and Populate the FAISS Index\n",
        "We will use FAISS, a library for efficient similarity search and clustering of dense vectors, to create an index and add our image embeddings to it."
      ]
    },
    {
      "cell_type": "code",
      "execution_count": 112,
      "id": "26910c6b",
      "metadata": {
        "id": "26910c6b"
      },
      "outputs": [
        {
          "name": "stdout",
          "output_type": "stream",
          "text": [
            "Number of vectors in the index:  0\n",
            "number of dimension =  1536\n"
          ]
        }
      ],
      "source": [
        "import faiss\n",
        "\n",
        "# Create and populate the Faiss index\n",
        "d = embedding_vector.shape[1]  # Dimension of the embeddings\n",
        "\n",
        "index = faiss.IndexFlatL2(d)\n",
        "index.reset()\n",
        "\n",
        "print(\"Number of vectors in the index: \", index.ntotal)\n",
        "print(\"number of dimension = \", d)  "
      ]
    },
    {
      "cell_type": "code",
      "execution_count": 115,
      "id": "008d1605",
      "metadata": {},
      "outputs": [
        {
          "name": "stdout",
          "output_type": "stream",
          "text": [
            "Number of vectors in the index:  120\n"
          ]
        }
      ],
      "source": [
        "# clear the index\n",
        "index.reset()\n",
        "# add the embedding vector to the index\n",
        "index.add(embedding_vector)\n",
        "print(\"Number of vectors in the index: \", index.ntotal)\n"
      ]
    },
    {
      "cell_type": "markdown",
      "id": "11ce4935",
      "metadata": {},
      "source": [
        "# Perform a Search with a Query "
      ]
    },
    {
      "cell_type": "code",
      "execution_count": 116,
      "id": "cceb58c0",
      "metadata": {},
      "outputs": [],
      "source": [
        "# Perform a search\n",
        "def search_text(query, k=5):\n",
        "    query_embedding = get_embedding(query)\n",
        "    # norทalize the query embedding\n",
        "    query_embedding = query_embedding / np.linalg.norm(query_embedding)\n",
        "    distances, indices = index.search(query_embedding, k)\n",
        "\n",
        "    return distances[0], indices[0]\n"
      ]
    },
    {
      "cell_type": "code",
      "execution_count": 121,
      "id": "caba21cc",
      "metadata": {
        "id": "caba21cc"
      },
      "outputs": [],
      "source": [
        "query = \"\"\"By what percentage did China's economy expand in 2004?\"\"\"\n",
        "distances, top_k_indices = search_text(query, k=5)"
      ]
    },
    {
      "cell_type": "code",
      "execution_count": 122,
      "id": "efe4e295",
      "metadata": {
        "id": "efe4e295"
      },
      "outputs": [
        {
          "data": {
            "text/plain": [
              "array([69, 50, 83, 24, 35])"
            ]
          },
          "execution_count": 122,
          "metadata": {},
          "output_type": "execute_result"
        }
      ],
      "source": [
        "top_k_indices"
      ]
    },
    {
      "cell_type": "code",
      "execution_count": 123,
      "id": "f5117212",
      "metadata": {},
      "outputs": [
        {
          "data": {
            "text/plain": [
              "array([0.6846211, 1.2235043, 1.2428131, 1.2964716, 1.3067598],\n",
              "      dtype=float32)"
            ]
          },
          "execution_count": 123,
          "metadata": {},
          "output_type": "execute_result"
        }
      ],
      "source": [
        "distances"
      ]
    },
    {
      "cell_type": "markdown",
      "id": "6bf1e1a9",
      "metadata": {},
      "source": [
        "# Display the Results"
      ]
    },
    {
      "cell_type": "code",
      "execution_count": 124,
      "id": "788e865d",
      "metadata": {},
      "outputs": [
        {
          "name": "stdout",
          "output_type": "stream",
          "text": [
            "Query: By what percentage did China's economy expand in 2004?\n",
            "====================================\n",
            "Rank 1:\n",
            "class =  business\n",
            "distance =  0.6846211\n",
            "China continues rapid growth\n",
            "\n",
            "China's economy has expanded by a breakneck 9.5% during 2004, faster than predicted and well above 2003's 9.1%.\n",
            "\n",
            "The news may mean more limits on investment and lending as Beijing tries to take the economy off the boil. China has sucked in raw materials and energy to feed its expansion, which could have knock-on effects on the rest of the world if it overheats. But officials pointed out that industrial growth had slowed, with services providing much of the impetus. Growth in industrial output - the main target of government efforts to impose curbs on credit and investments - was 11.5% in 2004, down from 17% the previous year.\n",
            "\n",
            "Still, consumer prices - at 2.4% - rose faster than in 2004, adding to concern that a sharp rise in producer prices of 7.1% could stoke inflation. And overall investment in fixed assets was still high, up 21.3% from the previous year - although some way off the peak of 43% seen in the first quarter of 2004. The result could be higher interest rates. China raised rates by 0.27 percentage points to 5.8% - its first hike in nine years - in October 2004.\n",
            "\n",
            "Despite the apparent rebalancing of the economy the overall growth picture remains strong, economists said. \"There is no sign of a slowdown in 2005,\" said Tim Congdon, economist at ING Barings.\n",
            "\n",
            "China's economy is not only gathering speed thanks to domestic demand, but also from soaring sales overseas. Figures released earlier this year showed exports at a six-year high in 2004, up 35%. Part of the impetus comes from the relative cheapness of the yuan, China's currency. The government keeps it pegged close to a rate of 8.28 to the US dollar, - much to the chagrin of many US lawmakers who blame China for lost jobs and competitiveness. Despite urging to ease the peg, officials insist they are a long way from ready to make a shift to a more market-set rate. \"We need a good and feasible plan and formulating such a plan also needs time,\" National Bureau of Statistics chief Li Deshui told Reuters. \"Those who hope to make a fortune by speculating on a renminbi revaluation will not succeed in making a profit.\"\n",
            "====================================\n",
            "Rank 2:\n",
            "class =  tech\n",
            "distance =  1.2235043\n",
            "China 'ripe' for media explosion\n",
            "\n",
            "Asia is set to drive global media growth to 2008 and beyond, with China and India filling the two top spots, analysts have predicted.\n",
            "\n",
            "Japan, South Korea and Singapore will also be strong players, but China's demographics give it the edge, a media conference in London heard. The world's most populous country - population 1.3bn - now has about 200 million middle-class consumers. Forty per cent fall in the key 16 to 35-year-old demographic. As a result, it is attracting huge foreign investment in media and communications, analysts told the Financial Times New Media and Broadcasting Conference last week. Interest in China among international media groups has surged in recent months after Beijing issued rules allowing foreign investment in joint-venture television, radio and film production companies. News Corporation, Viacom and Sony Pictures are among the big names involved in joint ventures with Chinese players.\n",
            "\n",
            "More than 700 million Chinese listen to 1,000 radio stations, while 200 TV stations broadcast 2,900 channels. China Central Television (CCTV), the state broadcaster, claims an audience of more than a billion people. Of the country's 360 million households, 100 million receive cable TV programmes. The rest could be a potential audience for satellite broadcasting which China plans to launch in 2006. The State Administration of Radio, Film and Television (SARFT), which regulates broadcasting, plans to move all programmes to digital by 2015. The continuing roll-out of new digital channels has boosted demand for quality content, creating significant opportunities for both Chinese and foreign content providers.\n",
            "\n",
            "But according to recent reports from China, the authorities have tightened controls over foreign investment in TV production joint ventures. It has limited most foreign companies to only one joint venture and banned the involvement of any found to be \"unfriendly\", according to reports. The SARFT said: \"There is a very strong ideological component to production of broadcast television programmes.\" It added: \"China must understand the political tendencies and background of overseas partners and prevent joint ventures or cooperation from bringing harmful foreign thinking or culture into our production sector.\" According to the Financial Times' China correspondent, the new rules highlight the political sensitivities that surround foreign involvement in China's media sector. This is despite Beijing's decision to open the state-dominated sector to international investment.\n",
            "\n",
            "As well as traditional broadcasting, Chinese and foreign entrepreneurs alike see fortunes waiting to be made in new media, like mobile services and online gaming. Mobile games already account for 15% of revenues from China's 340 million mobile users.\n",
            "\n",
            "Online gaming sales are predicted to top a billion US dollars next year, according to the UK-based journal Screen Digest. The video market is also seen as a big opportunity, although piracy levels are still very high despite an anti-piracy drive during the past year. In the cinema industry the deployment of digital screens is being accelerated. This is not just to modernise venues but also to curb piracy and regulate distribution. Li Ruigang, president of the commercial broadcaster Shanghai Media Group, told the conference that China's new media market \"is already experiencing explosive growth\". It was particularly strong in charged broadband services and mobile value-added services. Leading China-watcher, and founder of the CGA consultancy Jeanne-Marie Gescher, agreed that the time was ripe for foreign media groups to tap China's huge media market potential. \"China's media are now driven by investors who do not care how people consume media - they just want people to consume more of it,\" Mrs Gescher concluded.\n",
            "====================================\n",
            "Rank 3:\n",
            "class =  business\n",
            "distance =  1.2428131\n",
            "Stock market eyes Japan recovery\n",
            "\n",
            "Japanese shares have ended the year at their highest level since 13 July amidst hopes of an economic recovery during 2005.\n",
            "\n",
            "The Nikkei index of leading shares gained 7.6% during the year to close at 11,488.76 points. In 2005 it \"will rise toward 13,000\", predicted Morgan Stanley equity strategist Naoki Kamiyama. The optimism in the financial markets contrast sharply with pessimism in the Japanese business community. Earlier this month, the quarterly Tankan survey of Japanese manufacturers found that business confidence had weakened for the first time since March 2003.\n",
            "\n",
            "Slower economic growth, rising oil prices, a stronger yen and weaker exports were blamed for the fall in confidence. Despite this, traders expect strength in the global economy to benefit Japan, which has been close to sliding into recession in recent months. Structural reform within Japan and an anticipated end to the banking sector's bad debt problems should also help, they say.\n",
            "====================================\n",
            "Rank 4:\n",
            "class =  business\n",
            "distance =  1.2964716\n",
            "Record year for Chilean copper\n",
            "\n",
            "Chile's copper industry has registered record earnings of $14.2bn in 2004, the governmental Chilean Copper Commission (Cochilco) has reported.\n",
            "\n",
            "Strong demand from China's fast-growing economy and high prices have fuelled production, said Cochilco vice president Patricio Cartagena. He added that the boom has allowed the government to collect $950m in taxes. Mr Cartagena said the industry expects to see investment worth $10bn over the next three years.\n",
            "\n",
            "\"With these investments, clearly we are going to continue being the principle actor in the mining of copper. It's a consolidation of the industry with new projects and expansions that will support greater production.\" Australia's BHP Billiton - which operates La Escondida, the world's largest open pit copper mine - is planning to invest $1.9bn between now and 2007, while state-owned Codelco will spend about $1bn on various projects. Chile, the biggest copper producer in the world, is now analyzing ways of to keep prices stable at their current high levels, without killing off demand or leading customers to look for substitutes for copper. The copper price reached a 16-year high in October 2004. Production in Chile is expected rise 3.5% in 2005 to 5.5 million tonnes, said Mr Cartagena. Cochilco expects for 2005 a slight reduction on copper prices and forecasts export earnings will fall 10.7%.\n",
            "====================================\n",
            "Rank 5:\n",
            "class =  business\n",
            "distance =  1.3067598\n",
            "'Golden economic period' to end\n",
            "\n",
            "Ten years of \"golden\" economic performance may come to an end in 2005 with growth slowing markedly, City consultancy Deloitte has warned.\n",
            "\n",
            "The UK economy could suffer a backlash from the slowdown in the housing market, triggering a fall in consumer spending and a rise in unemployment. Deloitte is forecasting economic growth of 2% this year, below Chancellor Gordon Brown's forecast of 3% to 3.5%. It also believes that interest rates will fall to 4% by the end of the year.\n",
            "\n",
            "In its quarterly economic review, Deloitte said the UK economy had enjoyed a \"golden period\" during the past decade with unemployment falling to a near 30 year low and inflation at its lowest since the 1960s.\n",
            "\n",
            "But it warned that this growth had been achieved at the expense of creating major \"imbalances\" in the economy. Deloitte's chief economic advisor Roger Bootle said: \"The biggest hit of all is set to come from the housing market which has already embarked on a major slowdown. \"Whereas the main driver of the economy in recent years has been robust household spending growth, this is likely to suffer as the housing market slowdown gathers pace.\"\n",
            "\n",
            "Economic growth is likely to be constrained during the next few years by increased pressure on household budgets and rising taxes, Deloitte believes. Gordon Brown will need to raise about $10bn a year in order to sustain the public finances in the short term, the firm claims. This will result in a marked slowdown in growth in 2005 and 2006 compared to last year, when the economy expanded by 3.25%. However, Deloitte stressed that the slowdown was unlikely to have any major impact on retail prices while it expected the Bank of England to respond quickly to signs of the economy faltering. It expects a series of \"aggressive\" interest rate cuts over the next two years, with the cost of borrowing falling from its current 4.75% mark to 3.5% by the end of 2006. \"Although 2005 may not be the year when things go completely wrong, it will probably mark the start of a more difficult period for the UK economy,\" Mr Bootle.\n",
            "====================================\n"
          ]
        }
      ],
      "source": [
        "print(\"Query:\", query)\n",
        "print(\"====================================\")\n",
        "\n",
        "for i, idx in enumerate(top_k_indices):\n",
        "    if idx < 0:\n",
        "        continue\n",
        "    print(f\"Rank {i+1}:\")\n",
        "    print(\"class = \",df_small.loc[idx, \"labels\"])\n",
        "    print(\"distance = \", distances[i])\n",
        "    print(df_small.loc[idx, \"text\"])\n",
        "    print(\"====================================\")"
      ]
    },
    {
      "cell_type": "markdown",
      "id": "7949dfc0",
      "metadata": {},
      "source": [
        "# Apply to LLM with LLAMA3"
      ]
    },
    {
      "cell_type": "code",
      "execution_count": 64,
      "id": "7608c599",
      "metadata": {
        "id": "7608c599"
      },
      "outputs": [],
      "source": [
        "###"
      ]
    },
    {
      "cell_type": "code",
      "execution_count": 125,
      "id": "ddabbc7a",
      "metadata": {
        "id": "ddabbc7a"
      },
      "outputs": [],
      "source": [
        "def qa(question, context):\n",
        "    prompt = f\"\"\"Please answer the question given the provided \\\n",
        "    context.\n",
        "\n",
        "    Question:\n",
        "\n",
        "    ```\n",
        "    {question}\n",
        "    ```\n",
        "\n",
        "    Context:\n",
        "\n",
        "    ```\n",
        "    {context}\n",
        "    ```\n",
        "    \"\"\"\n",
        "\n",
        "    completion = complete(prompt)\n",
        "    print_response(completion)"
      ]
    },
    {
      "cell_type": "code",
      "execution_count": 126,
      "id": "00cd2bc0",
      "metadata": {
        "id": "00cd2bc0"
      },
      "outputs": [
        {
          "name": "stdout",
          "output_type": "stream",
          "text": [
            "The context provided does not contain information about China's economy in 2004.\n"
          ]
        }
      ],
      "source": [
        "qa(query, df_small.iloc[indices[0][0]].text)"
      ]
    },
    {
      "cell_type": "code",
      "execution_count": 129,
      "id": "3aae63a3",
      "metadata": {
        "id": "3aae63a3"
      },
      "outputs": [
        {
          "data": {
            "text/markdown": [
              "China's economy expanded by 10.1% in 2004."
            ],
            "text/plain": [
              "<IPython.core.display.Markdown object>"
            ]
          },
          "execution_count": 129,
          "metadata": {},
          "output_type": "execute_result"
        }
      ],
      "source": [
        "completion = complete(query)\n",
        "\n",
        "# pretty format the response\n",
        "IPython.display.Markdown(completion.choices[0].message.content)"
      ]
    },
    {
      "cell_type": "markdown",
      "id": "PFJd4PmsxjKb",
      "metadata": {
        "id": "PFJd4PmsxjKb"
      },
      "source": [
        "![](https://deeplearningcourses.com/notebooks_v3_pxl?sc=AVRK7SgM9ASkQf5TAqs_wA&n=Embeddings+and+RAG)"
      ]
    }
  ],
  "metadata": {
    "accelerator": "GPU",
    "colab": {
      "gpuType": "T4",
      "provenance": []
    },
    "kernelspec": {
      "display_name": "Python 3",
      "name": "python3"
    },
    "language_info": {
      "codemirror_mode": {
        "name": "ipython",
        "version": 3
      },
      "file_extension": ".py",
      "mimetype": "text/x-python",
      "name": "python",
      "nbconvert_exporter": "python",
      "pygments_lexer": "ipython3",
      "version": "3.10.13"
    },
    "sc": "AVRK7SgM9ASkQf5TAqs_wA"
  },
  "nbformat": 4,
  "nbformat_minor": 5
}
