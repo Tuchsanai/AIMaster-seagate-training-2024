{
  "cells": [
    {
      "cell_type": "markdown",
      "id": "92b4c5ac",
      "metadata": {
        "id": "92b4c5ac"
      },
      "source": [
        "# Importing Necessary Libraries\n",
        "This section imports all the necessary libraries required for the rest of the notebook."
      ]
    },
    {
      "cell_type": "code",
      "execution_count": 70,
      "id": "d408c568",
      "metadata": {
        "colab": {
          "base_uri": "https://localhost:8080/"
        },
        "id": "d408c568",
        "outputId": "08bb8847-577d-4a89-9757-747f91d53d04"
      },
      "outputs": [
        {
          "output_type": "stream",
          "name": "stdout",
          "text": [
            "Notebook cleaned.\n"
          ]
        }
      ],
      "source": [
        "import IPython\n",
        "import sys\n",
        "\n",
        "def clean_notebook():\n",
        "    IPython.display.clear_output(wait=True)\n",
        "    print(\"Notebook cleaned.\")\n",
        "\n",
        "# Run the installation commands\n",
        "\n",
        "!pip install openai\n",
        "!pip install gradio\n",
        "!pip install tiktoken\n",
        "!pip install faiss-gpu\n",
        "!pip install  datasets\n",
        "# Clean up the notebook\n",
        "clean_notebook()"
      ]
    },
    {
      "cell_type": "code",
      "source": [
        "\n",
        "import openai\n",
        "openai.api_key = \"code\""
      ],
      "metadata": {
        "id": "8YCTMQQpgwo_"
      },
      "id": "8YCTMQQpgwo_",
      "execution_count": 81,
      "outputs": []
    },
    {
      "cell_type": "markdown",
      "id": "2ee76d05",
      "metadata": {
        "id": "2ee76d05"
      },
      "source": [
        "# Downloading Dataset\n",
        "This section downloads the dataset using the wget command."
      ]
    },
    {
      "cell_type": "code",
      "execution_count": 2,
      "id": "Sd6N1kdZJt4u",
      "metadata": {
        "colab": {
          "base_uri": "https://localhost:8080/"
        },
        "id": "Sd6N1kdZJt4u",
        "outputId": "04d43711-2263-4dca-94f7-f154d0883b98"
      },
      "outputs": [
        {
          "output_type": "stream",
          "name": "stdout",
          "text": [
            "--2024-06-02 10:21:55--  https://raw.githubusercontent.com/Tuchsanai/AIMaster-seagate-training-2024/6a91fb201929394a4c640ed32a29b69136c1a6f7/Dataset/bbc_text_cls.csv\n",
            "Resolving raw.githubusercontent.com (raw.githubusercontent.com)... 185.199.111.133, 185.199.108.133, 185.199.109.133, ...\n",
            "Connecting to raw.githubusercontent.com (raw.githubusercontent.com)|185.199.111.133|:443... connected.\n",
            "HTTP request sent, awaiting response... 200 OK\n",
            "Length: 5085081 (4.8M) [text/plain]\n",
            "Saving to: ‘bbc_text_cls.csv’\n",
            "\n",
            "bbc_text_cls.csv    100%[===================>]   4.85M  --.-KB/s    in 0.1s    \n",
            "\n",
            "2024-06-02 10:21:56 (46.3 MB/s) - ‘bbc_text_cls.csv’ saved [5085081/5085081]\n",
            "\n"
          ]
        }
      ],
      "source": [
        " !wget -nc https://raw.githubusercontent.com/Tuchsanai/AIMaster-seagate-training-2024/6a91fb201929394a4c640ed32a29b69136c1a6f7/Dataset/bbc_text_cls.csv\n"
      ]
    },
    {
      "cell_type": "markdown",
      "id": "fffcc569",
      "metadata": {
        "id": "fffcc569"
      },
      "source": [
        "# Importing Necessary Libraries\n"
      ]
    },
    {
      "cell_type": "code",
      "execution_count": 98,
      "id": "7eb2b84f",
      "metadata": {
        "id": "7eb2b84f"
      },
      "outputs": [],
      "source": [
        "# text-embedding-3-small\t$0.02 / 1M tokens\n",
        "# text-embedding-3-large\t$0.13 / 1M tokens\n",
        "\n",
        "import tiktoken\n",
        "import pandas as pd\n",
        "import numpy as np\n",
        "\n",
        "encoding = tiktoken.encoding_for_model(\"gpt-3.5-turbo\")\n"
      ]
    },
    {
      "cell_type": "markdown",
      "source": [
        "# Read Data and Calcuate Tokens"
      ],
      "metadata": {
        "id": "3Pv21b6Qd9NA"
      },
      "id": "3Pv21b6Qd9NA"
    },
    {
      "cell_type": "code",
      "execution_count": 58,
      "id": "088819ab",
      "metadata": {
        "colab": {
          "base_uri": "https://localhost:8080/",
          "height": 854
        },
        "id": "088819ab",
        "outputId": "3e956c08-84db-4ad7-8b6e-49741decfd79"
      },
      "outputs": [
        {
          "output_type": "stream",
          "name": "stdout",
          "text": [
            "there are token =  1068453\n"
          ]
        },
        {
          "output_type": "execute_result",
          "data": {
            "text/plain": [
              "                                                   text    labels  num_token\n",
              "0     Ad sales boost Time Warner profit\\n\\nQuarterly...  business        564\n",
              "1     Dollar gains on Greenspan speech\\n\\nThe dollar...  business        461\n",
              "2     Yukos unit buyer faces loan claim\\n\\nThe owner...  business        344\n",
              "3     High fuel prices hit BA's profits\\n\\nBritish A...  business        557\n",
              "4     Pernod takeover talk lifts Domecq\\n\\nShares in...  business        391\n",
              "...                                                 ...       ...        ...\n",
              "2220  BT program to beat dialler scams\\n\\nBT is intr...      tech        503\n",
              "2221  Spam e-mails tempt net shoppers\\n\\nComputer us...      tech        435\n",
              "2222  Be careful how you code\\n\\nA new European dire...      tech       1205\n",
              "2223  US cyber security chief resigns\\n\\nThe man mak...      tech        439\n",
              "2224  Losing yourself in online gaming\\n\\nOnline rol...      tech       3540\n",
              "\n",
              "[2225 rows x 3 columns]"
            ],
            "text/html": [
              "\n",
              "  <div id=\"df-c1174109-9ce5-483b-906b-a169ec22753d\" class=\"colab-df-container\">\n",
              "    <div>\n",
              "<style scoped>\n",
              "    .dataframe tbody tr th:only-of-type {\n",
              "        vertical-align: middle;\n",
              "    }\n",
              "\n",
              "    .dataframe tbody tr th {\n",
              "        vertical-align: top;\n",
              "    }\n",
              "\n",
              "    .dataframe thead th {\n",
              "        text-align: right;\n",
              "    }\n",
              "</style>\n",
              "<table border=\"1\" class=\"dataframe\">\n",
              "  <thead>\n",
              "    <tr style=\"text-align: right;\">\n",
              "      <th></th>\n",
              "      <th>text</th>\n",
              "      <th>labels</th>\n",
              "      <th>num_token</th>\n",
              "    </tr>\n",
              "  </thead>\n",
              "  <tbody>\n",
              "    <tr>\n",
              "      <th>0</th>\n",
              "      <td>Ad sales boost Time Warner profit\\n\\nQuarterly...</td>\n",
              "      <td>business</td>\n",
              "      <td>564</td>\n",
              "    </tr>\n",
              "    <tr>\n",
              "      <th>1</th>\n",
              "      <td>Dollar gains on Greenspan speech\\n\\nThe dollar...</td>\n",
              "      <td>business</td>\n",
              "      <td>461</td>\n",
              "    </tr>\n",
              "    <tr>\n",
              "      <th>2</th>\n",
              "      <td>Yukos unit buyer faces loan claim\\n\\nThe owner...</td>\n",
              "      <td>business</td>\n",
              "      <td>344</td>\n",
              "    </tr>\n",
              "    <tr>\n",
              "      <th>3</th>\n",
              "      <td>High fuel prices hit BA's profits\\n\\nBritish A...</td>\n",
              "      <td>business</td>\n",
              "      <td>557</td>\n",
              "    </tr>\n",
              "    <tr>\n",
              "      <th>4</th>\n",
              "      <td>Pernod takeover talk lifts Domecq\\n\\nShares in...</td>\n",
              "      <td>business</td>\n",
              "      <td>391</td>\n",
              "    </tr>\n",
              "    <tr>\n",
              "      <th>...</th>\n",
              "      <td>...</td>\n",
              "      <td>...</td>\n",
              "      <td>...</td>\n",
              "    </tr>\n",
              "    <tr>\n",
              "      <th>2220</th>\n",
              "      <td>BT program to beat dialler scams\\n\\nBT is intr...</td>\n",
              "      <td>tech</td>\n",
              "      <td>503</td>\n",
              "    </tr>\n",
              "    <tr>\n",
              "      <th>2221</th>\n",
              "      <td>Spam e-mails tempt net shoppers\\n\\nComputer us...</td>\n",
              "      <td>tech</td>\n",
              "      <td>435</td>\n",
              "    </tr>\n",
              "    <tr>\n",
              "      <th>2222</th>\n",
              "      <td>Be careful how you code\\n\\nA new European dire...</td>\n",
              "      <td>tech</td>\n",
              "      <td>1205</td>\n",
              "    </tr>\n",
              "    <tr>\n",
              "      <th>2223</th>\n",
              "      <td>US cyber security chief resigns\\n\\nThe man mak...</td>\n",
              "      <td>tech</td>\n",
              "      <td>439</td>\n",
              "    </tr>\n",
              "    <tr>\n",
              "      <th>2224</th>\n",
              "      <td>Losing yourself in online gaming\\n\\nOnline rol...</td>\n",
              "      <td>tech</td>\n",
              "      <td>3540</td>\n",
              "    </tr>\n",
              "  </tbody>\n",
              "</table>\n",
              "<p>2225 rows × 3 columns</p>\n",
              "</div>\n",
              "    <div class=\"colab-df-buttons\">\n",
              "\n",
              "  <div class=\"colab-df-container\">\n",
              "    <button class=\"colab-df-convert\" onclick=\"convertToInteractive('df-c1174109-9ce5-483b-906b-a169ec22753d')\"\n",
              "            title=\"Convert this dataframe to an interactive table.\"\n",
              "            style=\"display:none;\">\n",
              "\n",
              "  <svg xmlns=\"http://www.w3.org/2000/svg\" height=\"24px\" viewBox=\"0 -960 960 960\">\n",
              "    <path d=\"M120-120v-720h720v720H120Zm60-500h600v-160H180v160Zm220 220h160v-160H400v160Zm0 220h160v-160H400v160ZM180-400h160v-160H180v160Zm440 0h160v-160H620v160ZM180-180h160v-160H180v160Zm440 0h160v-160H620v160Z\"/>\n",
              "  </svg>\n",
              "    </button>\n",
              "\n",
              "  <style>\n",
              "    .colab-df-container {\n",
              "      display:flex;\n",
              "      gap: 12px;\n",
              "    }\n",
              "\n",
              "    .colab-df-convert {\n",
              "      background-color: #E8F0FE;\n",
              "      border: none;\n",
              "      border-radius: 50%;\n",
              "      cursor: pointer;\n",
              "      display: none;\n",
              "      fill: #1967D2;\n",
              "      height: 32px;\n",
              "      padding: 0 0 0 0;\n",
              "      width: 32px;\n",
              "    }\n",
              "\n",
              "    .colab-df-convert:hover {\n",
              "      background-color: #E2EBFA;\n",
              "      box-shadow: 0px 1px 2px rgba(60, 64, 67, 0.3), 0px 1px 3px 1px rgba(60, 64, 67, 0.15);\n",
              "      fill: #174EA6;\n",
              "    }\n",
              "\n",
              "    .colab-df-buttons div {\n",
              "      margin-bottom: 4px;\n",
              "    }\n",
              "\n",
              "    [theme=dark] .colab-df-convert {\n",
              "      background-color: #3B4455;\n",
              "      fill: #D2E3FC;\n",
              "    }\n",
              "\n",
              "    [theme=dark] .colab-df-convert:hover {\n",
              "      background-color: #434B5C;\n",
              "      box-shadow: 0px 1px 3px 1px rgba(0, 0, 0, 0.15);\n",
              "      filter: drop-shadow(0px 1px 2px rgba(0, 0, 0, 0.3));\n",
              "      fill: #FFFFFF;\n",
              "    }\n",
              "  </style>\n",
              "\n",
              "    <script>\n",
              "      const buttonEl =\n",
              "        document.querySelector('#df-c1174109-9ce5-483b-906b-a169ec22753d button.colab-df-convert');\n",
              "      buttonEl.style.display =\n",
              "        google.colab.kernel.accessAllowed ? 'block' : 'none';\n",
              "\n",
              "      async function convertToInteractive(key) {\n",
              "        const element = document.querySelector('#df-c1174109-9ce5-483b-906b-a169ec22753d');\n",
              "        const dataTable =\n",
              "          await google.colab.kernel.invokeFunction('convertToInteractive',\n",
              "                                                    [key], {});\n",
              "        if (!dataTable) return;\n",
              "\n",
              "        const docLinkHtml = 'Like what you see? Visit the ' +\n",
              "          '<a target=\"_blank\" href=https://colab.research.google.com/notebooks/data_table.ipynb>data table notebook</a>'\n",
              "          + ' to learn more about interactive tables.';\n",
              "        element.innerHTML = '';\n",
              "        dataTable['output_type'] = 'display_data';\n",
              "        await google.colab.output.renderOutput(dataTable, element);\n",
              "        const docLink = document.createElement('div');\n",
              "        docLink.innerHTML = docLinkHtml;\n",
              "        element.appendChild(docLink);\n",
              "      }\n",
              "    </script>\n",
              "  </div>\n",
              "\n",
              "\n",
              "<div id=\"df-948c8941-a524-419c-b556-24a80d35add7\">\n",
              "  <button class=\"colab-df-quickchart\" onclick=\"quickchart('df-948c8941-a524-419c-b556-24a80d35add7')\"\n",
              "            title=\"Suggest charts\"\n",
              "            style=\"display:none;\">\n",
              "\n",
              "<svg xmlns=\"http://www.w3.org/2000/svg\" height=\"24px\"viewBox=\"0 0 24 24\"\n",
              "     width=\"24px\">\n",
              "    <g>\n",
              "        <path d=\"M19 3H5c-1.1 0-2 .9-2 2v14c0 1.1.9 2 2 2h14c1.1 0 2-.9 2-2V5c0-1.1-.9-2-2-2zM9 17H7v-7h2v7zm4 0h-2V7h2v10zm4 0h-2v-4h2v4z\"/>\n",
              "    </g>\n",
              "</svg>\n",
              "  </button>\n",
              "\n",
              "<style>\n",
              "  .colab-df-quickchart {\n",
              "      --bg-color: #E8F0FE;\n",
              "      --fill-color: #1967D2;\n",
              "      --hover-bg-color: #E2EBFA;\n",
              "      --hover-fill-color: #174EA6;\n",
              "      --disabled-fill-color: #AAA;\n",
              "      --disabled-bg-color: #DDD;\n",
              "  }\n",
              "\n",
              "  [theme=dark] .colab-df-quickchart {\n",
              "      --bg-color: #3B4455;\n",
              "      --fill-color: #D2E3FC;\n",
              "      --hover-bg-color: #434B5C;\n",
              "      --hover-fill-color: #FFFFFF;\n",
              "      --disabled-bg-color: #3B4455;\n",
              "      --disabled-fill-color: #666;\n",
              "  }\n",
              "\n",
              "  .colab-df-quickchart {\n",
              "    background-color: var(--bg-color);\n",
              "    border: none;\n",
              "    border-radius: 50%;\n",
              "    cursor: pointer;\n",
              "    display: none;\n",
              "    fill: var(--fill-color);\n",
              "    height: 32px;\n",
              "    padding: 0;\n",
              "    width: 32px;\n",
              "  }\n",
              "\n",
              "  .colab-df-quickchart:hover {\n",
              "    background-color: var(--hover-bg-color);\n",
              "    box-shadow: 0 1px 2px rgba(60, 64, 67, 0.3), 0 1px 3px 1px rgba(60, 64, 67, 0.15);\n",
              "    fill: var(--button-hover-fill-color);\n",
              "  }\n",
              "\n",
              "  .colab-df-quickchart-complete:disabled,\n",
              "  .colab-df-quickchart-complete:disabled:hover {\n",
              "    background-color: var(--disabled-bg-color);\n",
              "    fill: var(--disabled-fill-color);\n",
              "    box-shadow: none;\n",
              "  }\n",
              "\n",
              "  .colab-df-spinner {\n",
              "    border: 2px solid var(--fill-color);\n",
              "    border-color: transparent;\n",
              "    border-bottom-color: var(--fill-color);\n",
              "    animation:\n",
              "      spin 1s steps(1) infinite;\n",
              "  }\n",
              "\n",
              "  @keyframes spin {\n",
              "    0% {\n",
              "      border-color: transparent;\n",
              "      border-bottom-color: var(--fill-color);\n",
              "      border-left-color: var(--fill-color);\n",
              "    }\n",
              "    20% {\n",
              "      border-color: transparent;\n",
              "      border-left-color: var(--fill-color);\n",
              "      border-top-color: var(--fill-color);\n",
              "    }\n",
              "    30% {\n",
              "      border-color: transparent;\n",
              "      border-left-color: var(--fill-color);\n",
              "      border-top-color: var(--fill-color);\n",
              "      border-right-color: var(--fill-color);\n",
              "    }\n",
              "    40% {\n",
              "      border-color: transparent;\n",
              "      border-right-color: var(--fill-color);\n",
              "      border-top-color: var(--fill-color);\n",
              "    }\n",
              "    60% {\n",
              "      border-color: transparent;\n",
              "      border-right-color: var(--fill-color);\n",
              "    }\n",
              "    80% {\n",
              "      border-color: transparent;\n",
              "      border-right-color: var(--fill-color);\n",
              "      border-bottom-color: var(--fill-color);\n",
              "    }\n",
              "    90% {\n",
              "      border-color: transparent;\n",
              "      border-bottom-color: var(--fill-color);\n",
              "    }\n",
              "  }\n",
              "</style>\n",
              "\n",
              "  <script>\n",
              "    async function quickchart(key) {\n",
              "      const quickchartButtonEl =\n",
              "        document.querySelector('#' + key + ' button');\n",
              "      quickchartButtonEl.disabled = true;  // To prevent multiple clicks.\n",
              "      quickchartButtonEl.classList.add('colab-df-spinner');\n",
              "      try {\n",
              "        const charts = await google.colab.kernel.invokeFunction(\n",
              "            'suggestCharts', [key], {});\n",
              "      } catch (error) {\n",
              "        console.error('Error during call to suggestCharts:', error);\n",
              "      }\n",
              "      quickchartButtonEl.classList.remove('colab-df-spinner');\n",
              "      quickchartButtonEl.classList.add('colab-df-quickchart-complete');\n",
              "    }\n",
              "    (() => {\n",
              "      let quickchartButtonEl =\n",
              "        document.querySelector('#df-948c8941-a524-419c-b556-24a80d35add7 button');\n",
              "      quickchartButtonEl.style.display =\n",
              "        google.colab.kernel.accessAllowed ? 'block' : 'none';\n",
              "    })();\n",
              "  </script>\n",
              "</div>\n",
              "    </div>\n",
              "  </div>\n"
            ],
            "application/vnd.google.colaboratory.intrinsic+json": {
              "type": "dataframe",
              "variable_name": "df",
              "summary": "{\n  \"name\": \"df\",\n  \"rows\": 2225,\n  \"fields\": [\n    {\n      \"column\": \"text\",\n      \"properties\": {\n        \"dtype\": \"string\",\n        \"num_unique_values\": 2127,\n        \"samples\": [\n          \"EU 'too slow' on economic reforms\\n\\nMost EU countries have failed to put in place policies aimed at making Europe the world's most competitive economy by the end of the decade, a report says.\\n\\nThe study, undertaken by the European Commission, sought to assess how far the EU has moved towards meeting its economic targets. In 2000, EU leaders at a summit in Lisbon pledged the European economy would outstrip that of the US by 2010. Their economic targets became known as the Lisbon Agenda. But the Commission report says that, in most EU countries, the pace of economic reform has been too slow, and fulfilling the Lisbon ambitions will be difficult - if not impossible.\\n\\nOnly the UK, Finland, Belgium, Denmark, Ireland and the Netherlands have actually followed up policy recommendations. Among the biggest laggards, according to the report, are Greece and Italy. The Lisbon Agenda set out to increase the number of people employed in Europe by encouraging more older people and women to stay in the workforce. It also set out to raise the amount the private sector spends on research and development, while bringing about greater discipline over public spending and debt levels. Combined with high environmental standards and efforts to level the playing field for businesses throughout the EU, the plan was for Europe to become the world's most dynamic economy by 2010. Next week, the Commission will present revised proposals to meet the Lisbon goals. Many people expect the 2010 target to be quietly dropped.\",\n          \"BBC web search aids odd queries\\n\\nThe BBC's online search engine was used a record amount in 2004, helping with enquires both simple and strange.\\n\\nMore than 277 million enquiries were made, asking for informaton of a wide range of subjects. The most requested search terms of 2004 included games, EastEnders, CBBC, John Peel, Harry Potter and Olympics. But there were many strange enquiries, including: what is a dog?, how do you say basketball? and what is the biggest collection of naval fluff? The search engine works by matching key words typed in to different web pages but many people still type in natural language questions. Here are some of the strangest queries of 2004 - spelling and grammar errors left untouched - and their possible solutions:\\n\\n\\n - How to fold a serviette like an elf's boot? \\n \\n\\n\\n - How do I structure a French letter? \\n \\n\\n\\n - What is better one long vacation each year or several short vacations throughout the year? \\n \\n\\n\\n - What is so special about the Swiss? \\n \\n\\n\\n - What are the contemporary issue in nurses? \\n \\n\\n\\n - What is the number 4 in this number 40052308090? \\n \\n\\n\\n - What is up? \\n \\n\\n\\n - What is the name of James Martin's dog? \\n \\n\\nSearch engines are key to the way people use the internet. Companies such as Google have become of paramount importance as they dictate how people travel through websites while online.\",\n          \"Serena becomes world number two\\n\\nSerena Williams has moved up five places to second in the world rankings after her Australian Open win.\\n\\nWilliams won her first Grand Slam title since 2003 with victory over Lindsay Davenport, the world number one. Men's champion Marat Safin remains fourth in the ATP rankings while beaten finalist Lleyton Hewitt replaces Andy Roddick as world number two. Roger Federer retains top spot, but Safin has overtaken Hewitt to become the new leader of the Champions Race. Alicia Molik, who lost a three-set thriller against Davenport in the quarter-finals, is in the women's top 10 for the first time in her career. Her rise means Australia have a player in the top 10 of the men's and women's rankings for the first time in 21 years. And Britain's Elena Baltacha, who qualified and then reached the third round, has risen to 120 in the world - a leap of 65 places and her highest ranking yet.\"\n        ],\n        \"semantic_type\": \"\",\n        \"description\": \"\"\n      }\n    },\n    {\n      \"column\": \"labels\",\n      \"properties\": {\n        \"dtype\": \"category\",\n        \"num_unique_values\": 5,\n        \"samples\": [\n          \"entertainment\",\n          \"tech\",\n          \"politics\"\n        ],\n        \"semantic_type\": \"\",\n        \"description\": \"\"\n      }\n    },\n    {\n      \"column\": \"num_token\",\n      \"properties\": {\n        \"dtype\": \"number\",\n        \"std\": 287,\n        \"min\": 105,\n        \"max\": 5254,\n        \"num_unique_values\": 707,\n        \"samples\": [\n          514,\n          559,\n          431\n        ],\n        \"semantic_type\": \"\",\n        \"description\": \"\"\n      }\n    }\n  ]\n}"
            }
          },
          "metadata": {},
          "execution_count": 58
        },
        {
          "output_type": "display_data",
          "data": {
            "text/plain": [
              "<Figure size 640x480 with 1 Axes>"
            ],
            "image/png": "[encoded data removed]"
          },
          "metadata": {}
        }
      ],
      "source": [
        "def update_total(text):\n",
        "    ints = encoding.encode(text)\n",
        "    num_token = len(ints)\n",
        "    return num_token\n",
        "\n",
        "\n",
        "\n",
        "df = pd.read_csv('/content/bbc_text_cls.csv')\n",
        "df['num_token']= df['text'].apply(update_total)\n",
        "\n",
        "print(\"there are token = \", df['num_token'].sum())\n",
        "\n",
        "df['labels'].hist()\n",
        "\n",
        "df"
      ]
    },
    {
      "cell_type": "code",
      "source": [
        "from IPython.display import Markdown, display\n",
        "\n",
        "idx = 0\n",
        "\n",
        "display(Markdown(df.loc[idx, \"labels\"]))\n",
        "display(Markdown(\"====================================\"))\n",
        "display(Markdown(df.loc[idx, \"text\"]))"
      ],
      "metadata": {
        "colab": {
          "base_uri": "https://localhost:8080/",
          "height": 466
        },
        "id": "K8eRpPg-fGrC",
        "outputId": "e3fd8da5-bc99-4f73-c128-bda3163578bc"
      },
      "id": "K8eRpPg-fGrC",
      "execution_count": 128,
      "outputs": [
        {
          "output_type": "display_data",
          "data": {
            "text/plain": [
              "<IPython.core.display.Markdown object>"
            ],
            "text/markdown": "business"
          },
          "metadata": {}
        },
        {
          "output_type": "display_data",
          "data": {
            "text/plain": [
              "<IPython.core.display.Markdown object>"
            ],
            "text/markdown": "===================================="
          },
          "metadata": {}
        },
        {
          "output_type": "display_data",
          "data": {
            "text/plain": [
              "<IPython.core.display.Markdown object>"
            ],
            "text/markdown": "Ad sales boost Time Warner profit\n\nQuarterly profits at US media giant TimeWarner jumped 76% to $1.13bn (£600m) for the three months to December, from $639m year-earlier.\n\nThe firm, which is now one of the biggest investors in Google, benefited from sales of high-speed internet connections and higher advert sales. TimeWarner said fourth quarter sales rose 2% to $11.1bn from $10.9bn. Its profits were buoyed by one-off gains which offset a profit dip at Warner Bros, and less users for AOL.\n\nTime Warner said on Friday that it now owns 8% of search-engine Google. But its own internet business, AOL, had has mixed fortunes. It lost 464,000 subscribers in the fourth quarter profits were lower than in the preceding three quarters. However, the company said AOL's underlying profit before exceptional items rose 8% on the back of stronger internet advertising revenues. It hopes to increase subscribers by offering the online service free to TimeWarner internet customers and will try to sign up AOL's existing customers for high-speed broadband. TimeWarner also has to restate 2000 and 2003 results following a probe by the US Securities Exchange Commission (SEC), which is close to concluding.\n\nTime Warner's fourth quarter profits were slightly better than analysts' expectations. But its film division saw profits slump 27% to $284m, helped by box-office flops Alexander and Catwoman, a sharp contrast to year-earlier, when the third and final film in the Lord of the Rings trilogy boosted results. For the full-year, TimeWarner posted a profit of $3.36bn, up 27% from its 2003 performance, while revenues grew 6.4% to $42.09bn. \"Our financial performance was strong, meeting or exceeding all of our full-year objectives and greatly enhancing our flexibility,\" chairman and chief executive Richard Parsons said. For 2005, TimeWarner is projecting operating earnings growth of around 5%, and also expects higher revenue and wider profit margins.\n\nTimeWarner is to restate its accounts as part of efforts to resolve an inquiry into AOL by US market regulators. It has already offered to pay $300m to settle charges, in a deal that is under review by the SEC. The company said it was unable to estimate the amount it needed to set aside for legal reserves, which it previously set at $500m. It intends to adjust the way it accounts for a deal with German music publisher Bertelsmann's purchase of a stake in AOL Europe, which it had reported as advertising revenue. It will now book the sale of its stake in AOL Europe as a loss on the value of that stake."
          },
          "metadata": {}
        }
      ]
    },
    {
      "cell_type": "markdown",
      "source": [
        "# Reduce Size"
      ],
      "metadata": {
        "id": "2eRP_uK3exW7"
      },
      "id": "2eRP_uK3exW7"
    },
    {
      "cell_type": "code",
      "execution_count": 102,
      "id": "d6fbf17e",
      "metadata": {
        "id": "d6fbf17e",
        "colab": {
          "base_uri": "https://localhost:8080/",
          "height": 465
        },
        "outputId": "5c952988-d867-4703-90c1-4504c11ead2b"
      },
      "outputs": [
        {
          "output_type": "stream",
          "name": "stdout",
          "text": [
            "there are token =  2314\n"
          ]
        },
        {
          "output_type": "execute_result",
          "data": {
            "text/plain": [
              "<Axes: >"
            ]
          },
          "metadata": {},
          "execution_count": 102
        },
        {
          "output_type": "display_data",
          "data": {
            "text/plain": [
              "<Figure size 640x480 with 1 Axes>"
            ],
            "image/png": "[encoded data removed]"
          },
          "metadata": {}
        }
      ],
      "source": [
        "df_small = df.sample(5).reset_index(drop=True)\n",
        "print(\"there are token = \", df_small['num_token'].sum())\n",
        "df_small['labels'].hist()"
      ]
    },
    {
      "cell_type": "markdown",
      "id": "449ca808",
      "metadata": {
        "id": "449ca808"
      },
      "source": [
        "# Importing Necessary Libraries\n",
        "This section imports all the necessary libraries required for the rest of the notebook."
      ]
    },
    {
      "cell_type": "code",
      "source": [
        "def get_embedding(text):\n",
        "    text = text.replace(\"\\n\", \"\")\n",
        "    emb = openai.embeddings.create(\n",
        "        input=[text],\n",
        "        model='text-embedding-3-small',\n",
        "    )\n",
        "    return emb.data[0].embedding\n",
        "\n"
      ],
      "metadata": {
        "id": "zXJZFt4KhGN2"
      },
      "id": "zXJZFt4KhGN2",
      "execution_count": 103,
      "outputs": []
    },
    {
      "cell_type": "code",
      "source": [
        "df_small['embeddings'] = df_small['text'].apply(get_embedding)"
      ],
      "metadata": {
        "id": "SLxq95M2hGK2"
      },
      "id": "SLxq95M2hGK2",
      "execution_count": 104,
      "outputs": []
    },
    {
      "cell_type": "code",
      "source": [
        "df_small"
      ],
      "metadata": {
        "colab": {
          "base_uri": "https://localhost:8080/",
          "height": 206
        },
        "id": "3pa7diB_jY0n",
        "outputId": "dd62d93f-4fc5-41a7-b3a1-8cb594c8d3d0"
      },
      "id": "3pa7diB_jY0n",
      "execution_count": 105,
      "outputs": [
        {
          "output_type": "execute_result",
          "data": {
            "text/plain": [
              "                                                text         labels  \\\n",
              "0  Vera Drake scoops film award\\n\\nOscar hopefuls...  entertainment   \n",
              "1  Robinson out of Six Nations\\n\\nEngland captain...          sport   \n",
              "2  Royal couple watch nation's mood\\n\\nPrince Cha...       politics   \n",
              "3  Jones medals 'must go if guilty'\\n\\nWorld Anti...          sport   \n",
              "4  Hitachi unveils 'fastest robot'\\n\\nJapanese el...           tech   \n",
              "\n",
              "   num_token                                         embeddings  \n",
              "0        438  [-0.01564997434616089, 0.041259024292230606, -...  \n",
              "1        417  [-0.014926258474588394, 0.05084256827831268, 0...  \n",
              "2        580  [0.05881070718169212, 0.01907469518482685, 0.0...  \n",
              "3        210  [0.03166559338569641, 0.014112689532339573, 0....  \n",
              "4        669  [0.022392353042960167, -0.005086322780698538, ...  "
            ],
            "text/html": [
              "\n",
              "  <div id=\"df-4dba0820-5b7f-42d3-adc9-d68e367aceb0\" class=\"colab-df-container\">\n",
              "    <div>\n",
              "<style scoped>\n",
              "    .dataframe tbody tr th:only-of-type {\n",
              "        vertical-align: middle;\n",
              "    }\n",
              "\n",
              "    .dataframe tbody tr th {\n",
              "        vertical-align: top;\n",
              "    }\n",
              "\n",
              "    .dataframe thead th {\n",
              "        text-align: right;\n",
              "    }\n",
              "</style>\n",
              "<table border=\"1\" class=\"dataframe\">\n",
              "  <thead>\n",
              "    <tr style=\"text-align: right;\">\n",
              "      <th></th>\n",
              "      <th>text</th>\n",
              "      <th>labels</th>\n",
              "      <th>num_token</th>\n",
              "      <th>embeddings</th>\n",
              "    </tr>\n",
              "  </thead>\n",
              "  <tbody>\n",
              "    <tr>\n",
              "      <th>0</th>\n",
              "      <td>Vera Drake scoops film award\\n\\nOscar hopefuls...</td>\n",
              "      <td>entertainment</td>\n",
              "      <td>438</td>\n",
              "      <td>[-0.01564997434616089, 0.041259024292230606, -...</td>\n",
              "    </tr>\n",
              "    <tr>\n",
              "      <th>1</th>\n",
              "      <td>Robinson out of Six Nations\\n\\nEngland captain...</td>\n",
              "      <td>sport</td>\n",
              "      <td>417</td>\n",
              "      <td>[-0.014926258474588394, 0.05084256827831268, 0...</td>\n",
              "    </tr>\n",
              "    <tr>\n",
              "      <th>2</th>\n",
              "      <td>Royal couple watch nation's mood\\n\\nPrince Cha...</td>\n",
              "      <td>politics</td>\n",
              "      <td>580</td>\n",
              "      <td>[0.05881070718169212, 0.01907469518482685, 0.0...</td>\n",
              "    </tr>\n",
              "    <tr>\n",
              "      <th>3</th>\n",
              "      <td>Jones medals 'must go if guilty'\\n\\nWorld Anti...</td>\n",
              "      <td>sport</td>\n",
              "      <td>210</td>\n",
              "      <td>[0.03166559338569641, 0.014112689532339573, 0....</td>\n",
              "    </tr>\n",
              "    <tr>\n",
              "      <th>4</th>\n",
              "      <td>Hitachi unveils 'fastest robot'\\n\\nJapanese el...</td>\n",
              "      <td>tech</td>\n",
              "      <td>669</td>\n",
              "      <td>[0.022392353042960167, -0.005086322780698538, ...</td>\n",
              "    </tr>\n",
              "  </tbody>\n",
              "</table>\n",
              "</div>\n",
              "    <div class=\"colab-df-buttons\">\n",
              "\n",
              "  <div class=\"colab-df-container\">\n",
              "    <button class=\"colab-df-convert\" onclick=\"convertToInteractive('df-4dba0820-5b7f-42d3-adc9-d68e367aceb0')\"\n",
              "            title=\"Convert this dataframe to an interactive table.\"\n",
              "            style=\"display:none;\">\n",
              "\n",
              "  <svg xmlns=\"http://www.w3.org/2000/svg\" height=\"24px\" viewBox=\"0 -960 960 960\">\n",
              "    <path d=\"M120-120v-720h720v720H120Zm60-500h600v-160H180v160Zm220 220h160v-160H400v160Zm0 220h160v-160H400v160ZM180-400h160v-160H180v160Zm440 0h160v-160H620v160ZM180-180h160v-160H180v160Zm440 0h160v-160H620v160Z\"/>\n",
              "  </svg>\n",
              "    </button>\n",
              "\n",
              "  <style>\n",
              "    .colab-df-container {\n",
              "      display:flex;\n",
              "      gap: 12px;\n",
              "    }\n",
              "\n",
              "    .colab-df-convert {\n",
              "      background-color: #E8F0FE;\n",
              "      border: none;\n",
              "      border-radius: 50%;\n",
              "      cursor: pointer;\n",
              "      display: none;\n",
              "      fill: #1967D2;\n",
              "      height: 32px;\n",
              "      padding: 0 0 0 0;\n",
              "      width: 32px;\n",
              "    }\n",
              "\n",
              "    .colab-df-convert:hover {\n",
              "      background-color: #E2EBFA;\n",
              "      box-shadow: 0px 1px 2px rgba(60, 64, 67, 0.3), 0px 1px 3px 1px rgba(60, 64, 67, 0.15);\n",
              "      fill: #174EA6;\n",
              "    }\n",
              "\n",
              "    .colab-df-buttons div {\n",
              "      margin-bottom: 4px;\n",
              "    }\n",
              "\n",
              "    [theme=dark] .colab-df-convert {\n",
              "      background-color: #3B4455;\n",
              "      fill: #D2E3FC;\n",
              "    }\n",
              "\n",
              "    [theme=dark] .colab-df-convert:hover {\n",
              "      background-color: #434B5C;\n",
              "      box-shadow: 0px 1px 3px 1px rgba(0, 0, 0, 0.15);\n",
              "      filter: drop-shadow(0px 1px 2px rgba(0, 0, 0, 0.3));\n",
              "      fill: #FFFFFF;\n",
              "    }\n",
              "  </style>\n",
              "\n",
              "    <script>\n",
              "      const buttonEl =\n",
              "        document.querySelector('#df-4dba0820-5b7f-42d3-adc9-d68e367aceb0 button.colab-df-convert');\n",
              "      buttonEl.style.display =\n",
              "        google.colab.kernel.accessAllowed ? 'block' : 'none';\n",
              "\n",
              "      async function convertToInteractive(key) {\n",
              "        const element = document.querySelector('#df-4dba0820-5b7f-42d3-adc9-d68e367aceb0');\n",
              "        const dataTable =\n",
              "          await google.colab.kernel.invokeFunction('convertToInteractive',\n",
              "                                                    [key], {});\n",
              "        if (!dataTable) return;\n",
              "\n",
              "        const docLinkHtml = 'Like what you see? Visit the ' +\n",
              "          '<a target=\"_blank\" href=https://colab.research.google.com/notebooks/data_table.ipynb>data table notebook</a>'\n",
              "          + ' to learn more about interactive tables.';\n",
              "        element.innerHTML = '';\n",
              "        dataTable['output_type'] = 'display_data';\n",
              "        await google.colab.output.renderOutput(dataTable, element);\n",
              "        const docLink = document.createElement('div');\n",
              "        docLink.innerHTML = docLinkHtml;\n",
              "        element.appendChild(docLink);\n",
              "      }\n",
              "    </script>\n",
              "  </div>\n",
              "\n",
              "\n",
              "<div id=\"df-61b589cf-6025-4765-a800-9b5737a5a1b7\">\n",
              "  <button class=\"colab-df-quickchart\" onclick=\"quickchart('df-61b589cf-6025-4765-a800-9b5737a5a1b7')\"\n",
              "            title=\"Suggest charts\"\n",
              "            style=\"display:none;\">\n",
              "\n",
              "<svg xmlns=\"http://www.w3.org/2000/svg\" height=\"24px\"viewBox=\"0 0 24 24\"\n",
              "     width=\"24px\">\n",
              "    <g>\n",
              "        <path d=\"M19 3H5c-1.1 0-2 .9-2 2v14c0 1.1.9 2 2 2h14c1.1 0 2-.9 2-2V5c0-1.1-.9-2-2-2zM9 17H7v-7h2v7zm4 0h-2V7h2v10zm4 0h-2v-4h2v4z\"/>\n",
              "    </g>\n",
              "</svg>\n",
              "  </button>\n",
              "\n",
              "<style>\n",
              "  .colab-df-quickchart {\n",
              "      --bg-color: #E8F0FE;\n",
              "      --fill-color: #1967D2;\n",
              "      --hover-bg-color: #E2EBFA;\n",
              "      --hover-fill-color: #174EA6;\n",
              "      --disabled-fill-color: #AAA;\n",
              "      --disabled-bg-color: #DDD;\n",
              "  }\n",
              "\n",
              "  [theme=dark] .colab-df-quickchart {\n",
              "      --bg-color: #3B4455;\n",
              "      --fill-color: #D2E3FC;\n",
              "      --hover-bg-color: #434B5C;\n",
              "      --hover-fill-color: #FFFFFF;\n",
              "      --disabled-bg-color: #3B4455;\n",
              "      --disabled-fill-color: #666;\n",
              "  }\n",
              "\n",
              "  .colab-df-quickchart {\n",
              "    background-color: var(--bg-color);\n",
              "    border: none;\n",
              "    border-radius: 50%;\n",
              "    cursor: pointer;\n",
              "    display: none;\n",
              "    fill: var(--fill-color);\n",
              "    height: 32px;\n",
              "    padding: 0;\n",
              "    width: 32px;\n",
              "  }\n",
              "\n",
              "  .colab-df-quickchart:hover {\n",
              "    background-color: var(--hover-bg-color);\n",
              "    box-shadow: 0 1px 2px rgba(60, 64, 67, 0.3), 0 1px 3px 1px rgba(60, 64, 67, 0.15);\n",
              "    fill: var(--button-hover-fill-color);\n",
              "  }\n",
              "\n",
              "  .colab-df-quickchart-complete:disabled,\n",
              "  .colab-df-quickchart-complete:disabled:hover {\n",
              "    background-color: var(--disabled-bg-color);\n",
              "    fill: var(--disabled-fill-color);\n",
              "    box-shadow: none;\n",
              "  }\n",
              "\n",
              "  .colab-df-spinner {\n",
              "    border: 2px solid var(--fill-color);\n",
              "    border-color: transparent;\n",
              "    border-bottom-color: var(--fill-color);\n",
              "    animation:\n",
              "      spin 1s steps(1) infinite;\n",
              "  }\n",
              "\n",
              "  @keyframes spin {\n",
              "    0% {\n",
              "      border-color: transparent;\n",
              "      border-bottom-color: var(--fill-color);\n",
              "      border-left-color: var(--fill-color);\n",
              "    }\n",
              "    20% {\n",
              "      border-color: transparent;\n",
              "      border-left-color: var(--fill-color);\n",
              "      border-top-color: var(--fill-color);\n",
              "    }\n",
              "    30% {\n",
              "      border-color: transparent;\n",
              "      border-left-color: var(--fill-color);\n",
              "      border-top-color: var(--fill-color);\n",
              "      border-right-color: var(--fill-color);\n",
              "    }\n",
              "    40% {\n",
              "      border-color: transparent;\n",
              "      border-right-color: var(--fill-color);\n",
              "      border-top-color: var(--fill-color);\n",
              "    }\n",
              "    60% {\n",
              "      border-color: transparent;\n",
              "      border-right-color: var(--fill-color);\n",
              "    }\n",
              "    80% {\n",
              "      border-color: transparent;\n",
              "      border-right-color: var(--fill-color);\n",
              "      border-bottom-color: var(--fill-color);\n",
              "    }\n",
              "    90% {\n",
              "      border-color: transparent;\n",
              "      border-bottom-color: var(--fill-color);\n",
              "    }\n",
              "  }\n",
              "</style>\n",
              "\n",
              "  <script>\n",
              "    async function quickchart(key) {\n",
              "      const quickchartButtonEl =\n",
              "        document.querySelector('#' + key + ' button');\n",
              "      quickchartButtonEl.disabled = true;  // To prevent multiple clicks.\n",
              "      quickchartButtonEl.classList.add('colab-df-spinner');\n",
              "      try {\n",
              "        const charts = await google.colab.kernel.invokeFunction(\n",
              "            'suggestCharts', [key], {});\n",
              "      } catch (error) {\n",
              "        console.error('Error during call to suggestCharts:', error);\n",
              "      }\n",
              "      quickchartButtonEl.classList.remove('colab-df-spinner');\n",
              "      quickchartButtonEl.classList.add('colab-df-quickchart-complete');\n",
              "    }\n",
              "    (() => {\n",
              "      let quickchartButtonEl =\n",
              "        document.querySelector('#df-61b589cf-6025-4765-a800-9b5737a5a1b7 button');\n",
              "      quickchartButtonEl.style.display =\n",
              "        google.colab.kernel.accessAllowed ? 'block' : 'none';\n",
              "    })();\n",
              "  </script>\n",
              "</div>\n",
              "    </div>\n",
              "  </div>\n"
            ],
            "application/vnd.google.colaboratory.intrinsic+json": {
              "type": "dataframe",
              "variable_name": "df_small",
              "summary": "{\n  \"name\": \"df_small\",\n  \"rows\": 5,\n  \"fields\": [\n    {\n      \"column\": \"text\",\n      \"properties\": {\n        \"dtype\": \"string\",\n        \"num_unique_values\": 5,\n        \"samples\": [\n          \"Robinson out of Six Nations\\n\\nEngland captain Jason Robinson will miss the rest of the Six Nations because of injury.\\n\\nRobinson, stand-in captain in the absence of Jonny Wilkinson, had been due to lead England in their final two games against Italy and Scotland. But the Sale full-back pulled out of the squad on Wednesday because of a torn ligament in his right thumb. The 30-year-old will undergo an operation on Friday but England have yet to name a replacement skipper.\\n\\nRobinson said: \\\"This is very disappointing for me as this means I miss England's last two games in the Six Nations at Twickenham and two games for my club, Sale Sharks. \\\"But I'm looking to be back playing very early in April.\\\"\\n\\nRobinson picked up the injury in the 19-13 defeat to Ireland at Lansdowne Road on Saturday. And coach Andy Robinson said: \\\"I am hugely disappointed for Jason. \\\"As England captain he has been an immense figure during the autumn internationals and the Six Nations, leading by example at all times. I look forward to having him back in the England squad.\\\" The announcement is the latest setback for Robinson's injury-depleted squad.\\n\\nAmong the key figures already missing are Jonny Wilkinson, Mike Tindall, Will Greenwood, Julian White and Phil Vickery - a list which leaves Robinson short on candidates for the now vacant captaincy role. Former England skipper Jeremy Guscott told BBC Radio Five Live his choice would be Matt Dawson, even though he is does not hold a regular starting place.\\n\\n\\\"The obvious choice is Dawson\\\" said Guscott. \\\"Especially given that Harry Ellis did not have his best game at scrum-half on Saturday. \\\"Dawson has the credentials and the experience, even though his winning record at captain is not great. \\\"The other option in Martin Corry, who is the standout forward at the moment. \\\"Unfortunately England cannot rely on leaders on the field at the moment.\\\" England will announce their squad for the 12 March game against Italy on Saturday.\",\n          \"Hitachi unveils 'fastest robot'\\n\\nJapanese electronics firm Hitachi has unveiled its first humanoid robot, called Emiew, to challenge Honda's Asimo and Sony's Qrio robots.\\n\\nHitachi said the 1.3m (4.2ft) Emiew was the world's quickest-moving robot yet. Two wheel-based Emiews, Pal and Chum, introduced themselves to reporters at a press conference in Japan. The robots will be guests at the World Expo later this month. Sony and Honda have both built sophisticated robots to show off developments in electronics. Explaining why Hitachi's Emiew used wheels instead of feet, Toshihiko Horiuchi, from Hitachi's Mechanical Engineering Research Laboratory, said: \\\"We aimed to create a robot that could live and co-exist with people.\\\" \\\"We want to make the robots useful for people ... If the robots moved slower than people, users would be frustrated.\\\" Emiew - Excellent Mobility and Interactive Existence as Workmate - can move at 3.7m/h. Its \\\"wheel feet\\\" resemble the bottom half of a Segway scooter. With sensors on the head, waist, and near the wheels, Pal and Chum demonstrated how they could react to commands. \\\"I want to be able to walk about in places like Shinjuku and Shibuya [shopping districts] in the future without bumping into people and cars,\\\" Pal told reporters. Hitachi said Pal and Chum, which have a vocabulary of about 100 words, could be \\\"trained\\\" for practical office and factory use in as little as five to six years.\\n\\nRobotics researchers have long been challenged by developing robots that walk in the gait of a human. At the recent AAAS (American Association for the Advancement of Science) annual meeting in Washington DC, researchers showed off bipedal designs. The three designs, each built by a different research group, use the same principle to achieve a human-like gait.\\n\\nSony and Honda have both used humanoid robots, which are not commercially available, as a way of showing off computing power and engineering expertise. Honda's Asimo was \\\"born\\\" five years ago. Since then, Honda and Sony's Qrio have tried to trump each other with what the robots can do at various technology events. Asimo, has visited the UK, Germany, the Czech Republic, France and Ireland as part of a world tour. Sony's Qrio has been singing, jogging and dancing in formation around the world too and was, until last year, the fastest robot on two legs. But its record was beaten by Asimo. It is capable of 3km/h, which its makers claim is almost four times as fast as Qrio. Last year, car maker Toyota also stepped into the ring and unveiled its trumpet-playing humanoid robot. By 2007, it is predicted that there will be almost 2.5 million \\\"entertainment and leisure\\\" robots in homes, compared to about 137,000 currently, according to the United Nations (UN). By the end of that year, 4.1 million robots will be doing jobs in homes, said the report by the UN Economic Commission for Europe and the International Federation of Robotics. Hitachi is one of the companies with home cleaning robot machines on the market.\",\n          \"Royal couple watch nation's mood\\n\\nPrince Charles and Camilla Parker Bowles are awaiting the nation's reaction after announcing they are to be married on 8 April.\\n\\nMrs Parker Bowles will take the title HRH Duchess of Cornwall after a civil ceremony to be held at Windsor Castle. A Daily Telegraph poll of 1,313 people suggests two-thirds of Britons support the couple's decision to marry. But only 40% think Mrs Parker Bowles should become Princess Consort as planned after Charles becomes king. Some 47% believe she should have no title, while 7% think she should become queen.\\n\\nThe poll also found that the majority of Britons would prefer the monarchy to miss a generation, with the Queen handing the throne to her grandson Prince William, 22, on her death or abdication. On Thursday night, Prince Charles, 56, and Mrs Parker Bowles, 57, hosted a dinner at Windsor Castle, their first public appearance since announcing their engagement. Mrs Parker Bowles said the prince went down on one knee to propose and added: \\\"I'm just coming down to earth.\\\" She displayed her diamond engagement ring - a Royal Family heirloom - to reporters. Charles said he and his wife-to-be were \\\"absolutely delighted\\\". Their marriage will end years of speculation on a relationship which dates back to 1970.\\n\\nThe Queen and Duke of Edinburgh said the news had made them \\\"very happy\\\". Princes William and Harry said they are \\\"very happy\\\" and wish the couple \\\"all the luck in the future\\\". The wedding will be a civil ceremony followed by a service of prayer and dedication in St George's Chapel at which the Archbishop of Canterbury, Dr Rowan Williams, will preside.\\n\\nThe marriage is likely to be a sensitive issue because Mrs Parker Bowles is divorced and her former husband is still alive. If he became king, Charles would be the supreme governor of the Church of England and some Anglicans remain opposed to the remarriage of divorcees. \\\"His divorce from Diana and the disappointment the country felt over how Diana had been treated... opened up a sense of disillusionment with [Prince Charles],\\\" said Ros Coward, who wrote the authorised biography of Diana, princess of Wales. The Archbishop of Canterbury said: \\\"I am pleased that Prince Charles and Mrs Camilla Parker Bowles have decided to take this important step.\\\" Tony Blair said he was \\\"delighted\\\" for the couple and offered his congratulations, as did Conservative leader Michael Howard and Liberal Democrat leader Charles Kennedy. Australia's Prime Minister John Howard also offered his congratulations, adding that their decision to marry was a \\\"sensible and a good thing\\\". Mrs Parker Bowles has joined the prince at numerous engagements in recent years - mostly at evening events for The Prince's Trust. Clarence House staff were at pains to point out that she attended these events in a private capacity.\"\n        ],\n        \"semantic_type\": \"\",\n        \"description\": \"\"\n      }\n    },\n    {\n      \"column\": \"labels\",\n      \"properties\": {\n        \"dtype\": \"string\",\n        \"num_unique_values\": 4,\n        \"samples\": [\n          \"sport\",\n          \"tech\",\n          \"entertainment\"\n        ],\n        \"semantic_type\": \"\",\n        \"description\": \"\"\n      }\n    },\n    {\n      \"column\": \"num_token\",\n      \"properties\": {\n        \"dtype\": \"number\",\n        \"std\": 175,\n        \"min\": 210,\n        \"max\": 669,\n        \"num_unique_values\": 5,\n        \"samples\": [\n          417,\n          669,\n          580\n        ],\n        \"semantic_type\": \"\",\n        \"description\": \"\"\n      }\n    },\n    {\n      \"column\": \"embeddings\",\n      \"properties\": {\n        \"dtype\": \"object\",\n        \"semantic_type\": \"\",\n        \"description\": \"\"\n      }\n    }\n  ]\n}"
            }
          },
          "metadata": {},
          "execution_count": 105
        }
      ]
    },
    {
      "cell_type": "code",
      "source": [
        "embedding_vector = np.array(df_small['embeddings'].tolist())"
      ],
      "metadata": {
        "id": "YcQSJIMvlPer"
      },
      "id": "YcQSJIMvlPer",
      "execution_count": 121,
      "outputs": []
    },
    {
      "cell_type": "code",
      "source": [
        "embedding_vector.shape"
      ],
      "metadata": {
        "colab": {
          "base_uri": "https://localhost:8080/"
        },
        "id": "BpmewYf1lko3",
        "outputId": "938b5f7e-de67-4fc5-8838-3c9b752308fc"
      },
      "id": "BpmewYf1lko3",
      "execution_count": 122,
      "outputs": [
        {
          "output_type": "execute_result",
          "data": {
            "text/plain": [
              "(5, 1536)"
            ]
          },
          "metadata": {},
          "execution_count": 122
        }
      ]
    },
    {
      "cell_type": "markdown",
      "id": "6d2818a0",
      "metadata": {
        "id": "6d2818a0"
      },
      "source": [
        "# Importing Necessary Libraries\n",
        "This section imports all the necessary libraries required for the rest of the notebook."
      ]
    },
    {
      "cell_type": "code",
      "execution_count": 126,
      "id": "26910c6b",
      "metadata": {
        "id": "26910c6b"
      },
      "outputs": [],
      "source": [
        "import faiss"
      ]
    },
    {
      "cell_type": "code",
      "execution_count": 127,
      "id": "99898b76",
      "metadata": {
        "id": "99898b76",
        "outputId": "6b414e13-a1c1-417c-cd26-d78fd8b3cfbd",
        "colab": {
          "base_uri": "https://localhost:8080/"
        }
      },
      "outputs": [
        {
          "output_type": "stream",
          "name": "stdout",
          "text": [
            "d =  1536\n"
          ]
        }
      ],
      "source": [
        "# Create and populate the Faiss index\n",
        "d = embedding_vector.shape[1]  # Dimension of the embeddings\n",
        "print(\"d = \",d)\n",
        "\n",
        "index = faiss.IndexFlatL2(d)\n"
      ]
    },
    {
      "cell_type": "code",
      "execution_count": 34,
      "id": "344ffb26",
      "metadata": {
        "id": "344ffb26"
      },
      "outputs": [],
      "source": [
        "# # we could also call faiss.normalize_L2(vectors)\n",
        "# # but this isn't necessary b/c they're already normalized\n",
        "#\n",
        "# # won't work in this format\n",
        "# index.add(df_small['embeddings'])"
      ]
    },
    {
      "cell_type": "code",
      "execution_count": 35,
      "id": "62549326",
      "metadata": {
        "id": "62549326"
      },
      "outputs": [],
      "source": [
        "# index2 = faiss.IndexFlatL2(dims)\n",
        "# index2.add(df_small[['embeddings']])"
      ]
    },
    {
      "cell_type": "code",
      "execution_count": 36,
      "id": "d562aee9",
      "metadata": {
        "id": "d562aee9"
      },
      "outputs": [],
      "source": [
        "# vectors = df_small['embeddings'].tolist()"
      ]
    },
    {
      "cell_type": "code",
      "execution_count": 37,
      "id": "9c95c87e",
      "metadata": {
        "id": "9c95c87e"
      },
      "outputs": [],
      "source": [
        "# index.add(vectors)"
      ]
    },
    {
      "cell_type": "code",
      "execution_count": 38,
      "id": "b1b93cd1",
      "metadata": {
        "id": "b1b93cd1"
      },
      "outputs": [],
      "source": [
        "# vectors = np.array(vectors) # N x D\n",
        "# index.add(vectors)"
      ]
    },
    {
      "cell_type": "code",
      "execution_count": 39,
      "id": "efb8c4a4",
      "metadata": {
        "id": "efb8c4a4"
      },
      "outputs": [],
      "source": [
        "# print(df_small['text'].sample(random_state=1).iloc[0])"
      ]
    },
    {
      "cell_type": "code",
      "execution_count": 40,
      "id": "caba21cc",
      "metadata": {
        "id": "caba21cc"
      },
      "outputs": [],
      "source": [
        "# query = \"\"\"By what percentage did China's economy expand in 2004?\"\"\""
      ]
    },
    {
      "cell_type": "code",
      "execution_count": 41,
      "id": "74e46204",
      "metadata": {
        "id": "74e46204"
      },
      "outputs": [],
      "source": [
        "# query_emb = get_embedding(query)\n",
        "# query_emb"
      ]
    },
    {
      "cell_type": "code",
      "execution_count": 42,
      "id": "bbfe049e",
      "metadata": {
        "id": "bbfe049e"
      },
      "outputs": [],
      "source": [
        "# distances, indices = index.search(query_emb, k=5)"
      ]
    },
    {
      "cell_type": "code",
      "execution_count": 43,
      "id": "2935e693",
      "metadata": {
        "id": "2935e693"
      },
      "outputs": [],
      "source": [
        "# query_emb = np.array(query_emb).reshape(1, -1)\n",
        "# distances, indices = index.search(query_emb, k=5)"
      ]
    },
    {
      "cell_type": "code",
      "execution_count": 44,
      "id": "2b29501e",
      "metadata": {
        "id": "2b29501e"
      },
      "outputs": [],
      "source": [
        "# distances"
      ]
    },
    {
      "cell_type": "code",
      "execution_count": 45,
      "id": "efe4e295",
      "metadata": {
        "id": "efe4e295"
      },
      "outputs": [],
      "source": [
        "# indices"
      ]
    },
    {
      "cell_type": "code",
      "execution_count": 46,
      "id": "22f1f185",
      "metadata": {
        "id": "22f1f185"
      },
      "outputs": [],
      "source": [
        "# df_small.iloc[indices[0][0]].text"
      ]
    },
    {
      "cell_type": "code",
      "execution_count": 47,
      "id": "7608c599",
      "metadata": {
        "id": "7608c599"
      },
      "outputs": [],
      "source": [
        "# def complete(user_prompt, max_tokens=100):\n",
        "#     completion = client.chat.completions.create(\n",
        "#         model='gpt-3.5-turbo',\n",
        "#         messages=[\n",
        "#             {\"role\": \"user\", \"content\": user_prompt},\n",
        "#         ],\n",
        "#         temperature=0,\n",
        "#         max_tokens=max_tokens,\n",
        "#     )\n",
        "#     return completion\n",
        "#\n",
        "# def print_response(completion):\n",
        "#     content = completion.choices[0].message.content\n",
        "#     print(content)"
      ]
    },
    {
      "cell_type": "code",
      "execution_count": 48,
      "id": "ddabbc7a",
      "metadata": {
        "id": "ddabbc7a"
      },
      "outputs": [],
      "source": [
        "# def qa(question, context):\n",
        "#     prompt = f\"\"\"Please answer the question given the provided \\\n",
        "#     context.\n",
        "#\n",
        "#     Question:\n",
        "#\n",
        "#     ```\n",
        "#     {question}\n",
        "#     ```\n",
        "#\n",
        "#     Context:\n",
        "#\n",
        "#     ```\n",
        "#     {context}\n",
        "#     ```\n",
        "#     \"\"\"\n",
        "#\n",
        "#     completion = complete(prompt)\n",
        "#     print_response(completion)"
      ]
    },
    {
      "cell_type": "code",
      "execution_count": 49,
      "id": "00cd2bc0",
      "metadata": {
        "id": "00cd2bc0"
      },
      "outputs": [],
      "source": [
        "# qa(query, df_small.iloc[indices[0][0]].text)"
      ]
    },
    {
      "cell_type": "code",
      "execution_count": 50,
      "id": "3aae63a3",
      "metadata": {
        "id": "3aae63a3"
      },
      "outputs": [],
      "source": [
        "# completion = complete(query)\n",
        "# print_response(completion)"
      ]
    },
    {
      "cell_type": "code",
      "execution_count": 51,
      "id": "d18061ff",
      "metadata": {
        "id": "d18061ff"
      },
      "outputs": [],
      "source": [
        "#"
      ]
    },
    {
      "cell_type": "code",
      "execution_count": 52,
      "id": "S0acXBWCxiJL",
      "metadata": {
        "id": "S0acXBWCxiJL"
      },
      "outputs": [],
      "source": [
        "#"
      ]
    },
    {
      "cell_type": "code",
      "execution_count": 53,
      "id": "oaG3igwFxiQU",
      "metadata": {
        "id": "oaG3igwFxiQU"
      },
      "outputs": [],
      "source": [
        "#"
      ]
    },
    {
      "cell_type": "code",
      "execution_count": 54,
      "id": "PzQJleyoxiWi",
      "metadata": {
        "id": "PzQJleyoxiWi"
      },
      "outputs": [],
      "source": [
        "#"
      ]
    },
    {
      "cell_type": "markdown",
      "id": "PFJd4PmsxjKb",
      "metadata": {
        "id": "PFJd4PmsxjKb"
      },
      "source": [
        "![](https://deeplearningcourses.com/notebooks_v3_pxl?sc=AVRK7SgM9ASkQf5TAqs_wA&n=Embeddings+and+RAG)"
      ]
    }
  ],
  "metadata": {
    "accelerator": "GPU",
    "colab": {
      "gpuType": "T4",
      "provenance": []
    },
    "kernelspec": {
      "display_name": "Python 3",
      "name": "python3"
    },
    "language_info": {
      "codemirror_mode": {
        "name": "ipython",
        "version": 3
      },
      "file_extension": ".py",
      "mimetype": "text/x-python",
      "name": "python",
      "nbconvert_exporter": "python",
      "pygments_lexer": "ipython3",
      "version": "3.10.12"
    },
    "sc": "AVRK7SgM9ASkQf5TAqs_wA"
  },
  "nbformat": 4,
  "nbformat_minor": 5
}