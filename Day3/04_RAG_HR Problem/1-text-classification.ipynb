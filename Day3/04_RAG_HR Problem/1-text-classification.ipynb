{
  "cells": [
    {
      "cell_type": "markdown",
      "id": "1efd4c2f-1bf7-41f6-808b-87f7ed693a27",
      "metadata": {
        "id": "1efd4c2f-1bf7-41f6-808b-87f7ed693a27"
      },
      "source": [
        "# Use Case 1: Classification with Text Embeddings\n"
      ]
    },
    {
      "cell_type": "markdown",
      "id": "b141b6ab-7790-4074-9d3a-28c721b66c9d",
      "metadata": {
        "id": "b141b6ab-7790-4074-9d3a-28c721b66c9d"
      },
      "source": [
        "### imports"
      ]
    },
    {
      "cell_type": "code",
      "source": [
        "import IPython\n",
        "import sys\n",
        "\n",
        "def clean_notebook():\n",
        "    IPython.display.clear_output(wait=True)\n",
        "    print(\"Notebook cleaned.\")\n",
        "\n",
        "# Run the installation commands\n",
        "\n",
        "!pip install openai\n",
        "!pip install gradio\n",
        "\n",
        "\n",
        "# Clean up the notebook\n",
        "clean_notebook()"
      ],
      "metadata": {
        "id": "TPuUFTrqXGbg",
        "outputId": "d63c1b53-06de-48fd-a6ea-922d3375ebfc",
        "colab": {
          "base_uri": "https://localhost:8080/"
        }
      },
      "id": "TPuUFTrqXGbg",
      "execution_count": 1,
      "outputs": [
        {
          "output_type": "stream",
          "name": "stdout",
          "text": [
            "Notebook cleaned.\n"
          ]
        }
      ]
    },
    {
      "cell_type": "code",
      "execution_count": 2,
      "id": "0070b3df-061b-4d8b-b983-ea70ebfb076c",
      "metadata": {
        "id": "0070b3df-061b-4d8b-b983-ea70ebfb076c"
      },
      "outputs": [],
      "source": [
        "import openai\n",
        "\n",
        "\n",
        "import pandas as pd\n",
        "import numpy as np\n",
        "import matplotlib.pyplot as plt\n",
        "\n",
        "from sklearn.decomposition import PCA\n",
        "from sklearn.ensemble import RandomForestClassifier\n",
        "from sklearn.metrics import roc_auc_score\n",
        "from sklearn.metrics import confusion_matrix, ConfusionMatrixDisplay"
      ]
    },
    {
      "cell_type": "markdown",
      "id": "c0652ce4-f2e4-4714-b29e-1bbb8d1e0484",
      "metadata": {
        "id": "c0652ce4-f2e4-4714-b29e-1bbb8d1e0484"
      },
      "source": [
        "### import data"
      ]
    },
    {
      "cell_type": "code",
      "source": [
        "\n",
        "# Corrected code to download the dataset\n",
        "!wget -nc https://raw.githubusercontent.com/Tuchsanai/AIMaster-seagate-training-2024/main/Dataset/resumes/resumes_train.csv\n",
        "\n"
      ],
      "metadata": {
        "id": "LcGHGopRWzT6",
        "outputId": "3c919bbc-f4f9-4b54-8709-66097bc6f6cc",
        "colab": {
          "base_uri": "https://localhost:8080/"
        }
      },
      "id": "LcGHGopRWzT6",
      "execution_count": 4,
      "outputs": [
        {
          "output_type": "stream",
          "name": "stdout",
          "text": [
            "--2024-06-03 04:36:23--  https://raw.githubusercontent.com/Tuchsanai/AIMaster-seagate-training-2024/main/Dataset/resumes/resumes_train.csv\n",
            "Resolving raw.githubusercontent.com (raw.githubusercontent.com)... 185.199.108.133, 185.199.109.133, 185.199.110.133, ...\n",
            "Connecting to raw.githubusercontent.com (raw.githubusercontent.com)|185.199.108.133|:443... connected.\n",
            "HTTP request sent, awaiting response... 200 OK\n",
            "Length: 180695 (176K) [text/plain]\n",
            "Saving to: ‘resumes_train.csv’\n",
            "\n",
            "\rresumes_train.csv     0%[                    ]       0  --.-KB/s               \rresumes_train.csv   100%[===================>] 176.46K  --.-KB/s    in 0.03s   \n",
            "\n",
            "2024-06-03 04:36:24 (5.48 MB/s) - ‘resumes_train.csv’ saved [180695/180695]\n",
            "\n"
          ]
        }
      ]
    },
    {
      "cell_type": "code",
      "execution_count": 6,
      "id": "987d8b90-d8c8-4cb4-8a20-a396d6c13c5c",
      "metadata": {
        "id": "987d8b90-d8c8-4cb4-8a20-a396d6c13c5c",
        "outputId": "2aab7f9c-4dae-48b6-c398-41cbd64a607c",
        "colab": {
          "base_uri": "https://localhost:8080/",
          "height": 423
        }
      },
      "outputs": [
        {
          "output_type": "execute_result",
          "data": {
            "text/plain": [
              "                                               resume  \\\n",
              "0   ### John Doe\\n\\n---\\n\\n#### Summary\\nDetail-or...   \n",
              "1   Creating a resume for a Data Scientist based o...   \n",
              "2   Creating a resume for a Data Scientist...\\n\\n-...   \n",
              "3   Creating a resume for a Data Scientist based o...   \n",
              "4   ## John Doe\\n\\n---\\n\\n### Summary:\\nData Scien...   \n",
              "..                                                ...   \n",
              "95  Sure, here is a randomly generated resume for ...   \n",
              "96  ---\\n**John Doe**\\nSummary:\\nDedicated and res...   \n",
              "97  ---\\n**Jane Doe**\\n---\\n\\n**Summary:**\\nDedica...   \n",
              "98  Certainly! Here is a randomly generated resume...   \n",
              "99  Certainly! Here is a randomly generated resume...   \n",
              "\n",
              "                                                 role  \n",
              "0                                      Data Scientist  \n",
              "1                                      Data Scientist  \n",
              "2                                      Data Scientist  \n",
              "3                                      Data Scientist  \n",
              "4                                      Data Scientist  \n",
              "..                                                ...  \n",
              "95  Generate a random resume, you decide the roles...  \n",
              "96  Generate a random resume, you decide the roles...  \n",
              "97  Generate a random resume, you decide the roles...  \n",
              "98  Generate a random resume, you decide the roles...  \n",
              "99  Generate a random resume, you decide the roles...  \n",
              "\n",
              "[100 rows x 2 columns]"
            ],
            "text/html": [
              "\n",
              "  <div id=\"df-f02883b8-4029-481e-913f-e58f4261677e\" class=\"colab-df-container\">\n",
              "    <div>\n",
              "<style scoped>\n",
              "    .dataframe tbody tr th:only-of-type {\n",
              "        vertical-align: middle;\n",
              "    }\n",
              "\n",
              "    .dataframe tbody tr th {\n",
              "        vertical-align: top;\n",
              "    }\n",
              "\n",
              "    .dataframe thead th {\n",
              "        text-align: right;\n",
              "    }\n",
              "</style>\n",
              "<table border=\"1\" class=\"dataframe\">\n",
              "  <thead>\n",
              "    <tr style=\"text-align: right;\">\n",
              "      <th></th>\n",
              "      <th>resume</th>\n",
              "      <th>role</th>\n",
              "    </tr>\n",
              "  </thead>\n",
              "  <tbody>\n",
              "    <tr>\n",
              "      <th>0</th>\n",
              "      <td>### John Doe\\n\\n---\\n\\n#### Summary\\nDetail-or...</td>\n",
              "      <td>Data Scientist</td>\n",
              "    </tr>\n",
              "    <tr>\n",
              "      <th>1</th>\n",
              "      <td>Creating a resume for a Data Scientist based o...</td>\n",
              "      <td>Data Scientist</td>\n",
              "    </tr>\n",
              "    <tr>\n",
              "      <th>2</th>\n",
              "      <td>Creating a resume for a Data Scientist...\\n\\n-...</td>\n",
              "      <td>Data Scientist</td>\n",
              "    </tr>\n",
              "    <tr>\n",
              "      <th>3</th>\n",
              "      <td>Creating a resume for a Data Scientist based o...</td>\n",
              "      <td>Data Scientist</td>\n",
              "    </tr>\n",
              "    <tr>\n",
              "      <th>4</th>\n",
              "      <td>## John Doe\\n\\n---\\n\\n### Summary:\\nData Scien...</td>\n",
              "      <td>Data Scientist</td>\n",
              "    </tr>\n",
              "    <tr>\n",
              "      <th>...</th>\n",
              "      <td>...</td>\n",
              "      <td>...</td>\n",
              "    </tr>\n",
              "    <tr>\n",
              "      <th>95</th>\n",
              "      <td>Sure, here is a randomly generated resume for ...</td>\n",
              "      <td>Generate a random resume, you decide the roles...</td>\n",
              "    </tr>\n",
              "    <tr>\n",
              "      <th>96</th>\n",
              "      <td>---\\n**John Doe**\\nSummary:\\nDedicated and res...</td>\n",
              "      <td>Generate a random resume, you decide the roles...</td>\n",
              "    </tr>\n",
              "    <tr>\n",
              "      <th>97</th>\n",
              "      <td>---\\n**Jane Doe**\\n---\\n\\n**Summary:**\\nDedica...</td>\n",
              "      <td>Generate a random resume, you decide the roles...</td>\n",
              "    </tr>\n",
              "    <tr>\n",
              "      <th>98</th>\n",
              "      <td>Certainly! Here is a randomly generated resume...</td>\n",
              "      <td>Generate a random resume, you decide the roles...</td>\n",
              "    </tr>\n",
              "    <tr>\n",
              "      <th>99</th>\n",
              "      <td>Certainly! Here is a randomly generated resume...</td>\n",
              "      <td>Generate a random resume, you decide the roles...</td>\n",
              "    </tr>\n",
              "  </tbody>\n",
              "</table>\n",
              "<p>100 rows × 2 columns</p>\n",
              "</div>\n",
              "    <div class=\"colab-df-buttons\">\n",
              "\n",
              "  <div class=\"colab-df-container\">\n",
              "    <button class=\"colab-df-convert\" onclick=\"convertToInteractive('df-f02883b8-4029-481e-913f-e58f4261677e')\"\n",
              "            title=\"Convert this dataframe to an interactive table.\"\n",
              "            style=\"display:none;\">\n",
              "\n",
              "  <svg xmlns=\"http://www.w3.org/2000/svg\" height=\"24px\" viewBox=\"0 -960 960 960\">\n",
              "    <path d=\"M120-120v-720h720v720H120Zm60-500h600v-160H180v160Zm220 220h160v-160H400v160Zm0 220h160v-160H400v160ZM180-400h160v-160H180v160Zm440 0h160v-160H620v160ZM180-180h160v-160H180v160Zm440 0h160v-160H620v160Z\"/>\n",
              "  </svg>\n",
              "    </button>\n",
              "\n",
              "  <style>\n",
              "    .colab-df-container {\n",
              "      display:flex;\n",
              "      gap: 12px;\n",
              "    }\n",
              "\n",
              "    .colab-df-convert {\n",
              "      background-color: #E8F0FE;\n",
              "      border: none;\n",
              "      border-radius: 50%;\n",
              "      cursor: pointer;\n",
              "      display: none;\n",
              "      fill: #1967D2;\n",
              "      height: 32px;\n",
              "      padding: 0 0 0 0;\n",
              "      width: 32px;\n",
              "    }\n",
              "\n",
              "    .colab-df-convert:hover {\n",
              "      background-color: #E2EBFA;\n",
              "      box-shadow: 0px 1px 2px rgba(60, 64, 67, 0.3), 0px 1px 3px 1px rgba(60, 64, 67, 0.15);\n",
              "      fill: #174EA6;\n",
              "    }\n",
              "\n",
              "    .colab-df-buttons div {\n",
              "      margin-bottom: 4px;\n",
              "    }\n",
              "\n",
              "    [theme=dark] .colab-df-convert {\n",
              "      background-color: #3B4455;\n",
              "      fill: #D2E3FC;\n",
              "    }\n",
              "\n",
              "    [theme=dark] .colab-df-convert:hover {\n",
              "      background-color: #434B5C;\n",
              "      box-shadow: 0px 1px 3px 1px rgba(0, 0, 0, 0.15);\n",
              "      filter: drop-shadow(0px 1px 2px rgba(0, 0, 0, 0.3));\n",
              "      fill: #FFFFFF;\n",
              "    }\n",
              "  </style>\n",
              "\n",
              "    <script>\n",
              "      const buttonEl =\n",
              "        document.querySelector('#df-f02883b8-4029-481e-913f-e58f4261677e button.colab-df-convert');\n",
              "      buttonEl.style.display =\n",
              "        google.colab.kernel.accessAllowed ? 'block' : 'none';\n",
              "\n",
              "      async function convertToInteractive(key) {\n",
              "        const element = document.querySelector('#df-f02883b8-4029-481e-913f-e58f4261677e');\n",
              "        const dataTable =\n",
              "          await google.colab.kernel.invokeFunction('convertToInteractive',\n",
              "                                                    [key], {});\n",
              "        if (!dataTable) return;\n",
              "\n",
              "        const docLinkHtml = 'Like what you see? Visit the ' +\n",
              "          '<a target=\"_blank\" href=https://colab.research.google.com/notebooks/data_table.ipynb>data table notebook</a>'\n",
              "          + ' to learn more about interactive tables.';\n",
              "        element.innerHTML = '';\n",
              "        dataTable['output_type'] = 'display_data';\n",
              "        await google.colab.output.renderOutput(dataTable, element);\n",
              "        const docLink = document.createElement('div');\n",
              "        docLink.innerHTML = docLinkHtml;\n",
              "        element.appendChild(docLink);\n",
              "      }\n",
              "    </script>\n",
              "  </div>\n",
              "\n",
              "\n",
              "<div id=\"df-0fe0a6f5-8cf9-422a-a36d-ebbe77e2aa54\">\n",
              "  <button class=\"colab-df-quickchart\" onclick=\"quickchart('df-0fe0a6f5-8cf9-422a-a36d-ebbe77e2aa54')\"\n",
              "            title=\"Suggest charts\"\n",
              "            style=\"display:none;\">\n",
              "\n",
              "<svg xmlns=\"http://www.w3.org/2000/svg\" height=\"24px\"viewBox=\"0 0 24 24\"\n",
              "     width=\"24px\">\n",
              "    <g>\n",
              "        <path d=\"M19 3H5c-1.1 0-2 .9-2 2v14c0 1.1.9 2 2 2h14c1.1 0 2-.9 2-2V5c0-1.1-.9-2-2-2zM9 17H7v-7h2v7zm4 0h-2V7h2v10zm4 0h-2v-4h2v4z\"/>\n",
              "    </g>\n",
              "</svg>\n",
              "  </button>\n",
              "\n",
              "<style>\n",
              "  .colab-df-quickchart {\n",
              "      --bg-color: #E8F0FE;\n",
              "      --fill-color: #1967D2;\n",
              "      --hover-bg-color: #E2EBFA;\n",
              "      --hover-fill-color: #174EA6;\n",
              "      --disabled-fill-color: #AAA;\n",
              "      --disabled-bg-color: #DDD;\n",
              "  }\n",
              "\n",
              "  [theme=dark] .colab-df-quickchart {\n",
              "      --bg-color: #3B4455;\n",
              "      --fill-color: #D2E3FC;\n",
              "      --hover-bg-color: #434B5C;\n",
              "      --hover-fill-color: #FFFFFF;\n",
              "      --disabled-bg-color: #3B4455;\n",
              "      --disabled-fill-color: #666;\n",
              "  }\n",
              "\n",
              "  .colab-df-quickchart {\n",
              "    background-color: var(--bg-color);\n",
              "    border: none;\n",
              "    border-radius: 50%;\n",
              "    cursor: pointer;\n",
              "    display: none;\n",
              "    fill: var(--fill-color);\n",
              "    height: 32px;\n",
              "    padding: 0;\n",
              "    width: 32px;\n",
              "  }\n",
              "\n",
              "  .colab-df-quickchart:hover {\n",
              "    background-color: var(--hover-bg-color);\n",
              "    box-shadow: 0 1px 2px rgba(60, 64, 67, 0.3), 0 1px 3px 1px rgba(60, 64, 67, 0.15);\n",
              "    fill: var(--button-hover-fill-color);\n",
              "  }\n",
              "\n",
              "  .colab-df-quickchart-complete:disabled,\n",
              "  .colab-df-quickchart-complete:disabled:hover {\n",
              "    background-color: var(--disabled-bg-color);\n",
              "    fill: var(--disabled-fill-color);\n",
              "    box-shadow: none;\n",
              "  }\n",
              "\n",
              "  .colab-df-spinner {\n",
              "    border: 2px solid var(--fill-color);\n",
              "    border-color: transparent;\n",
              "    border-bottom-color: var(--fill-color);\n",
              "    animation:\n",
              "      spin 1s steps(1) infinite;\n",
              "  }\n",
              "\n",
              "  @keyframes spin {\n",
              "    0% {\n",
              "      border-color: transparent;\n",
              "      border-bottom-color: var(--fill-color);\n",
              "      border-left-color: var(--fill-color);\n",
              "    }\n",
              "    20% {\n",
              "      border-color: transparent;\n",
              "      border-left-color: var(--fill-color);\n",
              "      border-top-color: var(--fill-color);\n",
              "    }\n",
              "    30% {\n",
              "      border-color: transparent;\n",
              "      border-left-color: var(--fill-color);\n",
              "      border-top-color: var(--fill-color);\n",
              "      border-right-color: var(--fill-color);\n",
              "    }\n",
              "    40% {\n",
              "      border-color: transparent;\n",
              "      border-right-color: var(--fill-color);\n",
              "      border-top-color: var(--fill-color);\n",
              "    }\n",
              "    60% {\n",
              "      border-color: transparent;\n",
              "      border-right-color: var(--fill-color);\n",
              "    }\n",
              "    80% {\n",
              "      border-color: transparent;\n",
              "      border-right-color: var(--fill-color);\n",
              "      border-bottom-color: var(--fill-color);\n",
              "    }\n",
              "    90% {\n",
              "      border-color: transparent;\n",
              "      border-bottom-color: var(--fill-color);\n",
              "    }\n",
              "  }\n",
              "</style>\n",
              "\n",
              "  <script>\n",
              "    async function quickchart(key) {\n",
              "      const quickchartButtonEl =\n",
              "        document.querySelector('#' + key + ' button');\n",
              "      quickchartButtonEl.disabled = true;  // To prevent multiple clicks.\n",
              "      quickchartButtonEl.classList.add('colab-df-spinner');\n",
              "      try {\n",
              "        const charts = await google.colab.kernel.invokeFunction(\n",
              "            'suggestCharts', [key], {});\n",
              "      } catch (error) {\n",
              "        console.error('Error during call to suggestCharts:', error);\n",
              "      }\n",
              "      quickchartButtonEl.classList.remove('colab-df-spinner');\n",
              "      quickchartButtonEl.classList.add('colab-df-quickchart-complete');\n",
              "    }\n",
              "    (() => {\n",
              "      let quickchartButtonEl =\n",
              "        document.querySelector('#df-0fe0a6f5-8cf9-422a-a36d-ebbe77e2aa54 button');\n",
              "      quickchartButtonEl.style.display =\n",
              "        google.colab.kernel.accessAllowed ? 'block' : 'none';\n",
              "    })();\n",
              "  </script>\n",
              "</div>\n",
              "    </div>\n",
              "  </div>\n"
            ],
            "application/vnd.google.colaboratory.intrinsic+json": {
              "type": "dataframe",
              "variable_name": "df_resume",
              "summary": "{\n  \"name\": \"df_resume\",\n  \"rows\": 100,\n  \"fields\": [\n    {\n      \"column\": \"resume\",\n      \"properties\": {\n        \"dtype\": \"string\",\n        \"num_unique_values\": 100,\n        \"samples\": [\n          \"**John Doe**\\n\\n---\\n\\n**Summary:**\\nDynamic and results-driven AI Consultant with a proven track record in leveraging artificial intelligence technologies to drive business growth. Skilled in developing innovative solutions, optimizing algorithms, and providing expert consultancy to clients. Strong knowledge of machine learning, deep learning, and natural language processing.\\n\\n---\\n\\n**Professional Experience:**\\n**AI Consultant**\\nXYZ Tech Solutions, Anytown\\n2018-present\\n- Led multiple AI projects from conception to delivery, resulting in a 20% increase in operational efficiency for clients.\\n- Implemented machine learning algorithms to automate data analysis processes, reducing manual efforts by 30%.\\n- Collaborated with cross-functional teams to identify business requirements and deliver custom AI solutions.\\n\\n**AI Specialist**\\nABC Consulting, Cityville\\n2015-2018\\n- Designed and implemented AI models for predictive analytics, leading to a 25% improvement in customer retention rates.\\n- Conducted AI workshops and training sessions for internal teams to enhance their understanding of AI technologies.\\n- Worked closely with clients to understand their AI needs and provide tailored solutions to meet their business objectives.\\n\\n---\\n\\n**Education:**\\nMaster of Science in Artificial Intelligence\\nUniversity of Technology, Cityville\\nGraduated: 2015\\n\\nBachelor of Engineering in Computer Science\\nUniversity of Technology, Cityville\\nGraduated: 2013\\n\\n---\\n\\n**Technical Skills:**\\n- Programming Languages: Python, Java, R\\n- Machine Learning: TensorFlow, Scikit-learn, Keras\\n- Natural Language Processing: NLTK, SpaCy\\n- Data Visualization: Tableau, matplotlib, seaborn\\n\\n---\\n\\n**Certifications:**\\n- Certified Artificial Intelligence Professional (CAIP)\\n- Machine Learning Certification from Coursera\\n\\n---\\n\\n**Awards and Honors:**\\n- Winner of the AI Innovation Award at the National Tech Conference (2019)\\n- Dean's List for Academic Excellence during Master's program\\n\\n---\\nThis is a mock resume generated for an AI Consultant.\",\n          \"### Resume\\n\\n---\\n\\n**Name:** [Your Name]\\n\\n**Summary:** \\nExperienced and detail-oriented Data Engineer with a strong background in data analytics, database management, and ETL processes. Skilled in designing and developing complex data pipelines to ensure the efficient flow of data and optimize data processes. Proficient in various programming languages and tools for data manipulation and analysis.\\n\\n**Professional Experience:**\\n- **Data Engineer** at XYZ Company\\n  - Developed scalable data pipelines for processing and analyzing large volumes of data.\\n  - Designed and implemented data models to support business intelligence and reporting requirements.\\n  - Collaborated with cross-functional teams to troubleshoot data-related issues and optimize data quality.\\n  \\n- **Junior Data Engineer** at ABC Corporation\\n  - Assisted in building and maintaining data pipelines to extract, transform, and load data into data warehouse.\\n  - Conducted data cleaning and transformation processes to ensure data accuracy and consistency.\\n  - Supported data analysts in creating reports and dashboards for business insights.\\n\\n**Education:**\\n- Bachelor's Degree in Computer Science, University of [Your University]\\n- Coursework in Data Management, Database Systems, and Data Analytics\\n\\n**Technical Skills:**\\n- Languages: SQL, Python, Java\\n- Databases: MySQL, PostgreSQL, MongoDB\\n- Big Data Technologies: Hadoop, Spark\\n- Tools: Apache Airflow, Tableau, Git\\n\\n**Certifications:**\\n- Certified Data Management Professional (CDMP)\\n- AWS Certified Big Data - Specialty\\n\\n**Awards and Honors:**\\n- Dean's List for Academic Excellence\\n\\n--- \\n\\nThis resume is a sample representation based on the input provided. Feel free to customize and adjust the content as needed.\",\n          \"Name: [Your Preferred Name]\\n\\nSummary: \\nDedicated and detail-oriented Machine Learning Engineer with a strong background in developing and implementing machine learning algorithms. Experienced in Python, TensorFlow, and scikit-learn. Adept at analyzing data, conducting research, and optimizing machine learning models for improved performance. Proven track record of delivering innovative solutions to complex problems.\\n\\nProfessional Experience:\\nMachine Learning Engineer\\nXYZ Tech Solutions, Anytown, USA\\n- Developed and implemented machine learning algorithms to analyze large datasets\\n- Conducted research to improve model accuracy and performance\\n- Collaborated with cross-functional teams to integrate machine learning models into production systems\\n- Optimized algorithms for scalability and efficiency\\n\\nData Scientist Intern\\nABC Data Analytics, Somewhere City, USA\\n- Assisted in analyzing and interpreting data to extract valuable insights\\n- Worked on data cleaning, preprocessing, and feature engineering tasks\\n- Developed data visualization tools to communicate findings effectively\\n- Participated in team meetings and contributed ideas for project improvement\\n\\nEducation:\\nMaster of Science in Computer Science\\nUniversity of Technology, Anytown, USA\\n- Specialization in Machine Learning and Artificial Intelligence\\n\\nBachelor of Science in Computer Science\\nCollege of Engineering, Somewhere City, USA\\n- Minor in Mathematics\\n\\nTechnical Skills:\\n- Programming Languages: Python, Java, R\\n- Machine Learning Frameworks: TensorFlow, scikit-learn, Keras\\n- Data Analysis Tools: Pandas, NumPy, Matplotlib\\n- Database Management: SQL, MongoDB\\n- Version Control: Git, GitHub\\n\\nCertifications:\\n- Certified Machine Learning Engineer (CMLE)\\n- TensorFlow Developer Certificate\\n\\nAwards and Honors:\\n- Dean's List for academic excellence\\n- Best Project Award for a machine learning project at University Tech Fair\\n- Recognition for outstanding contribution to a team project at XYZ Tech Solutions\"\n        ],\n        \"semantic_type\": \"\",\n        \"description\": \"\"\n      }\n    },\n    {\n      \"column\": \"role\",\n      \"properties\": {\n        \"dtype\": \"category\",\n        \"num_unique_values\": 6,\n        \"samples\": [\n          \"Data Scientist\",\n          \"Data Engineer\",\n          \"Generate a random resume, you decide the roles and industry.\"\n        ],\n        \"semantic_type\": \"\",\n        \"description\": \"\"\n      }\n    }\n  ]\n}"
            }
          },
          "metadata": {},
          "execution_count": 6
        }
      ],
      "source": [
        "df_resume = pd.read_csv('./resumes_train.csv')\n",
        "df_resume"
      ]
    },
    {
      "cell_type": "code",
      "source": [
        "df_resume['role'].value_counts()"
      ],
      "metadata": {
        "id": "nFVjf9AQZbtJ",
        "outputId": "20b9bd32-e09a-4f4e-a678-30c135d8b478",
        "colab": {
          "base_uri": "https://localhost:8080/"
        }
      },
      "id": "nFVjf9AQZbtJ",
      "execution_count": 14,
      "outputs": [
        {
          "output_type": "execute_result",
          "data": {
            "text/plain": [
              "role\n",
              "Data Scientist                                                  40\n",
              "Data Engineer                                                   20\n",
              "Machine Learning Engineer                                       20\n",
              "AI Consultant                                                   10\n",
              "Data Entrepreneur                                                5\n",
              "Generate a random resume, you decide the roles and industry.     5\n",
              "Name: count, dtype: int64"
            ]
          },
          "metadata": {},
          "execution_count": 14
        }
      ]
    },
    {
      "cell_type": "markdown",
      "id": "881f9155-338b-4b36-a997-f89ee347e9bc",
      "metadata": {
        "id": "881f9155-338b-4b36-a997-f89ee347e9bc"
      },
      "source": [
        "### generate text embeddings"
      ]
    },
    {
      "cell_type": "code",
      "source": [
        "from IPython.display import Markdown, display\n",
        "\n",
        "idx = 3\n",
        "display(Markdown(\"role = \"+df_resume.loc[idx, \"role\"]))\n",
        "display(Markdown(\"====================================\"))\n",
        "display(Markdown(df_resume.loc[idx, \"resume\"]))\n",
        "\n",
        "\n"
      ],
      "metadata": {
        "id": "Qml_Wan6Y2l-",
        "outputId": "16e79c00-1ac2-4786-8e32-176a62278a48",
        "colab": {
          "base_uri": "https://localhost:8080/",
          "height": 914
        }
      },
      "id": "Qml_Wan6Y2l-",
      "execution_count": 12,
      "outputs": [
        {
          "output_type": "display_data",
          "data": {
            "text/plain": [
              "<IPython.core.display.Markdown object>"
            ],
            "text/markdown": "role = Data Scientist"
          },
          "metadata": {}
        },
        {
          "output_type": "display_data",
          "data": {
            "text/plain": [
              "<IPython.core.display.Markdown object>"
            ],
            "text/markdown": "===================================="
          },
          "metadata": {}
        },
        {
          "output_type": "display_data",
          "data": {
            "text/plain": [
              "<IPython.core.display.Markdown object>"
            ],
            "text/markdown": "Creating a resume for a Data Scientist based on the given information...\n\n---\n\n**John Doe**\n\n---\n\n**Summary:**\nDetail-oriented Data Scientist with a strong background in statistical analysis, machine learning, and data visualization. Experienced in deriving actionable insights from complex datasets to drive business decisions. Proficient in programming languages such as Python, R, and SQL.\n\n---\n\n**Professional Experience:**\n\n**Data Scientist**  \nABC Company  \nJanuary 2018 - Present  \n- Applied machine learning algorithms to analyze and interpret large datasets, leading to a 20% increase in revenue  \n- Developed predictive models for customer segmentation, enhancing targeted marketing strategies  \n- Collaborated with cross-functional teams to optimize data collection processes and improve data quality  \n\n**Data Analyst**  \nXYZ Corporation  \nJune 2015 - December 2017  \n- Conducted in-depth statistical analysis to identify trends and patterns in customer behavior  \n- Created interactive data visualizations to communicate complex findings to stakeholders  \n- Implemented data cleaning and preprocessing techniques to ensure data accuracy and integrity  \n\n---\n\n**Education:**\n\n**Master of Science in Data Science**  \nUniversity of Applied Sciences  \nGraduated: May 2015  \n\n**Bachelor of Science in Statistics**  \nState University  \nGraduated: May 2013  \n\n---\n\n**Technical Skills:**\n- Programming Languages: Python, R, SQL  \n- Data Visualization: Tableau, matplotlib, ggplot2  \n- Machine Learning: Scikit-learn, TensorFlow, Keras  \n- Database Management: MySQL, MongoDB  \n- Statistical Analysis: Hypothesis testing, Regression analysis, Time series analysis  \n\n---\n\n**Certifications:**\n- Certified Data Scientist (CDS)  \n- Machine Learning Certification from Coursera  \n\n---\n\n**Awards and Honors:**\n- Dean's List for academic excellence  \n- Outstanding Performance Award for contributions to data analytics projects  \n\n---\n\nThis resume is a fictional representation created by ResumeGenerator. It showcases the typical profile of a Data Scientist with expertise in statistical analysis, machine learning, and data visualization."
          },
          "metadata": {}
        }
      ]
    },
    {
      "cell_type": "code",
      "source": [
        "\n",
        "idx = 7\n",
        "display(Markdown(\"role = \"+df_resume.loc[idx, \"role\"]))\n",
        "display(Markdown(\"====================================\"))\n",
        "display(Markdown(df_resume.loc[idx, \"resume\"]))"
      ],
      "metadata": {
        "id": "lsoFJQcZZX-0",
        "outputId": "e07a0d12-4b7d-48b9-b442-e3c841ba3c2b",
        "colab": {
          "base_uri": "https://localhost:8080/",
          "height": 972
        }
      },
      "id": "lsoFJQcZZX-0",
      "execution_count": 13,
      "outputs": [
        {
          "output_type": "display_data",
          "data": {
            "text/plain": [
              "<IPython.core.display.Markdown object>"
            ],
            "text/markdown": "role = Data Scientist"
          },
          "metadata": {}
        },
        {
          "output_type": "display_data",
          "data": {
            "text/plain": [
              "<IPython.core.display.Markdown object>"
            ],
            "text/markdown": "===================================="
          },
          "metadata": {}
        },
        {
          "output_type": "display_data",
          "data": {
            "text/plain": [
              "<IPython.core.display.Markdown object>"
            ],
            "text/markdown": "Generating a resume for a Data Scientist...\n\n---\n\n**John Doe**\n\n---\n\n**Summary:**\n\nHighly skilled and experienced Data Scientist with a strong background in analyzing complex data sets to drive meaningful insights and decision-making. Proficient in machine learning algorithms, data visualization techniques, and statistical modeling. Adept at developing predictive models and optimizing data processing workflows to enhance business operations.\n\n---\n\n**Professional Experience:**\n\n**Data Scientist**  \nXYZ Tech Company, Anytown, USA  \nJanuary 2018 - Present\n- Conduct data analysis to identify trends, patterns, and correlations in large datasets\n- Develop predictive models using machine learning algorithms to optimize business processes\n- Collaborate with cross-functional teams to interpret data and provide actionable insights\n- Communicate findings to non-technical stakeholders through data visualization tools\n\n**Data Analyst Intern**  \nABC Solutions, Anytown, USA  \nJune 2017 - December 2017\n- Assisted in cleaning and preparing data for analysis\n- Conducted statistical analysis to support decision-making processes\n- Developed automated reports and dashboards to track key performance indicators\n\n---\n\n**Education:**\n\n**Master of Science in Data Science**  \nUniversity of Data Science, Anytown, USA  \nGraduated: May 2017\n\n**Bachelor of Science in Statistics**  \nAnytown University, Anytown, USA  \nGraduated: May 2015\n\n---\n\n**Technical Skills:**\n\n- Python\n- R\n- SQL\n- Machine Learning\n- Data Visualization (Tableau, Power BI)\n- Statistical Modeling\n\n---\n\n**Certifications:**\n\n- Certified Data Scientist (CDS)\n- AWS Certified Big Data - Specialty\n\n---\n\n**Awards and Honors:**\n\n- Dean's List, University of Data Science\n- Outstanding Data Analysis Project, Anytown University\n\n---\n\nThis resume is a fictional representation created by ResumeGenerator."
          },
          "metadata": {}
        }
      ]
    },
    {
      "cell_type": "code",
      "execution_count": null,
      "id": "7f62d4de-be3f-4545-985d-4e4806221f65",
      "metadata": {
        "id": "7f62d4de-be3f-4545-985d-4e4806221f65"
      },
      "outputs": [],
      "source": [
        "def generate_embeddings(text, my_sk):\n",
        "    # set credentials\n",
        "    client = openai.OpenAI(api_key = my_sk)\n",
        "\n",
        "    # make api call\n",
        "    response = client.embeddings.create(\n",
        "        input=text,\n",
        "        model=\"text-embedding-3-small\"\n",
        "    )\n",
        "\n",
        "    # return text embedding\n",
        "    return response.data"
      ]
    },
    {
      "cell_type": "code",
      "execution_count": null,
      "id": "1edc47bd-5680-4473-bc33-4a5a0657accc",
      "metadata": {
        "id": "1edc47bd-5680-4473-bc33-4a5a0657accc"
      },
      "outputs": [],
      "source": [
        "# generate embeddings\n",
        "text_embeddings = generate_embeddings(df_resume['resume'], my_sk)\n",
        "# extract embeddings\n",
        "text_embedding_list = [text_embeddings[i].embedding for i in range(len(text_embeddings))]"
      ]
    },
    {
      "cell_type": "markdown",
      "id": "14401a75-cd40-443d-b8dd-7758c3e90604",
      "metadata": {
        "id": "14401a75-cd40-443d-b8dd-7758c3e90604"
      },
      "source": [
        "### Store embeddings in df"
      ]
    },
    {
      "cell_type": "code",
      "execution_count": null,
      "id": "5f64f4a0-35eb-4c7c-9c67-71c4577f484b",
      "metadata": {
        "id": "5f64f4a0-35eb-4c7c-9c67-71c4577f484b",
        "outputId": "dfd52c42-722e-4420-ac35-1aafccd7b265"
      },
      "outputs": [
        {
          "data": {
            "text/html": [
              "<div>\n",
              "<style scoped>\n",
              "    .dataframe tbody tr th:only-of-type {\n",
              "        vertical-align: middle;\n",
              "    }\n",
              "\n",
              "    .dataframe tbody tr th {\n",
              "        vertical-align: top;\n",
              "    }\n",
              "\n",
              "    .dataframe thead th {\n",
              "        text-align: right;\n",
              "    }\n",
              "</style>\n",
              "<table border=\"1\" class=\"dataframe\">\n",
              "  <thead>\n",
              "    <tr style=\"text-align: right;\">\n",
              "      <th></th>\n",
              "      <th>embedding_0</th>\n",
              "      <th>embedding_1</th>\n",
              "      <th>embedding_2</th>\n",
              "      <th>embedding_3</th>\n",
              "      <th>embedding_4</th>\n",
              "      <th>embedding_5</th>\n",
              "      <th>embedding_6</th>\n",
              "      <th>embedding_7</th>\n",
              "      <th>embedding_8</th>\n",
              "      <th>embedding_9</th>\n",
              "      <th>...</th>\n",
              "      <th>embedding_1527</th>\n",
              "      <th>embedding_1528</th>\n",
              "      <th>embedding_1529</th>\n",
              "      <th>embedding_1530</th>\n",
              "      <th>embedding_1531</th>\n",
              "      <th>embedding_1532</th>\n",
              "      <th>embedding_1533</th>\n",
              "      <th>embedding_1534</th>\n",
              "      <th>embedding_1535</th>\n",
              "      <th>is_data_scientist</th>\n",
              "    </tr>\n",
              "  </thead>\n",
              "  <tbody>\n",
              "    <tr>\n",
              "      <th>0</th>\n",
              "      <td>0.011933</td>\n",
              "      <td>0.010847</td>\n",
              "      <td>0.044104</td>\n",
              "      <td>0.023064</td>\n",
              "      <td>0.034498</td>\n",
              "      <td>0.000129</td>\n",
              "      <td>-0.020570</td>\n",
              "      <td>0.034843</td>\n",
              "      <td>-0.023768</td>\n",
              "      <td>-0.000556</td>\n",
              "      <td>...</td>\n",
              "      <td>0.043363</td>\n",
              "      <td>-0.029806</td>\n",
              "      <td>0.016483</td>\n",
              "      <td>0.001631</td>\n",
              "      <td>0.017533</td>\n",
              "      <td>0.010816</td>\n",
              "      <td>-0.037288</td>\n",
              "      <td>0.011057</td>\n",
              "      <td>0.001679</td>\n",
              "      <td>True</td>\n",
              "    </tr>\n",
              "    <tr>\n",
              "      <th>1</th>\n",
              "      <td>0.005887</td>\n",
              "      <td>0.030654</td>\n",
              "      <td>0.032117</td>\n",
              "      <td>-0.006901</td>\n",
              "      <td>0.008575</td>\n",
              "      <td>-0.034895</td>\n",
              "      <td>-0.015005</td>\n",
              "      <td>0.053421</td>\n",
              "      <td>-0.018737</td>\n",
              "      <td>0.012431</td>\n",
              "      <td>...</td>\n",
              "      <td>0.020039</td>\n",
              "      <td>-0.010435</td>\n",
              "      <td>0.012983</td>\n",
              "      <td>-0.008693</td>\n",
              "      <td>-0.003131</td>\n",
              "      <td>0.004374</td>\n",
              "      <td>-0.025161</td>\n",
              "      <td>0.033382</td>\n",
              "      <td>0.003277</td>\n",
              "      <td>True</td>\n",
              "    </tr>\n",
              "    <tr>\n",
              "      <th>2</th>\n",
              "      <td>0.008211</td>\n",
              "      <td>0.016624</td>\n",
              "      <td>0.029623</td>\n",
              "      <td>0.011863</td>\n",
              "      <td>0.014980</td>\n",
              "      <td>-0.028498</td>\n",
              "      <td>-0.011717</td>\n",
              "      <td>0.048397</td>\n",
              "      <td>-0.035791</td>\n",
              "      <td>0.019032</td>\n",
              "      <td>...</td>\n",
              "      <td>0.019437</td>\n",
              "      <td>0.000441</td>\n",
              "      <td>0.018672</td>\n",
              "      <td>0.001213</td>\n",
              "      <td>-0.001257</td>\n",
              "      <td>0.004882</td>\n",
              "      <td>-0.022735</td>\n",
              "      <td>0.022960</td>\n",
              "      <td>0.004629</td>\n",
              "      <td>True</td>\n",
              "    </tr>\n",
              "    <tr>\n",
              "      <th>3</th>\n",
              "      <td>0.000980</td>\n",
              "      <td>0.022212</td>\n",
              "      <td>0.049778</td>\n",
              "      <td>0.009431</td>\n",
              "      <td>0.015012</td>\n",
              "      <td>-0.034424</td>\n",
              "      <td>-0.012995</td>\n",
              "      <td>0.058286</td>\n",
              "      <td>-0.031759</td>\n",
              "      <td>0.034229</td>\n",
              "      <td>...</td>\n",
              "      <td>0.020476</td>\n",
              "      <td>-0.012872</td>\n",
              "      <td>0.025500</td>\n",
              "      <td>-0.002258</td>\n",
              "      <td>0.012567</td>\n",
              "      <td>0.000316</td>\n",
              "      <td>-0.032371</td>\n",
              "      <td>0.030463</td>\n",
              "      <td>0.008802</td>\n",
              "      <td>True</td>\n",
              "    </tr>\n",
              "    <tr>\n",
              "      <th>4</th>\n",
              "      <td>0.019266</td>\n",
              "      <td>0.003695</td>\n",
              "      <td>0.035332</td>\n",
              "      <td>0.021370</td>\n",
              "      <td>0.037020</td>\n",
              "      <td>-0.022668</td>\n",
              "      <td>-0.023764</td>\n",
              "      <td>0.061641</td>\n",
              "      <td>-0.019442</td>\n",
              "      <td>-0.005267</td>\n",
              "      <td>...</td>\n",
              "      <td>0.023764</td>\n",
              "      <td>-0.006754</td>\n",
              "      <td>0.031400</td>\n",
              "      <td>0.008064</td>\n",
              "      <td>0.017729</td>\n",
              "      <td>0.024810</td>\n",
              "      <td>-0.041002</td>\n",
              "      <td>0.031274</td>\n",
              "      <td>0.000356</td>\n",
              "      <td>True</td>\n",
              "    </tr>\n",
              "  </tbody>\n",
              "</table>\n",
              "<p>5 rows × 1537 columns</p>\n",
              "</div>"
            ],
            "text/plain": [
              "   embedding_0  embedding_1  embedding_2  embedding_3  embedding_4  \\\n",
              "0     0.011933     0.010847     0.044104     0.023064     0.034498   \n",
              "1     0.005887     0.030654     0.032117    -0.006901     0.008575   \n",
              "2     0.008211     0.016624     0.029623     0.011863     0.014980   \n",
              "3     0.000980     0.022212     0.049778     0.009431     0.015012   \n",
              "4     0.019266     0.003695     0.035332     0.021370     0.037020   \n",
              "\n",
              "   embedding_5  embedding_6  embedding_7  embedding_8  embedding_9  ...  \\\n",
              "0     0.000129    -0.020570     0.034843    -0.023768    -0.000556  ...   \n",
              "1    -0.034895    -0.015005     0.053421    -0.018737     0.012431  ...   \n",
              "2    -0.028498    -0.011717     0.048397    -0.035791     0.019032  ...   \n",
              "3    -0.034424    -0.012995     0.058286    -0.031759     0.034229  ...   \n",
              "4    -0.022668    -0.023764     0.061641    -0.019442    -0.005267  ...   \n",
              "\n",
              "   embedding_1527  embedding_1528  embedding_1529  embedding_1530  \\\n",
              "0        0.043363       -0.029806        0.016483        0.001631   \n",
              "1        0.020039       -0.010435        0.012983       -0.008693   \n",
              "2        0.019437        0.000441        0.018672        0.001213   \n",
              "3        0.020476       -0.012872        0.025500       -0.002258   \n",
              "4        0.023764       -0.006754        0.031400        0.008064   \n",
              "\n",
              "   embedding_1531  embedding_1532  embedding_1533  embedding_1534  \\\n",
              "0        0.017533        0.010816       -0.037288        0.011057   \n",
              "1       -0.003131        0.004374       -0.025161        0.033382   \n",
              "2       -0.001257        0.004882       -0.022735        0.022960   \n",
              "3        0.012567        0.000316       -0.032371        0.030463   \n",
              "4        0.017729        0.024810       -0.041002        0.031274   \n",
              "\n",
              "   embedding_1535  is_data_scientist  \n",
              "0        0.001679               True  \n",
              "1        0.003277               True  \n",
              "2        0.004629               True  \n",
              "3        0.008802               True  \n",
              "4        0.000356               True  \n",
              "\n",
              "[5 rows x 1537 columns]"
            ]
          },
          "execution_count": 5,
          "metadata": {},
          "output_type": "execute_result"
        }
      ],
      "source": [
        "# define df column names\n",
        "column_names = [\"embedding_\" + str(i) for i in range(len(text_embedding_list[0]))]\n",
        "\n",
        "# store text embeddings in dataframe\n",
        "df_train = pd.DataFrame(text_embedding_list, columns=column_names)\n",
        "\n",
        "# create target variable\n",
        "df_train['is_data_scientist'] = df_resume['role']==\"Data Scientist\"\n",
        "df_train.to_csv('resumes/embeddings_train.csv', index=False)\n",
        "df_train.head()"
      ]
    },
    {
      "cell_type": "markdown",
      "id": "5c476426-c66d-4eba-9173-658e255c19c5",
      "metadata": {
        "id": "5c476426-c66d-4eba-9173-658e255c19c5"
      },
      "source": [
        "### Visualize embeddings with PCA"
      ]
    },
    {
      "cell_type": "code",
      "execution_count": null,
      "id": "44152c61-5a3c-4ed5-a433-8f10c08097c4",
      "metadata": {
        "id": "44152c61-5a3c-4ed5-a433-8f10c08097c4",
        "outputId": "9501e05a-9ddf-4305-9116-e2664ef78298"
      },
      "outputs": [
        {
          "name": "stdout",
          "output_type": "stream",
          "text": [
            "[0.1393931  0.11353098]\n"
          ]
        }
      ],
      "source": [
        "# split variables by predictors and target\n",
        "X = df_train.iloc[:,:-1]\n",
        "y = df_train.iloc[:,-1]\n",
        "\n",
        "# apply PCA to predictors (i.e. embeddings)\n",
        "pca = PCA(n_components=2).fit(X)\n",
        "print(pca.explained_variance_ratio_)"
      ]
    },
    {
      "cell_type": "code",
      "execution_count": null,
      "id": "ec24693f-480a-4844-9198-90989e41325d",
      "metadata": {
        "id": "ec24693f-480a-4844-9198-90989e41325d",
        "outputId": "d74fe4ea-f48f-4e50-b15d-d474c98ddec7"
      },
      "outputs": [
        {
          "data": {
            "image/png": "[encoded data removed]",
            "text/plain": [
              "<Figure size 576x432 with 1 Axes>"
            ]
          },
          "metadata": {
            "needs_background": "light"
          },
          "output_type": "display_data"
        }
      ],
      "source": [
        "# plot data along PCA components\n",
        "c_arr = np.array([\"k\"] * len(y))\n",
        "c_arr[y] = \"r\"\n",
        "\n",
        "plt.figure(figsize=(8, 6))\n",
        "plt.rcParams.update({'font.size': 16})\n",
        "plt.scatter(pca.transform(X)[:,0], pca.transform(X)[:,1], c=c_arr)\n",
        "plt.legend([\"Data Scientist\"])\n",
        "plt.xticks(rotation = 45)\n",
        "plt.xlabel(\"PC 1\")\n",
        "plt.ylabel(\"PC 2\")\n",
        "plt.show()"
      ]
    },
    {
      "cell_type": "markdown",
      "id": "77fc00e9-4596-474f-a001-dc249fc13c94",
      "metadata": {
        "id": "77fc00e9-4596-474f-a001-dc249fc13c94"
      },
      "source": [
        "### Train Random Forest Model"
      ]
    },
    {
      "cell_type": "code",
      "execution_count": null,
      "id": "d7fb9932-6844-4b33-a8cc-5c830e02655d",
      "metadata": {
        "id": "d7fb9932-6844-4b33-a8cc-5c830e02655d",
        "outputId": "fc84c785-23f6-48da-b448-a0bb76371690"
      },
      "outputs": [
        {
          "data": {
            "text/plain": [
              "1.0"
            ]
          },
          "execution_count": 8,
          "metadata": {},
          "output_type": "execute_result"
        }
      ],
      "source": [
        "# train rf model\n",
        "clf = RandomForestClassifier(max_depth=2, random_state=0).fit(X, y)\n",
        "clf.score(X,y) # model accuracy for training data"
      ]
    },
    {
      "cell_type": "code",
      "execution_count": null,
      "id": "a4cf55c0-a82c-4edf-9a35-191d8a30e6d2",
      "metadata": {
        "id": "a4cf55c0-a82c-4edf-9a35-191d8a30e6d2",
        "outputId": "dd63c6db-b7be-43fa-e637-194db4269448"
      },
      "outputs": [
        {
          "data": {
            "text/plain": [
              "1.0"
            ]
          },
          "execution_count": 9,
          "metadata": {},
          "output_type": "execute_result"
        }
      ],
      "source": [
        "# AUC value for training data\n",
        "auc_val = roc_auc_score(y, clf.predict_proba(X)[:,1])\n",
        "auc_val"
      ]
    },
    {
      "cell_type": "code",
      "execution_count": null,
      "id": "5bdf5532-c32d-41d8-aa38-cc7f88f5edc0",
      "metadata": {
        "id": "5bdf5532-c32d-41d8-aa38-cc7f88f5edc0",
        "outputId": "372ed988-34bd-4dae-bc3e-e55b67acb036"
      },
      "outputs": [
        {
          "name": "stdout",
          "output_type": "stream",
          "text": [
            "embedding_786     0.039140\n",
            "embedding_500     0.034219\n",
            "embedding_464     0.030155\n",
            "embedding_1135    0.025598\n",
            "embedding_72      0.025091\n",
            "embedding_914     0.023709\n",
            "embedding_792     0.021633\n",
            "embedding_291     0.021493\n",
            "embedding_1129    0.019163\n",
            "embedding_725     0.019160\n",
            "embedding_526     0.018982\n",
            "embedding_863     0.018442\n",
            "embedding_181     0.017756\n",
            "embedding_162     0.016688\n",
            "embedding_294     0.016686\n",
            "embedding_1020    0.014972\n",
            "embedding_639     0.014808\n",
            "embedding_630     0.014567\n",
            "embedding_1357    0.014073\n",
            "embedding_129     0.013136\n",
            "embedding_99      0.012933\n",
            "embedding_1199    0.012847\n",
            "embedding_229     0.012758\n",
            "embedding_571     0.012290\n",
            "embedding_173     0.011248\n",
            "dtype: float64\n"
          ]
        }
      ],
      "source": [
        "# print feature importance ranking\n",
        "feature_importances = pd.Series(clf.feature_importances_, index=column_names)\n",
        "feature_importances_sorted = feature_importances.sort_values(ascending=False)\n",
        "print(feature_importances_sorted[:25])"
      ]
    },
    {
      "cell_type": "code",
      "execution_count": null,
      "id": "045b06c7-3594-498e-a258-be5de1fe6e37",
      "metadata": {
        "id": "045b06c7-3594-498e-a258-be5de1fe6e37",
        "outputId": "3b4609d6-83f7-454a-d460-bd4f04d58f6d"
      },
      "outputs": [
        {
          "data": {
            "image/png": "[encoded data removed]",
            "text/plain": [
              "<Figure size 576x432 with 1 Axes>"
            ]
          },
          "metadata": {
            "needs_background": "light"
          },
          "output_type": "display_data"
        }
      ],
      "source": [
        "# plot data along top 2 most important features\n",
        "plt.figure(figsize=(8, 6))\n",
        "plt.rcParams.update({'font.size': 16})\n",
        "plt.scatter(X[feature_importances_sorted.index[0]], X[feature_importances_sorted.index[1]], c=c_arr)\n",
        "plt.legend([\"Data Scientist\"])\n",
        "plt.xticks(rotation = 45)\n",
        "plt.xlabel(feature_importances_sorted.index[0])\n",
        "plt.ylabel(feature_importances_sorted.index[1])\n",
        "plt.show()"
      ]
    },
    {
      "cell_type": "markdown",
      "id": "a9b50186-3b23-40b1-a4c9-0d2a5b0aaf67",
      "metadata": {
        "id": "a9b50186-3b23-40b1-a4c9-0d2a5b0aaf67"
      },
      "source": [
        "#### evaluate model on testing data"
      ]
    },
    {
      "cell_type": "code",
      "execution_count": null,
      "id": "225b526a-e612-491a-a7d4-2deb7a956bdb",
      "metadata": {
        "id": "225b526a-e612-491a-a7d4-2deb7a956bdb"
      },
      "outputs": [],
      "source": [
        "# import testing data\n",
        "df_resume = pd.read_csv('resumes/resumes_test.csv')\n",
        "\n",
        "# generate embeddings\n",
        "text_embedding_list = generate_embeddings(df_resume['resume'], my_sk)\n",
        "text_embedding_list = [text_embedding_list[i].embedding for i in range(len(text_embedding_list))]\n",
        "\n",
        "# store text embeddings in dataframe\n",
        "df_test = pd.DataFrame(text_embedding_list, columns=column_names)\n",
        "\n",
        "# create target variable\n",
        "df_test['is_data_scientist'] = df_resume['role']==\"Data Scientist\"\n",
        "df_test.to_csv('resumes/embeddings_test.csv', index=False)\n",
        "df_test.head()\n",
        "\n",
        "# define predictors and target\n",
        "X_test = df_test.iloc[:,:-1]\n",
        "y_test = df_test.iloc[:,-1]"
      ]
    },
    {
      "cell_type": "code",
      "execution_count": null,
      "id": "80bffc9f-5545-41ab-99a4-0d7e4497a22d",
      "metadata": {
        "id": "80bffc9f-5545-41ab-99a4-0d7e4497a22d",
        "outputId": "71e5f2b2-80b0-40da-f5bf-9752280610fb"
      },
      "outputs": [
        {
          "data": {
            "text/plain": [
              "0.98"
            ]
          },
          "execution_count": 13,
          "metadata": {},
          "output_type": "execute_result"
        }
      ],
      "source": [
        "# accuracy\n",
        "clf.score(X_test,y_test)"
      ]
    },
    {
      "cell_type": "code",
      "execution_count": null,
      "id": "ab772336-e4fd-468e-83ec-78d300c85779",
      "metadata": {
        "id": "ab772336-e4fd-468e-83ec-78d300c85779",
        "outputId": "31b47c72-2cc9-4ddf-bcc5-6ee00735a1c2"
      },
      "outputs": [
        {
          "data": {
            "text/plain": [
              "0.9983333333333333"
            ]
          },
          "execution_count": 14,
          "metadata": {},
          "output_type": "execute_result"
        }
      ],
      "source": [
        "# auc\n",
        "auc_val = roc_auc_score(y_test, clf.predict_proba(X_test)[:,1])\n",
        "auc_val"
      ]
    },
    {
      "cell_type": "code",
      "execution_count": null,
      "id": "921efb6f-101e-490a-88be-0ab3e9651568",
      "metadata": {
        "id": "921efb6f-101e-490a-88be-0ab3e9651568",
        "outputId": "b26dc680-a4ea-4de9-b183-be9f6afd67f0"
      },
      "outputs": [
        {
          "data": {
            "text/plain": [
              "<sklearn.metrics._plot.confusion_matrix.ConfusionMatrixDisplay at 0x7fa99582ce20>"
            ]
          },
          "execution_count": 15,
          "metadata": {},
          "output_type": "execute_result"
        },
        {
          "data": {
            "image/png": "[encoded data removed]",
            "text/plain": [
              "<Figure size 432x288 with 2 Axes>"
            ]
          },
          "metadata": {
            "needs_background": "light"
          },
          "output_type": "display_data"
        }
      ],
      "source": [
        "cm = confusion_matrix(y_test, clf.predict(X_test), labels=clf.classes_)\n",
        "disp = ConfusionMatrixDisplay(confusion_matrix=cm,\n",
        "                              display_labels=clf.classes_)\n",
        "disp.plot()"
      ]
    },
    {
      "cell_type": "code",
      "execution_count": null,
      "id": "777e70fc-2bca-432f-9ea6-a17ce5f6eada",
      "metadata": {
        "id": "777e70fc-2bca-432f-9ea6-a17ce5f6eada",
        "outputId": "c25c7865-d7c0-4c33-bda2-eaaeeb3d4c01"
      },
      "outputs": [
        {
          "name": "stdout",
          "output_type": "stream",
          "text": [
            "I. **Name:** John Smith\n",
            "\n",
            "II. **Summary:**\n",
            "A highly skilled Data Scientist with a strong background in statistical analysis and machine learning. Experienced in interpreting and analyzing complex data sets to drive business decisions and strategies. Proven ability to develop predictive models and algorithms to solve challenging problems.\n",
            "\n",
            "III. **Professional Experience:**\n",
            "1. *Data Scientist* at Tech Innovations Inc., San Francisco, CA\n",
            "   - Developed machine learning models to optimize marketing strategies, resulting in a 15% increase in conversions.\n",
            "   - Conducted in-depth data analysis to identify trends and insights for product development.\n",
            "\n",
            "2. *Senior Data Analyst* at Data Solutions Co., New York, NY\n",
            "   - Led a team to automate data collection processes, saving over 100 man-hours per month.\n",
            "   - Collaborated with cross-functional teams to provide data-driven solutions for various business challenges.\n",
            "\n",
            "IV. **Education:**\n",
            "- *Master of Science in Data Science*, University of California, Berkeley\n",
            "- *Bachelor of Science in Statistics*, Stanford University\n",
            "\n",
            "V. **Technical Skills:**\n",
            "- Programming Languages: Python, R, SQL\n",
            "- Machine Learning: Regression, Classification, Clustering, Neural Networks\n",
            "- Data Visualization: Tableau, Matplotlib, seaborn\n",
            "- Big Data Technologies: Hadoop, Spark\n",
            "\n",
            "VI. **Certifications:**\n",
            "- Certified Machine Learning Engineer (CMLE)\n",
            "- AWS Certified Big Data - Specialty\n",
            "\n",
            "VII. **Awards and Honors:**\n",
            "- Dean's List, University of California, Berkeley\n",
            "- Outstanding Performance Award, Tech Innovations Inc.\n"
          ]
        }
      ],
      "source": [
        "# look at errors\n",
        "df_errors = df_resume[y_test != clf.predict(X_test)]\n",
        "print(df_errors.iloc[0,0])"
      ]
    },
    {
      "cell_type": "code",
      "execution_count": null,
      "id": "61e7ff24-611f-4335-be95-f5b340639b42",
      "metadata": {
        "id": "61e7ff24-611f-4335-be95-f5b340639b42"
      },
      "outputs": [],
      "source": []
    }
  ],
  "metadata": {
    "kernelspec": {
      "display_name": "Python 3",
      "language": "python",
      "name": "python3"
    },
    "language_info": {
      "codemirror_mode": {
        "name": "ipython",
        "version": 3
      },
      "file_extension": ".py",
      "mimetype": "text/x-python",
      "name": "python",
      "nbconvert_exporter": "python",
      "pygments_lexer": "ipython3",
      "version": "3.9.19"
    },
    "colab": {
      "provenance": []
    }
  },
  "nbformat": 4,
  "nbformat_minor": 5
}