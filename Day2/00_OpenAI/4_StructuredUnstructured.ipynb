{
  "cells": [
    {
      "cell_type": "code",
      "execution_count": 3,
      "id": "4a519f49",
      "metadata": {},
      "outputs": [
        {
          "name": "stdout",
          "output_type": "stream",
          "text": [
            "Notebook cleaned.\n"
          ]
        }
      ],
      "source": [
        "import IPython\n",
        "import sys\n",
        "\n",
        "def clean_notebook():\n",
        "    IPython.display.clear_output(wait=True)\n",
        "    print(\"Notebook cleaned.\")\n",
        "\n",
        "!pip install openai\n",
        "!pip install gradio\n",
        "\n",
        "# Clean up the notebook\n",
        "clean_notebook()"
      ]
    },
    {
      "cell_type": "code",
      "execution_count": 13,
      "id": "bbd67cf9",
      "metadata": {},
      "outputs": [],
      "source": [
        "\n",
        "import openai\n",
        "openai.api_key = \"code\""
      ]
    },
    {
      "cell_type": "code",
      "execution_count": 5,
      "id": "b4e402e1",
      "metadata": {},
      "outputs": [],
      "source": [
        "system_prompt = \"You are an assistant that writes concise, detailed, \" +\\\n",
        "    \"and factual quarterly earnings reports given structured data.\""
      ]
    },
    {
      "cell_type": "code",
      "execution_count": 6,
      "id": "6c3c067d",
      "metadata": {},
      "outputs": [],
      "source": [
        "def complete(user_prompt):\n",
        "    completion =openai.chat.completions.create(\n",
        "        model='gpt-3.5-turbo',\n",
        "        messages=[\n",
        "            {\"role\": \"system\", \"content\": system_prompt},\n",
        "            {\"role\": \"user\", \"content\": user_prompt},\n",
        "        ],\n",
        "        temperature=0,\n",
        "        # max_tokens=200, # don't limit output length!\n",
        "    )\n",
        "    return completion"
      ]
    },
    {
      "cell_type": "code",
      "execution_count": 7,
      "id": "e93dbcfb",
      "metadata": {},
      "outputs": [],
      "source": [
        "import json\n",
        "\n",
        "j = {'CEO': 'Tim Cook',\n",
        " 'CFO': 'Luca Maestri',\n",
        " 'company': 'Apple',\n",
        " 'dividend_payable_date': 'November 16, 2023',\n",
        " 'dividend_per_share': '$0.24',\n",
        " 'dividend_record_date': 'November 13, 2023',\n",
        " 'earnings_call_date': 'November 2, 2023',\n",
        " 'earnings_call_time': '2:00 p.m. PT',\n",
        " 'earnings_call_webcast': 'apple.com/investor/earnings-call',\n",
        " 'earnings_per_share': '$1.46',\n",
        " 'earnings_per_share_change_year_over_year': '13%',\n",
        " 'fiscal_year': 2023,\n",
        " 'quarter': 'Q4',\n",
        " 'quarterly_revenue': '$89.5 billion',\n",
        " 'revenue_change_year_over_year': '-1%'}"
      ]
    },
    {
      "cell_type": "code",
      "execution_count": 12,
      "id": "7acde9f2",
      "metadata": {},
      "outputs": [
        {
          "data": {
            "text/markdown": [
              "{\"CEO\": \"Tim Cook\", \"CFO\": \"Luca Maestri\", \"company\": \"Apple\", \"dividend_payable_date\": \"November 16, 2023\", \"dividend_per_share\": \"$0.24\", \"dividend_record_date\": \"November 13, 2023\", \"earnings_call_date\": \"November 2, 2023\", \"earnings_call_time\": \"2:00 p.m. PT\", \"earnings_call_webcast\": \"apple.com/investor/earnings-call\", \"earnings_per_share\": \"$1.46\", \"earnings_per_share_change_year_over_year\": \"13%\", \"fiscal_year\": 2023, \"quarter\": \"Q4\", \"quarterly_revenue\": \"$89.5 billion\", \"revenue_change_year_over_year\": \"-1%\"}"
            ],
            "text/plain": [
              "<IPython.core.display.Markdown object>"
            ]
          },
          "execution_count": 12,
          "metadata": {},
          "output_type": "execute_result"
        }
      ],
      "source": [
        "js = json.dumps(j)\n",
        "\n",
        "\n",
        "IPython.display.Markdown(js )"
      ]
    },
    {
      "cell_type": "code",
      "execution_count": 11,
      "id": "7baff82b",
      "metadata": {},
      "outputs": [
        {
          "data": {
            "text/markdown": [
              "**Apple Inc. Quarterly Earnings Report - Q4 2023**\n",
              "\n",
              "- **Company:** Apple Inc.\n",
              "- **Fiscal Year:** 2023\n",
              "- **Quarter:** Q4\n",
              "- **CEO:** Tim Cook\n",
              "- **CFO:** Luca Maestri\n",
              "\n",
              "**Financial Highlights:**\n",
              "- **Quarterly Revenue:** $89.5 billion\n",
              "- **Revenue Change Year Over Year:** -1%\n",
              "- **Earnings Per Share (EPS):** $1.46\n",
              "- **EPS Change Year Over Year:** 13%\n",
              "\n",
              "**Important Dates:**\n",
              "- **Earnings Call Date:** November 2, 2023\n",
              "- **Earnings Call Time:** 2:00 p.m. PT\n",
              "- **Earnings Call Webcast:** [apple.com/investor/earnings-call](apple.com/investor/earnings-call)\n",
              "- **Dividend Record Date:** November 13, 2023\n",
              "- **Dividend Payable Date:** November 16, 2023\n",
              "- **Dividend Per Share:** $0.24\n",
              "\n",
              "This quarter, Apple Inc. reported a quarterly revenue of $89.5 billion, with a slight decrease of 1% year over year. The earnings per share stood at $1.46, showing a positive growth of 13% compared to the same quarter last year.\n",
              "\n",
              "Shareholders are encouraged to participate in the upcoming earnings call scheduled for November 2, 2023, at 2:00 p.m. PT. The dividend record date is set for November 13, 2023, with a dividend payable date of November 16, 2023, at $0.24 per share.\n",
              "\n",
              "For more detailed financial information and insights, please refer to the official earnings call webcast at [apple.com/investor/earnings-call](apple.com/investor/earnings-call).\n",
              "\n",
              "This concludes the quarterly earnings report for Apple Inc. in Q4 2023."
            ],
            "text/plain": [
              "<IPython.core.display.Markdown object>"
            ]
          },
          "execution_count": 11,
          "metadata": {},
          "output_type": "execute_result"
        }
      ],
      "source": [
        "prompt = f\"\"\"Please convert the following JSON document enclosed in \\\n",
        "triple backticks into a quarterly earnings report suitable for \\\n",
        "shareholders.\\n\\n\\\n",
        "```\n",
        "{js}\n",
        "```\n",
        "\"\"\"\n",
        "\n",
        "\n",
        "completion = complete(prompt)\n",
        "IPython.display.Markdown(completion.choices[0].message.content )"
      ]
    },
    {
      "cell_type": "code",
      "execution_count": null,
      "metadata": {
        "id": "PzQJleyoxiWi"
      },
      "outputs": [],
      "source": []
    },
    {
      "cell_type": "markdown",
      "metadata": {
        "id": "PFJd4PmsxjKb"
      },
      "source": [
        "![](https://deeplearningcourses.com/notebooks_v3_pxl?sc=AVRK7SgM9ASkQf5TAqs_wA&n=Structured+%3E+Unstructured)"
      ]
    }
  ],
  "metadata": {
    "kernelspec": {
      "display_name": "Python 3 (ipykernel)",
      "language": "python",
      "name": "python3"
    },
    "language_info": {
      "codemirror_mode": {
        "name": "ipython",
        "version": 3
      },
      "file_extension": ".py",
      "mimetype": "text/x-python",
      "name": "python",
      "nbconvert_exporter": "python",
      "pygments_lexer": "ipython3",
      "version": "3.10.13"
    },
    "sc": "AVRK7SgM9ASkQf5TAqs_wA"
  },
  "nbformat": 4,
  "nbformat_minor": 5
}
