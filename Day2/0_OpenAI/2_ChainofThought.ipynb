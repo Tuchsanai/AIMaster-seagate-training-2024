{
  "cells": [
    {
      "cell_type": "code",
      "execution_count": 1,
      "id": "a3ac1393",
      "metadata": {},
      "outputs": [
        {
          "name": "stdout",
          "output_type": "stream",
          "text": [
            "Notebook cleaned.\n"
          ]
        }
      ],
      "source": [
        "import IPython\n",
        "import sys\n",
        "\n",
        "def clean_notebook():\n",
        "    IPython.display.clear_output(wait=True)\n",
        "    print(\"Notebook cleaned.\")\n",
        "\n",
        "!pip install openai\n",
        "!pip install gradio\n",
        "\n",
        "# Clean up the notebook\n",
        "clean_notebook()"
      ]
    },
    {
      "cell_type": "code",
      "execution_count": 8,
      "id": "6b28faaa",
      "metadata": {},
      "outputs": [],
      "source": [
        "\n",
        "import openai\n",
        "openai.api_key = \"code\""
      ]
    },
    {
      "cell_type": "code",
      "execution_count": 3,
      "id": "cff94b35",
      "metadata": {},
      "outputs": [],
      "source": [
        "def complete(user_prompt, max_tokens=300):\n",
        "    completion = openai.chat.completions.create(\n",
        "        model='gpt-3.5-turbo',\n",
        "        messages=[\n",
        "            {\"role\": \"user\", \"content\": user_prompt},\n",
        "        ],\n",
        "        temperature=0,\n",
        "        max_tokens=max_tokens,\n",
        "    )\n",
        "    return completion"
      ]
    },
    {
      "cell_type": "code",
      "execution_count": 4,
      "id": "ad7f2bb4",
      "metadata": {},
      "outputs": [],
      "source": [
        "\n",
        "prompt = \"\"\"ฉันไปที่ตลาดและซื้อแอปเปิ้ล 10 ผล \\\n",
        "ฉันให้แอปเปิ้ล 2 ผลกับเพื่อนบ้าน และอีก 2 ผลกับช่างซ่อม \\\n",
        "หลังจากนั้น ฉันซื้อแอปเปิ้ลเพิ่มอีก 5 ผล และกินไป 1 ผล \\\n",
        "ตอนนี้ฉันมีแอปเปิ้ลกี่ผล\"\"\""
      ]
    },
    {
      "cell_type": "code",
      "execution_count": 12,
      "id": "7847e538",
      "metadata": {},
      "outputs": [
        {
          "data": {
            "text/markdown": [
              "ฉันมีแอปเปิ้ลทั้งหมด 14 ผล ครับ/ค่ะ\n",
              "\n",
              "10 ผล (ที่ซื้อมาเริ่มต้น) + 2 ผล (ที่แจกให้เพื่อนบ้าน) + 2 ผล (ที่แจกให้ช่างซ่อม) + 5 ผล (ที่ซื้อเพิ่ม) - 1 ผล (ที่กินไป) = 14 ผล"
            ],
            "text/plain": [
              "<IPython.core.display.Markdown object>"
            ]
          },
          "execution_count": 12,
          "metadata": {},
          "output_type": "execute_result"
        }
      ],
      "source": [
        "completion = complete(prompt)\n",
        "IPython.display.Markdown(completion.choices[0].message.content )"
      ]
    },
    {
      "cell_type": "code",
      "execution_count": 13,
      "id": "c067a209",
      "metadata": {},
      "outputs": [],
      "source": [
        "prompt = \"\"\"นักขว้างลูกบอลคนหนึ่งสามารถขว้างลูกบอลได้ 16 ลูก \\\n",
        "ครึ่งหนึ่งของลูกบอลเป็นลูกกอล์ฟ และครึ่งหนึ่งของลูกกอล์ฟเป็นสีน้ำเงิน \\\n",
        "มีลูกกอล์ฟสีน้ำเงินกี่ลูก\"\"\""
      ]
    },
    {
      "cell_type": "code",
      "execution_count": 14,
      "id": "19aca0fb",
      "metadata": {},
      "outputs": [
        {
          "data": {
            "text/markdown": [
              "นักขว้างลูกบอลสามารถขว้างลูกบอลได้ 16 ลูก ครึ่งหนึ่งของลูกบอลเป็นลูกกอล์ฟ ฉะนั้นจะมี 8 ลูกกอล์ฟ และครึ่งหนึ่งของลูกกอล์ฟเป็นสีน้ำเงิน ดังนั้นจะมี 4 ลูกกอล์ฟสีน้ำเงิน ในท้ายที่ขว้างลูกบอลได้ 16 ลูก"
            ],
            "text/plain": [
              "<IPython.core.display.Markdown object>"
            ]
          },
          "execution_count": 14,
          "metadata": {},
          "output_type": "execute_result"
        }
      ],
      "source": [
        "completion = complete(prompt)\n",
        "IPython.display.Markdown(completion.choices[0].message.content )"
      ]
    },
    {
      "cell_type": "code",
      "execution_count": 5,
      "id": "71dad84c",
      "metadata": {},
      "outputs": [],
      "source": [
        "# from https://arxiv.org/pdf/2201.11903.pdf\n",
        "# in the paper, standard prompt gets wrong answer\n",
        "# while CoT prompt gets right answer\n",
        "# they used GPT-3 / PaLM / a few others\n",
        "# (not instruction fine-tuned)\n",
        "prompt = \"\"\"โรงอาหารมีแอปเปิ้ล 23 ผล ถ้าพวกเขาใช้ 20 ผลในการ \\\n",
        "ทำอาหารกลางวัน และซื้อเพิ่มอีก 6 ผล \\\n",
        "พวกเขาจะมีแอปเปิ้ลกี่ผล\"\"\""
      ]
    },
    {
      "cell_type": "code",
      "execution_count": 6,
      "id": "ac900e19",
      "metadata": {},
      "outputs": [
        {
          "data": {
            "text/markdown": [
              "พวกเขาจะมีแอปเปิ้ลทั้งหมด 29 ผล ครับ/ค่ะ  เพราะพวกเขาใช้ 20 ผล ในการทำอาหารกลางวันและซื้อเพิ่มอีก 6 ผล ดังนั้น 20 + 6 = 26 ผล ครับ/ค่ะ."
            ],
            "text/plain": [
              "<IPython.core.display.Markdown object>"
            ]
          },
          "execution_count": 6,
          "metadata": {},
          "output_type": "execute_result"
        }
      ],
      "source": [
        "completion = complete(prompt,200)\n",
        "IPython.display.Markdown(completion.choices[0].message.content )"
      ]
    },
    {
      "cell_type": "code",
      "execution_count": 18,
      "id": "6b1b26eb",
      "metadata": {},
      "outputs": [],
      "source": [
        "prompt = \"\"\"เทรซี่ใช้ลวดยาว 4 ฟุตในการ \\\n",
        "ค้ำยันต้นมะเขือเทศในสวน ลวดถูกตัดเป็น \\\n",
        "ชิ้นๆ ยาวชิ้นละ 6 นิ้ว เธอจะได้ลวดกี่ชิ้น\"\"\""
      ]
    },
    {
      "cell_type": "code",
      "execution_count": 7,
      "id": "8d53c299",
      "metadata": {},
      "outputs": [
        {
          "data": {
            "text/markdown": [
              "พวกเขาจะมีแอปเปิ้ลทั้งหมด 29 ผล ครับ/ค่ะ  เพราะพวกเขาใช้ 20 ผล ในการทำอาหารกลางวันและซื้อเพิ่มอีก 6 ผล ดังนั้น 20 + 6 = 26 ผล ครับ/ค่ะ  ดังนั้นพวกเขาจะมีแอปเปิ้ลทั้งหมด 29 ผล ครับ/ค่ะ."
            ],
            "text/plain": [
              "<IPython.core.display.Markdown object>"
            ]
          },
          "execution_count": 7,
          "metadata": {},
          "output_type": "execute_result"
        }
      ],
      "source": [
        "completion = complete(prompt,200)\n",
        "IPython.display.Markdown(completion.choices[0].message.content )"
      ]
    },
    {
      "cell_type": "code",
      "execution_count": 20,
      "id": "3bdf2e1e",
      "metadata": {},
      "outputs": [],
      "source": [
        "prompt = \"\"\"เครื่องบินเร่งความเร็วบนรันเวย์ที่ \\\n",
        "3.20 เมตร/วินาที^2 เป็นเวลา 32.8 วินาที จนกระทั่งขึ้นจากพื้น \\\n",
        "จงหาระยะทางที่เครื่องบินเคลื่อนที่ก่อนขึ้นบิน\"\"\""
      ]
    },
    {
      "cell_type": "code",
      "execution_count": 21,
      "id": "a97a22a7",
      "metadata": {},
      "outputs": [
        {
          "data": {
            "text/markdown": [
              "เริ่มจากสูตรความเร่งเฉลี่ย:\n",
              "a = (v - u) / t\n",
              "\n",
              "เมื่อ\n",
              "a = 3.20 เมตร/วินาที^2 (ความเร่ง)\n",
              "u = 0 เมตร/วินาที (ความเร็วเริ่มต้น)\n",
              "t = 32.8 วินาที (เวลา)\n",
              "\n",
              "จะได้\n",
              "3.20 = (v - 0) / 32.8\n",
              "3.20 * 32.8 = v\n",
              "104.96 = v\n",
              "\n",
              "ดังนั้น ความเร็วของเครื่องบินเมื่อขึ้นจากพื้นคือ 104.96 เมตร/วินาที\n",
              "\n",
              "หากต้องการหาระยะทางที่เครื่องบินเคลื่อนที่ก่อนขึ้นบิน ให้ใช้สูตร:\n",
              "s = ut + (1/2)at^2\n",
              "\n",
              "เมื่อ\n",
              "u = 0 เม"
            ],
            "text/plain": [
              "<IPython.core.display.Markdown object>"
            ]
          },
          "execution_count": 21,
          "metadata": {},
          "output_type": "execute_result"
        }
      ],
      "source": [
        "completion = complete(prompt)\n",
        "IPython.display.Markdown(completion.choices[0].message.content )"
      ]
    },
    {
      "cell_type": "code",
      "execution_count": 22,
      "id": "11dcc489",
      "metadata": {},
      "outputs": [
        {
          "data": {
            "text/markdown": [
              "เราสามารถแก้สมการได้ดังนี้\n",
              "\n",
              "2^(x - 5) = 3^(x+1)\n",
              "\n",
              "เริ่มจากเขียน 2 และ 3 ในรูปของฐานเดียวกันได้ดังนี้\n",
              "\n",
              "2^(x - 5) = (2^(log2(3)))^(x+1)\n",
              "\n",
              "2^(x - 5) = 2^(log2(3)*(x+1))\n",
              "\n",
              "x - 5 = log2(3)*(x+1)\n",
              "\n",
              "x - 5 = x*log2(3) + log2(3)\n",
              "\n",
              "x - x*log2(3) = log2(3) + 5\n",
              "\n",
              "x(1 - log2(3)) = log2(3) + 5\n",
              "\n",
              "x = (log2(3) + 5) / (1 - log2(3))\n",
              "\n",
              "x ≈ -1.709"
            ],
            "text/plain": [
              "<IPython.core.display.Markdown object>"
            ]
          },
          "execution_count": 22,
          "metadata": {},
          "output_type": "execute_result"
        }
      ],
      "source": [
        "prompt = \"\"\"2^(x - 5) = 3^(x+1) จงแก้สมการหาค่า x\"\"\"\n",
        "completion = complete(prompt, max_tokens=500)\n",
        "IPython.display.Markdown(completion.choices[0].message.content )"
      ]
    },
    {
      "cell_type": "code",
      "execution_count": null,
      "id": "57d342fb",
      "metadata": {},
      "outputs": [],
      "source": []
    },
    {
      "cell_type": "code",
      "execution_count": null,
      "metadata": {
        "id": "S0acXBWCxiJL"
      },
      "outputs": [],
      "source": []
    },
    {
      "cell_type": "code",
      "execution_count": null,
      "metadata": {
        "id": "oaG3igwFxiQU"
      },
      "outputs": [],
      "source": []
    },
    {
      "cell_type": "code",
      "execution_count": null,
      "metadata": {
        "id": "PzQJleyoxiWi"
      },
      "outputs": [],
      "source": []
    },
    {
      "cell_type": "markdown",
      "metadata": {
        "id": "PFJd4PmsxjKb"
      },
      "source": [
        "![](https://deeplearningcourses.com/notebooks_v3_pxl?sc=AVRK7SgM9ASkQf5TAqs_wA&n=Chain+of+Thought)"
      ]
    }
  ],
  "metadata": {
    "kernelspec": {
      "display_name": "Python 3 (ipykernel)",
      "language": "python",
      "name": "python3"
    },
    "language_info": {
      "codemirror_mode": {
        "name": "ipython",
        "version": 3
      },
      "file_extension": ".py",
      "mimetype": "text/x-python",
      "name": "python",
      "nbconvert_exporter": "python",
      "pygments_lexer": "ipython3",
      "version": "3.10.13"
    },
    "sc": "AVRK7SgM9ASkQf5TAqs_wA"
  },
  "nbformat": 4,
  "nbformat_minor": 5
}
