{
  "cells": [
    {
      "cell_type": "code",
      "execution_count": 1,
      "id": "5d7c4913",
      "metadata": {},
      "outputs": [
        {
          "name": "stdout",
          "output_type": "stream",
          "text": [
            "Notebook cleaned.\n"
          ]
        }
      ],
      "source": [
        "import IPython\n",
        "import sys\n",
        "\n",
        "def clean_notebook():\n",
        "    IPython.display.clear_output(wait=True)\n",
        "    print(\"Notebook cleaned.\")\n",
        "\n",
        "!pip install openai\n",
        "!pip install gradio\n",
        "\n",
        "# Clean up the notebook\n",
        "clean_notebook()"
      ]
    },
    {
      "cell_type": "code",
      "execution_count": 12,
      "id": "53dac25e",
      "metadata": {},
      "outputs": [],
      "source": [
        "\n",
        "import openai\n",
        "openai.api_key = \"code\""
      ]
    },
    {
      "cell_type": "code",
      "execution_count": 3,
      "id": "86716e02",
      "metadata": {},
      "outputs": [],
      "source": [
        "system_prompt = \"You are an assistant that returns only JSON \" +\\\n",
        "    \"objects with the requested information.\""
      ]
    },
    {
      "cell_type": "code",
      "execution_count": 4,
      "id": "325cfcf9",
      "metadata": {},
      "outputs": [],
      "source": [
        "def complete(user_prompt):\n",
        "    completion = openai.chat.completions.create(\n",
        "        model='gpt-3.5-turbo',\n",
        "        messages=[\n",
        "            {\"role\": \"system\", \"content\": system_prompt},\n",
        "            {\"role\": \"user\", \"content\": user_prompt},\n",
        "        ],\n",
        "        temperature=0,\n",
        "        max_tokens=400,\n",
        "    )\n",
        "    return completion"
      ]
    },
    {
      "cell_type": "code",
      "execution_count": 5,
      "id": "65137945",
      "metadata": {},
      "outputs": [],
      "source": [
        "prompt = \"Please return a JSON object about Albert Einstein. \" + \\\n",
        "    \"Include full name, birth date, date of death (if applicable), \" +\\\n",
        "    \"and list of accomplishments.\""
      ]
    },
    {
      "cell_type": "code",
      "execution_count": 13,
      "id": "23ed890f",
      "metadata": {},
      "outputs": [
        {
          "name": "stdout",
          "output_type": "stream",
          "text": [
            "{\n",
            "    \"full_name\": \"Albert Einstein\",\n",
            "    \"birth_date\": \"March 14, 1879\",\n",
            "    \"date_of_death\": \"April 18, 1955\",\n",
            "    \"accomplishments\": [\n",
            "        \"Developed the theory of relativity\",\n",
            "        \"Received the Nobel Prize in Physics in 1921\",\n",
            "        \"Made significant contributions to quantum mechanics and cosmology\",\n",
            "        \"Published over 300 scientific papers\"\n",
            "    ]\n",
            "}\n"
          ]
        }
      ],
      "source": [
        "completion = complete(prompt)\n",
        "print(completion.choices[0].message.content)"
      ]
    },
    {
      "cell_type": "code",
      "execution_count": 8,
      "id": "33f8116b",
      "metadata": {},
      "outputs": [],
      "source": [
        "\n",
        "\n",
        "report = '''CUPERTINO, CALIFORNIA Apple today announced financial \\\n",
        "results for its fiscal 2023 fourth quarter ended September 30, 2023. \\\n",
        "The Company posted quarterly revenue of $89.5 billion, down 1 percent \\\n",
        "year over year, and quarterly earnings per diluted share of $1.46, \\\n",
        "up 13 percent year over year. \\\n",
        "\n",
        "“Today Apple is pleased to report a September quarter revenue record for \\\n",
        "iPhone and an all-time revenue record in Services,” said Tim Cook, \\\n",
        "Apple’s CEO. “We now have our strongest lineup of products ever heading \\\n",
        "into the holiday season, including the iPhone 15 lineup and our first \\\n",
        "carbon neutral Apple Watch models, a major milestone in our efforts to \\\n",
        "make all Apple products carbon neutral by 2030.” \\\n",
        "\n",
        "“Our active installed base of devices has again reached a new all-time \\\n",
        "high across all products and all geographic segments, thanks to the strength \\\n",
        "of our ecosystem and unparalleled customer loyalty,” said Luca Maestri, \\\n",
        "Apple’s CFO. “During the September quarter, our business performance drove \\\n",
        "double digit EPS growth and we returned nearly $25 billion to our \\\n",
        "shareholders, while continuing to invest in our long-term growth plans.” \\\n",
        "\n",
        "Apple’s board of directors has declared a cash dividend of $0.24 per share \\\n",
        "of the Company’s common stock. The dividend is payable on November 16, 2023 \\\n",
        "to shareholders of record as of the close of business on November 13, 2023. \\\n",
        "\n",
        "Apple will provide live streaming of its Q4 2023 financial results conference \\\n",
        "call beginning at 2:00 p.m. PT on November 2, 2023 at \\\n",
        "apple.com/investor/earnings-call. The webcast will be available for replay \\\n",
        "for approximately two weeks thereafter.\n",
        "'''"
      ]
    },
    {
      "cell_type": "code",
      "execution_count": 9,
      "id": "ea15d1df",
      "metadata": {},
      "outputs": [],
      "source": [
        "prompt = f\"\"\"Please pull all the important information from \\\n",
        "the below quarterly earnings report, enclosed in \\\n",
        "triple backticks. Return the result as a JSON.\\n\\n\\\n",
        "```\n",
        "{report}\n",
        "```\n",
        "\"\"\""
      ]
    },
    {
      "cell_type": "code",
      "execution_count": 10,
      "id": "340851e6",
      "metadata": {},
      "outputs": [
        {
          "data": {
            "text/markdown": [
              "Please pull all the important information from the below quarterly earnings report, enclosed in triple backticks. Return the result as a JSON.\n",
              "\n",
              "```\n",
              "CUPERTINO, CALIFORNIA Apple today announced financial results for its fiscal 2023 fourth quarter ended September 30, 2023. The Company posted quarterly revenue of $89.5 billion, down 1 percent year over year, and quarterly earnings per diluted share of $1.46, up 13 percent year over year. \n",
              "“Today Apple is pleased to report a September quarter revenue record for iPhone and an all-time revenue record in Services,” said Tim Cook, Apple’s CEO. “We now have our strongest lineup of products ever heading into the holiday season, including the iPhone 15 lineup and our first carbon neutral Apple Watch models, a major milestone in our efforts to make all Apple products carbon neutral by 2030.” \n",
              "“Our active installed base of devices has again reached a new all-time high across all products and all geographic segments, thanks to the strength of our ecosystem and unparalleled customer loyalty,” said Luca Maestri, Apple’s CFO. “During the September quarter, our business performance drove double digit EPS growth and we returned nearly $25 billion to our shareholders, while continuing to invest in our long-term growth plans.” \n",
              "Apple’s board of directors has declared a cash dividend of $0.24 per share of the Company’s common stock. The dividend is payable on November 16, 2023 to shareholders of record as of the close of business on November 13, 2023. \n",
              "Apple will provide live streaming of its Q4 2023 financial results conference call beginning at 2:00 p.m. PT on November 2, 2023 at apple.com/investor/earnings-call. The webcast will be available for replay for approximately two weeks thereafter.\n",
              "\n",
              "```\n"
            ],
            "text/plain": [
              "<IPython.core.display.Markdown object>"
            ]
          },
          "execution_count": 10,
          "metadata": {},
          "output_type": "execute_result"
        }
      ],
      "source": [
        "IPython.display.Markdown(prompt )"
      ]
    },
    {
      "cell_type": "code",
      "execution_count": 11,
      "id": "91ba8bb8",
      "metadata": {},
      "outputs": [
        {
          "data": {
            "text/markdown": [
              "{\n",
              "    \"company\": \"Apple\",\n",
              "    \"fiscal_year\": 2023,\n",
              "    \"quarter\": \"Q4\",\n",
              "    \"quarterly_revenue\": \"$89.5 billion\",\n",
              "    \"revenue_change\": \"-1%\",\n",
              "    \"earnings_per_share\": \"$1.46\",\n",
              "    \"eps_change\": \"13%\",\n",
              "    \"dividend_per_share\": \"$0.24\",\n",
              "    \"dividend_payable_date\": \"November 16, 2023\",\n",
              "    \"dividend_record_date\": \"November 13, 2023\",\n",
              "    \"dividend_announcement\": \"Apple’s board of directors has declared a cash dividend of $0.24 per share of the Company’s common stock.\",\n",
              "    \"CEO\": \"Tim Cook\",\n",
              "    \"CFO\": \"Luca Maestri\",\n",
              "    \"products_mentioned\": [\"iPhone 15 lineup\", \"carbon neutral Apple Watch models\"],\n",
              "    \"future_goal\": \"Make all Apple products carbon neutral by 2030\",\n",
              "    \"shareholder_return\": \"$25 billion\",\n",
              "    \"earnings_call_date\": \"November 2, 2023\",\n",
              "    \"earnings_call_time\": \"2:00 p.m. PT\",\n",
              "    \"earnings_call_webcast\": \"apple.com/investor/earnings-call\"\n",
              "}"
            ],
            "text/plain": [
              "<IPython.core.display.Markdown object>"
            ]
          },
          "execution_count": 11,
          "metadata": {},
          "output_type": "execute_result"
        }
      ],
      "source": [
        "completion = complete(prompt)\n",
        "IPython.display.Markdown(completion.choices[0].message.content )"
      ]
    },
    {
      "cell_type": "markdown",
      "metadata": {
        "id": "PFJd4PmsxjKb"
      },
      "source": [
        "![](https://deeplearningcourses.com/notebooks_v3_pxl?sc=AVRK7SgM9ASkQf5TAqs_wA&n=Returning+Structured+Objects)"
      ]
    }
  ],
  "metadata": {
    "kernelspec": {
      "display_name": "Python 3 (ipykernel)",
      "language": "python",
      "name": "python3"
    },
    "language_info": {
      "codemirror_mode": {
        "name": "ipython",
        "version": 3
      },
      "file_extension": ".py",
      "mimetype": "text/x-python",
      "name": "python",
      "nbconvert_exporter": "python",
      "pygments_lexer": "ipython3",
      "version": "3.10.13"
    },
    "sc": "AVRK7SgM9ASkQf5TAqs_wA"
  },
  "nbformat": 4,
  "nbformat_minor": 5
}
