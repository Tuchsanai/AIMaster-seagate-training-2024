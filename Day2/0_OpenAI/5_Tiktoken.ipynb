{
  "cells": [
    {
      "cell_type": "markdown",
      "id": "87737056",
      "metadata": {},
      "source": [
        "Why?\n",
        "\n",
        "* Want to estimate costs (pay per token)\n",
        "* Want to ensure your prompt doesn't exceed max sequence length"
      ]
    },
    {
      "cell_type": "code",
      "execution_count": 1,
      "id": "a4d173e6",
      "metadata": {},
      "outputs": [
        {
          "name": "stdout",
          "output_type": "stream",
          "text": [
            "Notebook cleaned.\n"
          ]
        }
      ],
      "source": [
        "import IPython\n",
        "import sys\n",
        "\n",
        "def clean_notebook():\n",
        "    IPython.display.clear_output(wait=True)\n",
        "    print(\"Notebook cleaned.\")\n",
        "\n",
        "!pip install openai\n",
        "!pip install gradio\n",
        "!pip install tiktoken\n",
        "\n",
        "# Clean up the notebook\n",
        "clean_notebook()"
      ]
    },
    {
      "cell_type": "code",
      "execution_count": null,
      "id": "6bdf106d",
      "metadata": {},
      "outputs": [],
      "source": [
        "\n",
        "import openai\n",
        "openai.api_key = \"code\""
      ]
    },
    {
      "cell_type": "code",
      "execution_count": 2,
      "id": "0ee9b36e",
      "metadata": {},
      "outputs": [],
      "source": [
        "import tiktoken"
      ]
    },
    {
      "cell_type": "code",
      "execution_count": 3,
      "id": "846d5061",
      "metadata": {},
      "outputs": [
        {
          "data": {
            "text/plain": [
              "<Encoding 'cl100k_base'>"
            ]
          },
          "execution_count": 3,
          "metadata": {},
          "output_type": "execute_result"
        }
      ],
      "source": [
        "# used for gpt-4, gpt-3.5-turbo, text-embedding-ada-002\n",
        "encoding = tiktoken.get_encoding(\"cl100k_base\")\n",
        "encoding"
      ]
    },
    {
      "cell_type": "code",
      "execution_count": 4,
      "id": "836f95eb",
      "metadata": {},
      "outputs": [
        {
          "data": {
            "text/plain": [
              "<Encoding 'cl100k_base'>"
            ]
          },
          "execution_count": 4,
          "metadata": {},
          "output_type": "execute_result"
        }
      ],
      "source": [
        "# alternatively, use model name\n",
        "encoding = tiktoken.encoding_for_model(\"gpt-3.5-turbo\")\n",
        "encoding"
      ]
    },
    {
      "cell_type": "code",
      "execution_count": 9,
      "id": "22371021",
      "metadata": {},
      "outputs": [],
      "source": [
        "text = \"I'm taking  Programmer of latest AI course!\""
      ]
    },
    {
      "cell_type": "code",
      "execution_count": 10,
      "id": "54e0c90a",
      "metadata": {},
      "outputs": [
        {
          "data": {
            "text/plain": [
              "[40, 2846, 4737, 220, 89124, 315, 5652, 15592, 3388, 0]"
            ]
          },
          "execution_count": 10,
          "metadata": {},
          "output_type": "execute_result"
        }
      ],
      "source": [
        "ints = encoding.encode(text)\n",
        "ints"
      ]
    },
    {
      "cell_type": "code",
      "execution_count": 11,
      "id": "dfd9bfb9",
      "metadata": {},
      "outputs": [
        {
          "data": {
            "text/plain": [
              "10"
            ]
          },
          "execution_count": 11,
          "metadata": {},
          "output_type": "execute_result"
        }
      ],
      "source": [
        "len(ints)"
      ]
    },
    {
      "cell_type": "code",
      "execution_count": 12,
      "id": "94235a78",
      "metadata": {},
      "outputs": [
        {
          "data": {
            "text/plain": [
              "7"
            ]
          },
          "execution_count": 12,
          "metadata": {},
          "output_type": "execute_result"
        }
      ],
      "source": [
        "len(text.split())"
      ]
    },
    {
      "cell_type": "code",
      "execution_count": 15,
      "id": "7d355180",
      "metadata": {},
      "outputs": [
        {
          "data": {
            "text/plain": [
              "[b'I',\n",
              " b\"'m\",\n",
              " b' taking',\n",
              " b' ',\n",
              " b' Programmer',\n",
              " b' of',\n",
              " b' latest',\n",
              " b' AI',\n",
              " b' course',\n",
              " b'!']"
            ]
          },
          "execution_count": 15,
          "metadata": {},
          "output_type": "execute_result"
        }
      ],
      "source": [
        "tokens = [encoding.decode_single_token_bytes(i) for i in ints]\n",
        "tokens"
      ]
    },
    {
      "cell_type": "code",
      "execution_count": 16,
      "id": "6a14afd9",
      "metadata": {},
      "outputs": [],
      "source": [
        "prompt = \"กาลครั้งหนึ่งนานมาแล้ว ในป่าลึกแห่งหนึ่ง มีเต่าที่เคลื่อนตัวช้าและกระต่ายที่เคลื่อนตัวรวดเร็ว ทั้งสองตัวนี้เป็นเพื่อนกัน แต่กระต่ายชอบเยาะเย้ยเต่าเสมอว่าเต่าช้าจริงๆ วันหนึ่งกระต่ายพูดขึ้นว่า “ถ้าเราจะแข่งกันนะ เต่าก็ไม่มีทางชนะฉันได้หรอก\""
      ]
    },
    {
      "cell_type": "code",
      "execution_count": 19,
      "id": "a8caf286",
      "metadata": {},
      "outputs": [
        {
          "data": {
            "text/plain": [
              "[26265,\n",
              " 21437,\n",
              " 32882,\n",
              " 41427,\n",
              " 23084,\n",
              " 24152,\n",
              " 20431,\n",
              " 31534,\n",
              " 40272,\n",
              " 20795,\n",
              " 3098,\n",
              " 114,\n",
              " 19138,\n",
              " 31534,\n",
              " 20795,\n",
              " 21437,\n",
              " 20795,\n",
              " 27379,\n",
              " 21437,\n",
              " 72409,\n",
              " 32882,\n",
              " 20431,\n",
              " 38313,\n",
              " 220,\n",
              " 70967,\n",
              " 20795,\n",
              " 55784,\n",
              " 65841,\n",
              " 32882,\n",
              " 3098,\n",
              " 114,\n",
              " 26265,\n",
              " 72409,\n",
              " 40272,\n",
              " 19138,\n",
              " 31534,\n",
              " 40272,\n",
              " 20795,\n",
              " 3098,\n",
              " 114,\n",
              " 19138,\n",
              " 31534,\n",
              " 220,\n",
              " 27379,\n",
              " 29419,\n",
              " 28991,\n",
              " 40955,\n",
              " 65841,\n",
              " 36984,\n",
              " 48271,\n",
              " 28991,\n",
              " 41427,\n",
              " 32882,\n",
              " 65784,\n",
              " 23780,\n",
              " 20795,\n",
              " 40955,\n",
              " 24152,\n",
              " 38313,\n",
              " 49220,\n",
              " 59095,\n",
              " 72409,\n",
              " 32882,\n",
              " 73367,\n",
              " 90832,\n",
              " 73367,\n",
              " 40955,\n",
              " 65841,\n",
              " 35609,\n",
              " 36984,\n",
              " 48271,\n",
              " 28991,\n",
              " 41427,\n",
              " 32882,\n",
              " 65784,\n",
              " 23780,\n",
              " 20795,\n",
              " 40955,\n",
              " 24152,\n",
              " 38313,\n",
              " 23084,\n",
              " 38313,\n",
              " 38133,\n",
              " 28991,\n",
              " 23084,\n",
              " 84382,\n",
              " 38313,\n",
              " 220,\n",
              " 36984,\n",
              " 24152,\n",
              " 20431,\n",
              " 31534,\n",
              " 36748,\n",
              " 23780,\n",
              " 31534,\n",
              " 40955,\n",
              " 24152,\n",
              " 38313,\n",
              " 20795,\n",
              " 29419,\n",
              " 20431,\n",
              " 28991,\n",
              " 55784,\n",
              " 84382,\n",
              " 20795,\n",
              " 28991,\n",
              " 60984,\n",
              " 65784,\n",
              " 23780,\n",
              " 20795,\n",
              " 26265,\n",
              " 67356,\n",
              " 220,\n",
              " 72409,\n",
              " 40955,\n",
              " 19138,\n",
              " 90832,\n",
              " 73367,\n",
              " 40955,\n",
              " 65841,\n",
              " 35609,\n",
              " 49220,\n",
              " 23780,\n",
              " 37242,\n",
              " 28991,\n",
              " 35609,\n",
              " 21437,\n",
              " 73367,\n",
              " 28991,\n",
              " 35609,\n",
              " 20431,\n",
              " 35609,\n",
              " 28991,\n",
              " 40955,\n",
              " 65841,\n",
              " 28991,\n",
              " 36748,\n",
              " 27379,\n",
              " 23780,\n",
              " 38313,\n",
              " 65841,\n",
              " 28991,\n",
              " 40955,\n",
              " 65841,\n",
              " 49220,\n",
              " 59095,\n",
              " 61516,\n",
              " 23084,\n",
              " 31885,\n",
              " 31534,\n",
              " 8321,\n",
              " 228,\n",
              " 220,\n",
              " 38313,\n",
              " 67356,\n",
              " 40272,\n",
              " 20795,\n",
              " 3098,\n",
              " 114,\n",
              " 19138,\n",
              " 31534,\n",
              " 90832,\n",
              " 73367,\n",
              " 40955,\n",
              " 65841,\n",
              " 35609,\n",
              " 60984,\n",
              " 42686,\n",
              " 38133,\n",
              " 48939,\n",
              " 3098,\n",
              " 114,\n",
              " 20431,\n",
              " 20795,\n",
              " 38313,\n",
              " 65841,\n",
              " 1054,\n",
              " 96575,\n",
              " 59095,\n",
              " 28991,\n",
              " 23084,\n",
              " 21437,\n",
              " 61516,\n",
              " 73367,\n",
              " 72409,\n",
              " 48939,\n",
              " 19138,\n",
              " 31534,\n",
              " 26265,\n",
              " 67356,\n",
              " 20795,\n",
              " 73367,\n",
              " 95582,\n",
              " 40955,\n",
              " 65841,\n",
              " 26265,\n",
              " 84382,\n",
              " 87132,\n",
              " 19138,\n",
              " 27379,\n",
              " 29419,\n",
              " 36984,\n",
              " 21437,\n",
              " 31534,\n",
              " 49220,\n",
              " 20795,\n",
              " 73367,\n",
              " 3098,\n",
              " 231,\n",
              " 67356,\n",
              " 50856,\n",
              " 38133,\n",
              " 20431,\n",
              " 40272,\n",
              " 23084,\n",
              " 23780,\n",
              " 26265]"
            ]
          },
          "execution_count": 19,
          "metadata": {},
          "output_type": "execute_result"
        }
      ],
      "source": [
        "ints = encoding.encode(prompt)\n",
        "ints"
      ]
    },
    {
      "cell_type": "code",
      "execution_count": 20,
      "id": "87c71b65",
      "metadata": {},
      "outputs": [
        {
          "data": {
            "text/plain": [
              "217"
            ]
          },
          "execution_count": 20,
          "metadata": {},
          "output_type": "execute_result"
        }
      ],
      "source": [
        "len(ints)"
      ]
    },
    {
      "cell_type": "code",
      "execution_count": 21,
      "id": "00647455",
      "metadata": {},
      "outputs": [
        {
          "data": {
            "text/plain": [
              "[b'\\xe0\\xb8\\x81',\n",
              " b'\\xe0\\xb8\\xb2',\n",
              " b'\\xe0\\xb8\\xa5',\n",
              " b'\\xe0\\xb8\\x84',\n",
              " b'\\xe0\\xb8\\xa3',\n",
              " b'\\xe0\\xb8\\xb1',\n",
              " b'\\xe0\\xb9\\x89',\n",
              " b'\\xe0\\xb8\\x87',\n",
              " b'\\xe0\\xb8\\xab',\n",
              " b'\\xe0\\xb8\\x99',\n",
              " b'\\xe0\\xb8',\n",
              " b'\\xb6',\n",
              " b'\\xe0\\xb9\\x88',\n",
              " b'\\xe0\\xb8\\x87',\n",
              " b'\\xe0\\xb8\\x99',\n",
              " b'\\xe0\\xb8\\xb2',\n",
              " b'\\xe0\\xb8\\x99',\n",
              " b'\\xe0\\xb8\\xa1',\n",
              " b'\\xe0\\xb8\\xb2',\n",
              " b'\\xe0\\xb9\\x81',\n",
              " b'\\xe0\\xb8\\xa5',\n",
              " b'\\xe0\\xb9\\x89',\n",
              " b'\\xe0\\xb8\\xa7',\n",
              " b' ',\n",
              " b'\\xe0\\xb9\\x83',\n",
              " b'\\xe0\\xb8\\x99',\n",
              " b'\\xe0\\xb8\\x9b',\n",
              " b'\\xe0\\xb9\\x88\\xe0\\xb8\\xb2',\n",
              " b'\\xe0\\xb8\\xa5',\n",
              " b'\\xe0\\xb8',\n",
              " b'\\xb6',\n",
              " b'\\xe0\\xb8\\x81',\n",
              " b'\\xe0\\xb9\\x81',\n",
              " b'\\xe0\\xb8\\xab',\n",
              " b'\\xe0\\xb9\\x88',\n",
              " b'\\xe0\\xb8\\x87',\n",
              " b'\\xe0\\xb8\\xab',\n",
              " b'\\xe0\\xb8\\x99',\n",
              " b'\\xe0\\xb8',\n",
              " b'\\xb6',\n",
              " b'\\xe0\\xb9\\x88',\n",
              " b'\\xe0\\xb8\\x87',\n",
              " b' ',\n",
              " b'\\xe0\\xb8\\xa1',\n",
              " b'\\xe0\\xb8\\xb5',\n",
              " b'\\xe0\\xb9\\x80',\n",
              " b'\\xe0\\xb8\\x95',\n",
              " b'\\xe0\\xb9\\x88\\xe0\\xb8\\xb2',\n",
              " b'\\xe0\\xb8\\x97',\n",
              " b'\\xe0\\xb8\\xb5\\xe0\\xb9\\x88',\n",
              " b'\\xe0\\xb9\\x80',\n",
              " b'\\xe0\\xb8\\x84',\n",
              " b'\\xe0\\xb8\\xa5',\n",
              " b'\\xe0\\xb8\\xb7\\xe0\\xb9\\x88',\n",
              " b'\\xe0\\xb8\\xad',\n",
              " b'\\xe0\\xb8\\x99',\n",
              " b'\\xe0\\xb8\\x95',\n",
              " b'\\xe0\\xb8\\xb1',\n",
              " b'\\xe0\\xb8\\xa7',\n",
              " b'\\xe0\\xb8\\x8a',\n",
              " b'\\xe0\\xb9\\x89\\xe0\\xb8\\xb2',\n",
              " b'\\xe0\\xb9\\x81',\n",
              " b'\\xe0\\xb8\\xa5',\n",
              " b'\\xe0\\xb8\\xb0',\n",
              " b'\\xe0\\xb8\\x81\\xe0\\xb8\\xa3',\n",
              " b'\\xe0\\xb8\\xb0',\n",
              " b'\\xe0\\xb8\\x95',\n",
              " b'\\xe0\\xb9\\x88\\xe0\\xb8\\xb2',\n",
              " b'\\xe0\\xb8\\xa2',\n",
              " b'\\xe0\\xb8\\x97',\n",
              " b'\\xe0\\xb8\\xb5\\xe0\\xb9\\x88',\n",
              " b'\\xe0\\xb9\\x80',\n",
              " b'\\xe0\\xb8\\x84',\n",
              " b'\\xe0\\xb8\\xa5',\n",
              " b'\\xe0\\xb8\\xb7\\xe0\\xb9\\x88',\n",
              " b'\\xe0\\xb8\\xad',\n",
              " b'\\xe0\\xb8\\x99',\n",
              " b'\\xe0\\xb8\\x95',\n",
              " b'\\xe0\\xb8\\xb1',\n",
              " b'\\xe0\\xb8\\xa7',\n",
              " b'\\xe0\\xb8\\xa3',\n",
              " b'\\xe0\\xb8\\xa7',\n",
              " b'\\xe0\\xb8\\x94',\n",
              " b'\\xe0\\xb9\\x80',\n",
              " b'\\xe0\\xb8\\xa3',\n",
              " b'\\xe0\\xb9\\x87',\n",
              " b'\\xe0\\xb8\\xa7',\n",
              " b' ',\n",
              " b'\\xe0\\xb8\\x97',\n",
              " b'\\xe0\\xb8\\xb1',\n",
              " b'\\xe0\\xb9\\x89',\n",
              " b'\\xe0\\xb8\\x87',\n",
              " b'\\xe0\\xb8\\xaa',\n",
              " b'\\xe0\\xb8\\xad',\n",
              " b'\\xe0\\xb8\\x87',\n",
              " b'\\xe0\\xb8\\x95',\n",
              " b'\\xe0\\xb8\\xb1',\n",
              " b'\\xe0\\xb8\\xa7',\n",
              " b'\\xe0\\xb8\\x99',\n",
              " b'\\xe0\\xb8\\xb5',\n",
              " b'\\xe0\\xb9\\x89',\n",
              " b'\\xe0\\xb9\\x80',\n",
              " b'\\xe0\\xb8\\x9b',\n",
              " b'\\xe0\\xb9\\x87',\n",
              " b'\\xe0\\xb8\\x99',\n",
              " b'\\xe0\\xb9\\x80',\n",
              " b'\\xe0\\xb8\\x9e',\n",
              " b'\\xe0\\xb8\\xb7\\xe0\\xb9\\x88',\n",
              " b'\\xe0\\xb8\\xad',\n",
              " b'\\xe0\\xb8\\x99',\n",
              " b'\\xe0\\xb8\\x81',\n",
              " b'\\xe0\\xb8\\xb1\\xe0\\xb8\\x99',\n",
              " b' ',\n",
              " b'\\xe0\\xb9\\x81',\n",
              " b'\\xe0\\xb8\\x95',\n",
              " b'\\xe0\\xb9\\x88',\n",
              " b'\\xe0\\xb8\\x81\\xe0\\xb8\\xa3',\n",
              " b'\\xe0\\xb8\\xb0',\n",
              " b'\\xe0\\xb8\\x95',\n",
              " b'\\xe0\\xb9\\x88\\xe0\\xb8\\xb2',\n",
              " b'\\xe0\\xb8\\xa2',\n",
              " b'\\xe0\\xb8\\x8a',\n",
              " b'\\xe0\\xb8\\xad',\n",
              " b'\\xe0\\xb8\\x9a',\n",
              " b'\\xe0\\xb9\\x80',\n",
              " b'\\xe0\\xb8\\xa2',\n",
              " b'\\xe0\\xb8\\xb2',\n",
              " b'\\xe0\\xb8\\xb0',\n",
              " b'\\xe0\\xb9\\x80',\n",
              " b'\\xe0\\xb8\\xa2',\n",
              " b'\\xe0\\xb9\\x89',\n",
              " b'\\xe0\\xb8\\xa2',\n",
              " b'\\xe0\\xb9\\x80',\n",
              " b'\\xe0\\xb8\\x95',\n",
              " b'\\xe0\\xb9\\x88\\xe0\\xb8\\xb2',\n",
              " b'\\xe0\\xb9\\x80',\n",
              " b'\\xe0\\xb8\\xaa',\n",
              " b'\\xe0\\xb8\\xa1',\n",
              " b'\\xe0\\xb8\\xad',\n",
              " b'\\xe0\\xb8\\xa7',\n",
              " b'\\xe0\\xb9\\x88\\xe0\\xb8\\xb2',\n",
              " b'\\xe0\\xb9\\x80',\n",
              " b'\\xe0\\xb8\\x95',\n",
              " b'\\xe0\\xb9\\x88\\xe0\\xb8\\xb2',\n",
              " b'\\xe0\\xb8\\x8a',\n",
              " b'\\xe0\\xb9\\x89\\xe0\\xb8\\xb2',\n",
              " b'\\xe0\\xb8\\x88',\n",
              " b'\\xe0\\xb8\\xa3',\n",
              " b'\\xe0\\xb8\\xb4',\n",
              " b'\\xe0\\xb8\\x87',\n",
              " b'\\xe0\\xb9',\n",
              " b'\\x86',\n",
              " b' ',\n",
              " b'\\xe0\\xb8\\xa7',\n",
              " b'\\xe0\\xb8\\xb1\\xe0\\xb8\\x99',\n",
              " b'\\xe0\\xb8\\xab',\n",
              " b'\\xe0\\xb8\\x99',\n",
              " b'\\xe0\\xb8',\n",
              " b'\\xb6',\n",
              " b'\\xe0\\xb9\\x88',\n",
              " b'\\xe0\\xb8\\x87',\n",
              " b'\\xe0\\xb8\\x81\\xe0\\xb8\\xa3',\n",
              " b'\\xe0\\xb8\\xb0',\n",
              " b'\\xe0\\xb8\\x95',\n",
              " b'\\xe0\\xb9\\x88\\xe0\\xb8\\xb2',\n",
              " b'\\xe0\\xb8\\xa2',\n",
              " b'\\xe0\\xb8\\x9e',\n",
              " b'\\xe0\\xb8\\xb9',\n",
              " b'\\xe0\\xb8\\x94',\n",
              " b'\\xe0\\xb8\\x82',\n",
              " b'\\xe0\\xb8',\n",
              " b'\\xb6',\n",
              " b'\\xe0\\xb9\\x89',\n",
              " b'\\xe0\\xb8\\x99',\n",
              " b'\\xe0\\xb8\\xa7',\n",
              " b'\\xe0\\xb9\\x88\\xe0\\xb8\\xb2',\n",
              " b' \\xe2\\x80\\x9c',\n",
              " b'\\xe0\\xb8\\x96',\n",
              " b'\\xe0\\xb9\\x89\\xe0\\xb8\\xb2',\n",
              " b'\\xe0\\xb9\\x80',\n",
              " b'\\xe0\\xb8\\xa3',\n",
              " b'\\xe0\\xb8\\xb2',\n",
              " b'\\xe0\\xb8\\x88',\n",
              " b'\\xe0\\xb8\\xb0',\n",
              " b'\\xe0\\xb9\\x81',\n",
              " b'\\xe0\\xb8\\x82',\n",
              " b'\\xe0\\xb9\\x88',\n",
              " b'\\xe0\\xb8\\x87',\n",
              " b'\\xe0\\xb8\\x81',\n",
              " b'\\xe0\\xb8\\xb1\\xe0\\xb8\\x99',\n",
              " b'\\xe0\\xb8\\x99',\n",
              " b'\\xe0\\xb8\\xb0',\n",
              " b' \\xe0\\xb9\\x80',\n",
              " b'\\xe0\\xb8\\x95',\n",
              " b'\\xe0\\xb9\\x88\\xe0\\xb8\\xb2',\n",
              " b'\\xe0\\xb8\\x81',\n",
              " b'\\xe0\\xb9\\x87',\n",
              " b'\\xe0\\xb9\\x84\\xe0\\xb8\\xa1',\n",
              " b'\\xe0\\xb9\\x88',\n",
              " b'\\xe0\\xb8\\xa1',\n",
              " b'\\xe0\\xb8\\xb5',\n",
              " b'\\xe0\\xb8\\x97',\n",
              " b'\\xe0\\xb8\\xb2',\n",
              " b'\\xe0\\xb8\\x87',\n",
              " b'\\xe0\\xb8\\x8a',\n",
              " b'\\xe0\\xb8\\x99',\n",
              " b'\\xe0\\xb8\\xb0',\n",
              " b'\\xe0\\xb8',\n",
              " b'\\x89',\n",
              " b'\\xe0\\xb8\\xb1\\xe0\\xb8\\x99',\n",
              " b'\\xe0\\xb9\\x84',\n",
              " b'\\xe0\\xb8\\x94',\n",
              " b'\\xe0\\xb9\\x89',\n",
              " b'\\xe0\\xb8\\xab',\n",
              " b'\\xe0\\xb8\\xa3',\n",
              " b'\\xe0\\xb8\\xad',\n",
              " b'\\xe0\\xb8\\x81']"
            ]
          },
          "execution_count": 21,
          "metadata": {},
          "output_type": "execute_result"
        }
      ],
      "source": [
        "tokens = [encoding.decode_single_token_bytes(i) for i in ints]\n",
        "tokens"
      ]
    },
    {
      "cell_type": "markdown",
      "metadata": {
        "id": "PFJd4PmsxjKb"
      },
      "source": [
        "![](https://deeplearningcourses.com/notebooks_v3_pxl?sc=AVRK7SgM9ASkQf5TAqs_wA&n=Tiktoken)"
      ]
    }
  ],
  "metadata": {
    "kernelspec": {
      "display_name": "Python 3 (ipykernel)",
      "language": "python",
      "name": "python3"
    },
    "language_info": {
      "codemirror_mode": {
        "name": "ipython",
        "version": 3
      },
      "file_extension": ".py",
      "mimetype": "text/x-python",
      "name": "python",
      "nbconvert_exporter": "python",
      "pygments_lexer": "ipython3",
      "version": "3.10.13"
    },
    "sc": "AVRK7SgM9ASkQf5TAqs_wA"
  },
  "nbformat": 4,
  "nbformat_minor": 5
}
