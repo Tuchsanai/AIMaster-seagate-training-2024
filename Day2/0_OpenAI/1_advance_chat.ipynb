{
 "cells": [
  {
   "attachments": {},
   "cell_type": "markdown",
   "metadata": {},
   "source": [
    "# Getting Started with Prompt Engineering\n"
   ]
  },
  {
   "attachments": {},
   "cell_type": "markdown",
   "metadata": {},
   "source": [
    "---"
   ]
  },
  {
   "attachments": {},
   "cell_type": "markdown",
   "metadata": {},
   "source": [
    "\n",
    "https://github.com/dair-ai/Prompt-Engineering-Guide/blob/main/guides/prompts-advanced-usage.md"
   ]
  },
  {
   "attachments": {},
   "cell_type": "markdown",
   "metadata": {},
   "source": [
    "Below we are loading the necessary libraries, utilities, and configurations."
   ]
  },
  {
   "cell_type": "code",
   "execution_count": 5,
   "metadata": {},
   "outputs": [
    {
     "name": "stdout",
     "output_type": "stream",
     "text": [
      "Notebook cleaned.\n"
     ]
    }
   ],
   "source": [
    "import IPython\n",
    "import sys\n",
    "\n",
    "def clean_notebook():\n",
    "    IPython.display.clear_output(wait=True)\n",
    "    print(\"Notebook cleaned.\")\n",
    "\n",
    "!pip install openai\n",
    "!pip install gradio\n",
    "\n",
    "# Clean up the notebook\n",
    "clean_notebook()"
   ]
  },
  {
   "cell_type": "code",
   "execution_count": 6,
   "metadata": {},
   "outputs": [],
   "source": [
    "\n",
    "import openai\n",
    "openai.api_key = \"code\""
   ]
  },
  {
   "cell_type": "code",
   "execution_count": 7,
   "metadata": {},
   "outputs": [],
   "source": [
    "def complete(user_prompt, max_tokens=300):\n",
    "    completion = openai.chat.completions.create(\n",
    "        model='gpt-3.5-turbo',\n",
    "        messages=[\n",
    "            {\"role\": \"user\", \"content\": user_prompt},\n",
    "        ],\n",
    "        temperature=0,\n",
    "        max_tokens=max_tokens,\n",
    "    )\n",
    "    return completion"
   ]
  },
  {
   "attachments": {},
   "cell_type": "markdown",
   "metadata": {},
   "source": [
    "Exercise: Instruct the model to explain the paragraph in one sentence like \"I am 5\". Do you see any differences?"
   ]
  },
  {
   "attachments": {},
   "cell_type": "markdown",
   "metadata": {},
   "source": [
    "###  Question Answering"
   ]
  },
  {
   "cell_type": "code",
   "execution_count": 9,
   "metadata": {},
   "outputs": [
    {
     "data": {
      "text/markdown": [
       "หนู"
      ],
      "text/plain": [
       "<IPython.core.display.Markdown object>"
      ]
     },
     "execution_count": 9,
     "metadata": {},
     "output_type": "execute_result"
    }
   ],
   "source": [
    "prompt = \"\"\"ตอบคำถามต่อไปนี้ตามบริบทด้านล่าง ตอบให้สั้นและกระชับ ถ้าไม่แน่ใจคำตอบให้ตอบว่า \"ไม่แน่ใจคำตอบ\"\n",
    "บริบท: Teplizumab มีจุดกำเนิดมาจากบริษัทยาในรัฐนิวเจอร์ซีย์ชื่อ Ortho Pharmaceutical ที่นั่น นักวิทยาศาสตร์ได้สร้างแอนติบอดีรุ่นแรกที่เรียกว่า OKT3 ซึ่งแต่เดิมได้มาจากหนู โมเลกุลนี้สามารถจับกับพื้นผิวของเซลล์ T และจำกัดศักยภาพในการฆ่าเซลล์ได้ ในปี 1986 ได้รับการอนุมัติให้ใช้ป้องกันการปฏิเสธอวัยวะหลังการปลูกถ่ายไต ทำให้เป็นแอนติบอดีเพื่อการรักษาตัวแรกที่ได้รับอนุญาตให้ใช้ในมนุษย์\n",
    "Question : OKT3 ได้มาจากอะไรแต่เดิม\n",
    "Answer:\"\"\"\n",
    "\n",
    "\n",
    "completion = complete(prompt)\n",
    "IPython.display.Markdown(completion.choices[0].message.content )"
   ]
  },
  {
   "attachments": {},
   "cell_type": "markdown",
   "metadata": {},
   "source": [
    "Context obtained from here: https://www.nature.com/articles/d41586-023-00400-x"
   ]
  },
  {
   "attachments": {},
   "cell_type": "markdown",
   "metadata": {},
   "source": [
    "Exercise: Edit prompt and get the model to respond that it isn't sure about the answer. "
   ]
  },
  {
   "attachments": {},
   "cell_type": "markdown",
   "metadata": {},
   "source": [
    "### Text Classification"
   ]
  },
  {
   "cell_type": "code",
   "execution_count": 10,
   "metadata": {},
   "outputs": [
    {
     "data": {
      "text/markdown": [
       "Neutral"
      ],
      "text/plain": [
       "<IPython.core.display.Markdown object>"
      ]
     },
     "execution_count": 10,
     "metadata": {},
     "output_type": "execute_result"
    }
   ],
   "source": [
    "prompt = \"\"\"Classify the text into neutral, negative or positive.\n",
    "\n",
    "Text: I think the food was okay.\n",
    "\n",
    "Sentiment:\"\"\"\n",
    "\n",
    "\n",
    "completion = complete(prompt)\n",
    "IPython.display.Markdown(completion.choices[0].message.content )"
   ]
  },
  {
   "attachments": {},
   "cell_type": "markdown",
   "metadata": {},
   "source": [
    "Exercise: Modify the prompt to instruct the model to provide an explanation to the answer selected. "
   ]
  },
  {
   "attachments": {},
   "cell_type": "markdown",
   "metadata": {},
   "source": [
    "###  Role Playing"
   ]
  },
  {
   "cell_type": "code",
   "execution_count": 12,
   "metadata": {},
   "outputs": [
    {
     "data": {
      "text/markdown": [
       "แน่นอนครับ! การก่อกำเนิดหลุมดำเกิดขึ้นจากการทับตัวของดาวหรือวัตถุที่มีมวลมากเข้าด้วยกัน ซึ่งจะสร้างแรงดึงดูดที่มากพอที่จะกดดันและย่อสเปกตรัมของวัตถุให้เข้าสู่ขนาดที่ไม่สามารถต้านทางได้ ทำให้เกิดหลุมดำขึ้น หลุมดำมีแรงดึงดูดที่มากมายจนทำให้แสงไม่สามารถหนีไปได้ และเกิดการเกิดเหตุการณ์ที่เรียกว่าการแกว่งของแสงที่เข้าสู่หลุมดำได้ด"
      ],
      "text/plain": [
       "<IPython.core.display.Markdown object>"
      ]
     },
     "execution_count": 12,
     "metadata": {},
     "output_type": "execute_result"
    }
   ],
   "source": [
    "prompt = \"\"\"ต่อไปนี้เป็นบทสนทนากับผู้ช่วยวิจัย AI โทนเสียงของผู้ช่วยจะเป็นเชิงเทคนิคและวิทยาศาสตร์\n",
    "H: สวัสดี คุณเป็นใคร\n",
    "AI: สวัสดีครับ! ผมเป็นผู้ช่วยวิจัย AI วันนี้ผมจะช่วยอะไรคุณได้บ้าง\n",
    "Human: คุณเล่าเกี่ยวกับการก่อกำเนิดหลุมดำให้ฟังหน่อยได้ไหม\n",
    "AI:\"\"\"\n",
    "\n",
    "completion = complete(prompt)\n",
    "IPython.display.Markdown(completion.choices[0].message.content )"
   ]
  },
  {
   "attachments": {},
   "cell_type": "markdown",
   "metadata": {},
   "source": [
    "Exercise: Modify the prompt to instruct the model to keep AI responses concise and short."
   ]
  },
  {
   "attachments": {},
   "cell_type": "markdown",
   "metadata": {},
   "source": [
    "###  Code Generation"
   ]
  },
  {
   "cell_type": "code",
   "execution_count": 20,
   "metadata": {},
   "outputs": [
    {
     "data": {
      "text/markdown": [
       "SELECT students.StudentId, students.StudentName\n",
       "FROM students\n",
       "JOIN departments ON students.DepartmentId = departments.DepartmentId\n",
       "WHERE departments.DepartmentName = 'วิทยาการคอมพิวเตอร์';"
      ],
      "text/plain": [
       "<IPython.core.display.Markdown object>"
      ]
     },
     "execution_count": 20,
     "metadata": {},
     "output_type": "execute_result"
    }
   ],
   "source": [
    "prompt = \"\"\"\\nTable departments, columns = [DepartmentId, DepartmentName]\\nTable students, columns = [DepartmentId, StudentId, StudentName]\\nสร้างคำสั่ง MySQL query เพื่อดึงข้อมูลนักศึกษาทั้งหมดในภาควิชาวิทยาการคอมพิวเตอร์\\n\"\"\"\n",
    "\n",
    "\n",
    "\n",
    "completion = complete(prompt, max_tokens=1000)\n",
    "IPython.display.Markdown(completion.choices[0].message.content )\n"
   ]
  },
  {
   "attachments": {},
   "cell_type": "markdown",
   "metadata": {},
   "source": [
    "Exercise: Improve the prompt to have a better structure and output format."
   ]
  },
  {
   "attachments": {},
   "cell_type": "markdown",
   "metadata": {},
   "source": [
    "## 2. Advanced Prompting Techniques\n",
    "\n",
    "Objectives:\n",
    "\n",
    "- Cover more advanced techniques for prompting: few-shot, chain-of-thoughts,..."
   ]
  },
  {
   "attachments": {},
   "cell_type": "markdown",
   "metadata": {},
   "source": [
    "### Few-shot prompts"
   ]
  },
  {
   "cell_type": "code",
   "execution_count": 21,
   "metadata": {},
   "outputs": [
    {
     "data": {
      "text/markdown": [
       " คำตอบคือ ใช่"
      ],
      "text/plain": [
       "<IPython.core.display.Markdown object>"
      ]
     },
     "execution_count": 21,
     "metadata": {},
     "output_type": "execute_result"
    }
   ],
   "source": [
    "prompt = \"\"\"เลขคี่ในกลุ่มนี้รวมกันแล้วได้ผลลัพธ์เป็นเลขคู่: 4, 8, 9, 15, 12, 2, 1\n",
    "A: คำตอบคือ ไม่ใช่\n",
    "เลขคี่ในกลุ่มนี้รวมกันแล้วได้ผลลัพธ์เป็นเลขคู่: 17,  10, 19, 4, 8, 12, 24\n",
    "A: คำตอบคือ ใช่\n",
    "เลขคี่ในกลุ่มนี้รวมกันแล้วได้ผลลัพธ์เป็นเลขคู่: 16,  11, 14, 4, 8, 13, 24\n",
    "A: คำตอบคือ ใช่\n",
    "เลขคี่ในกลุ่มนี้รวมกันแล้วได้ผลลัพธ์เป็นเลขคู่: 17,  9, 10, 12, 13, 4, 2\n",
    "A: คำตอบคือ ไม่ใช่\n",
    "เลขคี่ในกลุ่มนี้รวมกันแล้วได้ผลลัพธ์เป็นเลขคู่: 15, 32, 5, 13, 82, 7, 1\n",
    "A:\"\"\"\n",
    "\n",
    "\n",
    "\n",
    "completion = complete(prompt, max_tokens=1000)\n",
    "IPython.display.Markdown(completion.choices[0].message.content )\n"
   ]
  },
  {
   "attachments": {},
   "cell_type": "markdown",
   "metadata": {},
   "source": [
    "### 2.3 Chain-of-Thought (CoT) Prompting"
   ]
  },
  {
   "cell_type": "code",
   "execution_count": 22,
   "metadata": {},
   "outputs": [
    {
     "data": {
      "text/markdown": [
       "การบวกเลขคี่ทั้งหมด (5, 13, 7, 1) จะได้ 26 คำตอบคือ ไม่ใช่"
      ],
      "text/plain": [
       "<IPython.core.display.Markdown object>"
      ]
     },
     "execution_count": 22,
     "metadata": {},
     "output_type": "execute_result"
    }
   ],
   "source": [
    "prompt = \"\"\"เลขคี่ในกลุ่มนี้รวมกันแล้วได้ผลลัพธ์เป็นเลขคู่: 4, 8, 9, 15, 12, 2, 1\n",
    "A: การบวกเลขคี่ทั้งหมด (9, 15, 1) จะได้ 25 คำตอบคือ ไม่ใช่\n",
    "เลขคี่ในกลุ่มนี้รวมกันแล้วได้ผลลัพธ์เป็นเลขคู่: 15, 32, 5, 13, 82, 7, 1\n",
    "A:\"\"\"\n",
    "\n",
    "\n",
    "completion = complete(prompt, max_tokens=1000)\n",
    "IPython.display.Markdown(completion.choices[0].message.content )\n"
   ]
  },
  {
   "cell_type": "code",
   "execution_count": 23,
   "metadata": {},
   "outputs": [
    {
     "data": {
      "text/markdown": [
       "1. ฉันไปตลาดและซื้อแอปเปิ้ล 10 ผล\n",
       "2. ฉันให้แอปเปิ้ล 2 ผลกับเพื่อนบ้าน และ 2 ผลกับช่างซ่อม ฉันเหลือ 6 ผล\n",
       "3. ฉันไปซื้อแอปเปิ้ลเพิ่มอีก 5 ผล ฉันมีทั้งหมด 11 ผล\n",
       "4. ฉันกินแอปเปิ้ลไป 1 ผล ฉันเหลือ 10 ผล\n",
       "\n",
       "ดังนั้น ฉันเหลือแอปเปิ้ล 10 ผล หลังจากที่ทำขั้นตอนทั้งหมดแล้ว"
      ],
      "text/plain": [
       "<IPython.core.display.Markdown object>"
      ]
     },
     "execution_count": 23,
     "metadata": {},
     "output_type": "execute_result"
    }
   ],
   "source": [
    "prompt = \"\"\"ฉันไปตลาดและซื้อแอปเปิ้ล 10 ผล ฉันให้แอปเปิ้ล 2 ผลกับเพื่อนบ้าน และอีก 2 ผลกับช่างซ่อม จากนั้นฉันไปซื้อแอปเปิ้ลเพิ่มอีก 5 ผล และกินไป 1 ผล ฉันเหลือแอปเปิ้ลกี่ผล มาคิดแบบเป็นขั้นตอนกัน\"\"\"\n",
    "\n",
    "\n",
    "completion = complete(prompt, max_tokens=1000)\n",
    "IPython.display.Markdown(completion.choices[0].message.content )\n"
   ]
  },
  {
   "attachments": {},
   "cell_type": "markdown",
   "metadata": {},
   "source": [
    "---"
   ]
  }
 ],
 "metadata": {
  "kernelspec": {
   "display_name": "promptlecture",
   "language": "python",
   "name": "python3"
  },
  "language_info": {
   "codemirror_mode": {
    "name": "ipython",
    "version": 3
   },
   "file_extension": ".py",
   "mimetype": "text/x-python",
   "name": "python",
   "nbconvert_exporter": "python",
   "pygments_lexer": "ipython3",
   "version": "3.10.13"
  },
  "orig_nbformat": 4,
  "vscode": {
   "interpreter": {
    "hash": "f38e0373277d6f71ee44ee8fea5f1d408ad6999fda15d538a69a99a1665a839d"
   }
  }
 },
 "nbformat": 4,
 "nbformat_minor": 2
}
