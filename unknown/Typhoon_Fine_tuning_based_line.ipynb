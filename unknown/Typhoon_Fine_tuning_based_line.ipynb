{
  "metadata": {
    "colab": {
      "provenance": [],
      "gpuType": "T4",
      "name": "Typhoon: Fine tuning based line"
    },
    "kernelspec": {
      "name": "python3",
      "display_name": "Python 3",
      "language": "python"
    },
    "language_info": {
      "name": "python",
      "version": "3.10.13",
      "mimetype": "text/x-python",
      "codemirror_mode": {
        "name": "ipython",
        "version": 3
      },
      "pygments_lexer": "ipython3",
      "nbconvert_exporter": "python",
      "file_extension": ".py"
    },
    "accelerator": "GPU",
    "gpuClass": "standard",
    "kaggle": {
      "accelerator": "gpu",
      "dataSources": [],
      "dockerImageVersionId": 30683,
      "isInternetEnabled": true,
      "language": "python",
      "sourceType": "notebook",
      "isGpuEnabled": true
    }
  },
  "nbformat_minor": 0,
  "nbformat": 4,
  "cells": [
    {
      "cell_type": "markdown",
      "source": [
        "# Hello! and welcome to my Typhoon fine tuning notebook.\n",
        "\n",
        "<center>\n",
        "<img src=\"https://opentyphoon.ai/_next/image?url=%2Fimages%2Flogo.png&w=384&q=75\" alt=\"drawing\" width=\"1400\" class=\"center\"/>\n",
        "</center>\n",
        "\n",
        "Hello! and welcome to my Typhoon fine tuning notebook.\n",
        "\n",
        "This notebook I modified [bnb-4bit](https://colab.research.google.com/drive/1Vvju5kOyBsDr7RX_YAvp6ZsSOoSMjhKD?usp=sharing#scrollTo=kEESIVXyESi-) with the model `scb10x/typhoon-7b` from SCB10 and the dataset `Thaweewat/thai-med-pack`. Also, I configured it to be able to run on Kaggle environment with GPU P100 using `bitsandbytes`.\n",
        "<br/>\n",
        "Learn more about the model: https://arxiv.org/abs/2312.13951"
      ],
      "metadata": {
        "id": "XIyP_0r6zuVc"
      }
    },
    {
      "cell_type": "markdown",
      "source": [
        "# Install requirements"
      ],
      "metadata": {
        "id": "q5aPYxL_Evtn"
      }
    },
    {
      "cell_type": "code",
      "source": [
        "!pip install -q -U bitsandbytes\n",
        "!pip install -q -U git+https://github.com/huggingface/transformers.git\n",
        "!pip install -q -U git+https://github.com/huggingface/peft.git\n",
        "!pip install -q -U git+https://github.com/huggingface/accelerate.git\n",
        "!pip install -q datasets"
      ],
      "metadata": {
        "id": "FuXIFTFapAMI",
        "execution": {
          "iopub.status.busy": "2024-04-18T15:47:23.705798Z",
          "iopub.execute_input": "2024-04-18T15:47:23.706355Z"
        },
        "trusted": true
      },
      "execution_count": null,
      "outputs": []
    },
    {
      "cell_type": "markdown",
      "source": [
        "# Set up environment variables\n",
        "\n",
        "This is set with kaggle secret collection. If you're runing with other enviroment, they can be set .env"
      ],
      "metadata": {
        "id": "XnRObN9oEvto"
      }
    },
    {
      "cell_type": "code",
      "source": [
        "import os\n",
        "from kaggle_secrets import UserSecretsClient\n",
        "\n",
        "user_secrets = UserSecretsClient()\n",
        "os.environ[\"HF_TOKEN\"] = user_secrets.get_secret(\"HUGGING_FACE\")\n",
        "\n",
        "\n",
        "report_to = \"wandb\" # Change to none if you're not desired to record train results\n",
        "os.environ[\"WANDB_API_KEY\"] = user_secrets.get_secret(\"WANDB_API_KEY\") # If `report_to` is set to \"none\", this can be unset"
      ],
      "metadata": {
        "id": "L557hcY1Evto"
      },
      "execution_count": null,
      "outputs": []
    },
    {
      "cell_type": "markdown",
      "source": [
        "# Select dataset"
      ],
      "metadata": {
        "id": "0K68krA_CXxu"
      }
    },
    {
      "cell_type": "code",
      "source": [
        "dataset_id = \"Thaweewat/thai-med-pack\""
      ],
      "metadata": {
        "id": "JQFnlbkmCW4d",
        "trusted": true
      },
      "execution_count": null,
      "outputs": []
    },
    {
      "cell_type": "markdown",
      "source": [
        "# Load tokenizer and model"
      ],
      "metadata": {
        "id": "K-vVTy2NEvtp"
      }
    },
    {
      "cell_type": "code",
      "source": [
        "import torch\n",
        "from transformers import AutoTokenizer, AutoModelForCausalLM, BitsAndBytesConfig\n",
        "\n",
        "model_id = \"scb10x/typhoon-7b\"\n",
        "bnb_config = BitsAndBytesConfig(\n",
        "    load_in_4bit=True,\n",
        "    bnb_4bit_use_double_quant=True,\n",
        "    bnb_4bit_quant_type=\"nf4\",\n",
        "    bnb_4bit_compute_dtype=torch.bfloat16\n",
        ")\n",
        "\n",
        "tokenizer = AutoTokenizer.from_pretrained(model_id)\n",
        "model = AutoModelForCausalLM.from_pretrained(\n",
        "    model_id, quantization_config=bnb_config, device_map={\"\":0}\n",
        ")"
      ],
      "metadata": {
        "id": "E0Nl5mWL0k2T",
        "trusted": true
      },
      "execution_count": null,
      "outputs": []
    },
    {
      "cell_type": "markdown",
      "source": [
        "Then we have to apply some preprocessing to the model to prepare it for training. For that use the `prepare_model_for_kbit_training` method from PEFT."
      ],
      "metadata": {
        "id": "Mp2gMi1ZzGET"
      }
    },
    {
      "cell_type": "markdown",
      "source": [
        "# Set up trainable parameters"
      ],
      "metadata": {
        "id": "B-PFzGtOEvtp"
      }
    },
    {
      "cell_type": "code",
      "source": [
        "from peft import prepare_model_for_kbit_training\n",
        "\n",
        "model.gradient_checkpointing_enable()\n",
        "model = prepare_model_for_kbit_training(model)"
      ],
      "metadata": {
        "id": "a9EUEDAl0ss3",
        "trusted": true
      },
      "execution_count": null,
      "outputs": []
    },
    {
      "cell_type": "code",
      "source": [
        "def print_trainable_parameters(model):\n",
        "    \"\"\"\n",
        "    Prints the number of trainable parameters in the model.\n",
        "    \"\"\"\n",
        "    trainable_params = 0\n",
        "    all_param = 0\n",
        "    for _, param in model.named_parameters():\n",
        "        all_param += param.numel()\n",
        "        if param.requires_grad:\n",
        "            trainable_params += param.numel()\n",
        "    print(\n",
        "        f\"trainable params: {trainable_params} || all params: {all_param} || trainable%: {100 * trainable_params / all_param}\"\n",
        "    )"
      ],
      "metadata": {
        "id": "gkIcwsSU01EB",
        "trusted": true
      },
      "execution_count": null,
      "outputs": []
    },
    {
      "cell_type": "code",
      "source": [
        "print(model)"
      ],
      "metadata": {
        "trusted": true,
        "id": "q6rWDjkqEvtq"
      },
      "execution_count": null,
      "outputs": []
    },
    {
      "cell_type": "code",
      "source": [
        "from peft import LoraConfig, get_peft_model\n",
        "\n",
        "config = LoraConfig(\n",
        "    r=128,\n",
        "    lora_alpha=24,\n",
        "    target_modules=\"all-linear\",\n",
        "#     target_modules=[\"lm_head\"],\n",
        "    lora_dropout=0.05,\n",
        "    bias=\"none\",\n",
        "    task_type=\"CAUSAL_LM\"\n",
        ")\n",
        "\n",
        "model = get_peft_model(model, config)\n",
        "print_trainable_parameters(model)"
      ],
      "metadata": {
        "id": "Ybeyl20n3dYH",
        "trusted": true
      },
      "execution_count": null,
      "outputs": []
    },
    {
      "cell_type": "markdown",
      "source": [
        "# Preprocess dataset\n",
        "\n",
        "I parsed into `# Instruction: # Input: # Response:` also I added `<answer></answer>` xml and response but you may modify it. I just like this way :D"
      ],
      "metadata": {
        "id": "FCc64bfnmd3j"
      }
    },
    {
      "cell_type": "code",
      "source": [
        "import re\n",
        "from datasets import load_dataset\n",
        "\n",
        "data = load_dataset(dataset_id)\n",
        "\n",
        "\n",
        "def parse(text: str) -> str:\n",
        "    try:\n",
        "        question_search = re.search(r'\\[INST\\](.*)\\[/INST\\]', text, re.IGNORECASE)\n",
        "        question = question_search.group(1).strip()\n",
        "\n",
        "\n",
        "        answer_search = re.search(r'\\[/INST\\](.*)\\</s\\>', text, re.IGNORECASE)\n",
        "        answer = answer_search.group(1).strip()\n",
        "        spec = f\"\"\"<s>Below is an instruction that describes a task. Write a response that appropriately completes the request.\n",
        "### Instruction:\n",
        "Act as a doctor and response the input question from a patient in Thai language with XML format <answer>Your answer</answer>\n",
        "### Input:\n",
        "{question}\n",
        "### Response:\n",
        "<answer> {answer} </answer>\n",
        "</s>\"\"\"\n",
        "    except:\n",
        "        print(text)\n",
        "        raise\n",
        "    return {\n",
        "        \"spec\": spec\n",
        "    }\n",
        "\n",
        "\n",
        "# parse(data[\"train\"][\"text\"][0])\n",
        "# data.map(lambda )\n",
        "data = data.map(lambda samples: parse(samples[\"text\"]))\n",
        "data = data.map(lambda samples: tokenizer(samples[\"spec\"]), batched=True)"
      ],
      "metadata": {
        "id": "s6f4z8EYmcJ6",
        "trusted": true
      },
      "execution_count": null,
      "outputs": []
    },
    {
      "cell_type": "markdown",
      "source": [
        "# Training"
      ],
      "metadata": {
        "id": "ztsk8JkJEvtq"
      }
    },
    {
      "cell_type": "markdown",
      "source": [
        "## Train"
      ],
      "metadata": {
        "id": "8yUk1Zf2Evtq"
      }
    },
    {
      "cell_type": "code",
      "source": [
        "import transformers\n",
        "import torch\n",
        "\n",
        "torch.cuda.empty_cache()\n",
        "\n",
        "# needed for gpt-neo-x tokenizer\n",
        "tokenizer.pad_token = tokenizer.eos_token\n",
        "\n",
        "trainer = transformers.Trainer(\n",
        "    model=model,\n",
        "    train_dataset=data[\"train\"],\n",
        "    args=transformers.TrainingArguments(\n",
        "        per_device_train_batch_size=1,\n",
        "        gradient_accumulation_steps=128,\n",
        "        max_steps=30,\n",
        "        learning_rate=4e-5,\n",
        "        fp16=True,\n",
        "        logging_steps=1,\n",
        "        output_dir=\"outputs\",\n",
        "        optim=\"paged_adamw_8bit\",\n",
        "        report_to=report_to,\n",
        "        load_best_model_at_end=True,\n",
        "        save_strategy = \"no\"\n",
        "    ),\n",
        "    data_collator=transformers.DataCollatorForLanguageModeling(tokenizer, mlm=False),\n",
        ")\n",
        "model.config.use_cache = False  # silence the warnings. Please re-enable for inference!\n",
        "\n",
        "trainer.train()"
      ],
      "metadata": {
        "id": "jq0nX33BmfaC",
        "trusted": true
      },
      "execution_count": null,
      "outputs": []
    },
    {
      "cell_type": "markdown",
      "source": [
        "## Export model"
      ],
      "metadata": {
        "id": "4qZdJ-x0Evtq"
      }
    },
    {
      "cell_type": "code",
      "source": [
        "model_to_save = trainer.model.module if hasattr(trainer.model, 'module') else trainer.model  # Take care of distributed/parallel training\n",
        "model_to_save.save_pretrained(\"outputs\")"
      ],
      "metadata": {
        "id": "p66mZk1RAlOR",
        "trusted": true
      },
      "execution_count": null,
      "outputs": []
    },
    {
      "cell_type": "markdown",
      "source": [
        "## Test model"
      ],
      "metadata": {
        "id": "s-nCM3XVEvtq"
      }
    },
    {
      "cell_type": "code",
      "source": [
        "from transformers import  StoppingCriteria, StoppingCriteriaList\n",
        "\n",
        "class KeywordsStoppingCriteria(StoppingCriteria):\n",
        "    def __init__(self, keywords_ids:list):\n",
        "        self._i = 0\n",
        "        self.keywords = keywords_ids\n",
        "\n",
        "    def __call__(self, input_ids: torch.LongTensor, scores: torch.FloatTensor, **kwargs) -> bool:\n",
        "        text = tokenizer.decode(\n",
        "                input_ids[0],\n",
        "                skip_special_tokens=True\n",
        "        )\n",
        "        if text.strip().endswith(\"</answer>\"):\n",
        "            return True\n",
        "        if self._i % 50 == 0:\n",
        "            print(text)\n",
        "            print(\"-\" * 16)\n",
        "        self._i += 1\n",
        "        if input_ids[0][-1] in self.keywords:\n",
        "\n",
        "            return True\n",
        "        return False\n",
        "\n",
        "stop_words = ['</answer>']\n",
        "\n",
        "\n",
        "stop_ids = [tokenizer.encode(w) for w in stop_words]\n",
        "stop_criteria = KeywordsStoppingCriteria(stop_ids)\n",
        "\n",
        "stopping_criteria = StoppingCriteriaList([stop_criteria])\n",
        "\n",
        "\n",
        "text = \"\"\"<s>Below is an instruction that describes a task. Write a response that appropriately completes the request.\n",
        "### Instruction:\n",
        "Act as a doctor and response the input question from a patient in Thai language with XML format <answer>Your answer</answer>\n",
        "### Input:\n",
        "คือผมอยากทราบว่า อาการที่ผมเป็นตอนนี้คือกรดไหลย้อน หรือ เป็นสัญญาณของพิษสุนัขบ้าครับ ผมมีอาการ เเน่นๆ อึดอัดที่คอ เเล้วก็ กลืนน้ำลายลำบากครับ ก่อนหน้านี้มีไข้ต่ำ ปวดหัวนิดหน่อยครับ ช่วง 1 เดือนก่อน ผมทำงานเดินทางโดยจักรยานครับ ทางผ่านมีสุนัขอยู่ตามทางเยอะมากๆ (เเต่จากที่เห็นไม่ได้เห่าเเละไล่ตามผมครับ) เเล้วมาพึ่งมาเป็นอาการดังกล่าวช่วงนี้ครับ ผมจึงไม่เเน่ใจว่าเป็นกรดไหลย้อนหรือเป็นสัญญานอาการเเรกเริ่มของพิษสุนัขบ้าหรอครับ ผมอ่านเเล้วเห็นอาการคล้ายๆกันครับคุณ รบกวนด้วยนะครับ\n",
        "### Response:\"\"\"\n",
        "\n",
        "device = \"cuda:0\"\n",
        "\n",
        "lora_config = LoraConfig.from_pretrained('outputs')\n",
        "model = get_peft_model(model, lora_config)\n",
        "\n",
        "inputs = tokenizer(text, return_tensors=\"pt\").to(device)\n",
        "outputs = model_to_save.generate(\n",
        "    **inputs, max_new_tokens=400,\n",
        "    stopping_criteria=stopping_criteria,\n",
        "    pad_token_id=tokenizer.eos_token_id,\n",
        "    no_repeat_ngram_size=10,\n",
        "    forced_eos_token_id=tokenizer.eos_token_id,\n",
        "    do_sample=True,\n",
        "    top_p=0.95\n",
        ")\n",
        "print(tokenizer.decode(outputs[0], skip_special_tokens=True))"
      ],
      "metadata": {
        "id": "T1TiIH6vAlr_",
        "trusted": true
      },
      "execution_count": null,
      "outputs": []
    },
    {
      "cell_type": "markdown",
      "source": [
        "# (Optional) Push trained model to your Huggingface account"
      ],
      "metadata": {
        "id": "BSnRfi-9Evtr"
      }
    },
    {
      "cell_type": "code",
      "source": [
        "model_to_save.push_to_hub(\"typhoon-med\")\n",
        "tokenizer.push_to_hub(\"typhoon-med\")\n",
        "model_to_save.config.push_to_hub(\"typhoon-med\")"
      ],
      "metadata": {
        "trusted": true,
        "id": "3Is3b31PEvtr"
      },
      "execution_count": null,
      "outputs": []
    },
    {
      "cell_type": "code",
      "source": [
        "data = data.map(lambda samples: tokenizer(samples[\"text\"]), batched=True)"
      ],
      "metadata": {
        "id": "kEESIVXyESi-",
        "trusted": true
      },
      "execution_count": null,
      "outputs": []
    }
  ]
}