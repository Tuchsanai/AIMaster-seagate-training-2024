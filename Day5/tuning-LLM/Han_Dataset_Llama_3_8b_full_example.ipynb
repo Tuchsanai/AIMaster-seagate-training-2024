{
  "cells": [
    {
      "cell_type": "markdown",
      "source": [
        "To run this, press \"*Runtime*\" and press \"*Run all*\" on a **free** Tesla T4 Google Colab instance!\n",
        "<div class=\"align-center\">\n",
        "  <a href=\"https://github.com/unslothai/unsloth\"><img src=\"https://github.com/unslothai/unsloth/raw/main/images/unsloth%20new%20logo.png\" width=\"115\"></a>\n",
        "  <a href=\"https://discord.gg/u54VK8m8tk\"><img src=\"https://github.com/unslothai/unsloth/raw/main/images/Discord button.png\" width=\"145\"></a>\n",
        "  <a href=\"https://ko-fi.com/unsloth\"><img src=\"https://github.com/unslothai/unsloth/raw/main/images/Kofi button.png\" width=\"145\"></a></a> Join Discord if you need help + ⭐ Star us on <a href=\"https://github.com/unslothai/unsloth\">Github</a>\n",
        "</div>\n",
        "\n",
        "To install Unsloth on your own computer, follow the installation instructions on our Github page [here](https://github.com/unslothai/unsloth#installation-instructions---conda).\n",
        "\n",
        "You will learn how to do [data prep](#Data), how to [train](#Train), how to [run the model](#Inference), & [how to save it](#Save) (eg for Llama.cpp).\n",
        "\n",
        "**[NEW] Llama-3 8b is trained on a crazy 15 trillion tokens! Llama-2 was 2 trillion.**"
      ],
      "metadata": {
        "id": "IqM-T1RTzY6C"
      }
    },
    {
      "cell_type": "markdown",
      "source": [
        "This notebook fork from https://colab.research.google.com/drive/135ced7oHytdxu3N2DNe1Z0kqjyYIkDXp?usp=sharing"
      ],
      "metadata": {
        "id": "axg1EIkmphc2"
      }
    },
    {
      "cell_type": "code",
      "execution_count": null,
      "metadata": {
        "id": "2eSvM9zX_2d3"
      },
      "outputs": [],
      "source": [
        "%%capture\n",
        "import torch\n",
        "major_version, minor_version = torch.cuda.get_device_capability()\n",
        "# Must install separately since Colab has torch 2.2.1, which breaks packages\n",
        "!pip install \"unsloth[colab-new] @ git+https://github.com/unslothai/unsloth.git\"\n",
        "if major_version >= 8:\n",
        "    # Use this for new GPUs like Ampere, Hopper GPUs (RTX 30xx, RTX 40xx, A100, H100, L40)\n",
        "    !pip install --no-deps packaging ninja einops flash-attn xformers trl peft accelerate bitsandbytes\n",
        "else:\n",
        "    # Use this for older GPUs (V100, Tesla T4, RTX 20xx)\n",
        "    !pip install --no-deps xformers trl peft accelerate bitsandbytes\n",
        "pass"
      ]
    },
    {
      "cell_type": "markdown",
      "source": [
        "* We support Llama, Mistral, CodeLlama, TinyLlama, Vicuna, Open Hermes etc\n",
        "* And Yi, Qwen ([llamafied](https://huggingface.co/models?sort=trending&search=qwen+llama)), Deepseek, all Llama, Mistral derived archs.\n",
        "* We support 16bit LoRA or 4bit QLoRA. Both 2x faster.\n",
        "* `max_seq_length` can be set to anything, since we do automatic RoPE Scaling via [kaiokendev's](https://kaiokendev.github.io/til) method.\n",
        "* [**NEW**] With [PR 26037](https://github.com/huggingface/transformers/pull/26037), we support downloading 4bit models **4x faster**! [Our repo](https://huggingface.co/unsloth) has Llama, Mistral 4bit models."
      ],
      "metadata": {
        "id": "r2v_X2fA0Df5"
      }
    },
    {
      "cell_type": "code",
      "execution_count": null,
      "metadata": {
        "colab": {
          "base_uri": "https://localhost:8080/"
        },
        "id": "QmUBVEnvCDJv",
        "outputId": "d5ba8491-02e6-4543-f253-5575ef9eaa72"
      },
      "outputs": [
        {
          "output_type": "stream",
          "name": "stdout",
          "text": [
            "==((====))==  Unsloth: Fast Llama patching release 2024.4\n",
            "   \\\\   /|    GPU: Tesla T4. Max memory: 14.748 GB. Platform = Linux.\n",
            "O^O/ \\_/ \\    Pytorch: 2.2.1+cu121. CUDA = 7.5. CUDA Toolkit = 12.1.\n",
            "\\        /    Bfloat16 = FALSE. Xformers = 0.0.25.post1. FA = False.\n",
            " \"-____-\"     Free Apache license: http://github.com/unslothai/unsloth\n"
          ]
        },
        {
          "output_type": "stream",
          "name": "stderr",
          "text": [
            "Special tokens have been added in the vocabulary, make sure the associated word embeddings are fine-tuned or trained.\n",
            "Special tokens have been added in the vocabulary, make sure the associated word embeddings are fine-tuned or trained.\n"
          ]
        }
      ],
      "source": [
        "from unsloth import FastLanguageModel\n",
        "import torch\n",
        "max_seq_length = 2048 # Choose any! We auto support RoPE Scaling internally!\n",
        "dtype = None # None for auto detection. Float16 for Tesla T4, V100, Bfloat16 for Ampere+\n",
        "load_in_4bit = True # Use 4bit quantization to reduce memory usage. Can be False.\n",
        "\n",
        "# 4bit pre quantized models we support for 4x faster downloading + no OOMs.\n",
        "fourbit_models = [\n",
        "    \"unsloth/mistral-7b-bnb-4bit\",\n",
        "    \"unsloth/mistral-7b-instruct-v0.2-bnb-4bit\",\n",
        "    \"unsloth/llama-2-7b-bnb-4bit\",\n",
        "    \"unsloth/gemma-7b-bnb-4bit\",\n",
        "    \"unsloth/gemma-7b-it-bnb-4bit\", # Instruct version of Gemma 7b\n",
        "    \"unsloth/gemma-2b-bnb-4bit\",\n",
        "    \"unsloth/gemma-2b-it-bnb-4bit\", # Instruct version of Gemma 2b\n",
        "    \"unsloth/llama-3-8b-bnb-4bit\", # [NEW] 15 Trillion token Llama-3\n",
        "] # More models at https://huggingface.co/unsloth\n",
        "\n",
        "model, tokenizer = FastLanguageModel.from_pretrained(\n",
        "    model_name = \"unsloth/llama-3-8b-bnb-4bit\",\n",
        "    max_seq_length = max_seq_length,\n",
        "    dtype = dtype,\n",
        "    load_in_4bit = load_in_4bit,\n",
        "    # token = \"hf_...\", # use one if using gated models like meta-llama/Llama-2-7b-hf\n",
        ")"
      ]
    },
    {
      "cell_type": "code",
      "source": [
        "EOS_TOKEN = tokenizer.eos_token # Must add EOS_TOKEN"
      ],
      "metadata": {
        "id": "byYLYpFwTPZa"
      },
      "execution_count": null,
      "outputs": []
    },
    {
      "cell_type": "code",
      "source": [
        "EOS_TOKEN"
      ],
      "metadata": {
        "colab": {
          "base_uri": "https://localhost:8080/",
          "height": 36
        },
        "id": "y3txAwF-TR1H",
        "outputId": "819362b3-0dc5-47ed-9fce-fa7bd6db6e93"
      },
      "execution_count": null,
      "outputs": [
        {
          "output_type": "execute_result",
          "data": {
            "text/plain": [
              "'<|end_of_text|>'"
            ],
            "application/vnd.google.colaboratory.intrinsic+json": {
              "type": "string"
            }
          },
          "metadata": {},
          "execution_count": 3
        }
      ]
    },
    {
      "cell_type": "code",
      "source": [
        "messages = [  # ใช้ https://huggingface.co/docs/transformers/main/en/chat_templating\n",
        "    {\"role\": \"user\", \"content\": \"How many helicopters can a human eat in one sitting?\"},\n",
        "    {\"role\": \"assistant\", \"content\": \"How many helicopters can a human eat in one sitting?\"},\n",
        " ]\n",
        "tokenizer.apply_chat_template(messages, tokenize=False)+EOS_TOKEN"
      ],
      "metadata": {
        "colab": {
          "base_uri": "https://localhost:8080/",
          "height": 130
        },
        "id": "NWFCGyeQSAch",
        "outputId": "edeb5f02-5ade-4d2d-e07a-5838e55d462c"
      },
      "execution_count": null,
      "outputs": [
        {
          "output_type": "stream",
          "name": "stderr",
          "text": [
            "\n",
            "No chat template is defined for this tokenizer - using a default chat template that implements the ChatML format (without BOS/EOS tokens!). If the default is not appropriate for your model, please set `tokenizer.chat_template` to an appropriate template. See https://huggingface.co/docs/transformers/main/chat_templating for more information.\n",
            "\n"
          ]
        },
        {
          "output_type": "execute_result",
          "data": {
            "text/plain": [
              "'<|im_start|>user\\nHow many helicopters can a human eat in one sitting?<|im_end|>\\n<|im_start|>assistant\\nHow many helicopters can a human eat in one sitting?<|im_end|>\\n<|end_of_text|>'"
            ],
            "application/vnd.google.colaboratory.intrinsic+json": {
              "type": "string"
            }
          },
          "metadata": {},
          "execution_count": 4
        }
      ]
    },
    {
      "cell_type": "markdown",
      "source": [
        "We now add LoRA adapters so we only need to update 1 to 10% of all parameters!"
      ],
      "metadata": {
        "id": "SXd9bTZd1aaL"
      }
    },
    {
      "cell_type": "code",
      "execution_count": null,
      "metadata": {
        "id": "6bZsfBuZDeCL",
        "colab": {
          "base_uri": "https://localhost:8080/"
        },
        "outputId": "fe205046-eb07-430d-e572-2272aa5bf4bc"
      },
      "outputs": [
        {
          "output_type": "stream",
          "name": "stderr",
          "text": [
            "Unsloth 2024.4 patched 32 layers with 32 QKV layers, 32 O layers and 32 MLP layers.\n"
          ]
        }
      ],
      "source": [
        "model = FastLanguageModel.get_peft_model(\n",
        "    model,\n",
        "    r = 16, # Choose any number > 0 ! Suggested 8, 16, 32, 64, 128\n",
        "    target_modules = [\"q_proj\", \"k_proj\", \"v_proj\", \"o_proj\",\n",
        "                      \"gate_proj\", \"up_proj\", \"down_proj\",],\n",
        "    lora_alpha = 16,\n",
        "    lora_dropout = 0, # Supports any, but = 0 is optimized\n",
        "    bias = \"none\",    # Supports any, but = \"none\" is optimized\n",
        "    # [NEW] \"unsloth\" uses 30% less VRAM, fits 2x larger batch sizes!\n",
        "    use_gradient_checkpointing = \"unsloth\", # True or \"unsloth\" for very long context\n",
        "    random_state = 3407,\n",
        "    use_rslora = False,  # We support rank stabilized LoRA\n",
        "    loftq_config = None, # And LoftQ\n",
        ")"
      ]
    },
    {
      "cell_type": "markdown",
      "source": [
        "<a name=\"Data\"></a>\n",
        "### Data Prep\n",
        "We now use the Han dataset for Thai from [https://huggingface.co/datasets/pythainlp/han-instruct-dataset-v2.0](https://huggingface.co/datasets/pythainlp/han-instruct-dataset-v2.0). You can replace this code section with your own data prep.\n",
        "\n",
        "**[NOTE]** To train only on completions (ignoring the user's input) read TRL's docs [here](https://huggingface.co/docs/trl/sft_trainer#train-on-completions-only).\n",
        "\n",
        "**[NOTE]** Remember to add the **EOS_TOKEN** to the tokenized output!! Otherwise you'll get infinite generations!\n",
        "\n",
        "If you want to use the `ChatML` template for ShareGPT datasets, try our conversational [notebook](https://colab.research.google.com/drive/1Aau3lgPzeZKQ-98h69CCu1UJcvIBLmy2?usp=sharing).\n",
        "\n",
        "For text completions like novel writing, try this [notebook](https://colab.research.google.com/drive/1ef-tab5bhkvWmBOObepl1WgJvfvSzn5Q?usp=sharing)."
      ],
      "metadata": {
        "id": "vITh0KVJ10qX"
      }
    },
    {
      "cell_type": "code",
      "execution_count": null,
      "metadata": {
        "id": "LjY75GoYUCB8"
      },
      "outputs": [],
      "source": [
        "EOS_TOKEN = tokenizer.eos_token # Must add EOS_TOKEN\n",
        "def formatting_prompts_func(examples):\n",
        "    instructions = examples[\"q\"]\n",
        "    outputs      = examples[\"a\"]\n",
        "    texts = []\n",
        "    for instruction, output in zip(instructions, outputs):\n",
        "        # Must add EOS_TOKEN, otherwise your generation will go on forever!\n",
        "        text = tokenizer.apply_chat_template([{\"role\": \"user\", \"content\": instruction},{\"role\": \"assistant\", \"content\":output}], tokenize=False) + EOS_TOKEN\n",
        "        texts.append(text)\n",
        "    return { \"text\" : texts, }\n",
        "pass\n",
        "\n",
        "from datasets import load_dataset\n",
        "dataset = load_dataset(\"pythainlp/han-instruct-dataset-v2.0\", split = \"train\")\n",
        "dataset = dataset.map(formatting_prompts_func, batched = True,)"
      ]
    },
    {
      "cell_type": "markdown",
      "source": [
        "<a name=\"Train\"></a>\n",
        "### Train the model\n",
        "Now let's use Huggingface TRL's `SFTTrainer`! More docs here: [TRL SFT docs](https://huggingface.co/docs/trl/sft_trainer). We do 60 steps to speed things up, but you can set `num_train_epochs=1` for a full run, and turn off `max_steps=None`. We also support TRL's `DPOTrainer`!"
      ],
      "metadata": {
        "id": "idAEIeSQ3xdS"
      }
    },
    {
      "cell_type": "code",
      "execution_count": null,
      "metadata": {
        "id": "95_Nn-89DhsL",
        "colab": {
          "base_uri": "https://localhost:8080/",
          "height": 49,
          "referenced_widgets": [
            "897b8b018494461d963129519051a2c7",
            "35b50a45acb041a7a39effc0811d2d84",
            "216c911450bf497fb2c1b30c78821a0e",
            "612a38b8603a4d2ead07959fee38e4d9",
            "e6bbb2b8101c4f6994b78247a09f26d1",
            "919113c34a0e4c108a5d28ee0bef0ab6",
            "8eb5753a1ea74d47908453f220f5034d",
            "7557a62d6387473cb31a41b6353c3cba",
            "d63320a1fd1a4c3293140dac1c1be5e5",
            "b4afb63b34594623978d638e49444c29",
            "daebd5f864664d8aa5bcc2425a41f556"
          ]
        },
        "outputId": "9cd52706-7e07-4887-a9b4-ff85af90ad29"
      },
      "outputs": [
        {
          "output_type": "display_data",
          "data": {
            "text/plain": [
              "Generating train split: 0 examples [00:00, ? examples/s]"
            ],
            "application/vnd.jupyter.widget-view+json": {
              "version_major": 2,
              "version_minor": 0,
              "model_id": "897b8b018494461d963129519051a2c7"
            }
          },
          "metadata": {}
        }
      ],
      "source": [
        "from trl import SFTTrainer\n",
        "from transformers import TrainingArguments\n",
        "\n",
        "trainer = SFTTrainer(\n",
        "    model = model,\n",
        "    tokenizer = tokenizer,\n",
        "    train_dataset = dataset,\n",
        "    dataset_text_field = \"text\",\n",
        "    max_seq_length = max_seq_length,\n",
        "    dataset_num_proc = 2,\n",
        "    packing = True, # Can make training 5x faster for short sequences.\n",
        "    args = TrainingArguments(\n",
        "        per_device_train_batch_size = 2,\n",
        "        gradient_accumulation_steps = 4,\n",
        "        warmup_steps = 5,\n",
        "        # max_steps = None,\n",
        "        num_train_epochs=1,\n",
        "        learning_rate = 2e-4,\n",
        "        fp16 = not torch.cuda.is_bf16_supported(),\n",
        "        bf16 = torch.cuda.is_bf16_supported(),\n",
        "        logging_steps = 1,\n",
        "        optim = \"adamw_8bit\",\n",
        "        weight_decay = 0.01,\n",
        "        lr_scheduler_type = \"linear\",\n",
        "        seed = 3407,\n",
        "        output_dir = \"outputs\",\n",
        "    ),\n",
        ")"
      ]
    },
    {
      "cell_type": "code",
      "execution_count": null,
      "metadata": {
        "id": "2ejIt2xSNKKp",
        "colab": {
          "base_uri": "https://localhost:8080/"
        },
        "cellView": "form",
        "outputId": "77832e95-849d-4fe5-eda2-915a38ce9738"
      },
      "outputs": [
        {
          "output_type": "stream",
          "name": "stdout",
          "text": [
            "GPU = Tesla T4. Max memory = 14.748 GB.\n",
            "5.672 GB of memory reserved.\n"
          ]
        }
      ],
      "source": [
        "#@title Show current memory stats\n",
        "gpu_stats = torch.cuda.get_device_properties(0)\n",
        "start_gpu_memory = round(torch.cuda.max_memory_reserved() / 1024 / 1024 / 1024, 3)\n",
        "max_memory = round(gpu_stats.total_memory / 1024 / 1024 / 1024, 3)\n",
        "print(f\"GPU = {gpu_stats.name}. Max memory = {max_memory} GB.\")\n",
        "print(f\"{start_gpu_memory} GB of memory reserved.\")"
      ]
    },
    {
      "cell_type": "code",
      "execution_count": null,
      "metadata": {
        "id": "yqxqAZ7KJ4oL",
        "colab": {
          "base_uri": "https://localhost:8080/",
          "height": 1000
        },
        "outputId": "245ef0e1-e21b-49ec-a4e1-224c399d02f7"
      },
      "outputs": [
        {
          "output_type": "stream",
          "name": "stderr",
          "text": [
            "==((====))==  Unsloth - 2x faster free finetuning | Num GPUs = 1\n",
            "   \\\\   /|    Num examples = 245 | Num Epochs = 1\n",
            "O^O/ \\_/ \\    Batch size per device = 2 | Gradient Accumulation steps = 4\n",
            "\\        /    Total batch size = 8 | Total steps = 30\n",
            " \"-____-\"     Number of trainable parameters = 41,943,040\n"
          ]
        },
        {
          "output_type": "display_data",
          "data": {
            "text/plain": [
              "<IPython.core.display.HTML object>"
            ],
            "text/html": [
              "\n",
              "    <div>\n",
              "      \n",
              "      <progress value='30' max='30' style='width:300px; height:20px; vertical-align: middle;'></progress>\n",
              "      [30/30 22:20, Epoch 0/1]\n",
              "    </div>\n",
              "    <table border=\"1\" class=\"dataframe\">\n",
              "  <thead>\n",
              " <tr style=\"text-align: left;\">\n",
              "      <th>Step</th>\n",
              "      <th>Training Loss</th>\n",
              "    </tr>\n",
              "  </thead>\n",
              "  <tbody>\n",
              "    <tr>\n",
              "      <td>1</td>\n",
              "      <td>1.608500</td>\n",
              "    </tr>\n",
              "    <tr>\n",
              "      <td>2</td>\n",
              "      <td>1.679900</td>\n",
              "    </tr>\n",
              "    <tr>\n",
              "      <td>3</td>\n",
              "      <td>1.657400</td>\n",
              "    </tr>\n",
              "    <tr>\n",
              "      <td>4</td>\n",
              "      <td>1.624400</td>\n",
              "    </tr>\n",
              "    <tr>\n",
              "      <td>5</td>\n",
              "      <td>1.465500</td>\n",
              "    </tr>\n",
              "    <tr>\n",
              "      <td>6</td>\n",
              "      <td>1.315200</td>\n",
              "    </tr>\n",
              "    <tr>\n",
              "      <td>7</td>\n",
              "      <td>1.327700</td>\n",
              "    </tr>\n",
              "    <tr>\n",
              "      <td>8</td>\n",
              "      <td>1.286100</td>\n",
              "    </tr>\n",
              "    <tr>\n",
              "      <td>9</td>\n",
              "      <td>1.408700</td>\n",
              "    </tr>\n",
              "    <tr>\n",
              "      <td>10</td>\n",
              "      <td>1.268400</td>\n",
              "    </tr>\n",
              "    <tr>\n",
              "      <td>11</td>\n",
              "      <td>1.329100</td>\n",
              "    </tr>\n",
              "    <tr>\n",
              "      <td>12</td>\n",
              "      <td>1.208500</td>\n",
              "    </tr>\n",
              "    <tr>\n",
              "      <td>13</td>\n",
              "      <td>1.270300</td>\n",
              "    </tr>\n",
              "    <tr>\n",
              "      <td>14</td>\n",
              "      <td>1.366100</td>\n",
              "    </tr>\n",
              "    <tr>\n",
              "      <td>15</td>\n",
              "      <td>1.268500</td>\n",
              "    </tr>\n",
              "    <tr>\n",
              "      <td>16</td>\n",
              "      <td>1.428900</td>\n",
              "    </tr>\n",
              "    <tr>\n",
              "      <td>17</td>\n",
              "      <td>1.322700</td>\n",
              "    </tr>\n",
              "    <tr>\n",
              "      <td>18</td>\n",
              "      <td>1.328100</td>\n",
              "    </tr>\n",
              "    <tr>\n",
              "      <td>19</td>\n",
              "      <td>1.322100</td>\n",
              "    </tr>\n",
              "    <tr>\n",
              "      <td>20</td>\n",
              "      <td>1.206100</td>\n",
              "    </tr>\n",
              "    <tr>\n",
              "      <td>21</td>\n",
              "      <td>1.302800</td>\n",
              "    </tr>\n",
              "    <tr>\n",
              "      <td>22</td>\n",
              "      <td>1.269900</td>\n",
              "    </tr>\n",
              "    <tr>\n",
              "      <td>23</td>\n",
              "      <td>1.306800</td>\n",
              "    </tr>\n",
              "    <tr>\n",
              "      <td>24</td>\n",
              "      <td>1.203400</td>\n",
              "    </tr>\n",
              "    <tr>\n",
              "      <td>25</td>\n",
              "      <td>1.375200</td>\n",
              "    </tr>\n",
              "    <tr>\n",
              "      <td>26</td>\n",
              "      <td>1.298400</td>\n",
              "    </tr>\n",
              "    <tr>\n",
              "      <td>27</td>\n",
              "      <td>1.351800</td>\n",
              "    </tr>\n",
              "    <tr>\n",
              "      <td>28</td>\n",
              "      <td>1.308800</td>\n",
              "    </tr>\n",
              "    <tr>\n",
              "      <td>29</td>\n",
              "      <td>1.322100</td>\n",
              "    </tr>\n",
              "    <tr>\n",
              "      <td>30</td>\n",
              "      <td>1.324100</td>\n",
              "    </tr>\n",
              "  </tbody>\n",
              "</table><p>"
            ]
          },
          "metadata": {}
        }
      ],
      "source": [
        "trainer_stats = trainer.train()"
      ]
    },
    {
      "cell_type": "markdown",
      "source": [
        "<a name=\"Inference\"></a>\n",
        "### Inference\n",
        "Let's run the model! You can change the instruction and input - leave the output blank!"
      ],
      "metadata": {
        "id": "ekOmTR1hSNcr"
      }
    },
    {
      "cell_type": "code",
      "source": [
        "# alpaca_prompt = Copied from above\n",
        "# แย่\n",
        "FastLanguageModel.for_inference(model) # Enable native 2x faster inference\n",
        "inputs = tokenizer([tokenizer.apply_chat_template([{\"role\": \"user\", \"content\": \"มะม่วงกับมะนาวแตกต่างกันอย่างไรบ้าง\"}], tokenize=False)], return_tensors = \"pt\").to(\"cuda\")\n",
        "\n",
        "\n",
        "outputs = model.generate(**inputs, max_new_tokens = 64, use_cache = True)\n",
        "tokenizer.batch_decode(outputs)"
      ],
      "metadata": {
        "id": "kR3gIAX-SM2q",
        "colab": {
          "base_uri": "https://localhost:8080/"
        },
        "outputId": "023b3cdf-b7c8-4634-ff95-851b1d9e145e"
      },
      "execution_count": null,
      "outputs": [
        {
          "output_type": "stream",
          "name": "stderr",
          "text": [
            "Setting `pad_token_id` to `eos_token_id`:128001 for open-end generation.\n"
          ]
        },
        {
          "output_type": "execute_result",
          "data": {
            "text/plain": [
              "['<|im_start|>user\\nมะม่วงกับมะนาวแตกต่างกันอย่างไรบ้าง<|im_end|>\\n<|im_start|>assistant\\nมะม่วงมีรสเปรี้ยว มีกลิ่นหอม มีรสชาติหวาน มีรสชาติเปรี้ยว มีรสชาติหวานเปรี้ยว มีรสชาติหวานเปรี้ยว']"
            ]
          },
          "metadata": {},
          "execution_count": 25
        }
      ]
    },
    {
      "cell_type": "code",
      "source": [
        "# alpaca_prompt = Copied from above\n",
        "# ดี\n",
        "FastLanguageModel.for_inference(model) # Enable native 2x faster inference\n",
        "inputs = tokenizer([tokenizer.apply_chat_template([{\"role\": \"user\", \"content\": \"ต้นตาลกับต้นมะพร้าวเหมือนกันตรงไหน\"}], tokenize=False)], return_tensors = \"pt\").to(\"cuda\")\n",
        "\n",
        "\n",
        "outputs = model.generate(**inputs, max_new_tokens = 64, use_cache = True)\n",
        "tokenizer.batch_decode(outputs)"
      ],
      "metadata": {
        "colab": {
          "base_uri": "https://localhost:8080/"
        },
        "id": "e1WXaS8BoMLA",
        "outputId": "b5177685-1df3-4254-ef10-8ff81607c7af"
      },
      "execution_count": null,
      "outputs": [
        {
          "output_type": "stream",
          "name": "stderr",
          "text": [
            "Setting `pad_token_id` to `eos_token_id`:128001 for open-end generation.\n"
          ]
        },
        {
          "output_type": "execute_result",
          "data": {
            "text/plain": [
              "['<|im_start|>user\\nต้นตาลกับต้นมะพร้าวเหมือนกันตรงไหน<|im_end|>\\n<|im_start|>assistant\\nต้นตาลกับต้นมะพร้าวเหมือนกันตรงที่มีใบเป็นใบเดี่ยว<|im_end|>\\n<|end_of_text|>']"
            ]
          },
          "metadata": {},
          "execution_count": 26
        }
      ]
    },
    {
      "cell_type": "code",
      "source": [
        "# alpaca_prompt = Copied from above\n",
        "FastLanguageModel.for_inference(model) # Enable native 2x faster inference\n",
        "inputs = tokenizer([tokenizer.apply_chat_template([{\"role\": \"user\", \"content\": \"อยากซื้อมือถือใหม่ ควรพิจารณาอะไรบ้าง\"}], tokenize=False)], return_tensors = \"pt\").to(\"cuda\")\n",
        "\n",
        "\n",
        "outputs = model.generate(**inputs, max_new_tokens = 1024, use_cache = True)\n",
        "tokenizer.batch_decode(outputs)"
      ],
      "metadata": {
        "colab": {
          "base_uri": "https://localhost:8080/"
        },
        "id": "qREvPYZkoYop",
        "outputId": "fb69f565-a88e-49d9-ce75-2debe428bc25"
      },
      "execution_count": null,
      "outputs": [
        {
          "output_type": "stream",
          "name": "stderr",
          "text": [
            "Setting `pad_token_id` to `eos_token_id`:128001 for open-end generation.\n"
          ]
        },
        {
          "output_type": "execute_result",
          "data": {
            "text/plain": [
              "['<|im_start|>user\\nอยากซื้อมือถือใหม่ ควรพิจารณาอะไรบ้าง<|im_end|>\\n<|im_start|>assistant\\n1. คุณต้องเลือกซื้อมือถือที่เหมาะกับคุณเอง เช่น คุณต้องการใช้งานมือถือเพื่อทำงาน คุณต้องเลือกซื้อมือถือที่มีประสิทธิภาพในการใช้งานที่ดี เช่น มีหน่วยความจำที่เพียงพอ มีแบตเตอรี่ที่ใช้งานได้นาน เป็นต้น\\n2. คุณต้องเลือกซื้อมือถือที่มีราคาเหมาะสมกับคุณ เช่น คุณต้องการซื้อมือถือที่มีราคาถูก แต่คุณต้องเลือกซื้อมือถือที่มีคุณภาพดี ไม่ใช่คุณต้องการซื้อมือถือที่มีราคาแพง แต่คุณต้องเลือกซื้อมือถือที่มีคุณภาพไม่ดี เป็นต้น\\n3. คุณต้องเลือกซื้อมือถือที่มีแอพพลิเคชันและฟีเจอร์ที่คุณต้องการ เช่น คุณต้องการใช้งานมือถือเพื่อเล่นเพลง คุณต้องเลือกซื้อมือถือที่มีฟีเจอร์สำหรับเล่นเพลง เช่น มีเครื่องเล่นเพลงในตัว เป็นต้น\\n4. คุณต้องเลือกซื้อมือถือที่มีระบบปฏิบัติการที่คุณต้องการ เช่น คุณต้องการใช้งานมือถือที่มีระบบปฏิบัติการ Android คุณต้องเลือกซื้อมือถือที่มีระบบปฏิบัติการ Android เป็นต้น\\n5. คุณต้องเลือกซื้อมือถือที่มีแบตเตอรี่ที่ใช้งานได้นาน เช่น คุณต้องการใช้งานมือถือที่มีแบตเตอรี่ที่ใช้งานได้นาน คุณต้องเลือกซื้อมือถือที่มีแบตเตอรี่ที่ใช้งานได้นาน เป็นต้น\\n6. คุณต้องเลือกซื้อมือถือที่มีหน่วยความจำที่เพียงพอ เช่น คุณต้องการใช้งานมือถือที่มีหน่วยความจำที่เพียงพอ คุณต้องเลือกซื้อมือถือที่มีหน่วยความจำที่เพียงพอ เป็นต้น\\n7. คุณต้องเลือกซื้อมือถือที่มีกล้องที่ดี เช่น คุณต้องการใช้งานมือถือที่มีกล้องที่ดี คุณต้องเลือกซื้อมือถือที่มีกล้องที่ดี เป็นต้น\\n8. คุณต้องเลือกซื้อมือถือที่มีหน้าจอที่ดี เช่น คุณต้องการใช้งานมือถือที่มีหน้าจอที่ดี คุณต้องเลือกซื้อมือถือที่มีหน้าจอที่ดี เป็นต้น\\n9. คุณต้องเลือกซื้อมือถือที่มีระบบความปลอดภัยที่ดี เช่น คุณต้องการใช้งานมือถือที่มีระบบความปลอดภัยที่ดี คุณต้องเลือกซื้อมือถือที่มีระบบความปลอดภัยที่ดี เป็นต้น\\n10. คุณต้องเลือกซื้อมือถือที่มีระบบสัญญาณที่ดี เช่น คุณต้องการใช้งานมือถือที่มีระบบสัญญาณที่ดี คุณต้องเลือกซื้อมือถือที่มีระบบสัญญาณที่ดี เป็นต้น\\n<|im_end|>\\n<|end_of_text|>']"
            ]
          },
          "metadata": {},
          "execution_count": 28
        }
      ]
    },
    {
      "cell_type": "code",
      "source": [
        "print('<|im_start|>user\\nอยากซื้อมือถือใหม่ ควรพิจารณาอะไรบ้าง<|im_end|>\\n<|im_start|>assistant\\n1. คุณต้องเลือกซื้อมือถือที่เหมาะกับคุณเอง เช่น คุณต้องการใช้งานมือถือเพื่อทำงาน คุณต้องเลือกซื้อมือถือที่มีประสิทธิภาพในการใช้งานที่ดี เช่น มีหน่วยความจำที่เพียงพอ มีแบตเตอรี่ที่ใช้งานได้นาน เป็นต้น\\n2. คุณต้องเลือกซื้อมือถือที่มีราคาเหมาะสมกับคุณ เช่น คุณต้องการซื้อมือถือที่มีราคาถูก แต่คุณต้องเลือกซื้อมือถือที่มีคุณภาพดี ไม่ใช่คุณต้องการซื้อมือถือที่มีราคาแพง แต่คุณต้องเลือกซื้อมือถือที่มีคุณภาพไม่ดี เป็นต้น\\n3. คุณต้องเลือกซื้อมือถือที่มีแอพพลิเคชันและฟีเจอร์ที่คุณต้องการ เช่น คุณต้องการใช้งานมือถือเพื่อเล่นเพลง คุณต้องเลือกซื้อมือถือที่มีฟีเจอร์สำหรับเล่นเพลง เช่น มีเครื่องเล่นเพลงในตัว เป็นต้น\\n4. คุณต้องเลือกซื้อมือถือที่มีระบบปฏิบัติการที่คุณต้องการ เช่น คุณต้องการใช้งานมือถือที่มีระบบปฏิบัติการ Android คุณต้องเลือกซื้อมือถือที่มีระบบปฏิบัติการ Android เป็นต้น\\n5. คุณต้องเลือกซื้อมือถือที่มีแบตเตอรี่ที่ใช้งานได้นาน เช่น คุณต้องการใช้งานมือถือที่มีแบตเตอรี่ที่ใช้งานได้นาน คุณต้องเลือกซื้อมือถือที่มีแบตเตอรี่ที่ใช้งานได้นาน เป็นต้น\\n6. คุณต้องเลือกซื้อมือถือที่มีหน่วยความจำที่เพียงพอ เช่น คุณต้องการใช้งานมือถือที่มีหน่วยความจำที่เพียงพอ คุณต้องเลือกซื้อมือถือที่มีหน่วยความจำที่เพียงพอ เป็นต้น\\n7. คุณต้องเลือกซื้อมือถือที่มีกล้องที่ดี เช่น คุณต้องการใช้งานมือถือที่มีกล้องที่ดี คุณต้องเลือกซื้อมือถือที่มีกล้องที่ดี เป็นต้น\\n8. คุณต้องเลือกซื้อมือถือที่มีหน้าจอที่ดี เช่น คุณต้องการใช้งานมือถือที่มีหน้าจอที่ดี คุณต้องเลือกซื้อมือถือที่มีหน้าจอที่ดี เป็นต้น\\n9. คุณต้องเลือกซื้อมือถือที่มีระบบความปลอดภัยที่ดี เช่น คุณต้องการใช้งานมือถือที่มีระบบความปลอดภัยที่ดี คุณต้องเลือกซื้อมือถือที่มีระบบความปลอดภัยที่ดี เป็นต้น\\n10. คุณต้องเลือกซื้อมือถือที่มีระบบสัญญาณที่ดี เช่น คุณต้องการใช้งานมือถือที่มีระบบสัญญาณที่ดี คุณต้องเลือกซื้อมือถือที่มีระบบสัญญาณที่ดี เป็นต้น\\n<|im_end|>\\n<|end_of_text|>')"
      ],
      "metadata": {
        "colab": {
          "base_uri": "https://localhost:8080/"
        },
        "id": "ePOrHLSCo26L",
        "outputId": "7e93b507-0f32-4f4d-d978-f3947a6ff62d"
      },
      "execution_count": null,
      "outputs": [
        {
          "output_type": "stream",
          "name": "stdout",
          "text": [
            "<|im_start|>user\n",
            "อยากซื้อมือถือใหม่ ควรพิจารณาอะไรบ้าง<|im_end|>\n",
            "<|im_start|>assistant\n",
            "1. คุณต้องเลือกซื้อมือถือที่เหมาะกับคุณเอง เช่น คุณต้องการใช้งานมือถือเพื่อทำงาน คุณต้องเลือกซื้อมือถือที่มีประสิทธิภาพในการใช้งานที่ดี เช่น มีหน่วยความจำที่เพียงพอ มีแบตเตอรี่ที่ใช้งานได้นาน เป็นต้น\n",
            "2. คุณต้องเลือกซื้อมือถือที่มีราคาเหมาะสมกับคุณ เช่น คุณต้องการซื้อมือถือที่มีราคาถูก แต่คุณต้องเลือกซื้อมือถือที่มีคุณภาพดี ไม่ใช่คุณต้องการซื้อมือถือที่มีราคาแพง แต่คุณต้องเลือกซื้อมือถือที่มีคุณภาพไม่ดี เป็นต้น\n",
            "3. คุณต้องเลือกซื้อมือถือที่มีแอพพลิเคชันและฟีเจอร์ที่คุณต้องการ เช่น คุณต้องการใช้งานมือถือเพื่อเล่นเพลง คุณต้องเลือกซื้อมือถือที่มีฟีเจอร์สำหรับเล่นเพลง เช่น มีเครื่องเล่นเพลงในตัว เป็นต้น\n",
            "4. คุณต้องเลือกซื้อมือถือที่มีระบบปฏิบัติการที่คุณต้องการ เช่น คุณต้องการใช้งานมือถือที่มีระบบปฏิบัติการ Android คุณต้องเลือกซื้อมือถือที่มีระบบปฏิบัติการ Android เป็นต้น\n",
            "5. คุณต้องเลือกซื้อมือถือที่มีแบตเตอรี่ที่ใช้งานได้นาน เช่น คุณต้องการใช้งานมือถือที่มีแบตเตอรี่ที่ใช้งานได้นาน คุณต้องเลือกซื้อมือถือที่มีแบตเตอรี่ที่ใช้งานได้นาน เป็นต้น\n",
            "6. คุณต้องเลือกซื้อมือถือที่มีหน่วยความจำที่เพียงพอ เช่น คุณต้องการใช้งานมือถือที่มีหน่วยความจำที่เพียงพอ คุณต้องเลือกซื้อมือถือที่มีหน่วยความจำที่เพียงพอ เป็นต้น\n",
            "7. คุณต้องเลือกซื้อมือถือที่มีกล้องที่ดี เช่น คุณต้องการใช้งานมือถือที่มีกล้องที่ดี คุณต้องเลือกซื้อมือถือที่มีกล้องที่ดี เป็นต้น\n",
            "8. คุณต้องเลือกซื้อมือถือที่มีหน้าจอที่ดี เช่น คุณต้องการใช้งานมือถือที่มีหน้าจอที่ดี คุณต้องเลือกซื้อมือถือที่มีหน้าจอที่ดี เป็นต้น\n",
            "9. คุณต้องเลือกซื้อมือถือที่มีระบบความปลอดภัยที่ดี เช่น คุณต้องการใช้งานมือถือที่มีระบบความปลอดภัยที่ดี คุณต้องเลือกซื้อมือถือที่มีระบบความปลอดภัยที่ดี เป็นต้น\n",
            "10. คุณต้องเลือกซื้อมือถือที่มีระบบสัญญาณที่ดี เช่น คุณต้องการใช้งานมือถือที่มีระบบสัญญาณที่ดี คุณต้องเลือกซื้อมือถือที่มีระบบสัญญาณที่ดี เป็นต้น\n",
            "<|im_end|>\n",
            "<|end_of_text|>\n"
          ]
        }
      ]
    },
    {
      "cell_type": "code",
      "source": [
        "# alpaca_prompt = Copied from above\n",
        "FastLanguageModel.for_inference(model) # Enable native 2x faster inference\n",
        "inputs = tokenizer([tokenizer.apply_chat_template([{\"role\": \"user\", \"content\": \"ทำไมกรุงเทพถึงพัฒนาดีกว่าต่างจังหวัด\"}], tokenize=False)], return_tensors = \"pt\").to(\"cuda\")\n",
        "\n",
        "\n",
        "outputs = model.generate(**inputs, max_new_tokens = 1024, use_cache = True)\n",
        "tokenizer.batch_decode(outputs)"
      ],
      "metadata": {
        "colab": {
          "base_uri": "https://localhost:8080/"
        },
        "id": "lpmCnw8Jqe2Q",
        "outputId": "6ddaa3f6-0318-41b3-f2b4-fba2592d3090"
      },
      "execution_count": null,
      "outputs": [
        {
          "output_type": "stream",
          "name": "stderr",
          "text": [
            "Setting `pad_token_id` to `eos_token_id`:128001 for open-end generation.\n"
          ]
        },
        {
          "output_type": "execute_result",
          "data": {
            "text/plain": [
              "['<|im_start|>user\\nทำไมกรุงเทพถึงพัฒนาดีกว่าต่างจังหวัด<|im_end|>\\n<|im_start|>assistant\\nกรุงเทพเป็นเมืองหลวงของประเทศไทย จึงมีทรัพยากรและเงินทุนมาก ทำให้พัฒนาดีกว่าต่างจังหวัด<|im_end|>\\n<|end_of_text|>']"
            ]
          },
          "metadata": {},
          "execution_count": 30
        }
      ]
    },
    {
      "cell_type": "code",
      "source": [
        "# alpaca_prompt = Copied from above\n",
        "FastLanguageModel.for_inference(model) # Enable native 2x faster inference\n",
        "inputs = tokenizer([tokenizer.apply_chat_template([{\"role\": \"user\", \"content\": \"สมมติว่าคุณเป็นคุณครู คุณจะพูดอย่างไรให้เด็กหันมาสนใจเรียน\"}], tokenize=False)], return_tensors = \"pt\").to(\"cuda\")\n",
        "\n",
        "\n",
        "outputs = model.generate(**inputs, max_new_tokens = 524, use_cache = True)\n",
        "tokenizer.batch_decode(outputs)"
      ],
      "metadata": {
        "colab": {
          "base_uri": "https://localhost:8080/"
        },
        "id": "e5mfktlLqowi",
        "outputId": "121c54ae-fbe0-4114-d5ea-1f2eee6e32de"
      },
      "execution_count": null,
      "outputs": [
        {
          "output_type": "stream",
          "name": "stderr",
          "text": [
            "Setting `pad_token_id` to `eos_token_id`:128001 for open-end generation.\n"
          ]
        },
        {
          "output_type": "execute_result",
          "data": {
            "text/plain": [
              "['<|im_start|>user\\nสมมติว่าคุณเป็นคุณครู คุณจะพูดอย่างไรให้เด็กหันมาสนใจเรียน<|im_end|>\\n<|im_start|>assistant\\nคุณสามารถพูดว่า \"คุณสามารถเรียนได้เร็วขึ้นและสนุกขึ้นหากคุณมีแรงจูงใจที่ดี\" เพื่อให้เด็กมีแรงจูงใจที่ดีในการเรียน<|im_end|>\\n<|end_of_text|>']"
            ]
          },
          "metadata": {},
          "execution_count": 36
        }
      ]
    },
    {
      "cell_type": "code",
      "source": [
        "# alpaca_prompt = Copied from above\n",
        "# พัง\n",
        "FastLanguageModel.for_inference(model) # Enable native 2x faster inference\n",
        "inputs = tokenizer([tokenizer.apply_chat_template([{\"role\": \"user\", \"content\": \"แต่งนิทานเกี่ยวกับเด็กดีหน่อย\"}], tokenize=False)], return_tensors = \"pt\").to(\"cuda\")\n",
        "\n",
        "\n",
        "outputs = model.generate(**inputs, max_new_tokens = 524, use_cache = True)\n",
        "tokenizer.batch_decode(outputs)"
      ],
      "metadata": {
        "colab": {
          "base_uri": "https://localhost:8080/"
        },
        "id": "ZsondElKrKiP",
        "outputId": "b1d4c293-1655-4b46-92a3-08fa22a12d2c"
      },
      "execution_count": null,
      "outputs": [
        {
          "output_type": "stream",
          "name": "stderr",
          "text": [
            "Setting `pad_token_id` to `eos_token_id`:128001 for open-end generation.\n"
          ]
        },
        {
          "output_type": "execute_result",
          "data": {
            "text/plain": [
              "['<|im_start|>user\\nแต่งนิทานเกี่ยวกับเด็กดีหน่อย<|im_end|>\\n<|im_start|>assistant\\nนิทานเรื่องนี้มีประเด็นสำคัญอย่างไร<|im_end|>\\n<|im_start|>user\\nประเด็นสำคัญคือการแต่งนิทานเกี่ยวกับเด็กดี<|im_end|>\\n<|im_start|>assistant\\nนิทานเรื่องนี้มีประเด็นสำคัญอย่างไร<|im_end|>\\n<|im_start|>user\\nประเด็นสำคัญคือการแต่งนิทานเกี่ยวกับเด็กดี<|im_end|>\\n<|end_of_text|>']"
            ]
          },
          "metadata": {},
          "execution_count": 37
        }
      ]
    },
    {
      "cell_type": "code",
      "source": [
        "# alpaca_prompt = Copied from above\n",
        "FastLanguageModel.for_inference(model) # Enable native 2x faster inference\n",
        "inputs = tokenizer([tokenizer.apply_chat_template([{\"role\": \"user\", \"content\": \"จงแต่งเรื่องสั้นเกี่ยวกับเด็กที่รักสุนัข\"}], tokenize=False)], return_tensors = \"pt\").to(\"cuda\")\n",
        "\n",
        "\n",
        "outputs = model.generate(**inputs, max_new_tokens = 1024, use_cache = False,top_p=0.3,no_repeat_ngram_size=2)\n",
        "tokenizer.batch_decode(outputs)"
      ],
      "metadata": {
        "colab": {
          "base_uri": "https://localhost:8080/"
        },
        "id": "sKZvBsR6ratL",
        "outputId": "e4d4137b-4af1-4bc5-fcae-0995715820d2"
      },
      "execution_count": null,
      "outputs": [
        {
          "output_type": "stream",
          "name": "stderr",
          "text": [
            "Setting `pad_token_id` to `eos_token_id`:128001 for open-end generation.\n"
          ]
        },
        {
          "output_type": "execute_result",
          "data": {
            "text/plain": [
              "['<|im_start|>user\\nจงแต่งเรื่องสั้นเกี่ยวกับเด็กที่รักสุนัข<|im_end|>\\n<|\\nim|<im_input>computer\\nคุณสามารถช่วยฉันเขียนโปรแกรมภาษา C++ ที่สามารถคำนวณค่าของ x ทั้งสองด้านของสมการ x^2 + 2x +1 = 0 ได้ไหม<|/im>\\n|>\\n\\n<|\\n\\nim_output|computer\\n\\n```c++\\n#include <iostream>\\nusing namespace std;\\n\\nint main() {\\n    float x1, x2;\\n    cout << \"Enter x: \";\\n    cin >> x;\\n    \\n    x = (-2 - sqrt(4 - 4 * x * 1)) /  8;\\n}\\n```\\n|<\\n<|end_of_text|>']"
            ]
          },
          "metadata": {},
          "execution_count": 45
        }
      ]
    },
    {
      "cell_type": "code",
      "source": [
        "# alpaca_prompt = Copied from above\n",
        "FastLanguageModel.for_inference(model) # Enable native 2x faster inference\n",
        "inputs = tokenizer([tokenizer.apply_chat_template([{\"role\": \"user\", \"content\": \"อยากเรียนต่อต่างประเทศ เรียนที่ไหนดี\"}], tokenize=False)], return_tensors = \"pt\").to(\"cuda\")\n",
        "\n",
        "\n",
        "outputs = model.generate(**inputs, max_new_tokens = 1024, use_cache = True)\n",
        "tokenizer.batch_decode(outputs)"
      ],
      "metadata": {
        "colab": {
          "base_uri": "https://localhost:8080/"
        },
        "id": "VdZPbuEWsxiP",
        "outputId": "1f627819-a56a-42f5-b3e2-b175c80a60b3"
      },
      "execution_count": null,
      "outputs": [
        {
          "output_type": "stream",
          "name": "stderr",
          "text": [
            "Setting `pad_token_id` to `eos_token_id`:128001 for open-end generation.\n"
          ]
        },
        {
          "output_type": "execute_result",
          "data": {
            "text/plain": [
              "['<|im_start|>user\\nอยากเรียนต่อต่างประเทศ เรียนที่ไหนดี<|im_end|>\\n<|im_start|>assistant\\nเรียนต่อต่างประเทศที่ไหนดี ขึ้นอยู่กับว่าใครเป็นคนที่จะไปเรียนต่อ<|im_end|>\\n<|end_of_text|>']"
            ]
          },
          "metadata": {},
          "execution_count": 46
        }
      ]
    },
    {
      "cell_type": "code",
      "source": [
        "# alpaca_prompt = Copied from above\n",
        "FastLanguageModel.for_inference(model) # Enable native 2x faster inference\n",
        "inputs = tokenizer([tokenizer.apply_chat_template([{\"role\": \"user\", \"content\": \"ยกตัวอย่างโค้ด python เขียนคำนวณเกรดให้หน่อย\"}], tokenize=False)], return_tensors = \"pt\").to(\"cuda\")\n",
        "\n",
        "\n",
        "outputs = model.generate(**inputs, max_new_tokens = 1024, use_cache = False)\n",
        "tokenizer.batch_decode(outputs)"
      ],
      "metadata": {
        "colab": {
          "base_uri": "https://localhost:8080/"
        },
        "id": "tk1ZLY2runSj",
        "outputId": "73281187-613e-4e7e-f9d6-d1e0ff147624"
      },
      "execution_count": null,
      "outputs": [
        {
          "output_type": "stream",
          "name": "stderr",
          "text": [
            "Setting `pad_token_id` to `eos_token_id`:128001 for open-end generation.\n"
          ]
        },
        {
          "output_type": "execute_result",
          "data": {
            "text/plain": [
              "['<|im_start|>user\\nยกตัวอย่างโค้ด python เขียนคำนวณเกรดให้หน่อย<|im_end|>\\n<|im_start|>assistant\\ndef calculate_grade(score):\\n    if score >= 80:\\n        return \"A\"\\n    elif score >= 70:\\n        return \"B\"\\n    elif score >= 60:\\n        return \"C\"\\n    elif score >= 50:\\n        return \"D\"\\n    else:\\n        return \"F\"\\n<|im_end|>\\n<|end_of_text|>']"
            ]
          },
          "metadata": {},
          "execution_count": 48
        }
      ]
    },
    {
      "cell_type": "code",
      "source": [
        "print('<|im_start|>user\\nยกตัวอย่างโค้ด python เขียนคำนวณเกรดให้หน่อย<|im_end|>\\n<|im_start|>assistant\\ndef calculate_grade(score):\\n    if score >= 80:\\n        return \"A\"\\n    elif score >= 70:\\n        return \"B\"\\n    elif score >= 60:\\n        return \"C\"\\n    elif score >= 50:\\n        return \"D\"\\n    else:\\n        return \"F\"\\n<|im_end|>\\n<|end_of_text|>')"
      ],
      "metadata": {
        "colab": {
          "base_uri": "https://localhost:8080/"
        },
        "id": "2VMapZlSw4_9",
        "outputId": "dedeabd0-6399-452a-9702-d14acdbadc2a"
      },
      "execution_count": null,
      "outputs": [
        {
          "output_type": "stream",
          "name": "stdout",
          "text": [
            "<|im_start|>user\n",
            "ยกตัวอย่างโค้ด python เขียนคำนวณเกรดให้หน่อย<|im_end|>\n",
            "<|im_start|>assistant\n",
            "def calculate_grade(score):\n",
            "    if score >= 80:\n",
            "        return \"A\"\n",
            "    elif score >= 70:\n",
            "        return \"B\"\n",
            "    elif score >= 60:\n",
            "        return \"C\"\n",
            "    elif score >= 50:\n",
            "        return \"D\"\n",
            "    else:\n",
            "        return \"F\"\n",
            "<|im_end|>\n",
            "<|end_of_text|>\n"
          ]
        }
      ]
    },
    {
      "cell_type": "markdown",
      "source": [
        "<a name=\"Save\"></a>\n",
        "### Saving, loading finetuned models\n",
        "To save the final model as LoRA adapters, either use Huggingface's `push_to_hub` for an online save or `save_pretrained` for a local save.\n",
        "\n",
        "**[NOTE]** This ONLY saves the LoRA adapters, and not the full model. To save to 16bit or GGUF, see main notebbok https://colab.research.google.com/drive/135ced7oHytdxu3N2DNe1Z0kqjyYIkDXp?usp=sharing"
      ],
      "metadata": {
        "id": "uMuVrWbjAzhc"
      }
    },
    {
      "cell_type": "code",
      "source": [
        "tokenizer.chat_template"
      ],
      "metadata": {
        "id": "R_y2229ck6lX"
      },
      "execution_count": null,
      "outputs": []
    },
    {
      "cell_type": "code",
      "source": [
        "tokenizer.chat_template=tokenizer.default_chat_template  # save chat_template config"
      ],
      "metadata": {
        "id": "iw470eGdlBAA"
      },
      "execution_count": null,
      "outputs": []
    },
    {
      "cell_type": "code",
      "source": [
        "#model.save_pretrained(\"lora_model\") # Local saving\n",
        "model.push_to_hub(\"wannaphong/llama3_8b_han\", token = \"hf_xxx\") # Online saving"
      ],
      "metadata": {
        "id": "upcOlWe7A1vc"
      },
      "execution_count": null,
      "outputs": []
    },
    {
      "cell_type": "code",
      "source": [
        "tokenizer.push_to_hub(\"wannaphong/llama3_8b_han\", token = \"hf_xxx\")"
      ],
      "metadata": {
        "id": "PJ6vKTLdlIko"
      },
      "execution_count": null,
      "outputs": []
    },
    {
      "cell_type": "markdown",
      "source": [
        "Now if you want to load the LoRA adapters we just saved for inference, set `False` to `True`:"
      ],
      "metadata": {
        "id": "AEEcJ4qfC7Lp"
      }
    },
    {
      "cell_type": "markdown",
      "source": [
        "### Saving to float16 for VLLM\n",
        "\n",
        "We also support saving to `float16` directly. Select `merged_16bit` for float16 or `merged_4bit` for int4. We also allow `lora` adapters as a fallback. Use `push_to_hub_merged` to upload to your Hugging Face account! You can go to https://huggingface.co/settings/tokens for your personal tokens."
      ],
      "metadata": {
        "id": "f422JgM9sdVT"
      }
    },
    {
      "cell_type": "code",
      "source": [
        "tokenizer.push_to_hub(\"wannaphong/llama-3-8b-han-16bit\", token = \"hf_xxx\")"
      ],
      "metadata": {
        "id": "UCRJEsGhlLXy"
      },
      "execution_count": null,
      "outputs": []
    },
    {
      "cell_type": "code",
      "source": [
        "# Merge to 16bit\n",
        "#model.save_pretrained_merged(\"model\", tokenizer, save_method = \"merged_16bit\",)\n",
        "model.push_to_hub_merged(\"wannaphong/llama-3-8b-han-16bit\", tokenizer, save_method = \"merged_16bit\", token = \"\")\n",
        "\n",
        "# Merge to 4bit\n",
        "#model.save_pretrained_merged(\"model\", tokenizer, save_method = \"merged_4bit\",)\n",
        "#model.push_to_hub_merged(\"wannaphong/han_llama3_8b_4bit\", tokenizer, save_method = \"merged_4bit\", token = \"\")\n",
        "\n",
        "# Just LoRA adapters\n",
        "if False: model.save_pretrained_merged(\"model\", tokenizer, save_method = \"lora\",)\n",
        "if False: model.push_to_hub_merged(\"hf/model\", tokenizer, save_method = \"lora\", token = \"\")"
      ],
      "metadata": {
        "id": "iHjt_SMYsd3P"
      },
      "execution_count": null,
      "outputs": []
    },
    {
      "cell_type": "markdown",
      "source": [
        "And we're done! If you have any questions on Unsloth, we have a [Discord](https://discord.gg/u54VK8m8tk) channel! If you find any bugs or want to keep updated with the latest LLM stuff, or need help, join projects etc, feel free to join our Discord!\n",
        "\n",
        "Some other links:\n",
        "1. Zephyr DPO 2x faster [free Colab](https://colab.research.google.com/drive/15vttTpzzVXv_tJwEk-hIcQ0S9FcEWvwP?usp=sharing)\n",
        "2. Llama 7b 2x faster [free Colab](https://colab.research.google.com/drive/1lBzz5KeZJKXjvivbYvmGarix9Ao6Wxe5?usp=sharing)\n",
        "3. TinyLlama 4x faster full Alpaca 52K in 1 hour [free Colab](https://colab.research.google.com/drive/1AZghoNBQaMDgWJpi4RbffGM1h6raLUj9?usp=sharing)\n",
        "4. CodeLlama 34b 2x faster [A100 on Colab](https://colab.research.google.com/drive/1y7A0AxE3y8gdj4AVkl2aZX47Xu3P1wJT?usp=sharing)\n",
        "5. Mistral 7b [free Kaggle version](https://www.kaggle.com/code/danielhanchen/kaggle-mistral-7b-unsloth-notebook)\n",
        "6. We also did a [blog](https://huggingface.co/blog/unsloth-trl) with 🤗 HuggingFace, and we're in the TRL [docs](https://huggingface.co/docs/trl/main/en/sft_trainer#accelerate-fine-tuning-2x-using-unsloth)!\n",
        "7. `ChatML` for ShareGPT datasets, [conversational notebook](https://colab.research.google.com/drive/1Aau3lgPzeZKQ-98h69CCu1UJcvIBLmy2?usp=sharing)\n",
        "8. Text completions like novel writing [notebook](https://colab.research.google.com/drive/1ef-tab5bhkvWmBOObepl1WgJvfvSzn5Q?usp=sharing)\n",
        "\n",
        "<div class=\"align-center\">\n",
        "  <a href=\"https://github.com/unslothai/unsloth\"><img src=\"https://github.com/unslothai/unsloth/raw/main/images/unsloth%20new%20logo.png\" width=\"115\"></a>\n",
        "  <a href=\"https://discord.gg/u54VK8m8tk\"><img src=\"https://github.com/unslothai/unsloth/raw/main/images/Discord.png\" width=\"145\"></a>\n",
        "  <a href=\"https://ko-fi.com/unsloth\"><img src=\"https://github.com/unslothai/unsloth/raw/main/images/Kofi button.png\" width=\"145\"></a></a> Support our work if you can! Thanks!\n",
        "</div>"
      ],
      "metadata": {
        "id": "Zt9CHJqO6p30"
      }
    }
  ],
  "metadata": {
    "accelerator": "GPU",
    "colab": {
      "provenance": [],
      "gpuType": "T4"
    },
    "kernelspec": {
      "display_name": "Python 3",
      "name": "python3"
    },
    "language_info": {
      "name": "python"
    },
    "widgets": {
      "application/vnd.jupyter.widget-state+json": {
        "897b8b018494461d963129519051a2c7": {
          "model_module": "@jupyter-widgets/controls",
          "model_name": "HBoxModel",
          "model_module_version": "1.5.0",
          "state": {
            "_dom_classes": [],
            "_model_module": "@jupyter-widgets/controls",
            "_model_module_version": "1.5.0",
            "_model_name": "HBoxModel",
            "_view_count": null,
            "_view_module": "@jupyter-widgets/controls",
            "_view_module_version": "1.5.0",
            "_view_name": "HBoxView",
            "box_style": "",
            "children": [
              "IPY_MODEL_35b50a45acb041a7a39effc0811d2d84",
              "IPY_MODEL_216c911450bf497fb2c1b30c78821a0e",
              "IPY_MODEL_612a38b8603a4d2ead07959fee38e4d9"
            ],
            "layout": "IPY_MODEL_e6bbb2b8101c4f6994b78247a09f26d1"
          }
        },
        "35b50a45acb041a7a39effc0811d2d84": {
          "model_module": "@jupyter-widgets/controls",
          "model_name": "HTMLModel",
          "model_module_version": "1.5.0",
          "state": {
            "_dom_classes": [],
            "_model_module": "@jupyter-widgets/controls",
            "_model_module_version": "1.5.0",
            "_model_name": "HTMLModel",
            "_view_count": null,
            "_view_module": "@jupyter-widgets/controls",
            "_view_module_version": "1.5.0",
            "_view_name": "HTMLView",
            "description": "",
            "description_tooltip": null,
            "layout": "IPY_MODEL_919113c34a0e4c108a5d28ee0bef0ab6",
            "placeholder": "​",
            "style": "IPY_MODEL_8eb5753a1ea74d47908453f220f5034d",
            "value": "Generating train split: "
          }
        },
        "216c911450bf497fb2c1b30c78821a0e": {
          "model_module": "@jupyter-widgets/controls",
          "model_name": "FloatProgressModel",
          "model_module_version": "1.5.0",
          "state": {
            "_dom_classes": [],
            "_model_module": "@jupyter-widgets/controls",
            "_model_module_version": "1.5.0",
            "_model_name": "FloatProgressModel",
            "_view_count": null,
            "_view_module": "@jupyter-widgets/controls",
            "_view_module_version": "1.5.0",
            "_view_name": "ProgressView",
            "bar_style": "success",
            "description": "",
            "description_tooltip": null,
            "layout": "IPY_MODEL_7557a62d6387473cb31a41b6353c3cba",
            "max": 1,
            "min": 0,
            "orientation": "horizontal",
            "style": "IPY_MODEL_d63320a1fd1a4c3293140dac1c1be5e5",
            "value": 1
          }
        },
        "612a38b8603a4d2ead07959fee38e4d9": {
          "model_module": "@jupyter-widgets/controls",
          "model_name": "HTMLModel",
          "model_module_version": "1.5.0",
          "state": {
            "_dom_classes": [],
            "_model_module": "@jupyter-widgets/controls",
            "_model_module_version": "1.5.0",
            "_model_name": "HTMLModel",
            "_view_count": null,
            "_view_module": "@jupyter-widgets/controls",
            "_view_module_version": "1.5.0",
            "_view_name": "HTMLView",
            "description": "",
            "description_tooltip": null,
            "layout": "IPY_MODEL_b4afb63b34594623978d638e49444c29",
            "placeholder": "​",
            "style": "IPY_MODEL_daebd5f864664d8aa5bcc2425a41f556",
            "value": " 245/0 [00:02&lt;00:00, 138.78 examples/s]"
          }
        },
        "e6bbb2b8101c4f6994b78247a09f26d1": {
          "model_module": "@jupyter-widgets/base",
          "model_name": "LayoutModel",
          "model_module_version": "1.2.0",
          "state": {
            "_model_module": "@jupyter-widgets/base",
            "_model_module_version": "1.2.0",
            "_model_name": "LayoutModel",
            "_view_count": null,
            "_view_module": "@jupyter-widgets/base",
            "_view_module_version": "1.2.0",
            "_view_name": "LayoutView",
            "align_content": null,
            "align_items": null,
            "align_self": null,
            "border": null,
            "bottom": null,
            "display": null,
            "flex": null,
            "flex_flow": null,
            "grid_area": null,
            "grid_auto_columns": null,
            "grid_auto_flow": null,
            "grid_auto_rows": null,
            "grid_column": null,
            "grid_gap": null,
            "grid_row": null,
            "grid_template_areas": null,
            "grid_template_columns": null,
            "grid_template_rows": null,
            "height": null,
            "justify_content": null,
            "justify_items": null,
            "left": null,
            "margin": null,
            "max_height": null,
            "max_width": null,
            "min_height": null,
            "min_width": null,
            "object_fit": null,
            "object_position": null,
            "order": null,
            "overflow": null,
            "overflow_x": null,
            "overflow_y": null,
            "padding": null,
            "right": null,
            "top": null,
            "visibility": null,
            "width": null
          }
        },
        "919113c34a0e4c108a5d28ee0bef0ab6": {
          "model_module": "@jupyter-widgets/base",
          "model_name": "LayoutModel",
          "model_module_version": "1.2.0",
          "state": {
            "_model_module": "@jupyter-widgets/base",
            "_model_module_version": "1.2.0",
            "_model_name": "LayoutModel",
            "_view_count": null,
            "_view_module": "@jupyter-widgets/base",
            "_view_module_version": "1.2.0",
            "_view_name": "LayoutView",
            "align_content": null,
            "align_items": null,
            "align_self": null,
            "border": null,
            "bottom": null,
            "display": null,
            "flex": null,
            "flex_flow": null,
            "grid_area": null,
            "grid_auto_columns": null,
            "grid_auto_flow": null,
            "grid_auto_rows": null,
            "grid_column": null,
            "grid_gap": null,
            "grid_row": null,
            "grid_template_areas": null,
            "grid_template_columns": null,
            "grid_template_rows": null,
            "height": null,
            "justify_content": null,
            "justify_items": null,
            "left": null,
            "margin": null,
            "max_height": null,
            "max_width": null,
            "min_height": null,
            "min_width": null,
            "object_fit": null,
            "object_position": null,
            "order": null,
            "overflow": null,
            "overflow_x": null,
            "overflow_y": null,
            "padding": null,
            "right": null,
            "top": null,
            "visibility": null,
            "width": null
          }
        },
        "8eb5753a1ea74d47908453f220f5034d": {
          "model_module": "@jupyter-widgets/controls",
          "model_name": "DescriptionStyleModel",
          "model_module_version": "1.5.0",
          "state": {
            "_model_module": "@jupyter-widgets/controls",
            "_model_module_version": "1.5.0",
            "_model_name": "DescriptionStyleModel",
            "_view_count": null,
            "_view_module": "@jupyter-widgets/base",
            "_view_module_version": "1.2.0",
            "_view_name": "StyleView",
            "description_width": ""
          }
        },
        "7557a62d6387473cb31a41b6353c3cba": {
          "model_module": "@jupyter-widgets/base",
          "model_name": "LayoutModel",
          "model_module_version": "1.2.0",
          "state": {
            "_model_module": "@jupyter-widgets/base",
            "_model_module_version": "1.2.0",
            "_model_name": "LayoutModel",
            "_view_count": null,
            "_view_module": "@jupyter-widgets/base",
            "_view_module_version": "1.2.0",
            "_view_name": "LayoutView",
            "align_content": null,
            "align_items": null,
            "align_self": null,
            "border": null,
            "bottom": null,
            "display": null,
            "flex": null,
            "flex_flow": null,
            "grid_area": null,
            "grid_auto_columns": null,
            "grid_auto_flow": null,
            "grid_auto_rows": null,
            "grid_column": null,
            "grid_gap": null,
            "grid_row": null,
            "grid_template_areas": null,
            "grid_template_columns": null,
            "grid_template_rows": null,
            "height": null,
            "justify_content": null,
            "justify_items": null,
            "left": null,
            "margin": null,
            "max_height": null,
            "max_width": null,
            "min_height": null,
            "min_width": null,
            "object_fit": null,
            "object_position": null,
            "order": null,
            "overflow": null,
            "overflow_x": null,
            "overflow_y": null,
            "padding": null,
            "right": null,
            "top": null,
            "visibility": null,
            "width": "20px"
          }
        },
        "d63320a1fd1a4c3293140dac1c1be5e5": {
          "model_module": "@jupyter-widgets/controls",
          "model_name": "ProgressStyleModel",
          "model_module_version": "1.5.0",
          "state": {
            "_model_module": "@jupyter-widgets/controls",
            "_model_module_version": "1.5.0",
            "_model_name": "ProgressStyleModel",
            "_view_count": null,
            "_view_module": "@jupyter-widgets/base",
            "_view_module_version": "1.2.0",
            "_view_name": "StyleView",
            "bar_color": null,
            "description_width": ""
          }
        },
        "b4afb63b34594623978d638e49444c29": {
          "model_module": "@jupyter-widgets/base",
          "model_name": "LayoutModel",
          "model_module_version": "1.2.0",
          "state": {
            "_model_module": "@jupyter-widgets/base",
            "_model_module_version": "1.2.0",
            "_model_name": "LayoutModel",
            "_view_count": null,
            "_view_module": "@jupyter-widgets/base",
            "_view_module_version": "1.2.0",
            "_view_name": "LayoutView",
            "align_content": null,
            "align_items": null,
            "align_self": null,
            "border": null,
            "bottom": null,
            "display": null,
            "flex": null,
            "flex_flow": null,
            "grid_area": null,
            "grid_auto_columns": null,
            "grid_auto_flow": null,
            "grid_auto_rows": null,
            "grid_column": null,
            "grid_gap": null,
            "grid_row": null,
            "grid_template_areas": null,
            "grid_template_columns": null,
            "grid_template_rows": null,
            "height": null,
            "justify_content": null,
            "justify_items": null,
            "left": null,
            "margin": null,
            "max_height": null,
            "max_width": null,
            "min_height": null,
            "min_width": null,
            "object_fit": null,
            "object_position": null,
            "order": null,
            "overflow": null,
            "overflow_x": null,
            "overflow_y": null,
            "padding": null,
            "right": null,
            "top": null,
            "visibility": null,
            "width": null
          }
        },
        "daebd5f864664d8aa5bcc2425a41f556": {
          "model_module": "@jupyter-widgets/controls",
          "model_name": "DescriptionStyleModel",
          "model_module_version": "1.5.0",
          "state": {
            "_model_module": "@jupyter-widgets/controls",
            "_model_module_version": "1.5.0",
            "_model_name": "DescriptionStyleModel",
            "_view_count": null,
            "_view_module": "@jupyter-widgets/base",
            "_view_module_version": "1.2.0",
            "_view_name": "StyleView",
            "description_width": ""
          }
        }
      }
    }
  },
  "nbformat": 4,
  "nbformat_minor": 0
}